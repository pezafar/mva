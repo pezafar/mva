{
 "cells": [
  {
   "cell_type": "markdown",
   "metadata": {},
   "source": [
    "# TP 3: Hasting-Metropolis (and Gibbs) samplers\n",
    "<br>\n",
    "<br>"
   ]
  },
  {
   "cell_type": "code",
   "execution_count": 2,
   "metadata": {},
   "outputs": [],
   "source": [
    "import numpy as np\n",
    "import matplotlib.pyplot as plt\n",
    "from scipy.stats import multivariate_normal\n",
    "from scipy.stats import invwishart\n",
    "from IPython.display import clear_output\n",
    "from numpy import log"
   ]
  },
  {
   "cell_type": "markdown",
   "metadata": {},
   "source": [
    "### Exercise1: Hasting-Metropolis within Gibbs - Stochastic Approximation EM\n",
    "### 1.A – A population model for longitudinal data\n",
    "\n",
    "**Question 1**"
   ]
  },
  {
   "cell_type": "markdown",
   "metadata": {},
   "source": [
    "Let's compute the log-likelihood:\n",
    "\n",
    "$$log(q(y,z,\\theta)) = log(q(y|z, \\theta)) + log(q(z|\\theta)) + log(q(\\theta))$$\n",
    "\n",
    "Let ${NK} = \\sum k_i$\n",
    "\n",
    "\n",
    "Let'w write all the terms (we leave as constants ($Cst$) all the terms not depending on $y$, $z$, or $\\theta$).\n",
    "\n",
    "<br><br>\n",
    "$\\bullet$ $logq(y|z, \\theta)$:\n",
    "\n",
    "$\\forall i, \\xi_i \\sim \\mathcal{N}(0,\\sigma)$, and by independance, it comes:\n",
    "$$\\begin{align*} log(q(y|z, \\theta)) \n",
    "&= \\sum_{i=1}^N \\sum_{j=1}^{k_i} log(q(\\xi_i))  \\\\\n",
    "&= - \\sum_{i=1}^N \\sum_{j=1}^{k_i} \\frac{(y_{i,j} - d_i(t_{i,j}))^2}{2\\sigma^2} - \\frac{NK}{2} log(\\sigma^2)   + Cste \\end{align*}$$\n",
    "\n",
    "\n",
    "\n",
    "<br><br>\n",
    "$\\bullet$ $logq(z|\\theta)$:\n",
    "In the same fashion, having:\n",
    "* $t0 \\sim \\mathcal{N}( \\bar{t_0},\\sigma_{t_0})$ \n",
    "* $v0 \\sim \\mathcal{N}(\\bar{v_0},\\sigma_{v_0})$ \n",
    "* $\\tau_i \\sim \\mathcal{N}( 0 ,\\sigma_\\tau)$ \n",
    "* $\\xi_i \\sim \\mathcal{N}( 0 ,\\sigma_\\xi)$ \n",
    "\n",
    "and by independance, it comes:\n",
    "\n",
    "$$\\begin{align*} log \\space q(z|\\theta) \n",
    "&= - \\frac{1}{2\\sigma_{\\xi}^2} \\sum_{i=1}^N \\xi_i^2  - \\frac{1}{2\\sigma_{\\tau}^2}\\sum_{i=1}^N \\tau_i^2 - N\\log(\\sigma_{\\tau}) -Nlog(\\sigma_{\\xi}) - \\frac{1}{2\\sigma_{t_0}^2} (t_0 -\\bar{t_0})^2 - \\frac{1}{2\\sigma_{v_0}^2} (v_0 -\\bar{v_0})^2 \n",
    "\\end{align*}$$\n",
    "\n",
    "\n",
    "\n",
    "\n",
    "<br><br>\n",
    "$\\bullet$ $logq(\\theta)$:\n",
    "\n",
    "Finally: \n",
    "$$\\begin{align*} log \\space q(z|\\theta) \n",
    "&= -log(2\\pi s_{t_0} s_{v_0}) -\\frac{(\\bar{t_0}-\\bar{\\bar{t_0}})^2}{2 s_{t_0}^2} - \\frac{(\\bar{v_0}-\\bar{\\bar{v_0}})^2}{2 s_{v_0}^2} \\\\\n",
    "&-(1+\\frac{m_\\xi}{2}) log (\\sigma_\\xi^2) - \\frac{v_\\xi^2}{2\\sigma_\\xi^2} -(1+\\frac{m_\\tau}{2})log(\\sigma_\\tau^2) - \\frac{v_\\tau^2}{2\\sigma_\\tau^2} -(1+\\frac{m}{2}) log( \\sigma^2) - \\frac{v^2}{2\\sigma^2} \\\\\n",
    "\\end{align*}$$\n",
    "\n",
    "\n",
    "<br>\n",
    "<br>\n",
    "<br>\n",
    "\n",
    "**In conclusion:**\n",
    "\n",
    "$$\\begin{align*} log \\space q(y,z,\\theta) &=\n",
    "- \\sum_{i=1}^N \\sum_{j=1}^{k_i} \\frac{(y_{i,j} - d_i(t_{i,j}))^2}{2\\sigma^2} - \\frac{NK}{2} log(\\sigma^2) \\\\\n",
    "& - \\frac{1}{2\\sigma_{\\xi}^2} \\sum_{i=1}^N \\xi_i^2  - \\frac{1}{2\\sigma_{\\tau}^2}\\sum_{i=1}^N \\tau_i^2 \\\\\n",
    "& - N\\log(\\sigma_{\\tau}) -Nlog(\\sigma_{\\xi})\\\\\n",
    "& - \\frac{1}{2\\sigma_{t_0}^2} (t_0 -\\bar{t_0})^2 - \\frac{1}{2\\sigma_{v_0}^2} (v_0 -\\bar{v_0})^2 - \\frac{1}{2}log(s_{t_0}^2) -\\frac{1}{2} log(s_{v_0}^2) \\\\\n",
    "&-\\frac{(\\bar{t_0}-\\bar{\\bar{t_0}})^2}{2 s_{t_0}^2} - \\frac{(\\bar{v_0}-\\bar{\\bar{v_0}})^2}{2 s_{v_0}^2} \\\\\n",
    "& -(1+\\frac{m}{2}) log( \\sigma^2) - \\frac{v^2}{2\\sigma^2} \\\\\n",
    "&-(1+\\frac{m_\\xi}{2}) log (\\sigma_\\xi^2) \\\\\n",
    "&- \\frac{v_\\xi^2}{2\\sigma_\\xi^2} -(1+\\frac{m_\\tau}{2})log(\\sigma_\\tau^2) - \\frac{v_\\tau^2}{2\\sigma_\\tau^2} \n",
    "\\end{align*}$$\n",
    "\n",
    "\n",
    "\n",
    "**Let's format $log(q(y,z,\\theta))$**, let:\n",
    "\n",
    "* $S_1 = \\frac{1}{NK} \\sum_i \\sum_{j} (y_{i,j} - d_i(t_{i,j}))^2 $ \n",
    "* $S_2 = \\frac{1}{N}\\sum_{i=1}^N \\tau_i^2$ \n",
    "* $S_3 = \\frac{1}{N}\\sum_{i=1}^N \\xi_i^2$ \n",
    "* $S_4 = t_0$ \n",
    "* $S_5 = v_0$ \n",
    "\n",
    "and: \n",
    "* $\\phi_1 = - \\frac{NK}{2\\sigma ^2}$\n",
    "* $\\phi_2 = -\\frac{N}{2 \\sigma_{\\tau}^2}$\n",
    "* $\\phi_3 = -\\frac{N}{2 \\sigma_{\\xi}^2}$\n",
    "* $\\phi_4 = -\\frac{\\bar{t_0}}{2\\sigma_{t_0}^2}$\n",
    "* $\\phi_5 = -\\frac{\\bar{v_0}}{2\\sigma_{v_0}^2}$\n",
    "\n",
    "we have: \n",
    "\n",
    "$$log(q(y,z,\\theta)) = <S| \\phi(\\theta)> - \\psi(\\theta)$$\n",
    "\n",
    "Indeed, we call the remaining part $\\psi(\\theta)$ and it only depends on  $\\theta$.\n",
    "\n",
    "\n",
    "\n",
    "\n",
    "\n",
    "\n",
    "\n"
   ]
  },
  {
   "cell_type": "markdown",
   "metadata": {},
   "source": [
    "**Question 2** Let's simulate data. The number of samples per indidual is taken constant equal to `k` for easier computations."
   ]
  },
  {
   "cell_type": "code",
   "execution_count": 3,
   "metadata": {},
   "outputs": [
    {
     "data": {
      "text/plain": [
       "Text(0.5, 0, 'Time')"
      ]
     },
     "execution_count": 3,
     "metadata": {},
     "output_type": "execute_result"
    },
    {
     "data": {
      "image/png": "[encoded data removed]",
      "text/plain": [
       "<Figure size 432x288 with 1 Axes>"
      ]
     },
     "metadata": {
      "needs_background": "light"
     },
     "output_type": "display_data"
    }
   ],
   "source": [
    "# Parameters\n",
    "k = 30\n",
    "N = 10\n",
    "ts = np.array([i for i in range(k)])\n",
    "\n",
    "# Model parameters\n",
    "sigma_t0_true = .1\n",
    "sigma_v0_true = .2\n",
    "s_t0 = 3.\n",
    "s_v0 = 2.\n",
    "t0_barbare_true = 4\n",
    "v0_barbare_true = 4.5\n",
    "\n",
    "# Wishart parameters\n",
    "m = 2\n",
    "v = .1\n",
    "m_tau = 2 \n",
    "v_tau = .1\n",
    "m_xi = 2 \n",
    "v_xi = .1 \n",
    "\n",
    "# Sample according to previous parameters\n",
    "t0_bar_true = np.random.normal(t0_barbare_true, s_t0)\n",
    "v0_bar_true = np.random.normal(v0_barbare_true, s_v0)\n",
    "t0_true = np.random.normal(t0_bar_true, sigma_t0_true)\n",
    "v0_true = np.random.normal(v0_bar_true, sigma_v0_true)\n",
    "\n",
    "sigma_true = np.sqrt(invwishart(m, v).rvs())\n",
    "sigma_xi_true = np.sqrt(invwishart(m_xi, v_xi).rvs())\n",
    "sigma_tau_true = np.sqrt(invwishart(m_tau, v_tau).rvs())\n",
    "\n",
    "xis_true = np.random.normal(0, sigma_xi_true, N)\n",
    "taus_true = np.random.normal(0,sigma_tau_true,N)\n",
    "\n",
    "z_true = t0_true, v0_true, xis_true, taus_true\n",
    "theta_true = t0_bar_true, v0_bar_true,sigma_true, sigma_tau_true, sigma_xi_true\n",
    "\n",
    "# @jit(nopython=True)\n",
    "def di(ts, z):\n",
    "    t0, v0, xis, taus = z\n",
    "    alphas = np.exp(xis)\n",
    "    return np.array([v0*(alphas[i]*(ts - t0 - taus[i]) ) for i in range(N)]) \n",
    "\n",
    "y = di(ts, z_true) + np.random.normal(0, sigma_true, (N, k))\n",
    "\n",
    "# Plot\n",
    "for i in range(10):\n",
    "    plt.plot(ts, y[i])\n",
    "plt.title(\"Generated observations\")\n",
    "plt.xlabel(\"Time\")\n",
    "\n"
   ]
  },
  {
   "cell_type": "code",
   "execution_count": 4,
   "metadata": {},
   "outputs": [
    {
     "name": "stdout",
     "output_type": "stream",
     "text": [
      "True t0 10.349709521338584\n",
      "True v0 4.183581355033558\n"
     ]
    }
   ],
   "source": [
    "print(\"True t0\", t0_true)\n",
    "print(\"True v0\", v0_true)"
   ]
  },
  {
   "cell_type": "markdown",
   "metadata": {},
   "source": [
    "### 1.B – HM-SAEM – Hasting-Metropolis sampler"
   ]
  },
  {
   "cell_type": "markdown",
   "metadata": {},
   "source": [
    "**Question 3.**\n",
    "<a id='q3'></a>\n"
   ]
  },
  {
   "cell_type": "code",
   "execution_count": 5,
   "metadata": {},
   "outputs": [],
   "source": [
    "# from numba import jit\n",
    "\n",
    "def log_p_tot(y, z, dis, theta, sigma_t0, sigma_v0,):\n",
    "    \"\"\"\n",
    "    Compute simplified log likelihood with terms depending on z only\n",
    "    \"\"\"\n",
    "    t0, v0, xis, taus = z\n",
    "    t0_bar, v0_bar, sigma, sigma_tau, sigma_xi = theta\n",
    "\n",
    "    ret = - np.sum(np.square(dis-y))/(2*sigma**2)\\\n",
    "        - np.sum(taus**2)/(2*sigma_tau**2)\\\n",
    "        - np.sum(xis**2)/(2*sigma_xi**2)\\\n",
    "        - ((t0-t0_bar)**2)/(2*sigma_t0**2)\\\n",
    "        - ((v0-v0_bar)**2)/(2*sigma_v0**2)\n",
    "    return ret\n",
    "\n",
    "\n",
    "def accept_prop(y, z, z_prop, theta, sigma_t0, sigma_v0):\n",
    "    \"\"\" Computes log likelihoods with z then with z_prop and accept or reject z_prop\n",
    "\n",
    "    Args:\n",
    "        y : real data\n",
    "        z : current z\n",
    "        z_prop : proposition z\n",
    "        theta : (t0_bar, v0_bar, sigma, sigma_tau, sigma_xi)\n",
    "        sigma_t0 \n",
    "        sigma_v0 \n",
    "\n",
    "    Returns:\n",
    "        bool: True if the proposed z is accepted\n",
    "    \"\"\"\n",
    "    # Compute data\n",
    "    d_prop = di(ts, z_prop)\n",
    "    d = di(ts, z)\n",
    "\n",
    "    # Log likelihood\n",
    "    log_lk_prop = log_p_tot(y, z_prop, d_prop, theta, sigma_t0, sigma_v0)\n",
    "    log_lk = log_p_tot(y, z, d, theta, sigma_t0, sigma_v0)\n",
    "    log_alpha = log_lk_prop - log_lk\n",
    "\n",
    "    return log(np.random.random()) < min(log_alpha, 0)\n",
    "\n",
    "\n",
    "# @jit(nopython=True)\n",
    "def hm_sampler(theta, sigma_t0, sigma_v0, y, z_init, n_iter=100, verbose=False):\n",
    "    \"\"\" Samples using Hasting-Metropolis method for the curved exponential family\n",
    "\n",
    "    Args:\n",
    "        theta : (t0_bar, v0_bar, sigma, sigma_tau, sigma_xi)\n",
    "        sigma_t0 : sigma_t0\n",
    "        sigma_v0 : sigma_v0\n",
    "        y : real data\n",
    "        z_init : z parameters to start with\n",
    "        n_iter : Nuber of iterations. Defaults to 100.\n",
    "        verbose : Print intermeiate t_0 and v_0. Defaults to False.\n",
    "\n",
    "    Returns:\n",
    "        Sampled parameters z = (t0, v0, xis, taus)\n",
    "    \"\"\"\n",
    "    N = y.shape[0]\n",
    "    z = z_init\n",
    "    t0, v0, xis, taus = z\n",
    "    history_log_q = []\n",
    "\n",
    "    d = di(ts, z)\n",
    "    log_lk = log_p_tot(y, z, d, theta, sigma_t0, sigma_v0)\n",
    "\n",
    "    for _i in range(n_iter):\n",
    "        # Proposition\n",
    "        sigma_propos = 0.005\n",
    "        t0_prop = np.random.normal(t0, sigma_propos)\n",
    "        v0_prop = np.random.normal(v0, sigma_propos)\n",
    "        xis_prop = np.random.normal(xis, sigma_propos, N)\n",
    "        taus_prop = np.random.normal(taus, sigma_propos, N)\n",
    "        z_prop = t0_prop, v0_prop, xis_prop, taus_prop\n",
    "\n",
    "        if verbose and not _i % 500:\n",
    "            clear_output(wait=True)\n",
    "            print(t0, v0)\n",
    "\n",
    "        if accept_prop(y, z, z_prop, theta, sigma_t0, s_v0):\n",
    "            # If accept proposition, update z\n",
    "            t0 = t0_prop\n",
    "            v0 = v0_prop\n",
    "            xis = xis_prop.copy()\n",
    "            taus = taus_prop.copy()\n",
    "            z = t0, v0, xis, taus\n",
    "\n",
    "    return (t0, v0, xis, taus)\n"
   ]
  },
  {
   "cell_type": "code",
   "execution_count": 6,
   "metadata": {},
   "outputs": [
    {
     "name": "stdout",
     "output_type": "stream",
     "text": [
      "9.324286936671477 2.387958770612086\n"
     ]
    }
   ],
   "source": [
    "# Test Hastings-Metropolis sampler with random initialization\n",
    "\n",
    "# Random initialisations\n",
    "t0, v0 = np.random.rand(), np.random.rand()\n",
    "xis = np.random.rand(N)\n",
    "taus = np.random.rand(N)\n",
    "\n",
    "z_init= t0, v0, xis, taus\n",
    "\n",
    "z_estim = hm_sampler(theta_true, sigma_t0_true, sigma_v0_true, y, z_init, n_iter=40000, verbose = True)\n",
    "dis_estim = di(ts, z_estim)\n"
   ]
  },
  {
   "cell_type": "code",
   "execution_count": 7,
   "metadata": {},
   "outputs": [
    {
     "name": "stdout",
     "output_type": "stream",
     "text": [
      "true t0, v0 10.349709521338584 4.183581355033558\n",
      "estimated t0, v0 9.342649635142411 2.385002576520587\n"
     ]
    }
   ],
   "source": [
    "print(\"true t0, v0\", t0_true, v0_true)\n",
    "print(\"estimated t0, v0\", z_estim[0], z_estim[1])"
   ]
  },
  {
   "cell_type": "markdown",
   "metadata": {},
   "source": [
    "Let's compare the true data with the one generated with obtained parameters (each curve is doubled with its estimated corresponding one)."
   ]
  },
  {
   "cell_type": "code",
   "execution_count": 8,
   "metadata": {},
   "outputs": [
    {
     "data": {
      "image/png": "[encoded data removed]",
      "text/plain": [
       "<Figure size 432x288 with 1 Axes>"
      ]
     },
     "metadata": {
      "needs_background": "light"
     },
     "output_type": "display_data"
    }
   ],
   "source": [
    "colors = [\"red\", \"green\", \"blue\", \"orange\"]\n",
    "for l in range(3):\n",
    "    plt.plot(ts, dis_estim[l,:], color= \"red\", alpha = 0.5, marker = 'o')\n",
    "    plt.plot(ts, y[l,:], color = \"blue\", alpha = 0.5, marker = 'x')"
   ]
  },
  {
   "cell_type": "markdown",
   "metadata": {},
   "source": [
    "**Question 4.**\n",
    "<a id='q4'></a>"
   ]
  },
  {
   "cell_type": "markdown",
   "metadata": {},
   "source": [
    "We differentiate $\\langle S|\\phi(\\theta) \\rangle - \\psi(\\theta)$  wrt each $\\theta$ variable:\n",
    "\n",
    "\n",
    "$$\\nabla_{\\bar{t_0}} \\langle S| \\phi(\\theta) \\rangle - \\psi(\\theta) = \\frac{S_4}{\\sigma_{t_0}^2} - \\frac{\\bar{t_0}}{\\sigma_{t_0}^2} - \\frac{1}{\\bar{t_0}}{s_{t_0}^2}(\\bar{t_0} - \\bar{\\bar{t_0}})^2$$\n",
    "\n",
    "And we get:\n",
    "$$\\bar{t_0}^* = \\frac{S_4 s_{t_0}^2 + \\bar{\\bar{t_0}}\\sigma_{t_0}^2 }{  s_{t_0}^2 + \\sigma_{t_0}^2}$$\n",
    "\n",
    "In a similar fashion, we get: \n",
    "$$\\bar{v_0}^* = \\frac{S_5 s_{v_0}^2 + \\bar{\\bar{v_0}}\\sigma_{v_0}^2 }{  s_{v_0}^2 + \\sigma_{v_0}^2}$$\n",
    "\n",
    "\n",
    "\n",
    "\n",
    "\n",
    "<br>\n",
    "Then:\n",
    "\n",
    "$$\\nabla_{\\sigma^2}  \\langle S| \\phi(\\theta) \\rangle - \\psi(\\theta) = S_1 \\frac{NK}{2 \\sigma^4} - \\frac{NK}{\\sigma^2} -\\frac{1 + m/2}{\\sigma^2}+ \\frac{v^2}{2 \\sigma^4}$$\n",
    "\n",
    "And we get:\n",
    "$${\\sigma^2}^* = \\frac{S_1 NK + v 2}{NK + 2 +m}$$\n",
    "In a similar fashion, we get: \n",
    "\n",
    "$${\\sigma_{\\tau}^2}^* = \\frac{S_2N + v_{\\tau}^2}{N + 2 +m_{\\tau}}$$\n",
    "\n",
    "$${\\sigma^2}^* = \\frac{S_1N + v_{\\xi}^2}{N + 2 +m_{\\xi}}$$\n"
   ]
  },
  {
   "cell_type": "markdown",
   "metadata": {},
   "source": [
    "There is a parameter `sampling` for the sampling method because it is needed for later questions (q.7)"
   ]
  },
  {
   "cell_type": "code",
   "execution_count": 17,
   "metadata": {},
   "outputs": [],
   "source": [
    "def hm_saem(y, theta_init,  n_iter=1000, verbose=False, sampling = \"hm\"):\n",
    "    \"\"\" Hasting-Metropolis Stochastic Approximation EM algorithm for our curved exponential family case.\n",
    "\n",
    "    Args:\n",
    "        y : Real data\n",
    "        theta_init: Theta to initialize algorithm with\n",
    "        n_iter : Number of iterations. Defaults to 1000.\n",
    "        verbose: To print theta during iterations. Defaults to False.\n",
    "        sampling : Sampler to use. Defaults to \"hm\".\n",
    "\n",
    "    Returns:\n",
    "        Estimated theta\n",
    "    \"\"\"\n",
    "    # Burnout param\n",
    "    Nb = n_iter//2\n",
    "\n",
    "    # Init z and S\n",
    "    t0, v0 = 0., 0.\n",
    "    xis = np.zeros(N)\n",
    "    taus = np.zeros(N)\n",
    "    S, S_new = [0]*5, [0]*5\n",
    "\n",
    "    alpha = 0.6\n",
    "    eps = 1\n",
    "\n",
    "    theta = theta_init\n",
    "    for iter in range(n_iter):\n",
    "        ### Simulation ####\n",
    "\n",
    "        # Question 4\n",
    "        if sampling == \"hm\":\n",
    "            t0, v0, xis, taus = hm_sampler(\n",
    "                theta, sigma_t0_true, sigma_v0_true, y, (t0, v0, xis, taus), n_iter=30000, verbose=False)\n",
    "        # Question 7\n",
    "        elif sampling == \"hmwg\":\n",
    "            t0, v0, xis, taus = hmwg_sampler(\n",
    "                theta, sigma_t0_true, sigma_v0_true, y, (t0, v0, xis, taus), n_iter=30000, verbose=False)\n",
    "        # Question 9\n",
    "        elif sampling == \"hmwg_block\":\n",
    "            t0, v0, xis, taus = hmwg_sampler(\n",
    "                theta, sigma_t0_true, sigma_v0_true, y, (t0, v0, xis, taus), n_iter=30000, verbose=False)\n",
    "        else:\n",
    "            print(\"UNKNOWN SAMPLER\")\n",
    "            return\n",
    "            \n",
    "        if verbose >= 1:\n",
    "            print(theta)\n",
    "\n",
    "        ### Stochatic approx ####\n",
    "        eps = 1. if i <= Nb else (i-Nb)**-alpha\n",
    "        d = di(ts,(t0, v0, xis, taus) )\n",
    "\n",
    "        S_new[0] = np.sum((y-d)**2)/(N*k)\n",
    "        S_new[1] = np.sum(taus**2)/(N)\n",
    "        S_new[2] = np.sum(xis**2)/(N)\n",
    "        S_new[3] = t0\n",
    "        S_new[4] = v0\n",
    "        # Update S values\n",
    "        for j in range(5):\n",
    "            S[j] = S[j] + eps*(S_new[j]-S[j])\n",
    "\n",
    "        ### Maximization ####\n",
    "        sigma = np.sqrt((S[0]*N*k + v**2)/(N*k + 2 + m))\n",
    "        sigma_tau = np.sqrt((S[1]*N + v_tau**2)/(N + 2 + m_tau))\n",
    "        sigma_xi = np.sqrt((S[2]*N + v_xi**2)/(N + 2 + m_xi))\n",
    "        t0_bar = (S[3]*s_t0**2 + t0_barbare_true*sigma_t0_true**2) / (sigma_t0_true**2+s_t0**2)\n",
    "        v0_bar = (S[4]*s_v0**2 + v0_barbare_true*sigma_v0_true**2) / (sigma_v0_true**2 + s_v0**2)\n",
    "\n",
    "        theta = t0_bar, v0_bar, sigma, sigma_tau, sigma_xi\n",
    "\n",
    "    return theta"
   ]
  },
  {
   "cell_type": "code",
   "execution_count": 10,
   "metadata": {},
   "outputs": [
    {
     "name": "stdout",
     "output_type": "stream",
     "text": [
      "(10.383176170238151, 4.5493524831746255, 0.8804535253273834, 0.507480118413369, 0.31742153454352917)\n"
     ]
    }
   ],
   "source": [
    "print( theta_true)"
   ]
  },
  {
   "cell_type": "markdown",
   "metadata": {},
   "source": [
    "Let's test the HW SAEM function:"
   ]
  },
  {
   "cell_type": "code",
   "execution_count": 12,
   "metadata": {},
   "outputs": [
    {
     "name": "stdout",
     "output_type": "stream",
     "text": [
      "Truth:\n",
      "(10.383176170238151, 4.5493524831746255, 0.8804535253273834, 0.507480118413369, 0.31742153454352917)\n",
      "Estimates:\n",
      "(3.0, 3.0, 0.1, 0.1, 0.8)\n",
      "(3.253656499440602, 1.052408847300361, 0.5274414600901103, 0.48660570598619635, 0.2810346455565574)\n",
      "(5.382278377572832, 1.705642264057943, 0.6673941338173546, 0.6391095616840377, 0.3644667435899991)\n",
      "(6.750780321217095, 2.1382680834339687, 0.7471943194230806, 0.7592524316020994, 0.409453834022921)\n",
      "(7.620804093344128, 2.4371353920668057, 0.7895100900665629, 0.8609255436735456, 0.43333165228294757)\n",
      "(8.158594835660464, 2.601470337314401, 0.8208302341603648, 0.9471802385150357, 0.4562276005843397)\n"
     ]
    }
   ],
   "source": [
    "# Define m, v, and a priori\n",
    "sigma_init = .1\n",
    "sigma_tau_init = .1\n",
    "sigma_xi_init = 0.8\n",
    "t0_bar_init = 3.\n",
    "v0_bar_init = 3.\n",
    "theta_init = t0_bar_init, v0_bar_init, sigma_init, sigma_tau_init, sigma_xi_init\n",
    "\n",
    "print(\"Truth:\")\n",
    "print( theta_true)\n",
    "print(\"Estimates:\")\n",
    "results = hm_saem(y, theta_init, n_iter=6, verbose  = 1)\n"
   ]
  },
  {
   "cell_type": "markdown",
   "metadata": {},
   "source": [
    "\n",
    "\n",
    "\n",
    "\n",
    "\n",
    "\n",
    "\n",
    "\n",
    "\n",
    "\n",
    "\n",
    "\n",
    "\n",
    "\n",
    "\n",
    "\n",
    "\n",
    "\n",
    "\n",
    "\n",
    "\n",
    "\n",
    "\n",
    "\n",
    "\n",
    "\n",
    "\n",
    "\n",
    "\n",
    "\n",
    "\n",
    "\n",
    "\n",
    "\n",
    "\n",
    "\n",
    "\n",
    "\n",
    "\n",
    "\n",
    "\n",
    "\n",
    "\n",
    "\n",
    "\n",
    "\n",
    "\n",
    "\n",
    "\n",
    "\n",
    "\n",
    "\n",
    "\n",
    "\n"
   ]
  },
  {
   "cell_type": "markdown",
   "metadata": {},
   "source": [
    "### 1.C – HMwG-SAEM – Hasting-Metropolis within Gibbs sampler"
   ]
  },
  {
   "cell_type": "markdown",
   "metadata": {},
   "source": [
    "**Question 5, Question 6.**\n",
    "\n",
    "Below is the HM within Gibbs sampler adapted from the [HM sampler](#q3), but at every iteration, we propose a new $\\tau_i$ and $\\xi_i$ for all $i$, and a $(t_0,v_0)$.  "
   ]
  },
  {
   "cell_type": "code",
   "execution_count": 13,
   "metadata": {},
   "outputs": [],
   "source": [
    "\n",
    "def hmwg_sampler(theta,sigma_t0, sigma_v0, y, z_init, n_iter=100, verbose = False):\n",
    "    t0_bar, v0_bar, sigma, sigma_tau, sigma_xi = theta\n",
    "\n",
    "    N = y.shape[0]\n",
    "    t0, v0, xis, taus = z_init\n",
    "\n",
    "    for iter in range (n_iter):\n",
    "        sigma_propos = 0.02\n",
    "\n",
    "        #### Jump on each zi ####\n",
    "        for i in range(N):\n",
    "            # Propose xi_i and tau_i\n",
    "            xis_prop =  xis.copy()\n",
    "            xis[i] += np.random.normal(0, sigma_propos)\n",
    "            taus_prop =  taus.copy()\n",
    "            taus_prop[i] +=  np.random.normal(0,sigma_propos)\n",
    "\n",
    "            z = (t0, v0, xis, taus)\n",
    "            z_prop = (t0, v0, xis_prop, taus_prop)\n",
    "            # If accepted, update components tau_i and xi_i\n",
    "            if accept_prop(y, z, z_prop, theta, sigma_t0, sigma_v0):\n",
    "                xis[i] = xis_prop[i]\n",
    "                taus[i] = taus_prop[i]\n",
    "\n",
    "        ### Jump on z_pop ###\n",
    "        t0_prop = np.random.normal(t0, sigma_propos)\n",
    "        v0_prop =  np.random.normal(v0, sigma_propos)\n",
    "        z_prop = (t0_prop,v0_prop, xis, taus)\n",
    "        z = (t0,v0, xis, taus)\n",
    "        #If accepted, update t0 and v0\n",
    "        if accept_prop(y, z, z_prop, theta, sigma_t0, sigma_v0):\n",
    "            t0 = t0_prop\n",
    "            v0 = v0_prop\n",
    "\n",
    "        if verbose and not iter%2000:\n",
    "            print(t0, v0)\n",
    "\n",
    "    return (t0, v0, taus,  xis)"
   ]
  },
  {
   "cell_type": "markdown",
   "metadata": {},
   "source": [
    "The new sampler is run on random initialization, the printed values are the evolving t0 and v0 during sampling run."
   ]
  },
  {
   "cell_type": "code",
   "execution_count": 14,
   "metadata": {},
   "outputs": [
    {
     "name": "stdout",
     "output_type": "stream",
     "text": [
      "True v0 and t0\n",
      "10.349709521338584 4.183581355033558\n",
      "\n",
      "0.7728764970088308 0.7683069731873899\n",
      "6.709331448950476 2.080454573766594\n",
      "7.783740127707194 2.1638295927018696\n",
      "8.589421384039504 2.3052295550101345\n",
      "9.006604091001705 2.441861354899246\n",
      "9.462512585807563 2.5417431358055036\n",
      "9.736570382795676 2.6025015513675918\n",
      "10.092707875058432 2.6430351666598715\n",
      "10.190272622183302 2.800874394091904\n",
      "10.712630952314509 2.766950342971847\n",
      "10.349570856866602 2.8684233571573583\n",
      "10.416451805111505 3.0108145673585813\n",
      "10.439451891837503 3.1936696912235956\n",
      "10.646068042574715 3.2667185273008665\n",
      "10.370512519220796 3.533499180186931\n"
     ]
    }
   ],
   "source": [
    "# Test Hastings-Metropolis sampler\n",
    "\n",
    "# Random initialisations\n",
    "z_init= np.random.rand(), np.random.rand(), np.random.rand(N), np.random.rand(N)\n",
    "print(\"True v0 and t0\")\n",
    "print(t0_true, v0_true)\n",
    "print()\n",
    "result_hm = hmwg_sampler(theta_true, sigma_t0_true, sigma_v0_true, y, z_init, n_iter=30000, verbose = 1)\n",
    "\n",
    "dis_estim = di(ts, result_hm)\n"
   ]
  },
  {
   "cell_type": "markdown",
   "metadata": {},
   "source": [
    "**Question 7.**\n",
    "\n",
    "We used the previous [SAEM function](#q4) and use instead the new Hasting Metropolis within Gibb sampler.\n",
    "I printed true theta values, then the evolving estimates during algorithm run.\n"
   ]
  },
  {
   "cell_type": "code",
   "execution_count": 16,
   "metadata": {},
   "outputs": [
    {
     "name": "stdout",
     "output_type": "stream",
     "text": [
      "Truth:\n",
      "(10.383176170238151, 4.5493524831746255, 0.8804535253273834, 0.507480118413369, 0.31742153454352917)\n",
      "Estimates:\n",
      "(3.0, 3.0, 0.1, 0.1, 0.8)\n",
      "(5.1425000057387065, 1.1473039321832916, 221.38943544792838, 0.7424288078579058, 1.8262842420280272)\n",
      "(5.21760377979217, 1.1141577212630445, 132.9710570109091, 0.7532504284924969, 1.1531013317438454)\n",
      "(5.16484750409556, 1.1847197633363222, 83.45904813650942, 0.7171396105837348, 0.9364091392692898)\n",
      "(5.117363598706543, 1.472779158447051, 57.280018965178854, 0.6688613688686216, 0.7071582936664669)\n",
      "(5.154490018719984, 1.8256102020521578, 39.70149332343704, 0.6136307975943324, 0.6576814725326956)\n",
      "(5.14541899835676, 1.9014281796937722, 34.60914976458088, 0.5616493652848187, 0.6755521028268044)\n",
      "(5.105013266626459, 2.0482271395127434, 29.45568313923762, 0.5187952203306174, 0.5915494034947066)\n",
      "(5.217181127845715, 2.3307782031341153, 28.80130842476561, 0.4521160049296098, 0.5602191150842666)\n",
      "(5.371343205322552, 2.4180545857633797, 27.052060039259977, 0.43485351243858117, 0.5081685089489912)\n",
      "(5.5614438337974255, 2.5510871115904723, 36.367823803481876, 0.4055710495351839, 0.5876642756423037)\n",
      "(5.583533999746001, 2.5586627631080225, 30.18172708269742, 0.3838006223658986, 0.39453805958570864)\n",
      "(5.622734492385702, 2.6928125495657533, 23.694249960354238, 0.36446445698471114, 0.3770255233547823)\n",
      "(5.714575391320299, 2.842418145276669, 32.28222808760427, 0.3555890869766332, 0.46054104868829376)\n",
      "(5.870481981772373, 2.902724142206149, 25.3012795454377, 0.3448838596995657, 0.39527373370244234)\n"
     ]
    }
   ],
   "source": [
    "print(\"Truth:\")\n",
    "print( theta_true)\n",
    "print(\"Estimates:\")\n",
    "results = hm_saem(y, theta_init, n_iter=15, verbose  = 1, sampling=\"hmwg\")"
   ]
  },
  {
   "cell_type": "markdown",
   "metadata": {},
   "source": [
    "I did not have time to investigate further but with this sampler, the convergence seem a little difficult. Also, run time is very long with uncompiled python."
   ]
  },
  {
   "cell_type": "markdown",
   "metadata": {},
   "source": [
    "**Question 8**\n",
    "\n",
    "The above sampler has the disadvatage to be significantely slower. Indeed, at each iteration, it does the same amount of computation for every variable, which can be very slow for big number of individuals.\n",
    "Thus the block sampler could be much more efficient in terms of computation time."
   ]
  },
  {
   "cell_type": "markdown",
   "metadata": {},
   "source": [
    "**Question 9**"
   ]
  },
  {
   "cell_type": "code",
   "execution_count": 18,
   "metadata": {},
   "outputs": [],
   "source": [
    "\n",
    "def hmwg_block_sampler(theta,sigma_t0, sigma_v0, y, z_init, n_iter=100, verbose = False):\n",
    "\n",
    "    N = y.shape[0]\n",
    "    t0, v0, xis, taus = z_init\n",
    "\n",
    "    for iter in range (n_iter):\n",
    "        sigma_propos = 0.02\n",
    "\n",
    "        #### Jump on the block of individuals ####\n",
    "        xis_prop =  np.random.normal(xis, sigma_propos)\n",
    "        taus_prop =  np.random.normal(taus,sigma_propos)\n",
    "\n",
    "        z = (t0, v0, xis, taus)\n",
    "        z_prop = (t0, v0, xis_prop, taus_prop)\n",
    "        # If accepted, update tas and xis\n",
    "        if accept_prop(y, z, z_prop, theta, sigma_t0, sigma_v0):\n",
    "            xis = xis_prop.copy()\n",
    "            taus = taus_prop.copy()\n",
    "\n",
    "        ### Jump on z_pop ###\n",
    "        t0_prop = np.random.normal(t0, sigma_propos)\n",
    "        v0_prop =  np.random.normal(v0, sigma_propos)\n",
    "        z_prop = (t0_prop,v0_prop, xis, taus)\n",
    "        z = (t0,v0, xis, taus)\n",
    "        #If accepted, update t0 and v0\n",
    "        if accept_prop(y, z, z_prop, theta, sigma_t0, sigma_v0):\n",
    "            t0 = t0_prop\n",
    "            v0 = v0_prop\n",
    "\n",
    "        if verbose and not iter%2000:\n",
    "            print(t0, v0)\n",
    "\n",
    "    return (t0, v0, taus,  xis)"
   ]
  },
  {
   "cell_type": "markdown",
   "metadata": {},
   "source": [
    "We try our block sampler."
   ]
  },
  {
   "cell_type": "code",
   "execution_count": null,
   "metadata": {},
   "outputs": [],
   "source": [
    "print(\"Truth:\")\n",
    "print( theta_true)\n",
    "print(\"Estimates:\")\n",
    "results = hm_saem(y, theta_init, n_iter=15, verbose  = 1, sampling=\"hmwg_block\")"
   ]
  },
  {
   "cell_type": "markdown",
   "metadata": {},
   "source": [
    "I did not have time to test the block sampler, unfortunately."
   ]
  },
  {
   "cell_type": "markdown",
   "metadata": {},
   "source": [
    "---\n",
    "---"
   ]
  },
  {
   "cell_type": "markdown",
   "metadata": {},
   "source": [
    "### Exercise 3: Data augmentation"
   ]
  },
  {
   "cell_type": "markdown",
   "metadata": {},
   "source": [
    "**Question 1.**\n",
    "We have that:\n",
    "$$X_n \\sim f_{X|Y}( \\cdot,Y_{n−1})$$\n",
    "$$Y_n \\sim f_{Y|X}(X_n, \\cdot)$$\n",
    "\n",
    "\n",
    "For $A \\in \\mathcal{P}(\\mathbb{R}^p \\times \\mathbb{R}^n$):\n",
    "\n",
    "$$\\mathbb{P}((X_n, Y_n) \\in A) = \\int f(x,y)dxdy$$\n",
    "\n",
    "We want to express all quantities only wrt previous states. <br>\n",
    "Let's write the definition of $Y|X = x$ and then ,using that $f_{X_n} = f_{X|Y}( \\cdot,Y_{n−1})$, it comes that:\n",
    "$$f(x,y) = f_{Y|X_n = x}(y) f_{X|Y_{n-1}}(x) $$\n",
    "\n",
    "\n",
    "Thus: \n",
    "$$\\mathbb{P}((X_n, Y_n) \\in A) = \\int f_{Y|X_n = x}(y) f_{X|Y_{n-1}}(x) dxdy $$\n",
    "\n",
    "Thus, the bivariate chain $(X_n, Y_n)$ is a Markov chain, and it's kernel is given by $f_{Y|X_n = x}(y) f_{X|Y_{n-1}}(x)$\n",
    "\n",
    "**Question 2.**\n",
    "\n",
    "\n",
    "\n",
    "**Question 3.**\n",
    "\n",
    "The Gibbs sampler samples $u^{(k)}$ by sequentially sampling $u_l^{(k)}$ from $\\pi_i(u_l|u_1^{(k+1)}...u_{l-1}^{(k+1)},u_{l+1}^{(k)}...u_{n}^{(k)})$.\n",
    "\n",
    "Thus, here, with two components, it is necessary to know $f_{X|Y}$ and $f_{Y|X}$.\n",
    "\n",
    "Let's identify the densities $f_{X,Y}$ and $f_X$ and $f_Y$, using the law of $(X,Y)$\n",
    "\n",
    "\n",
    "\n",
    "*On one hand:*\n",
    "$$f_{X|Y=y}(x)=  \\frac{f_{X,Y}(x,y)}{f_Y(y)}$$\n",
    "$$f_{X|Y=y}(x) \\propto  e^{ -y x^2 } $$\n",
    "$$f_{X|Y=y}(x) \\propto  e^{\\frac{x^2}{2 \\frac{1}{y}} } $$\n",
    "\n",
    "Thus, we identify the following Normal law:\n",
    "$$ X|(Y=y) \\sim \\mathcal{N}( 0,  \\frac{1}{y})$$\n",
    "\n",
    "*On the other hand:*\n",
    "$$f_{Y|X=x}(y)=  \\frac{f_{X,Y}(x,y)}{f_X(x)}$$\n",
    "$$f_{Y|X=x}(y) \\propto  y^{\\frac{3}{2}} exp(-y(\\frac{x^2}{2} +2))  $$\n",
    "$$f_{Y|X=x}(y) \\propto  y^{\\frac{5}{2} - 1} exp(-y(\\frac{x^2}{2} +2))  $$\n",
    "\n",
    "Thus, we identify the following Gamma law:\n",
    "$$ Y|(X=x) \\sim \\Gamma( \\frac{5}{2},\\frac{x^2}{2} +2)$$\n",
    "\n",
    "\n",
    "\n",
    "\n",
    "\n"
   ]
  },
  {
   "cell_type": "markdown",
   "metadata": {},
   "source": [
    "**Question 4.**\n",
    "\n",
    "We can make the Gibbs sampler as follows, because we know $f_{X|Y}$ and $f_{Y|X}$ from the previous question.\n",
    "\n",
    "At each step `n`:\n",
    "*  Sample $x^{(n+1)}$ from $f_{X|Y = y^{(n)}}$ \n",
    "*  Sample $y^{(n+1)}$ from $f_{Y|X = x^{(n+1)} }$\n"
   ]
  },
  {
   "cell_type": "code",
   "execution_count": null,
   "metadata": {},
   "outputs": [],
   "source": [
    "# Gibbs sampler\n",
    "def gibbs_sampler(x_start, y_start, N):\n",
    "    # Init samples\n",
    "    s = np.zeros((N,2))\n",
    "    s[0,:] = [x_start, y_start]\n",
    "    \n",
    "    for i in range(1, N):\n",
    "        # Use previous y sample to compute x\n",
    "        y_previous = s[i-1,1]\n",
    "        x= np.random.normal(0, 1/np.sqrt(y_previous))\n",
    "        # Use current x to compute y\n",
    "        y = s[i,1] = np.random.gamma(5./2, 1/(0.5*x**2 + 2))\n",
    "\n",
    "        s[i, 0] = x\n",
    "        s[i, 1] = y\n",
    "\n",
    "    return s"
   ]
  },
  {
   "cell_type": "code",
   "execution_count": null,
   "metadata": {},
   "outputs": [],
   "source": [
    "# Sample using function\n",
    "samples = gibbs_sampler(1, 3, 1000000)"
   ]
  },
  {
   "cell_type": "markdown",
   "metadata": {},
   "source": [
    "Let's see show the distributions along each variable look like:"
   ]
  },
  {
   "cell_type": "code",
   "execution_count": null,
   "metadata": {},
   "outputs": [
    {
     "data": {
      "image/png": "[encoded data removed]",
      "text/plain": [
       "<Figure size 432x288 with 1 Axes>"
      ]
     },
     "metadata": {
      "needs_background": "light"
     },
     "output_type": "display_data"
    }
   ],
   "source": [
    "plt.hist(samples[:,0], bins = 150, density = True)\n",
    "plt.title(\"Distribution of X\")\n",
    "plt.show()"
   ]
  },
  {
   "cell_type": "code",
   "execution_count": null,
   "metadata": {},
   "outputs": [
    {
     "data": {
      "image/png": "[encoded data removed]",
      "text/plain": [
       "<Figure size 432x288 with 1 Axes>"
      ]
     },
     "metadata": {
      "needs_background": "light"
     },
     "output_type": "display_data"
    }
   ],
   "source": [
    "plt.hist(samples[:,1], bins = 150, density=True)\n",
    "plt.title(\"Distribution of Y\")\n",
    "plt.show()"
   ]
  },
  {
   "cell_type": "markdown",
   "metadata": {},
   "source": [
    "Let's scatter the distribution of the samples for both variables:"
   ]
  },
  {
   "cell_type": "code",
   "execution_count": null,
   "metadata": {},
   "outputs": [
    {
     "data": {
      "text/plain": [
       "Text(0, 0.5, 'y')"
      ]
     },
     "execution_count": 188,
     "metadata": {},
     "output_type": "execute_result"
    },
    {
     "data": {
      "image/png": "[encoded data removed]",
      "text/plain": [
       "<Figure size 432x288 with 1 Axes>"
      ]
     },
     "metadata": {
      "needs_background": "light"
     },
     "output_type": "display_data"
    }
   ],
   "source": [
    "plt.scatter(samples[:,0], samples[:,1], s = 1)\n",
    "plt.title (\"X,Y samples\")\n",
    "# plot_lin = np.linspace(-20,20, 1000)\n",
    "# plt.plot(plot_lin, 1/abs(plot_lin) , color = \"red\")\n",
    "plt.xlabel(\"x\")\n",
    "plt.ylabel(\"y\")"
   ]
  },
  {
   "cell_type": "markdown",
   "metadata": {},
   "source": [
    "Let's plot all sample whose y values are in $[3, 3.1]$, to check and compare it with a gaussian of standard deviation $\\frac{1}{\\sqrt{3.05}}$ (the law it should follow)."
   ]
  },
  {
   "cell_type": "code",
   "execution_count": null,
   "metadata": {},
   "outputs": [],
   "source": [
    "from scipy.stats import norm"
   ]
  },
  {
   "cell_type": "code",
   "execution_count": null,
   "metadata": {},
   "outputs": [
    {
     "data": {
      "image/png": "[encoded data removed]",
      "text/plain": [
       "<Figure size 432x288 with 1 Axes>"
      ]
     },
     "metadata": {
      "needs_background": "light"
     },
     "output_type": "display_data"
    }
   ],
   "source": [
    "sub_samples =samples[np.where(np.logical_and( samples[:,1]>=3, samples[:,1] <=3.1)), 0]\n",
    "\n",
    "plt.hist(sub_samples.reshape((-1)), bins = 100, density = True)\n",
    "plot_lin = np.linspace(-5,5, 1000)\n",
    "plt.plot(plot_lin, norm.pdf(plot_lin, loc = 0, scale = 1/3.05**0.5))\n",
    "plt.title(\"X|(Y = 3.05)\")\n",
    "plt.show()"
   ]
  },
  {
   "cell_type": "markdown",
   "metadata": {},
   "source": [
    "As expected the samples follow the conditional law of $X|(Y=3.05)$."
   ]
  }
 ],
 "metadata": {
  "interpreter": {
   "hash": "f6fa3d0b62d3ec966001288e60bcc5c16d6c6509231b0418e939e2becf055f22"
  },
  "kernelspec": {
   "display_name": "Python 3",
   "language": "python",
   "name": "python3"
  },
  "language_info": {
   "codemirror_mode": {
    "name": "ipython",
    "version": 3
   },
   "file_extension": ".py",
   "mimetype": "text/x-python",
   "name": "python",
   "nbconvert_exporter": "python",
   "pygments_lexer": "ipython3",
   "version": "3.9.7"
  }
 },
 "nbformat": 4,
 "nbformat_minor": 2
}
