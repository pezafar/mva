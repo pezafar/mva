{
 "cells": [
  {
   "cell_type": "markdown",
   "metadata": {},
   "source": [
    "# Semi-Stochastic Gradient Descent Methods\n",
    "**Implementation and experiments**\n",
    "\n",
    "[Article](https://arxiv.org/pdf/1312.1666.pdf)"
   ]
  },
  {
   "cell_type": "markdown",
   "metadata": {
    "id": "2GnpQH3SHjuJ"
   },
   "source": [
    "## Define Functions for Semi-Stochastic gradient Descent"
   ]
  },
  {
   "cell_type": "code",
   "execution_count": 28,
   "metadata": {
    "id": "DYDdkeTSDkqB"
   },
   "outputs": [],
   "source": [
    "import numpy as np\n",
    "import matplotlib.pyplot as plt\n",
    "from IPython.display import clear_output\n",
    "import math\n",
    "from inspect import Parameter\n",
    "from time import time"
   ]
  },
  {
   "cell_type": "code",
   "execution_count": 29,
   "metadata": {
    "id": "e-czCdnWDkqM"
   },
   "outputs": [],
   "source": [
    "# Sample tj\n",
    "def create_P(h,m, nu):\n",
    "\t\"\"\"\n",
    "\tReturn P list of probability prop to (1 - nu*h)**(m-t)\n",
    "\t\"\"\"\n",
    "\tP = np.array([(1.-nu*h)**(m-t) for t in range(1,m+1)])\n",
    "\tP /= np.sum(P)\n",
    "\tP = np.cumsum(P)\n",
    "\tP[-1] = 1.\n",
    "\treturn P\n",
    "\n",
    "\n",
    "def rand_from(cum_p):\n",
    "\t\"\"\"\n",
    "\tReturn t with probability prop to (1 - nu*h)**(m-t)\n",
    "\t\"\"\"\n",
    "\tu = np.random.random()\n",
    "\treturn np.searchsorted(cum_p,u)\n",
    "\n",
    "# L2_regularized_least_squares\n",
    "def L2_regularized_least_squares_grad(x, a, b, lambd):\n",
    "\t\"\"\"Compute the grad of L2-regularized least squares\"\"\"\n",
    "\treturn 2*a*(a.T@x-b) + lambd*x\n",
    "\n",
    "\n",
    "def L2_regularized_least_squares(x, A, B, lambd):\n",
    "\t\"\"\"Compute L2-regularized least squares\"\"\"\n",
    "\tn = A.shape[0]\n",
    "\treturn np.sum((np.dot(A, x) - B)**2)/n + np.sum(x**2)*lambd/2\n",
    "\n",
    "\n",
    "# L2_regularized_logistic_loss\n",
    "def L2_regularized_logistic_loss(x, A, y, lamb):\n",
    "    \"\"\"Compute L2-regularized logistic loss\"\"\"\n",
    "    n = A.shape[0]\n",
    "    f = 0\n",
    "    for i in range(n):\n",
    "        a_i = A[i]\n",
    "        f += -(y[i]*np.log(1/(1+np.exp(-x.T@a_i))) +(1-y[i])*np.log(1-1/(1+np.exp(-x.T@a_i)))) + np.sum(x**2)*lamb/2\n",
    "    return f/n\n",
    "\n",
    "\n",
    "def L2_regularized_logistic_loss_grad(x, a, yi, lamb):\n",
    "    return ((1-yi)*a.T - yi*np.exp(-x.T@a)*a.T)/(1+np.exp(-x.T@a)) + lamb*x\n",
    "\n",
    "\n",
    "# Get best parameters to compute complexity \n",
    "def get_best_param(nu, mu, L, epsilon):\n",
    "\t\t\"\"\"Compute optimal parameters in order to minimize computationnal time\"\"\"\n",
    "\t\tj = math.ceil(np.log(1/epsilon))\n",
    "\t\tdelta = epsilon**(1/j)\n",
    "\t\tk = L / mu\n",
    "\t\th = 1 / (4*(L-mu)/delta + 4*L)\n",
    "\t\tif nu==0:\n",
    "\t\t\t\tm = math.ceil(8*(k-1)/(delta**2) + 8*k/delta + 2*(k**2)/(k-1))\n",
    "\t\telse:\n",
    "\t\t\t\tm = math.ceil((4*(k-1)/delta + 2*k) * np.log(2/delta + (2*k-1)/(k-1)))\n",
    "\t\treturn j, h, m"
   ]
  },
  {
   "cell_type": "code",
   "execution_count": 30,
   "metadata": {
    "id": "LiznqerTWN-G"
   },
   "outputs": [],
   "source": [
    "def ssgd(A, B, x_init, x_star, f, f_grad, mu, L, epsilon=1e-6, nu=0, brut_parameters=None, alpha_for_plus = None):\n",
    "    \"\"\"Executes semi stochastic gradient descent algorithm on f\n",
    "\n",
    "    Args:\n",
    "        A, B : Arguments for computation of f\n",
    "        x_init, x_star : starting point and optimal point\n",
    "        f, f_grad : function to optimize and it's gradient\n",
    "        mu, L : parameters of the problem\n",
    "        epsilon : expected precision\n",
    "        nu : lower bound for mu\n",
    "        brut_parameters : if none, choose best parameters to minimize complexity, otherwhise use parameters given\n",
    "    Returns:\n",
    "        x : solution point \n",
    "        error_history : distance to the optimal point throug iterations\n",
    "        number_of_iterations : list of number of iterations per epoch \n",
    "    \"\"\"    \n",
    "    n = A.shape[0]\n",
    "    if brut_parameters is None:\n",
    "        J, h, m = get_best_param(nu, mu, L, epsilon)\n",
    "        print(\"\\nChosen parameters : \")\n",
    "        print(\"J =\", J)\n",
    "        print(\"h =\", h)\n",
    "        print(\"m =\", m)\n",
    "    else:\n",
    "        J = math.ceil(np.log(1/epsilon))\n",
    "        h, m = brut_parameters\n",
    "\n",
    "    # Param to optim: x\n",
    "    x = x_init.copy()\n",
    "\n",
    "    P = create_P(h, m, nu)\n",
    "\n",
    "    if x_star is None:\n",
    "        error_history = [abs(f(x, A, B))]\n",
    "    else:\n",
    "        error_history = [abs(f(x, A, B) - f(x_star, A, B))]\n",
    "        \n",
    "    number_of_iterations = [0]\n",
    "    x_list = [x_init]\n",
    "\n",
    "    for j in range(J):\n",
    "        g = np.mean(np.array([f_grad(x, A[i], B[i]) for i in range(n)]), axis=0)\n",
    "        y = x.copy()\n",
    "\n",
    "        # Pick random t\n",
    "        if alpha_for_plus == None:\n",
    "            tj = rand_from(P)\n",
    "        else:\n",
    "            print(\"Using SSGD+ version\")\n",
    "            tj = int(alpha_for_plus*n)\n",
    "\n",
    "        for t in range(tj):\n",
    "            i = np.random.randint(0, n)\n",
    "            y = y - h * (g + f_grad(y, A[i], B[i]) - f_grad(x, A[i], B[i]))\n",
    "\n",
    "        number_of_iterations.append(number_of_iterations[-1]+tj)\n",
    "        if x_star is None:\n",
    "            error_history.append(abs(f(y, A, B)))\n",
    "        else:\n",
    "            error_history.append(abs(f(y, A, B) - f(x_star, A, B)))\n",
    "                \n",
    "        \n",
    "        x = y.copy()\n",
    "        x_list.append(x)\n",
    "    return x_list, error_history, number_of_iterations"
   ]
  },
  {
   "cell_type": "code",
   "execution_count": 31,
   "metadata": {
    "id": "VXuu08fJDekz"
   },
   "outputs": [],
   "source": [
    "def ssgd_plus(A, B, x_init, x_star, f, f_grad, mu, L, alpha=1, epsilon=1e-6, nu=0, brut_parameters=None):\n",
    "    n = A.shape[0]\n",
    "\n",
    "    if brut_parameters is None:\n",
    "        J, h, m = get_best_param(nu, mu, L, epsilon)\n",
    "        print(\"\\nChosen parameters : \")\n",
    "        print(\"J =\", J)\n",
    "        print(\"h =\", h)\n",
    "        print(\"m =\", m)\n",
    "        brut_parameters = h, m\n",
    "    else:\n",
    "        J = math.ceil(np.log(1/epsilon))\n",
    "        h, m = brut_parameters\n",
    "\n",
    "    x, errors_sgd, n_it_sgd= stochastic_gradient_descent(A, B,x_init, x_star, f, f_grad, h, N_iter = n )\n",
    "    x_ssgd, errors_ssgd, n_it_ssgd = ssgd(A, B, x, x_star, f, f_grad, mu, L, epsilon=epsilon, nu = nu, brut_parameters=brut_parameters)\n",
    "    n_it = n_it_sgd+ [it+max(n_it_sgd) for it in n_it_ssgd]\n",
    "    return x + x_ssgd, errors_sgd+errors_ssgd, n_it\n",
    "    #return np.concatenate(x, x_ssgd), np.concatenate(errors_sgd, errors_ssgd), np.concatenate([n],n_it_ssgd)"
   ]
  },
  {
   "cell_type": "code",
   "execution_count": 32,
   "metadata": {
    "id": "ys2TlapoDek3"
   },
   "outputs": [],
   "source": [
    "def gradient_descent(A, B, x_init, x_star, f, f_grad, h, N_iter = 100000):\n",
    "    \"\"\"Executes gradient descent algorithm on f\n",
    "\n",
    "    Args:\n",
    "        A, B : Arguments for computation of f\n",
    "        x_init, x_star : starting point and optimal point\n",
    "        f, f_grad : function to optimize and its gradient\n",
    "        N_iter: nb of iterations to run \n",
    "        h: step size\n",
    "    Returns:\n",
    "        x : solution point \n",
    "        error_history : distance to the optimal point throug iterations\n",
    "        number_of_iterations : list of number of iterations per epoch \n",
    "    \"\"\"    \n",
    "    n = A.shape[0]\n",
    "    x = x_init.copy()\n",
    "    error_history = [abs(f(x, A, B) - f(x_star, A, B))]\n",
    "    number_of_iterations = [0]\n",
    "    verbose = int(N_iter/100)\n",
    "\n",
    "    for i in range(N_iter):\n",
    "        x -= h*np.mean(np.array( [f_grad(x, A[l], B[l]) for  l in range(n)] ), axis = 0)\n",
    "\n",
    "        if not i% verbose:\n",
    "              error_history.append(abs(f(x, A, B) - f(x_star, A, B)))        \n",
    "              number_of_iterations.append(i+1)\n",
    "\n",
    "    return x, error_history, number_of_iterations\n",
    "    "
   ]
  },
  {
   "cell_type": "code",
   "execution_count": 33,
   "metadata": {
    "id": "1fkT6XscDek7"
   },
   "outputs": [],
   "source": [
    "def stochastic_gradient_descent(A, B, x_init, x_star, f, f_grad, h, N_iter = 100000):\n",
    "    \"\"\"Executes gradient descent algorithm on f\n",
    "\n",
    "    Args:\n",
    "        A, B : Arguments for computation of f\n",
    "        x_init, x_star : starting point and optimal point\n",
    "        f, f_grad : function to optimize and its gradient\n",
    "        N_iter: nb of iterations to run \n",
    "        h: step size\n",
    "    Returns:\n",
    "        x : solution point \n",
    "        error_history : distance to the optimal point throug iterations\n",
    "        number_of_iterations : list of number of iterations per epoch \n",
    "    \"\"\"    \n",
    "    n = A.shape[0]\n",
    "    x = x_init.copy()\n",
    "    number_of_iteration = [0]\n",
    "    error_history = [abs(f(x, A, B) - f(x_star, A, B))]\n",
    "    verbose = int(N_iter/100)\n",
    "    for i in range(N_iter):\n",
    "        l = np.random.randint(0, n)\n",
    "        x -= h*f_grad(x, A[l], B[l])\n",
    "        if not i% verbose:\n",
    "            error_history.append(abs(f(x, A, B) - f(x_star, A, B)))        \n",
    "            number_of_iteration.append(i+1)\n",
    "\n",
    "    return x, error_history, number_of_iteration"
   ]
  },
  {
   "cell_type": "markdown",
   "metadata": {
    "id": "KMFvyy6SDkql"
   },
   "source": [
    "## L2-regularized least squares\n",
    "\n",
    "Nous utilisons les formules de 5. pour choisir nos paramètres, et comparons avec les performances en utilisant les paramètres proposés dans le papier. "
   ]
  },
  {
   "cell_type": "markdown",
   "metadata": {
    "id": "Ts2YaQYFJZiD"
   },
   "source": [
    "### SSGD\n",
    "\n",
    "Partie 7.2 du papier de recherche."
   ]
  },
  {
   "cell_type": "code",
   "execution_count": null,
   "metadata": {
    "id": "aF1hf_j3P7Hb"
   },
   "outputs": [],
   "source": [
    "# Data\n",
    "d = 10\n",
    "n = 1000\n",
    "x_star = np.random.rand(d)\n",
    "x_init = np.ones(d)/d\n",
    "A = np.random.rand(n,d)\n",
    "B = np.dot(A, x_star)"
   ]
  },
  {
   "cell_type": "code",
   "execution_count": null,
   "metadata": {
    "colab": {
     "base_uri": "https://localhost:8080/"
    },
    "id": "HnehCNU3Dkqy",
    "outputId": "4622804b-321a-45f1-a2d3-76d5c4cb9c4a"
   },
   "outputs": [
    {
     "name": "stdout",
     "output_type": "stream",
     "text": [
      "\n",
      "Expected parameters:\n",
      "h = 1.7543859649122806e-05\n",
      "m = 261 063\n",
      "\n",
      "Chosen parameters : \n",
      "J = 14\n",
      "h = 1.3577999743658966e-05\n",
      "m = 254188\n"
     ]
    }
   ],
   "source": [
    "# Define the problem\n",
    "## here nu = lambda, choose parameters to minimize complexity\n",
    "lamb = 0.5\n",
    "nu = lamb\n",
    "f = lambda x, a, b: L2_regularized_least_squares(x, a, b, lamb)\n",
    "f_grad = lambda x, a, b: L2_regularized_least_squares_grad(x, a, b, lamb)\n",
    "L = 10000 * lamb\n",
    "print(\"\\nExpected parameters:\")\n",
    "\n",
    "if nu==0:\n",
    "  print(\"h =\", 1/(12.7*L))\n",
    "  print(\"m = 426 660\")\n",
    "  params = (1/(12.7*L), 426660)\n",
    "elif (nu - lamb) < 10e-6:\n",
    "  print(\"h =\", 1/(11.4*L))\n",
    "  print(\"m = 261 063\")\n",
    "  params = (1/(11.4*L), 261063)\n",
    "\n",
    "# Compute ssgd\n",
    "x, hist, n_it = ssgd(A, B, x_init, x_star, f, f_grad, lamb, L, nu=nu)\n",
    "\n"
   ]
  },
  {
   "cell_type": "code",
   "execution_count": null,
   "metadata": {
    "colab": {
     "base_uri": "https://localhost:8080/"
    },
    "id": "KN-zESRFug3c",
    "outputId": "c2d391ad-1824-4a0a-c63e-7a9574d5a267"
   },
   "outputs": [
    {
     "name": "stdout",
     "output_type": "stream",
     "text": [
      "\n",
      "Expected parameters:\n",
      "h = 0.00015748031496062991\n",
      "m = 426 660\n",
      "\n",
      "Chosen parameters : \n",
      "J = 14\n",
      "h = 0.00013577999743658966\n",
      "m = 810309\n"
     ]
    }
   ],
   "source": [
    "# Define the problem bis\n",
    "# Here nu = 0, choose parameters  to minimize complexity\n",
    "lamb = 0.05\n",
    "nu = 0\n",
    "f = lambda x, a, b: L2_regularized_least_squares(x, a, b, lamb)\n",
    "f_grad = lambda x, a, b: L2_regularized_least_squares_grad(x, a, b, lamb)\n",
    "L = 10000 * lamb\n",
    "print(\"\\nExpected parameters:\")\n",
    "if nu==0:\n",
    "  print(\"h =\", 1/(12.7*L))\n",
    "  print(\"m = 426 660\")\n",
    "  params = (1/(12.7*L), 426660)\n",
    "elif nu==lamb:\n",
    "  print(\"h =\", 1/(11.4*L))\n",
    "  print(\"m = 261 063\")\n",
    "  params = (1/(11.4*L), 261063)\n",
    "\n",
    "# Compute ssgd\n",
    "x_2, hist_2, n_it_2 = ssgd(A, B, x_init, x_star, f, f_grad, lamb, L)"
   ]
  },
  {
   "cell_type": "code",
   "execution_count": null,
   "metadata": {
    "id": "0tpVL-TWOjVl"
   },
   "outputs": [],
   "source": [
    "## We wanted to compare with parameters in the paper, no difference noted\n",
    "\n",
    "# # Define the problem 3\n",
    "# # Here nu = mu, use paper's parameters\n",
    "# lamb = 0.05\n",
    "# nu = lamb\n",
    "# f = lambda x, a, b: L2_regularized_least_squares(x, a, b, lamb)\n",
    "# f_grad = lambda x, a, b: L2_regularized_least_squares_grad(x, a, b, lamb)\n",
    "# L = 10000 * lamb\n",
    "# print(\"\\nExpected parameters:\")\n",
    "# if nu==0:\n",
    "#   print(\"h =\", 1/(12.7*L))\n",
    "#   print(\"m = 426 660\")\n",
    "#   params = (1/(12.7*L), 426660)\n",
    "# elif nu==lamb:\n",
    "#   print(\"h =\", 1/(11.4*L))\n",
    "#   print(\"m = 261 063\")\n",
    "#   params = (1/(11.4*L), 261063)\n",
    "\n",
    "# # Compute ssgd\n",
    "# x_3, hist_3, n_it_3 = ssgd(A, B, x_init, x_star, f, f_grad, lamb, L, nu=nu, brut_parameters=params)\n",
    "\n",
    "# # Define the problem 4\n",
    "# # Here nu = 0, use paper's parameters\n",
    "# lamb = 0.05\n",
    "# nu = 0\n",
    "# f = lambda x, a, b: L2_regularized_least_squares(x, a, b, lamb)\n",
    "# f_grad = lambda x, a, b: L2_regularized_least_squares_grad(x, a, b, lamb)\n",
    "# L = 10000 * lamb\n",
    "# print(\"\\nExpected parameters:\")\n",
    "# if nu==0:\n",
    "#   print(\"h =\", 1/(12.7*L))\n",
    "#   print(\"m = 426 660\")\n",
    "#   params = (1/(12.7*L), 426660)\n",
    "# elif nu==lamb:\n",
    "#   print(\"h =\", 1/(11.4*L))\n",
    "#   print(\"m = 261 063\")\n",
    "#   params = (1/(11.4*L), 261063)\n",
    "\n",
    "# # Compute ssgd\n",
    "# x_4, hist_4, n_it_4 = ssgd(A, B, x_init, x_star, f, f_grad, lamb, L, nu=nu, brut_parameters=params)"
   ]
  },
  {
   "cell_type": "code",
   "execution_count": null,
   "metadata": {
    "colab": {
     "base_uri": "https://localhost:8080/",
     "height": 295
    },
    "id": "ANbLTdSdumq-",
    "outputId": "b5f483c7-6483-49c8-e900-3f3eb6cfb314"
   },
   "outputs": [
    {
     "data": {
      "image/png": "[encoded data removed]",
      "text/plain": [
       "<Figure size 432x288 with 1 Axes>"
      ]
     },
     "metadata": {
      "needs_background": "light"
     },
     "output_type": "display_data"
    }
   ],
   "source": [
    "# print evolution of the error\n",
    "\n",
    "plt.plot(n_it, hist, 'ro-', label='nu=lambda')\n",
    "plt.plot(n_it_2, hist_2, 'bo-', label='nu=0')\n",
    "\n",
    "#plt.plot(n_it_3, hist_3, 'g--', label=\"nu=lambda, paper's parameters\")\n",
    "#plt.plot(n_it_4, hist_4, 'p--', label=\"nu=0, paper's parameters\")\n",
    "plt.yscale('log')\n",
    "plt.xlabel('Iteration')\n",
    "plt.ylabel('f(x)-f(x_star)')\n",
    "plt.legend()\n",
    "plt.title('Error evolution through training SSGD')\n",
    "plt.show()"
   ]
  },
  {
   "cell_type": "markdown",
   "metadata": {
    "id": "tkeAL-VpJeWX"
   },
   "source": [
    "### SSGD +\n"
   ]
  },
  {
   "cell_type": "code",
   "execution_count": null,
   "metadata": {
    "id": "7ljG7ExvJeWd"
   },
   "outputs": [],
   "source": [
    "# Data\n",
    "d = 10\n",
    "n = 1000\n",
    "x_star = np.random.rand(d)\n",
    "x_init = np.ones(d)/d\n",
    "A = np.random.rand(n,d)\n",
    "B = np.dot(A, x_star)"
   ]
  },
  {
   "cell_type": "code",
   "execution_count": null,
   "metadata": {
    "colab": {
     "base_uri": "https://localhost:8080/"
    },
    "id": "NoCghmJtJeWk",
    "outputId": "a848fe43-3c1e-4616-b189-6376068a1be1"
   },
   "outputs": [
    {
     "name": "stdout",
     "output_type": "stream",
     "text": [
      "\n",
      "Expected parameters:\n",
      "h = 0.00017543859649122806\n",
      "m = 261 063\n",
      "\n",
      "Chosen parameters : \n",
      "J = 14\n",
      "h = 0.00013577999743658966\n",
      "m = 254188\n"
     ]
    }
   ],
   "source": [
    "# Define the problem\n",
    "## here nu = lambda, choose parameters to minimize complexity\n",
    "lamb = 0.05\n",
    "nu = lamb\n",
    "f = lambda x, a, b: L2_regularized_least_squares(x, a, b, lamb)\n",
    "f_grad = lambda x, a, b: L2_regularized_least_squares_grad(x, a, b, lamb)\n",
    "L = 10000 * lamb\n",
    "print(\"\\nExpected parameters:\")\n",
    "\n",
    "if nu==0:\n",
    "  print(\"h =\", 1/(12.7*L))\n",
    "  print(\"m = 426 660\")\n",
    "  params = (1/(12.7*L), 426660)\n",
    "elif (nu - lamb) < 10e-6:\n",
    "  print(\"h =\", 1/(11.4*L))\n",
    "  print(\"m = 261 063\")\n",
    "  params = (1/(11.4*L), 261063)\n",
    "\n",
    "# Compute ssgd\n",
    "x, hist, n_it = ssgd_plus(A, B, x_init, x_star, f, f_grad, lamb, L, nu=nu)\n",
    "\n"
   ]
  },
  {
   "cell_type": "code",
   "execution_count": null,
   "metadata": {
    "colab": {
     "base_uri": "https://localhost:8080/"
    },
    "id": "r_Qzoy9HJeWs",
    "outputId": "24cf2ab5-4030-40d3-94a0-4797113a5144"
   },
   "outputs": [
    {
     "name": "stdout",
     "output_type": "stream",
     "text": [
      "\n",
      "Expected parameters:\n",
      "h = 0.00015748031496062991\n",
      "m = 426 660\n",
      "\n",
      "Chosen parameters : \n",
      "J = 14\n",
      "h = 0.00013577999743658966\n",
      "m = 810309\n"
     ]
    }
   ],
   "source": [
    "# Define the problem bis\n",
    "# Here nu = 0, choose parameters  to minimize complexity\n",
    "lamb = 0.05\n",
    "nu = 0\n",
    "f = lambda x, a, b: L2_regularized_least_squares(x, a, b, lamb)\n",
    "f_grad = lambda x, a, b: L2_regularized_least_squares_grad(x, a, b, lamb)\n",
    "L = 10000 * lamb\n",
    "print(\"\\nExpected parameters:\")\n",
    "if nu==0:\n",
    "  print(\"h =\", 1/(12.7*L))\n",
    "  print(\"m = 426 660\")\n",
    "  params = (1/(12.7*L), 426660)\n",
    "elif nu==lamb:\n",
    "  print(\"h =\", 1/(11.4*L))\n",
    "  print(\"m = 261 063\")\n",
    "  params = (1/(11.4*L), 261063)\n",
    "\n",
    "# Compute ssgd\n",
    "x_2, hist_2, n_it_2 = ssgd_plus(A, B, x_init, x_star, f, f_grad, lamb, L)"
   ]
  },
  {
   "cell_type": "code",
   "execution_count": null,
   "metadata": {
    "colab": {
     "base_uri": "https://localhost:8080/",
     "height": 295
    },
    "id": "UFKTOPGNJeW9",
    "outputId": "83600580-df79-4be6-ffed-d226df639f0d"
   },
   "outputs": [
    {
     "data": {
      "image/png": "[encoded data removed]",
      "text/plain": [
       "<Figure size 432x288 with 1 Axes>"
      ]
     },
     "metadata": {
      "needs_background": "light"
     },
     "output_type": "display_data"
    }
   ],
   "source": [
    "# print evolution of the error\n",
    "plt.plot(n_it, hist, 'ro-', label='nu=lambda')\n",
    "plt.plot(n_it_2, hist_2, 'bo-', label='nu=0')\n",
    "\n",
    "plt.xlabel('Iteration')\n",
    "plt.ylabel('f(x)-f(x_star)')\n",
    "plt.yscale('log')\n",
    "plt.legend()\n",
    "plt.title('Error evolution through training SSGD+')\n",
    "plt.show()"
   ]
  },
  {
   "cell_type": "markdown",
   "metadata": {
    "id": "QZANEWioY15R"
   },
   "source": [
    "### SSGD detailed\n",
    "\n",
    "Pour mieux visualiser l'evolution de l'erreur au cours des itérations.\n",
    "WARNING : very long computational time"
   ]
  },
  {
   "cell_type": "code",
   "execution_count": null,
   "metadata": {
    "id": "hfBjxLRsDkqc"
   },
   "outputs": [],
   "source": [
    "def ssgd_bis(A, B, x_init, x_star, f, f_grad, mu, L, epsilon=1e-3, nu=0, brut_parameters=None, alpha_for_plus = None):\n",
    "    \"\"\"Executes semi stochastic gradient descent algorithm on f + Compute error at each step\n",
    "\n",
    "    Args:\n",
    "        A, B : Arguments for computation of f\n",
    "        x_init, x_star : starting point and optimal point\n",
    "        f, f_grad : function to optimize and it's gradient\n",
    "        mu, L : parameters of the problem\n",
    "        epsilon : expected precision\n",
    "        nu : lower bound for mu\n",
    "        brut_parameters : if none, choose best parameters to minimize complexity, otherwhise use parameters given\n",
    "    Returns:\n",
    "        x : solution point \n",
    "        error_history : distance to the optimal point throug iterations\n",
    "        number_of_iterations : list of number of iterations per epoch \n",
    "    \"\"\"    \n",
    "    n = A.shape[0]\n",
    "    if brut_parameters is None:\n",
    "        J, h, m = get_best_param(nu, mu, L, epsilon)\n",
    "        print(\"\\nChosen parameters : \")\n",
    "        print(\"J =\", J)\n",
    "        print(\"h =\", h)\n",
    "        print(\"m =\", m)\n",
    "    else:\n",
    "        J = math.ceil(np.log(1/epsilon))\n",
    "        h, m = brut_parameters\n",
    "\n",
    "    # Param to optim: x\n",
    "    x = x_init.copy()\n",
    "\n",
    "    P = create_P(h, m, nu)\n",
    "\n",
    "    if x_star is None:\n",
    "        error_history = [abs(f(x, A, B))]\n",
    "    else:\n",
    "        error_history = [abs(f(x, A, B) - f(x_star, A, B))]\n",
    "        \n",
    "    number_of_iterations = [0]\n",
    "    x_list = [x_init]\n",
    "\n",
    "    for j in range(J):\n",
    "        g = np.mean(np.array([f_grad(x, A[i], B[i]) for i in range(n)]), axis=0)\n",
    "        y = x.copy()\n",
    "\n",
    "        # Pick random t\n",
    "        if alpha_for_plus == None:\n",
    "            tj = rand_from(P)\n",
    "        else:\n",
    "            print(\"Using SSGD+ version\")\n",
    "            tj = int(alpha_for_plus*n)\n",
    "\n",
    "        for t in range(tj):\n",
    "            i = np.random.randint(0, n)\n",
    "            y = y - h * (g + f_grad(y, A[i], B[i]) - f_grad(x, A[i], B[i]))\n",
    "            number_of_iterations.append(number_of_iterations[-1]+1)\n",
    "            if x_star is None:\n",
    "                error_history.append(abs(f(y, A, B)))\n",
    "            else:\n",
    "                error_history.append(abs(f(y, A, B) - f(x_star, A, B)))\n",
    "                \n",
    "        x = y.copy()\n",
    "        x_list.append(x)\n",
    "    return x_list, error_history, number_of_iterations"
   ]
  },
  {
   "cell_type": "code",
   "execution_count": null,
   "metadata": {
    "id": "S8r5QcTFY15X"
   },
   "outputs": [],
   "source": [
    "# Data\n",
    "d = 10\n",
    "n = 1000\n",
    "x_star = np.random.rand(d)\n",
    "x_init = np.ones(d)/d\n",
    "A = np.random.rand(n,d)\n",
    "B = np.dot(A, x_star)"
   ]
  },
  {
   "cell_type": "code",
   "execution_count": null,
   "metadata": {
    "colab": {
     "base_uri": "https://localhost:8080/"
    },
    "id": "7hBTHuYPY15a",
    "outputId": "9c752c9e-9caf-45d5-c9b1-c96801ad2dc3"
   },
   "outputs": [
    {
     "name": "stdout",
     "output_type": "stream",
     "text": [
      "\n",
      "Expected parameters:\n",
      "h = 1.7543859649122806e-05\n",
      "m = 261 063\n",
      "\n",
      "Chosen parameters : \n",
      "J = 7\n",
      "h = 1.3577999743658966e-05\n",
      "m = 254188\n"
     ]
    }
   ],
   "source": [
    "# Define the problem\n",
    "## here nu = lambda, choose parameters to minimize complexity\n",
    "lamb = 0.5\n",
    "nu = lamb\n",
    "f = lambda x, a, b: L2_regularized_least_squares(x, a, b, lamb)\n",
    "f_grad = lambda x, a, b: L2_regularized_least_squares_grad(x, a, b, lamb)\n",
    "L = 10000 * lamb\n",
    "print(\"\\nExpected parameters:\")\n",
    "\n",
    "if nu==0:\n",
    "  print(\"h =\", 1/(12.7*L))\n",
    "  print(\"m = 426 660\")\n",
    "  params = (1/(12.7*L), 426660)\n",
    "elif (nu - lamb) < 10e-6:\n",
    "  print(\"h =\", 1/(11.4*L))\n",
    "  print(\"m = 261 063\")\n",
    "  params = (1/(11.4*L), 261063)\n",
    "\n",
    "# Compute ssgd\n",
    "x, hist, n_it = ssgd_bis(A, B, x_init, x_star, f, f_grad, lamb, L, nu=nu)\n",
    "\n"
   ]
  },
  {
   "cell_type": "code",
   "execution_count": null,
   "metadata": {
    "colab": {
     "base_uri": "https://localhost:8080/"
    },
    "id": "zJBy8qgbY15r",
    "outputId": "97d990b1-6c87-47a5-b458-8dce58059c99"
   },
   "outputs": [
    {
     "name": "stderr",
     "output_type": "stream",
     "text": [
      "/usr/local/lib/python3.7/dist-packages/ipykernel_launcher.py:7: UserWarning: Attempted to set non-positive bottom ylim on a log-scaled axis.\n",
      "Invalid limit will be ignored.\n",
      "  import sys\n"
     ]
    },
    {
     "data": {
      "image/png": "[encoded data removed]",
      "text/plain": [
       "<Figure size 432x288 with 1 Axes>"
      ]
     },
     "metadata": {
      "needs_background": "light"
     },
     "output_type": "display_data"
    }
   ],
   "source": [
    "# print evolution of the error\n",
    "\n",
    "plt.plot(n_it, hist, color='r', label='nu=lambda')\n",
    "plt.yscale('log')\n",
    "plt.xlabel('Iteration')\n",
    "plt.ylabel('f(x)-f(x_star)')\n",
    "plt.ylim(0,0.5)\n",
    "plt.xlim(0,100000)\n",
    "plt.legend()\n",
    "plt.title('Error evolution through training SSGD')\n",
    "plt.show()"
   ]
  },
  {
   "cell_type": "markdown",
   "metadata": {
    "id": "MM7jTRNJBXa2"
   },
   "source": [
    "## L2-regularized logistic loss on MNIST\n",
    "\n",
    "Partie 7.3 du papier de recherche"
   ]
  },
  {
   "cell_type": "code",
   "execution_count": 34,
   "metadata": {
    "colab": {
     "base_uri": "https://localhost:8080/",
     "height": 428,
     "referenced_widgets": [
      "3734f236bd554ea4bdbaa5c31c5edd65",
      "2daf24db3f9a455186f20f3550ba50c6",
      "c9eb373dc20b4591a07bb25ca19772a6",
      "e0a557d5d209404bbfb479882291ad5a",
      "77039b05056a422dafe05159eed3bd3a",
      "7bb33e0821c24747b5f911b2187378b4",
      "56245a7c607648d99bae45daaa40d4dc",
      "a1a838d8310644afabc3d4e50575f05d",
      "bfc6e2a5218a49c992eda5b80f4cc90a",
      "f5f623fa882e47d58d83205dd67475c6",
      "3c90ecaeaa594044955b5f3eefbea4e1",
      "38d69c172f4f47ea9c937c69bc9865f3",
      "8a311ba31593452dbbbb58608c36fd78",
      "94ebcdd2106e4f0d9b5d9af4703535ac",
      "03549bd3e49e44af9213a359f2577699",
      "03efaac765e94f30869e49984e4c0d0c",
      "f23ebebdc31541e6bf71947755ac0972",
      "d5dcb6f6389645b69ce644aff28e427f",
      "85fa87516290480bb98c539268214eeb",
      "36139a28d7e448278c067f3db215943b",
      "7f1fb6ea70c9442fa544e7625ff2cd19",
      "5fcbc28a6367442791a17425b16b6ef2",
      "38e508b85f594023ab706488e9b55e4b",
      "aa43fc25054442698d6f699d5818bbb7",
      "ec583f86968646d1b16368e8eb66d7a4",
      "8ef73cc67b2e4d92a20ac918ed9a710e",
      "ff7031d8dbac42a5ae4d9d985d882bca",
      "8e6e33322aef49c5acd40a215d189ff8",
      "e70305afe6c5432e8e457167c50f97ff",
      "6c20095777b340f5b0fcb21c6648d3c6",
      "37f500b652514385ba442602e7517609",
      "802664636fbf42419e593ec5f91155e7",
      "2fc02442f1904da2a8f14b7e24b3c5fb",
      "5282aeeb248040c9b3f2437c0bd3a92c",
      "022041b48ba24aa4b18672200a1f9805",
      "4147ab7a23c84252980b7db7e9c04e87",
      "439e9f70ecac441b91d292e2538bd477",
      "643f507e27094f22a6a8526439f368d9",
      "68b0468965bc4f40b3c784e6e2746169",
      "01365c7d59044b9c81d0947ffacb2e88",
      "5e54e5a76f7d440aa1d81ee006adef72",
      "93b55f32bfd24c38ae1a081e48f3c605",
      "32e26cf031f940ca9f620eb560daeac2",
      "cc1b0ce5a9ff4c0b9512e3193e9d1bd3"
     ]
    },
    "id": "AXQ6sSx6BXa-",
    "outputId": "3394961e-2e88-452a-9aad-04c2729b10f3"
   },
   "outputs": [
    {
     "name": "stdout",
     "output_type": "stream",
     "text": [
      "Downloading http://yann.lecun.com/exdb/mnist/train-images-idx3-ubyte.gz\n",
      "Downloading http://yann.lecun.com/exdb/mnist/train-images-idx3-ubyte.gz to ./data/MNIST/raw/train-images-idx3-ubyte.gz\n"
     ]
    },
    {
     "data": {
      "application/vnd.jupyter.widget-view+json": {
       "model_id": "3734f236bd554ea4bdbaa5c31c5edd65",
       "version_major": 2,
       "version_minor": 0
      },
      "text/plain": [
       "  0%|          | 0/9912422 [00:00<?, ?it/s]"
      ]
     },
     "metadata": {},
     "output_type": "display_data"
    },
    {
     "name": "stdout",
     "output_type": "stream",
     "text": [
      "Extracting ./data/MNIST/raw/train-images-idx3-ubyte.gz to ./data/MNIST/raw\n",
      "\n",
      "Downloading http://yann.lecun.com/exdb/mnist/train-labels-idx1-ubyte.gz\n",
      "Downloading http://yann.lecun.com/exdb/mnist/train-labels-idx1-ubyte.gz to ./data/MNIST/raw/train-labels-idx1-ubyte.gz\n"
     ]
    },
    {
     "data": {
      "application/vnd.jupyter.widget-view+json": {
       "model_id": "38d69c172f4f47ea9c937c69bc9865f3",
       "version_major": 2,
       "version_minor": 0
      },
      "text/plain": [
       "  0%|          | 0/28881 [00:00<?, ?it/s]"
      ]
     },
     "metadata": {},
     "output_type": "display_data"
    },
    {
     "name": "stdout",
     "output_type": "stream",
     "text": [
      "Extracting ./data/MNIST/raw/train-labels-idx1-ubyte.gz to ./data/MNIST/raw\n",
      "\n",
      "Downloading http://yann.lecun.com/exdb/mnist/t10k-images-idx3-ubyte.gz\n",
      "Downloading http://yann.lecun.com/exdb/mnist/t10k-images-idx3-ubyte.gz to ./data/MNIST/raw/t10k-images-idx3-ubyte.gz\n"
     ]
    },
    {
     "data": {
      "application/vnd.jupyter.widget-view+json": {
       "model_id": "38e508b85f594023ab706488e9b55e4b",
       "version_major": 2,
       "version_minor": 0
      },
      "text/plain": [
       "  0%|          | 0/1648877 [00:00<?, ?it/s]"
      ]
     },
     "metadata": {},
     "output_type": "display_data"
    },
    {
     "name": "stdout",
     "output_type": "stream",
     "text": [
      "Extracting ./data/MNIST/raw/t10k-images-idx3-ubyte.gz to ./data/MNIST/raw\n",
      "\n",
      "Downloading http://yann.lecun.com/exdb/mnist/t10k-labels-idx1-ubyte.gz\n",
      "Downloading http://yann.lecun.com/exdb/mnist/t10k-labels-idx1-ubyte.gz to ./data/MNIST/raw/t10k-labels-idx1-ubyte.gz\n"
     ]
    },
    {
     "data": {
      "application/vnd.jupyter.widget-view+json": {
       "model_id": "5282aeeb248040c9b3f2437c0bd3a92c",
       "version_major": 2,
       "version_minor": 0
      },
      "text/plain": [
       "  0%|          | 0/4542 [00:00<?, ?it/s]"
      ]
     },
     "metadata": {},
     "output_type": "display_data"
    },
    {
     "name": "stdout",
     "output_type": "stream",
     "text": [
      "Extracting ./data/MNIST/raw/t10k-labels-idx1-ubyte.gz to ./data/MNIST/raw\n",
      "\n"
     ]
    }
   ],
   "source": [
    "import torchvision.datasets as dsets\n",
    "import torch\n",
    "import torchvision.transforms as transforms\n",
    "\n",
    "train_dataset = dsets.MNIST(root='./data', train=True, transform=transforms.ToTensor(), download=True)\n",
    "test_dataset = dsets.MNIST(root='./data', train=False, transform=transforms.ToTensor(), download=True)\n",
    "\n",
    "train_loader = torch.utils.data.DataLoader(dataset=train_dataset, shuffle=True)\n",
    "test_loader = torch.utils.data.DataLoader(dataset=test_dataset, shuffle=False)\n",
    "\n",
    "data_train = []\n",
    "y_train = []\n",
    "data_test = []\n",
    "y_test = []\n",
    "\n",
    "for image, label in train_loader:\n",
    "    if label==5 or label==8:\n",
    "       data_train.append((np.array(image)).flatten())\n",
    "       if label==5:\n",
    "          y_train.append(1)\n",
    "       else:\n",
    "          y_train.append(0)\n",
    "\n",
    "for image, label in test_loader:\n",
    "    if label==5 or label==8:\n",
    "       data_test.append((np.array(image)).flatten())\n",
    "       if label==5:\n",
    "          y_test.append(1)\n",
    "       else:\n",
    "          y_test.append(0)\n",
    "\n",
    "data_train = np.array(data_train)\n",
    "data_test = np.array(data_test)"
   ]
  },
  {
   "cell_type": "code",
   "execution_count": 35,
   "metadata": {
    "colab": {
     "base_uri": "https://localhost:8080/"
    },
    "id": "rPpYu8VQBXbH",
    "outputId": "d6bdef23-353c-4b2b-e53d-cd2e802efac4"
   },
   "outputs": [
    {
     "name": "stdout",
     "output_type": "stream",
     "text": [
      "\n",
      "Expected parameters:\n",
      "h = 0.004432624113475178\n",
      "m = 11 686\n",
      "\n",
      "Chosen parameters : \n",
      "J = 7\n",
      "h = 0.004252496364670794\n",
      "m = 8115\n"
     ]
    }
   ],
   "source": [
    "# Define parameters\n",
    "d = data_train.shape[1]\n",
    "x_init = np.ones(d)/d\n",
    "A = np.array(data_train)\n",
    "y = np.array(y_train)\n",
    "\n",
    "# Define the problem\n",
    "## here nu = lambda\n",
    "lamb = 0.05\n",
    "nu = lamb\n",
    "f = lambda x, a, y,: L2_regularized_logistic_loss(x, a, y, lamb)\n",
    "f_grad = lambda x, a, y,: L2_regularized_logistic_loss_grad(x, a, y, lamb)\n",
    "L = 320 * lamb\n",
    "print(\"\\nExpected parameters:\")\n",
    "if nu==0:\n",
    "  print(\"h =\", 1/(13.9*L))\n",
    "  print(\"m = 17 062\")\n",
    "elif nu==lamb:\n",
    "  print(\"h =\", 1/(14.1*L))\n",
    "  print(\"m = 11 686\")\n",
    "# Compute ssgd\n",
    "x, hist, n_it = ssgd(A, y, x_init, None, f, f_grad, lamb, L, nu=nu,epsilon=1e-3)"
   ]
  },
  {
   "cell_type": "code",
   "execution_count": 36,
   "metadata": {
    "colab": {
     "base_uri": "https://localhost:8080/"
    },
    "id": "5yMLyIb65ylf",
    "outputId": "c3bd055f-54d9-4832-8576-5ade10fab348"
   },
   "outputs": [
    {
     "name": "stdout",
     "output_type": "stream",
     "text": [
      "\n",
      "Expected parameters:\n",
      "h = 0.0044964028776978415\n",
      "m = 17 062\n",
      "\n",
      "Chosen parameters : \n",
      "J = 7\n",
      "h = 0.004252496364670794\n",
      "m = 25877\n"
     ]
    }
   ],
   "source": [
    "\n",
    "## here nu =0\n",
    "lamb = 0.05\n",
    "nu = 0\n",
    "L = 320 * lamb\n",
    "print(\"\\nExpected parameters:\")\n",
    "if nu==0:\n",
    "  print(\"h =\", 1/(13.9*L))\n",
    "  print(\"m = 17 062\")\n",
    "elif nu==lamb:\n",
    "  print(\"h =\", 1/(14.1*L))\n",
    "  print(\"m = 11 686\")\n",
    "\n",
    "# Compute ssgd\n",
    "x_2, hist_2, n_it_2 = ssgd(A, y, x_init, None, f, f_grad, lamb, L, epsilon=1e-3)"
   ]
  },
  {
   "cell_type": "code",
   "execution_count": 37,
   "metadata": {
    "colab": {
     "base_uri": "https://localhost:8080/",
     "height": 294
    },
    "id": "HaaE6_fJBXbV",
    "outputId": "de102327-0c88-439c-e422-c4391f77691c"
   },
   "outputs": [
    {
     "data": {
      "image/png": "[encoded data removed]",
      "text/plain": [
       "<Figure size 432x288 with 1 Axes>"
      ]
     },
     "metadata": {
      "needs_background": "light"
     },
     "output_type": "display_data"
    }
   ],
   "source": [
    "# print evolution of the error\n",
    "\n",
    "plt.yscale('log')\n",
    "plt.plot(n_it, hist,'ro-', label='nu=lambda')\n",
    "plt.plot(n_it_2, hist_2, 'bo-', label='nu=0')\n",
    "plt.xlabel('Iteration')\n",
    "plt.ylabel('f(x)-f(x_star)')\n",
    "plt.legend()\n",
    "plt.title('Error evolution through training')\n",
    "plt.show()"
   ]
  },
  {
   "cell_type": "markdown",
   "metadata": {
    "id": "tC-0vA4RXCln"
   },
   "source": [
    "## Compare with Gradient Descent and Stochastic Gradient Descent"
   ]
  },
  {
   "cell_type": "markdown",
   "metadata": {
    "id": "60hxUa9ZDel4"
   },
   "source": [
    "### Compare on Lin Reg\n",
    "\n",
    "Let's compare SSGD, Stochastic Gradient Descent (SGD) and Gradient Descent (GD) performances on the linear regression model case. "
   ]
  },
  {
   "cell_type": "code",
   "execution_count": 7,
   "metadata": {
    "id": "kytn3atgDel6"
   },
   "outputs": [],
   "source": [
    "# Data\n",
    "d = 10\n",
    "n = 1000\n",
    "x_star = np.random.rand(d)\n",
    "x_init = np.ones(d)/d\n",
    "A = np.random.rand(n,d)\n",
    "B = np.dot(A, x_star)"
   ]
  },
  {
   "cell_type": "code",
   "execution_count": 8,
   "metadata": {
    "id": "FR0FV4-pDel8"
   },
   "outputs": [],
   "source": [
    "# Define the problem\n",
    "## here nu = lambda, choose parameters to minimize complexity\n",
    "lamb = 0.05\n",
    "f = lambda x, a, b: L2_regularized_least_squares(x, a, b, lamb)\n",
    "f_grad = lambda x, a, b: L2_regularized_least_squares_grad(x, a, b, lamb)\n",
    "L = 10000 * lamb\n",
    "\n"
   ]
  },
  {
   "cell_type": "code",
   "execution_count": 9,
   "metadata": {
    "colab": {
     "base_uri": "https://localhost:8080/"
    },
    "id": "3OdFYAWkDemA",
    "outputId": "847e2a81-80e8-42b8-a9f6-9353eae23ba8"
   },
   "outputs": [
    {
     "name": "stdout",
     "output_type": "stream",
     "text": [
      "\n",
      "Chosen parameters : \n",
      "J = 14\n",
      "h = 0.00013577999743658966\n",
      "m = 254188\n",
      "\n",
      "Chosen parameters : \n",
      "J = 14\n",
      "h = 0.00013577999743658966\n",
      "m = 810309\n",
      "\n",
      "Chosen parameters : \n",
      "J = 14\n",
      "h = 0.00013577999743658966\n",
      "m = 254188\n",
      "\n",
      "Chosen parameters : \n",
      "J = 14\n",
      "h = 0.00013577999743658966\n",
      "m = 810309\n"
     ]
    }
   ],
   "source": [
    "#Dictionary to save result of different experiments\n",
    "results = {}\n",
    "\n",
    "#Compute SSGD+\n",
    "nu = lamb\n",
    "t = time()\n",
    "results['SSGD+; nu=mu'] = [ssgd_plus(A, B, x_init, x_star, f, f_grad, lamb, L, nu=nu)]\n",
    "results['SSGD+; nu=mu'].append(time()-t)\n",
    "\n",
    "#Compute SSGD+\n",
    "nu = 0\n",
    "t = time()\n",
    "results['SSGD+; nu=0'] = [ssgd_plus(A, B, x_init, x_star, f, f_grad, lamb, L, nu=nu)]\n",
    "results['SSGD+; nu=0'].append(time()-t)\n",
    "\n",
    "#Compute SSGD\n",
    "nu = lamb\n",
    "t = time()\n",
    "results['SSGD; nu=mu'] = [ssgd_plus(A, B, x_init, x_star, f, f_grad, lamb, L, nu=nu)]\n",
    "results['SSGD; nu=mu'].append(time()-t)\n",
    "\n",
    "#Compute SSGD\n",
    "nu = 0\n",
    "t = time()\n",
    "results['SSGD; nu=0'] = [ssgd(A, B, x_init, x_star, f, f_grad, lamb, L, nu=nu)]\n",
    "results['SSGD; nu=0'].append(time()-t)\n",
    "\n",
    "\n",
    "# Compute sgd with h = 1/(3000*L)\n",
    "t = time()\n",
    "results[\"sgd; h=1/3000L\"] = [stochastic_gradient_descent(A, B, x_init, x_star, f, f_grad, h = 1/(3000*L) , N_iter = 2000000)]\n",
    "results['sgd; h=1/3000L'].append(time()-t)\n",
    "\n",
    "# Compute sgd with h = 1/(300*L)\n",
    "t = time()\n",
    "results[\"sgd; h=1/300L\"] = [stochastic_gradient_descent(A, B, x_init, x_star, f, f_grad, h = 1/(300*L) , N_iter = 2000000)]\n",
    "results['sgd; h=1/300L'].append(time()-t)"
   ]
  },
  {
   "cell_type": "code",
   "execution_count": 27,
   "metadata": {
    "colab": {
     "base_uri": "https://localhost:8080/",
     "height": 586
    },
    "id": "M9w9SfdrYWF4",
    "outputId": "2ccdd74d-61cd-43f9-a575-8848cf4810a9"
   },
   "outputs": [
    {
     "name": "stdout",
     "output_type": "stream",
     "text": [
      "\n",
      "Computationnal times :\n",
      "SSGD+; nu=mu 60.86109638214111\n",
      "SSGD+; nu=0 108.10424613952637\n",
      "SSGD; nu=mu 52.46205139160156\n",
      "SSGD; nu=0 126.47916579246521\n",
      "sgd; h=1/3000L 33.740150451660156\n",
      "sgd; h=1/300L 34.772425174713135\n"
     ]
    },
    {
     "data": {
      "image/png": "[encoded data removed]",
      "text/plain": [
       "<Figure size 640x480 with 1 Axes>"
      ]
     },
     "metadata": {
      "needs_background": "light"
     },
     "output_type": "display_data"
    }
   ],
   "source": [
    "# print evolution of the error\n",
    "plt.figure(figsize=(8, 6), dpi=80)\n",
    "plt.yscale(\"log\")\n",
    "plt.xlim(0,(1e6))\n",
    "print(\"\\nComputationnal times :\")\n",
    "for k in results.keys():\n",
    "\tx, hist, n_it = results[k][0]\n",
    "\tt = results[k][1]\n",
    "\tprint(k, t)\n",
    "\tplt.plot(n_it, hist, 'o-', label=k, markersize = 2)\n",
    "plt.xlabel('Iteration')\n",
    "plt.yscale('log')\n",
    "plt.ylabel('f(x)-f(x_star)')\n",
    "plt.legend(loc = 'upper right')\n",
    "plt.title('Error evolution through training')\n",
    "plt.show()"
   ]
  },
  {
   "cell_type": "code",
   "execution_count": null,
   "metadata": {
    "id": "ekAB1y_oUtco"
   },
   "outputs": [],
   "source": []
  }
 ],
 "metadata": {
  "colab": {
   "name": "SSGD_-3.ipynb",
   "provenance": []
  },
  "interpreter": {
   "hash": "f6fa3d0b62d3ec966001288e60bcc5c16d6c6509231b0418e939e2becf055f22"
  },
  "kernelspec": {
   "display_name": "Python 3",
   "language": "python",
   "name": "python3"
  },
  "language_info": {
   "codemirror_mode": {
    "name": "ipython",
    "version": 3
   },
   "file_extension": ".py",
   "mimetype": "text/x-python",
   "name": "python",
   "nbconvert_exporter": "python",
   "pygments_lexer": "ipython3",
   "version": "3.9.7"
  },
  "widgets": {
   "application/vnd.jupyter.widget-state+json": {
    "01365c7d59044b9c81d0947ffacb2e88": {
     "model_module": "@jupyter-widgets/base",
     "model_module_version": "1.2.0",
     "model_name": "LayoutModel",
     "state": {
      "_model_module": "@jupyter-widgets/base",
      "_model_module_version": "1.2.0",
      "_model_name": "LayoutModel",
      "_view_count": null,
      "_view_module": "@jupyter-widgets/base",
      "_view_module_version": "1.2.0",
      "_view_name": "LayoutView",
      "align_content": null,
      "align_items": null,
      "align_self": null,
      "border": null,
      "bottom": null,
      "display": null,
      "flex": null,
      "flex_flow": null,
      "grid_area": null,
      "grid_auto_columns": null,
      "grid_auto_flow": null,
      "grid_auto_rows": null,
      "grid_column": null,
      "grid_gap": null,
      "grid_row": null,
      "grid_template_areas": null,
      "grid_template_columns": null,
      "grid_template_rows": null,
      "height": null,
      "justify_content": null,
      "justify_items": null,
      "left": null,
      "margin": null,
      "max_height": null,
      "max_width": null,
      "min_height": null,
      "min_width": null,
      "object_fit": null,
      "object_position": null,
      "order": null,
      "overflow": null,
      "overflow_x": null,
      "overflow_y": null,
      "padding": null,
      "right": null,
      "top": null,
      "visibility": null,
      "width": null
     }
    },
    "022041b48ba24aa4b18672200a1f9805": {
     "model_module": "@jupyter-widgets/base",
     "model_module_version": "1.2.0",
     "model_name": "LayoutModel",
     "state": {
      "_model_module": "@jupyter-widgets/base",
      "_model_module_version": "1.2.0",
      "_model_name": "LayoutModel",
      "_view_count": null,
      "_view_module": "@jupyter-widgets/base",
      "_view_module_version": "1.2.0",
      "_view_name": "LayoutView",
      "align_content": null,
      "align_items": null,
      "align_self": null,
      "border": null,
      "bottom": null,
      "display": null,
      "flex": null,
      "flex_flow": null,
      "grid_area": null,
      "grid_auto_columns": null,
      "grid_auto_flow": null,
      "grid_auto_rows": null,
      "grid_column": null,
      "grid_gap": null,
      "grid_row": null,
      "grid_template_areas": null,
      "grid_template_columns": null,
      "grid_template_rows": null,
      "height": null,
      "justify_content": null,
      "justify_items": null,
      "left": null,
      "margin": null,
      "max_height": null,
      "max_width": null,
      "min_height": null,
      "min_width": null,
      "object_fit": null,
      "object_position": null,
      "order": null,
      "overflow": null,
      "overflow_x": null,
      "overflow_y": null,
      "padding": null,
      "right": null,
      "top": null,
      "visibility": null,
      "width": null
     }
    },
    "03549bd3e49e44af9213a359f2577699": {
     "model_module": "@jupyter-widgets/controls",
     "model_module_version": "1.5.0",
     "model_name": "FloatProgressModel",
     "state": {
      "_dom_classes": [],
      "_model_module": "@jupyter-widgets/controls",
      "_model_module_version": "1.5.0",
      "_model_name": "FloatProgressModel",
      "_view_count": null,
      "_view_module": "@jupyter-widgets/controls",
      "_view_module_version": "1.5.0",
      "_view_name": "ProgressView",
      "bar_style": "success",
      "description": "",
      "description_tooltip": null,
      "layout": "IPY_MODEL_36139a28d7e448278c067f3db215943b",
      "max": 28881,
      "min": 0,
      "orientation": "horizontal",
      "style": "IPY_MODEL_85fa87516290480bb98c539268214eeb",
      "value": 28881
     }
    },
    "03efaac765e94f30869e49984e4c0d0c": {
     "model_module": "@jupyter-widgets/controls",
     "model_module_version": "1.5.0",
     "model_name": "HTMLModel",
     "state": {
      "_dom_classes": [],
      "_model_module": "@jupyter-widgets/controls",
      "_model_module_version": "1.5.0",
      "_model_name": "HTMLModel",
      "_view_count": null,
      "_view_module": "@jupyter-widgets/controls",
      "_view_module_version": "1.5.0",
      "_view_name": "HTMLView",
      "description": "",
      "description_tooltip": null,
      "layout": "IPY_MODEL_5fcbc28a6367442791a17425b16b6ef2",
      "placeholder": "​",
      "style": "IPY_MODEL_7f1fb6ea70c9442fa544e7625ff2cd19",
      "value": " 29696/? [00:00&lt;00:00, 577564.30it/s]"
     }
    },
    "2daf24db3f9a455186f20f3550ba50c6": {
     "model_module": "@jupyter-widgets/base",
     "model_module_version": "1.2.0",
     "model_name": "LayoutModel",
     "state": {
      "_model_module": "@jupyter-widgets/base",
      "_model_module_version": "1.2.0",
      "_model_name": "LayoutModel",
      "_view_count": null,
      "_view_module": "@jupyter-widgets/base",
      "_view_module_version": "1.2.0",
      "_view_name": "LayoutView",
      "align_content": null,
      "align_items": null,
      "align_self": null,
      "border": null,
      "bottom": null,
      "display": null,
      "flex": null,
      "flex_flow": null,
      "grid_area": null,
      "grid_auto_columns": null,
      "grid_auto_flow": null,
      "grid_auto_rows": null,
      "grid_column": null,
      "grid_gap": null,
      "grid_row": null,
      "grid_template_areas": null,
      "grid_template_columns": null,
      "grid_template_rows": null,
      "height": null,
      "justify_content": null,
      "justify_items": null,
      "left": null,
      "margin": null,
      "max_height": null,
      "max_width": null,
      "min_height": null,
      "min_width": null,
      "object_fit": null,
      "object_position": null,
      "order": null,
      "overflow": null,
      "overflow_x": null,
      "overflow_y": null,
      "padding": null,
      "right": null,
      "top": null,
      "visibility": null,
      "width": null
     }
    },
    "2fc02442f1904da2a8f14b7e24b3c5fb": {
     "model_module": "@jupyter-widgets/base",
     "model_module_version": "1.2.0",
     "model_name": "LayoutModel",
     "state": {
      "_model_module": "@jupyter-widgets/base",
      "_model_module_version": "1.2.0",
      "_model_name": "LayoutModel",
      "_view_count": null,
      "_view_module": "@jupyter-widgets/base",
      "_view_module_version": "1.2.0",
      "_view_name": "LayoutView",
      "align_content": null,
      "align_items": null,
      "align_self": null,
      "border": null,
      "bottom": null,
      "display": null,
      "flex": null,
      "flex_flow": null,
      "grid_area": null,
      "grid_auto_columns": null,
      "grid_auto_flow": null,
      "grid_auto_rows": null,
      "grid_column": null,
      "grid_gap": null,
      "grid_row": null,
      "grid_template_areas": null,
      "grid_template_columns": null,
      "grid_template_rows": null,
      "height": null,
      "justify_content": null,
      "justify_items": null,
      "left": null,
      "margin": null,
      "max_height": null,
      "max_width": null,
      "min_height": null,
      "min_width": null,
      "object_fit": null,
      "object_position": null,
      "order": null,
      "overflow": null,
      "overflow_x": null,
      "overflow_y": null,
      "padding": null,
      "right": null,
      "top": null,
      "visibility": null,
      "width": null
     }
    },
    "32e26cf031f940ca9f620eb560daeac2": {
     "model_module": "@jupyter-widgets/controls",
     "model_module_version": "1.5.0",
     "model_name": "DescriptionStyleModel",
     "state": {
      "_model_module": "@jupyter-widgets/controls",
      "_model_module_version": "1.5.0",
      "_model_name": "DescriptionStyleModel",
      "_view_count": null,
      "_view_module": "@jupyter-widgets/base",
      "_view_module_version": "1.2.0",
      "_view_name": "StyleView",
      "description_width": ""
     }
    },
    "36139a28d7e448278c067f3db215943b": {
     "model_module": "@jupyter-widgets/base",
     "model_module_version": "1.2.0",
     "model_name": "LayoutModel",
     "state": {
      "_model_module": "@jupyter-widgets/base",
      "_model_module_version": "1.2.0",
      "_model_name": "LayoutModel",
      "_view_count": null,
      "_view_module": "@jupyter-widgets/base",
      "_view_module_version": "1.2.0",
      "_view_name": "LayoutView",
      "align_content": null,
      "align_items": null,
      "align_self": null,
      "border": null,
      "bottom": null,
      "display": null,
      "flex": null,
      "flex_flow": null,
      "grid_area": null,
      "grid_auto_columns": null,
      "grid_auto_flow": null,
      "grid_auto_rows": null,
      "grid_column": null,
      "grid_gap": null,
      "grid_row": null,
      "grid_template_areas": null,
      "grid_template_columns": null,
      "grid_template_rows": null,
      "height": null,
      "justify_content": null,
      "justify_items": null,
      "left": null,
      "margin": null,
      "max_height": null,
      "max_width": null,
      "min_height": null,
      "min_width": null,
      "object_fit": null,
      "object_position": null,
      "order": null,
      "overflow": null,
      "overflow_x": null,
      "overflow_y": null,
      "padding": null,
      "right": null,
      "top": null,
      "visibility": null,
      "width": null
     }
    },
    "3734f236bd554ea4bdbaa5c31c5edd65": {
     "model_module": "@jupyter-widgets/controls",
     "model_module_version": "1.5.0",
     "model_name": "HBoxModel",
     "state": {
      "_dom_classes": [],
      "_model_module": "@jupyter-widgets/controls",
      "_model_module_version": "1.5.0",
      "_model_name": "HBoxModel",
      "_view_count": null,
      "_view_module": "@jupyter-widgets/controls",
      "_view_module_version": "1.5.0",
      "_view_name": "HBoxView",
      "box_style": "",
      "children": [
       "IPY_MODEL_c9eb373dc20b4591a07bb25ca19772a6",
       "IPY_MODEL_e0a557d5d209404bbfb479882291ad5a",
       "IPY_MODEL_77039b05056a422dafe05159eed3bd3a"
      ],
      "layout": "IPY_MODEL_2daf24db3f9a455186f20f3550ba50c6"
     }
    },
    "37f500b652514385ba442602e7517609": {
     "model_module": "@jupyter-widgets/base",
     "model_module_version": "1.2.0",
     "model_name": "LayoutModel",
     "state": {
      "_model_module": "@jupyter-widgets/base",
      "_model_module_version": "1.2.0",
      "_model_name": "LayoutModel",
      "_view_count": null,
      "_view_module": "@jupyter-widgets/base",
      "_view_module_version": "1.2.0",
      "_view_name": "LayoutView",
      "align_content": null,
      "align_items": null,
      "align_self": null,
      "border": null,
      "bottom": null,
      "display": null,
      "flex": null,
      "flex_flow": null,
      "grid_area": null,
      "grid_auto_columns": null,
      "grid_auto_flow": null,
      "grid_auto_rows": null,
      "grid_column": null,
      "grid_gap": null,
      "grid_row": null,
      "grid_template_areas": null,
      "grid_template_columns": null,
      "grid_template_rows": null,
      "height": null,
      "justify_content": null,
      "justify_items": null,
      "left": null,
      "margin": null,
      "max_height": null,
      "max_width": null,
      "min_height": null,
      "min_width": null,
      "object_fit": null,
      "object_position": null,
      "order": null,
      "overflow": null,
      "overflow_x": null,
      "overflow_y": null,
      "padding": null,
      "right": null,
      "top": null,
      "visibility": null,
      "width": null
     }
    },
    "38d69c172f4f47ea9c937c69bc9865f3": {
     "model_module": "@jupyter-widgets/controls",
     "model_module_version": "1.5.0",
     "model_name": "HBoxModel",
     "state": {
      "_dom_classes": [],
      "_model_module": "@jupyter-widgets/controls",
      "_model_module_version": "1.5.0",
      "_model_name": "HBoxModel",
      "_view_count": null,
      "_view_module": "@jupyter-widgets/controls",
      "_view_module_version": "1.5.0",
      "_view_name": "HBoxView",
      "box_style": "",
      "children": [
       "IPY_MODEL_94ebcdd2106e4f0d9b5d9af4703535ac",
       "IPY_MODEL_03549bd3e49e44af9213a359f2577699",
       "IPY_MODEL_03efaac765e94f30869e49984e4c0d0c"
      ],
      "layout": "IPY_MODEL_8a311ba31593452dbbbb58608c36fd78"
     }
    },
    "38e508b85f594023ab706488e9b55e4b": {
     "model_module": "@jupyter-widgets/controls",
     "model_module_version": "1.5.0",
     "model_name": "HBoxModel",
     "state": {
      "_dom_classes": [],
      "_model_module": "@jupyter-widgets/controls",
      "_model_module_version": "1.5.0",
      "_model_name": "HBoxModel",
      "_view_count": null,
      "_view_module": "@jupyter-widgets/controls",
      "_view_module_version": "1.5.0",
      "_view_name": "HBoxView",
      "box_style": "",
      "children": [
       "IPY_MODEL_ec583f86968646d1b16368e8eb66d7a4",
       "IPY_MODEL_8ef73cc67b2e4d92a20ac918ed9a710e",
       "IPY_MODEL_ff7031d8dbac42a5ae4d9d985d882bca"
      ],
      "layout": "IPY_MODEL_aa43fc25054442698d6f699d5818bbb7"
     }
    },
    "3c90ecaeaa594044955b5f3eefbea4e1": {
     "model_module": "@jupyter-widgets/base",
     "model_module_version": "1.2.0",
     "model_name": "LayoutModel",
     "state": {
      "_model_module": "@jupyter-widgets/base",
      "_model_module_version": "1.2.0",
      "_model_name": "LayoutModel",
      "_view_count": null,
      "_view_module": "@jupyter-widgets/base",
      "_view_module_version": "1.2.0",
      "_view_name": "LayoutView",
      "align_content": null,
      "align_items": null,
      "align_self": null,
      "border": null,
      "bottom": null,
      "display": null,
      "flex": null,
      "flex_flow": null,
      "grid_area": null,
      "grid_auto_columns": null,
      "grid_auto_flow": null,
      "grid_auto_rows": null,
      "grid_column": null,
      "grid_gap": null,
      "grid_row": null,
      "grid_template_areas": null,
      "grid_template_columns": null,
      "grid_template_rows": null,
      "height": null,
      "justify_content": null,
      "justify_items": null,
      "left": null,
      "margin": null,
      "max_height": null,
      "max_width": null,
      "min_height": null,
      "min_width": null,
      "object_fit": null,
      "object_position": null,
      "order": null,
      "overflow": null,
      "overflow_x": null,
      "overflow_y": null,
      "padding": null,
      "right": null,
      "top": null,
      "visibility": null,
      "width": null
     }
    },
    "4147ab7a23c84252980b7db7e9c04e87": {
     "model_module": "@jupyter-widgets/controls",
     "model_module_version": "1.5.0",
     "model_name": "HTMLModel",
     "state": {
      "_dom_classes": [],
      "_model_module": "@jupyter-widgets/controls",
      "_model_module_version": "1.5.0",
      "_model_name": "HTMLModel",
      "_view_count": null,
      "_view_module": "@jupyter-widgets/controls",
      "_view_module_version": "1.5.0",
      "_view_name": "HTMLView",
      "description": "",
      "description_tooltip": null,
      "layout": "IPY_MODEL_01365c7d59044b9c81d0947ffacb2e88",
      "placeholder": "​",
      "style": "IPY_MODEL_68b0468965bc4f40b3c784e6e2746169",
      "value": ""
     }
    },
    "439e9f70ecac441b91d292e2538bd477": {
     "model_module": "@jupyter-widgets/controls",
     "model_module_version": "1.5.0",
     "model_name": "FloatProgressModel",
     "state": {
      "_dom_classes": [],
      "_model_module": "@jupyter-widgets/controls",
      "_model_module_version": "1.5.0",
      "_model_name": "FloatProgressModel",
      "_view_count": null,
      "_view_module": "@jupyter-widgets/controls",
      "_view_module_version": "1.5.0",
      "_view_name": "ProgressView",
      "bar_style": "success",
      "description": "",
      "description_tooltip": null,
      "layout": "IPY_MODEL_93b55f32bfd24c38ae1a081e48f3c605",
      "max": 4542,
      "min": 0,
      "orientation": "horizontal",
      "style": "IPY_MODEL_5e54e5a76f7d440aa1d81ee006adef72",
      "value": 4542
     }
    },
    "5282aeeb248040c9b3f2437c0bd3a92c": {
     "model_module": "@jupyter-widgets/controls",
     "model_module_version": "1.5.0",
     "model_name": "HBoxModel",
     "state": {
      "_dom_classes": [],
      "_model_module": "@jupyter-widgets/controls",
      "_model_module_version": "1.5.0",
      "_model_name": "HBoxModel",
      "_view_count": null,
      "_view_module": "@jupyter-widgets/controls",
      "_view_module_version": "1.5.0",
      "_view_name": "HBoxView",
      "box_style": "",
      "children": [
       "IPY_MODEL_4147ab7a23c84252980b7db7e9c04e87",
       "IPY_MODEL_439e9f70ecac441b91d292e2538bd477",
       "IPY_MODEL_643f507e27094f22a6a8526439f368d9"
      ],
      "layout": "IPY_MODEL_022041b48ba24aa4b18672200a1f9805"
     }
    },
    "56245a7c607648d99bae45daaa40d4dc": {
     "model_module": "@jupyter-widgets/base",
     "model_module_version": "1.2.0",
     "model_name": "LayoutModel",
     "state": {
      "_model_module": "@jupyter-widgets/base",
      "_model_module_version": "1.2.0",
      "_model_name": "LayoutModel",
      "_view_count": null,
      "_view_module": "@jupyter-widgets/base",
      "_view_module_version": "1.2.0",
      "_view_name": "LayoutView",
      "align_content": null,
      "align_items": null,
      "align_self": null,
      "border": null,
      "bottom": null,
      "display": null,
      "flex": null,
      "flex_flow": null,
      "grid_area": null,
      "grid_auto_columns": null,
      "grid_auto_flow": null,
      "grid_auto_rows": null,
      "grid_column": null,
      "grid_gap": null,
      "grid_row": null,
      "grid_template_areas": null,
      "grid_template_columns": null,
      "grid_template_rows": null,
      "height": null,
      "justify_content": null,
      "justify_items": null,
      "left": null,
      "margin": null,
      "max_height": null,
      "max_width": null,
      "min_height": null,
      "min_width": null,
      "object_fit": null,
      "object_position": null,
      "order": null,
      "overflow": null,
      "overflow_x": null,
      "overflow_y": null,
      "padding": null,
      "right": null,
      "top": null,
      "visibility": null,
      "width": null
     }
    },
    "5e54e5a76f7d440aa1d81ee006adef72": {
     "model_module": "@jupyter-widgets/controls",
     "model_module_version": "1.5.0",
     "model_name": "ProgressStyleModel",
     "state": {
      "_model_module": "@jupyter-widgets/controls",
      "_model_module_version": "1.5.0",
      "_model_name": "ProgressStyleModel",
      "_view_count": null,
      "_view_module": "@jupyter-widgets/base",
      "_view_module_version": "1.2.0",
      "_view_name": "StyleView",
      "bar_color": null,
      "description_width": ""
     }
    },
    "5fcbc28a6367442791a17425b16b6ef2": {
     "model_module": "@jupyter-widgets/base",
     "model_module_version": "1.2.0",
     "model_name": "LayoutModel",
     "state": {
      "_model_module": "@jupyter-widgets/base",
      "_model_module_version": "1.2.0",
      "_model_name": "LayoutModel",
      "_view_count": null,
      "_view_module": "@jupyter-widgets/base",
      "_view_module_version": "1.2.0",
      "_view_name": "LayoutView",
      "align_content": null,
      "align_items": null,
      "align_self": null,
      "border": null,
      "bottom": null,
      "display": null,
      "flex": null,
      "flex_flow": null,
      "grid_area": null,
      "grid_auto_columns": null,
      "grid_auto_flow": null,
      "grid_auto_rows": null,
      "grid_column": null,
      "grid_gap": null,
      "grid_row": null,
      "grid_template_areas": null,
      "grid_template_columns": null,
      "grid_template_rows": null,
      "height": null,
      "justify_content": null,
      "justify_items": null,
      "left": null,
      "margin": null,
      "max_height": null,
      "max_width": null,
      "min_height": null,
      "min_width": null,
      "object_fit": null,
      "object_position": null,
      "order": null,
      "overflow": null,
      "overflow_x": null,
      "overflow_y": null,
      "padding": null,
      "right": null,
      "top": null,
      "visibility": null,
      "width": null
     }
    },
    "643f507e27094f22a6a8526439f368d9": {
     "model_module": "@jupyter-widgets/controls",
     "model_module_version": "1.5.0",
     "model_name": "HTMLModel",
     "state": {
      "_dom_classes": [],
      "_model_module": "@jupyter-widgets/controls",
      "_model_module_version": "1.5.0",
      "_model_name": "HTMLModel",
      "_view_count": null,
      "_view_module": "@jupyter-widgets/controls",
      "_view_module_version": "1.5.0",
      "_view_name": "HTMLView",
      "description": "",
      "description_tooltip": null,
      "layout": "IPY_MODEL_cc1b0ce5a9ff4c0b9512e3193e9d1bd3",
      "placeholder": "​",
      "style": "IPY_MODEL_32e26cf031f940ca9f620eb560daeac2",
      "value": " 5120/? [00:00&lt;00:00, 102977.06it/s]"
     }
    },
    "68b0468965bc4f40b3c784e6e2746169": {
     "model_module": "@jupyter-widgets/controls",
     "model_module_version": "1.5.0",
     "model_name": "DescriptionStyleModel",
     "state": {
      "_model_module": "@jupyter-widgets/controls",
      "_model_module_version": "1.5.0",
      "_model_name": "DescriptionStyleModel",
      "_view_count": null,
      "_view_module": "@jupyter-widgets/base",
      "_view_module_version": "1.2.0",
      "_view_name": "StyleView",
      "description_width": ""
     }
    },
    "6c20095777b340f5b0fcb21c6648d3c6": {
     "model_module": "@jupyter-widgets/controls",
     "model_module_version": "1.5.0",
     "model_name": "ProgressStyleModel",
     "state": {
      "_model_module": "@jupyter-widgets/controls",
      "_model_module_version": "1.5.0",
      "_model_name": "ProgressStyleModel",
      "_view_count": null,
      "_view_module": "@jupyter-widgets/base",
      "_view_module_version": "1.2.0",
      "_view_name": "StyleView",
      "bar_color": null,
      "description_width": ""
     }
    },
    "77039b05056a422dafe05159eed3bd3a": {
     "model_module": "@jupyter-widgets/controls",
     "model_module_version": "1.5.0",
     "model_name": "HTMLModel",
     "state": {
      "_dom_classes": [],
      "_model_module": "@jupyter-widgets/controls",
      "_model_module_version": "1.5.0",
      "_model_name": "HTMLModel",
      "_view_count": null,
      "_view_module": "@jupyter-widgets/controls",
      "_view_module_version": "1.5.0",
      "_view_name": "HTMLView",
      "description": "",
      "description_tooltip": null,
      "layout": "IPY_MODEL_3c90ecaeaa594044955b5f3eefbea4e1",
      "placeholder": "​",
      "style": "IPY_MODEL_f5f623fa882e47d58d83205dd67475c6",
      "value": " 9913344/? [00:00&lt;00:00, 41328742.27it/s]"
     }
    },
    "7bb33e0821c24747b5f911b2187378b4": {
     "model_module": "@jupyter-widgets/controls",
     "model_module_version": "1.5.0",
     "model_name": "DescriptionStyleModel",
     "state": {
      "_model_module": "@jupyter-widgets/controls",
      "_model_module_version": "1.5.0",
      "_model_name": "DescriptionStyleModel",
      "_view_count": null,
      "_view_module": "@jupyter-widgets/base",
      "_view_module_version": "1.2.0",
      "_view_name": "StyleView",
      "description_width": ""
     }
    },
    "7f1fb6ea70c9442fa544e7625ff2cd19": {
     "model_module": "@jupyter-widgets/controls",
     "model_module_version": "1.5.0",
     "model_name": "DescriptionStyleModel",
     "state": {
      "_model_module": "@jupyter-widgets/controls",
      "_model_module_version": "1.5.0",
      "_model_name": "DescriptionStyleModel",
      "_view_count": null,
      "_view_module": "@jupyter-widgets/base",
      "_view_module_version": "1.2.0",
      "_view_name": "StyleView",
      "description_width": ""
     }
    },
    "802664636fbf42419e593ec5f91155e7": {
     "model_module": "@jupyter-widgets/controls",
     "model_module_version": "1.5.0",
     "model_name": "DescriptionStyleModel",
     "state": {
      "_model_module": "@jupyter-widgets/controls",
      "_model_module_version": "1.5.0",
      "_model_name": "DescriptionStyleModel",
      "_view_count": null,
      "_view_module": "@jupyter-widgets/base",
      "_view_module_version": "1.2.0",
      "_view_name": "StyleView",
      "description_width": ""
     }
    },
    "85fa87516290480bb98c539268214eeb": {
     "model_module": "@jupyter-widgets/controls",
     "model_module_version": "1.5.0",
     "model_name": "ProgressStyleModel",
     "state": {
      "_model_module": "@jupyter-widgets/controls",
      "_model_module_version": "1.5.0",
      "_model_name": "ProgressStyleModel",
      "_view_count": null,
      "_view_module": "@jupyter-widgets/base",
      "_view_module_version": "1.2.0",
      "_view_name": "StyleView",
      "bar_color": null,
      "description_width": ""
     }
    },
    "8a311ba31593452dbbbb58608c36fd78": {
     "model_module": "@jupyter-widgets/base",
     "model_module_version": "1.2.0",
     "model_name": "LayoutModel",
     "state": {
      "_model_module": "@jupyter-widgets/base",
      "_model_module_version": "1.2.0",
      "_model_name": "LayoutModel",
      "_view_count": null,
      "_view_module": "@jupyter-widgets/base",
      "_view_module_version": "1.2.0",
      "_view_name": "LayoutView",
      "align_content": null,
      "align_items": null,
      "align_self": null,
      "border": null,
      "bottom": null,
      "display": null,
      "flex": null,
      "flex_flow": null,
      "grid_area": null,
      "grid_auto_columns": null,
      "grid_auto_flow": null,
      "grid_auto_rows": null,
      "grid_column": null,
      "grid_gap": null,
      "grid_row": null,
      "grid_template_areas": null,
      "grid_template_columns": null,
      "grid_template_rows": null,
      "height": null,
      "justify_content": null,
      "justify_items": null,
      "left": null,
      "margin": null,
      "max_height": null,
      "max_width": null,
      "min_height": null,
      "min_width": null,
      "object_fit": null,
      "object_position": null,
      "order": null,
      "overflow": null,
      "overflow_x": null,
      "overflow_y": null,
      "padding": null,
      "right": null,
      "top": null,
      "visibility": null,
      "width": null
     }
    },
    "8e6e33322aef49c5acd40a215d189ff8": {
     "model_module": "@jupyter-widgets/controls",
     "model_module_version": "1.5.0",
     "model_name": "DescriptionStyleModel",
     "state": {
      "_model_module": "@jupyter-widgets/controls",
      "_model_module_version": "1.5.0",
      "_model_name": "DescriptionStyleModel",
      "_view_count": null,
      "_view_module": "@jupyter-widgets/base",
      "_view_module_version": "1.2.0",
      "_view_name": "StyleView",
      "description_width": ""
     }
    },
    "8ef73cc67b2e4d92a20ac918ed9a710e": {
     "model_module": "@jupyter-widgets/controls",
     "model_module_version": "1.5.0",
     "model_name": "FloatProgressModel",
     "state": {
      "_dom_classes": [],
      "_model_module": "@jupyter-widgets/controls",
      "_model_module_version": "1.5.0",
      "_model_name": "FloatProgressModel",
      "_view_count": null,
      "_view_module": "@jupyter-widgets/controls",
      "_view_module_version": "1.5.0",
      "_view_name": "ProgressView",
      "bar_style": "success",
      "description": "",
      "description_tooltip": null,
      "layout": "IPY_MODEL_37f500b652514385ba442602e7517609",
      "max": 1648877,
      "min": 0,
      "orientation": "horizontal",
      "style": "IPY_MODEL_6c20095777b340f5b0fcb21c6648d3c6",
      "value": 1648877
     }
    },
    "93b55f32bfd24c38ae1a081e48f3c605": {
     "model_module": "@jupyter-widgets/base",
     "model_module_version": "1.2.0",
     "model_name": "LayoutModel",
     "state": {
      "_model_module": "@jupyter-widgets/base",
      "_model_module_version": "1.2.0",
      "_model_name": "LayoutModel",
      "_view_count": null,
      "_view_module": "@jupyter-widgets/base",
      "_view_module_version": "1.2.0",
      "_view_name": "LayoutView",
      "align_content": null,
      "align_items": null,
      "align_self": null,
      "border": null,
      "bottom": null,
      "display": null,
      "flex": null,
      "flex_flow": null,
      "grid_area": null,
      "grid_auto_columns": null,
      "grid_auto_flow": null,
      "grid_auto_rows": null,
      "grid_column": null,
      "grid_gap": null,
      "grid_row": null,
      "grid_template_areas": null,
      "grid_template_columns": null,
      "grid_template_rows": null,
      "height": null,
      "justify_content": null,
      "justify_items": null,
      "left": null,
      "margin": null,
      "max_height": null,
      "max_width": null,
      "min_height": null,
      "min_width": null,
      "object_fit": null,
      "object_position": null,
      "order": null,
      "overflow": null,
      "overflow_x": null,
      "overflow_y": null,
      "padding": null,
      "right": null,
      "top": null,
      "visibility": null,
      "width": null
     }
    },
    "94ebcdd2106e4f0d9b5d9af4703535ac": {
     "model_module": "@jupyter-widgets/controls",
     "model_module_version": "1.5.0",
     "model_name": "HTMLModel",
     "state": {
      "_dom_classes": [],
      "_model_module": "@jupyter-widgets/controls",
      "_model_module_version": "1.5.0",
      "_model_name": "HTMLModel",
      "_view_count": null,
      "_view_module": "@jupyter-widgets/controls",
      "_view_module_version": "1.5.0",
      "_view_name": "HTMLView",
      "description": "",
      "description_tooltip": null,
      "layout": "IPY_MODEL_d5dcb6f6389645b69ce644aff28e427f",
      "placeholder": "​",
      "style": "IPY_MODEL_f23ebebdc31541e6bf71947755ac0972",
      "value": ""
     }
    },
    "a1a838d8310644afabc3d4e50575f05d": {
     "model_module": "@jupyter-widgets/controls",
     "model_module_version": "1.5.0",
     "model_name": "ProgressStyleModel",
     "state": {
      "_model_module": "@jupyter-widgets/controls",
      "_model_module_version": "1.5.0",
      "_model_name": "ProgressStyleModel",
      "_view_count": null,
      "_view_module": "@jupyter-widgets/base",
      "_view_module_version": "1.2.0",
      "_view_name": "StyleView",
      "bar_color": null,
      "description_width": ""
     }
    },
    "aa43fc25054442698d6f699d5818bbb7": {
     "model_module": "@jupyter-widgets/base",
     "model_module_version": "1.2.0",
     "model_name": "LayoutModel",
     "state": {
      "_model_module": "@jupyter-widgets/base",
      "_model_module_version": "1.2.0",
      "_model_name": "LayoutModel",
      "_view_count": null,
      "_view_module": "@jupyter-widgets/base",
      "_view_module_version": "1.2.0",
      "_view_name": "LayoutView",
      "align_content": null,
      "align_items": null,
      "align_self": null,
      "border": null,
      "bottom": null,
      "display": null,
      "flex": null,
      "flex_flow": null,
      "grid_area": null,
      "grid_auto_columns": null,
      "grid_auto_flow": null,
      "grid_auto_rows": null,
      "grid_column": null,
      "grid_gap": null,
      "grid_row": null,
      "grid_template_areas": null,
      "grid_template_columns": null,
      "grid_template_rows": null,
      "height": null,
      "justify_content": null,
      "justify_items": null,
      "left": null,
      "margin": null,
      "max_height": null,
      "max_width": null,
      "min_height": null,
      "min_width": null,
      "object_fit": null,
      "object_position": null,
      "order": null,
      "overflow": null,
      "overflow_x": null,
      "overflow_y": null,
      "padding": null,
      "right": null,
      "top": null,
      "visibility": null,
      "width": null
     }
    },
    "bfc6e2a5218a49c992eda5b80f4cc90a": {
     "model_module": "@jupyter-widgets/base",
     "model_module_version": "1.2.0",
     "model_name": "LayoutModel",
     "state": {
      "_model_module": "@jupyter-widgets/base",
      "_model_module_version": "1.2.0",
      "_model_name": "LayoutModel",
      "_view_count": null,
      "_view_module": "@jupyter-widgets/base",
      "_view_module_version": "1.2.0",
      "_view_name": "LayoutView",
      "align_content": null,
      "align_items": null,
      "align_self": null,
      "border": null,
      "bottom": null,
      "display": null,
      "flex": null,
      "flex_flow": null,
      "grid_area": null,
      "grid_auto_columns": null,
      "grid_auto_flow": null,
      "grid_auto_rows": null,
      "grid_column": null,
      "grid_gap": null,
      "grid_row": null,
      "grid_template_areas": null,
      "grid_template_columns": null,
      "grid_template_rows": null,
      "height": null,
      "justify_content": null,
      "justify_items": null,
      "left": null,
      "margin": null,
      "max_height": null,
      "max_width": null,
      "min_height": null,
      "min_width": null,
      "object_fit": null,
      "object_position": null,
      "order": null,
      "overflow": null,
      "overflow_x": null,
      "overflow_y": null,
      "padding": null,
      "right": null,
      "top": null,
      "visibility": null,
      "width": null
     }
    },
    "c9eb373dc20b4591a07bb25ca19772a6": {
     "model_module": "@jupyter-widgets/controls",
     "model_module_version": "1.5.0",
     "model_name": "HTMLModel",
     "state": {
      "_dom_classes": [],
      "_model_module": "@jupyter-widgets/controls",
      "_model_module_version": "1.5.0",
      "_model_name": "HTMLModel",
      "_view_count": null,
      "_view_module": "@jupyter-widgets/controls",
      "_view_module_version": "1.5.0",
      "_view_name": "HTMLView",
      "description": "",
      "description_tooltip": null,
      "layout": "IPY_MODEL_56245a7c607648d99bae45daaa40d4dc",
      "placeholder": "​",
      "style": "IPY_MODEL_7bb33e0821c24747b5f911b2187378b4",
      "value": ""
     }
    },
    "cc1b0ce5a9ff4c0b9512e3193e9d1bd3": {
     "model_module": "@jupyter-widgets/base",
     "model_module_version": "1.2.0",
     "model_name": "LayoutModel",
     "state": {
      "_model_module": "@jupyter-widgets/base",
      "_model_module_version": "1.2.0",
      "_model_name": "LayoutModel",
      "_view_count": null,
      "_view_module": "@jupyter-widgets/base",
      "_view_module_version": "1.2.0",
      "_view_name": "LayoutView",
      "align_content": null,
      "align_items": null,
      "align_self": null,
      "border": null,
      "bottom": null,
      "display": null,
      "flex": null,
      "flex_flow": null,
      "grid_area": null,
      "grid_auto_columns": null,
      "grid_auto_flow": null,
      "grid_auto_rows": null,
      "grid_column": null,
      "grid_gap": null,
      "grid_row": null,
      "grid_template_areas": null,
      "grid_template_columns": null,
      "grid_template_rows": null,
      "height": null,
      "justify_content": null,
      "justify_items": null,
      "left": null,
      "margin": null,
      "max_height": null,
      "max_width": null,
      "min_height": null,
      "min_width": null,
      "object_fit": null,
      "object_position": null,
      "order": null,
      "overflow": null,
      "overflow_x": null,
      "overflow_y": null,
      "padding": null,
      "right": null,
      "top": null,
      "visibility": null,
      "width": null
     }
    },
    "d5dcb6f6389645b69ce644aff28e427f": {
     "model_module": "@jupyter-widgets/base",
     "model_module_version": "1.2.0",
     "model_name": "LayoutModel",
     "state": {
      "_model_module": "@jupyter-widgets/base",
      "_model_module_version": "1.2.0",
      "_model_name": "LayoutModel",
      "_view_count": null,
      "_view_module": "@jupyter-widgets/base",
      "_view_module_version": "1.2.0",
      "_view_name": "LayoutView",
      "align_content": null,
      "align_items": null,
      "align_self": null,
      "border": null,
      "bottom": null,
      "display": null,
      "flex": null,
      "flex_flow": null,
      "grid_area": null,
      "grid_auto_columns": null,
      "grid_auto_flow": null,
      "grid_auto_rows": null,
      "grid_column": null,
      "grid_gap": null,
      "grid_row": null,
      "grid_template_areas": null,
      "grid_template_columns": null,
      "grid_template_rows": null,
      "height": null,
      "justify_content": null,
      "justify_items": null,
      "left": null,
      "margin": null,
      "max_height": null,
      "max_width": null,
      "min_height": null,
      "min_width": null,
      "object_fit": null,
      "object_position": null,
      "order": null,
      "overflow": null,
      "overflow_x": null,
      "overflow_y": null,
      "padding": null,
      "right": null,
      "top": null,
      "visibility": null,
      "width": null
     }
    },
    "e0a557d5d209404bbfb479882291ad5a": {
     "model_module": "@jupyter-widgets/controls",
     "model_module_version": "1.5.0",
     "model_name": "FloatProgressModel",
     "state": {
      "_dom_classes": [],
      "_model_module": "@jupyter-widgets/controls",
      "_model_module_version": "1.5.0",
      "_model_name": "FloatProgressModel",
      "_view_count": null,
      "_view_module": "@jupyter-widgets/controls",
      "_view_module_version": "1.5.0",
      "_view_name": "ProgressView",
      "bar_style": "success",
      "description": "",
      "description_tooltip": null,
      "layout": "IPY_MODEL_bfc6e2a5218a49c992eda5b80f4cc90a",
      "max": 9912422,
      "min": 0,
      "orientation": "horizontal",
      "style": "IPY_MODEL_a1a838d8310644afabc3d4e50575f05d",
      "value": 9912422
     }
    },
    "e70305afe6c5432e8e457167c50f97ff": {
     "model_module": "@jupyter-widgets/base",
     "model_module_version": "1.2.0",
     "model_name": "LayoutModel",
     "state": {
      "_model_module": "@jupyter-widgets/base",
      "_model_module_version": "1.2.0",
      "_model_name": "LayoutModel",
      "_view_count": null,
      "_view_module": "@jupyter-widgets/base",
      "_view_module_version": "1.2.0",
      "_view_name": "LayoutView",
      "align_content": null,
      "align_items": null,
      "align_self": null,
      "border": null,
      "bottom": null,
      "display": null,
      "flex": null,
      "flex_flow": null,
      "grid_area": null,
      "grid_auto_columns": null,
      "grid_auto_flow": null,
      "grid_auto_rows": null,
      "grid_column": null,
      "grid_gap": null,
      "grid_row": null,
      "grid_template_areas": null,
      "grid_template_columns": null,
      "grid_template_rows": null,
      "height": null,
      "justify_content": null,
      "justify_items": null,
      "left": null,
      "margin": null,
      "max_height": null,
      "max_width": null,
      "min_height": null,
      "min_width": null,
      "object_fit": null,
      "object_position": null,
      "order": null,
      "overflow": null,
      "overflow_x": null,
      "overflow_y": null,
      "padding": null,
      "right": null,
      "top": null,
      "visibility": null,
      "width": null
     }
    },
    "ec583f86968646d1b16368e8eb66d7a4": {
     "model_module": "@jupyter-widgets/controls",
     "model_module_version": "1.5.0",
     "model_name": "HTMLModel",
     "state": {
      "_dom_classes": [],
      "_model_module": "@jupyter-widgets/controls",
      "_model_module_version": "1.5.0",
      "_model_name": "HTMLModel",
      "_view_count": null,
      "_view_module": "@jupyter-widgets/controls",
      "_view_module_version": "1.5.0",
      "_view_name": "HTMLView",
      "description": "",
      "description_tooltip": null,
      "layout": "IPY_MODEL_e70305afe6c5432e8e457167c50f97ff",
      "placeholder": "​",
      "style": "IPY_MODEL_8e6e33322aef49c5acd40a215d189ff8",
      "value": ""
     }
    },
    "f23ebebdc31541e6bf71947755ac0972": {
     "model_module": "@jupyter-widgets/controls",
     "model_module_version": "1.5.0",
     "model_name": "DescriptionStyleModel",
     "state": {
      "_model_module": "@jupyter-widgets/controls",
      "_model_module_version": "1.5.0",
      "_model_name": "DescriptionStyleModel",
      "_view_count": null,
      "_view_module": "@jupyter-widgets/base",
      "_view_module_version": "1.2.0",
      "_view_name": "StyleView",
      "description_width": ""
     }
    },
    "f5f623fa882e47d58d83205dd67475c6": {
     "model_module": "@jupyter-widgets/controls",
     "model_module_version": "1.5.0",
     "model_name": "DescriptionStyleModel",
     "state": {
      "_model_module": "@jupyter-widgets/controls",
      "_model_module_version": "1.5.0",
      "_model_name": "DescriptionStyleModel",
      "_view_count": null,
      "_view_module": "@jupyter-widgets/base",
      "_view_module_version": "1.2.0",
      "_view_name": "StyleView",
      "description_width": ""
     }
    },
    "ff7031d8dbac42a5ae4d9d985d882bca": {
     "model_module": "@jupyter-widgets/controls",
     "model_module_version": "1.5.0",
     "model_name": "HTMLModel",
     "state": {
      "_dom_classes": [],
      "_model_module": "@jupyter-widgets/controls",
      "_model_module_version": "1.5.0",
      "_model_name": "HTMLModel",
      "_view_count": null,
      "_view_module": "@jupyter-widgets/controls",
      "_view_module_version": "1.5.0",
      "_view_name": "HTMLView",
      "description": "",
      "description_tooltip": null,
      "layout": "IPY_MODEL_2fc02442f1904da2a8f14b7e24b3c5fb",
      "placeholder": "​",
      "style": "IPY_MODEL_802664636fbf42419e593ec5f91155e7",
      "value": " 1649664/? [00:00&lt;00:00, 13531421.33it/s]"
     }
    }
   }
  }
 },
 "nbformat": 4,
 "nbformat_minor": 1
}
