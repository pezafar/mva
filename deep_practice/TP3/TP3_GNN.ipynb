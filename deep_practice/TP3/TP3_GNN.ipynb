{
  "cells": [
    {
      "cell_type": "code",
      "execution_count": null,
      "metadata": {
        "colab": {
          "base_uri": "https://localhost:8080/"
        },
        "id": "HNoDTbhDua8-",
        "outputId": "2878f1c4-87ff-463d-bb3f-12fcdb19d60e"
      },
      "outputs": [
        {
          "name": "stdout",
          "output_type": "stream",
          "text": [
            "Looking in links: https://data.dgl.ai/wheels/repo.html\n",
            "Collecting dgl-cu113\n",
            "  Downloading https://data.dgl.ai/wheels/dgl_cu113-0.7.2-cp37-cp37m-manylinux1_x86_64.whl (152.9 MB)\n",
            "\u001b[K     |████████████████████████████████| 152.9 MB 29 kB/s \n",
            "\u001b[?25hRequirement already satisfied: networkx>=2.1 in /usr/local/lib/python3.7/dist-packages (from dgl-cu113) (2.6.3)\n",
            "Requirement already satisfied: scipy>=1.1.0 in /usr/local/lib/python3.7/dist-packages (from dgl-cu113) (1.4.1)\n",
            "Requirement already satisfied: numpy>=1.14.0 in /usr/local/lib/python3.7/dist-packages (from dgl-cu113) (1.21.5)\n",
            "Requirement already satisfied: requests>=2.19.0 in /usr/local/lib/python3.7/dist-packages (from dgl-cu113) (2.23.0)\n",
            "Requirement already satisfied: urllib3!=1.25.0,!=1.25.1,<1.26,>=1.21.1 in /usr/local/lib/python3.7/dist-packages (from requests>=2.19.0->dgl-cu113) (1.24.3)\n",
            "Requirement already satisfied: certifi>=2017.4.17 in /usr/local/lib/python3.7/dist-packages (from requests>=2.19.0->dgl-cu113) (2021.10.8)\n",
            "Requirement already satisfied: chardet<4,>=3.0.2 in /usr/local/lib/python3.7/dist-packages (from requests>=2.19.0->dgl-cu113) (3.0.4)\n",
            "Requirement already satisfied: idna<3,>=2.5 in /usr/local/lib/python3.7/dist-packages (from requests>=2.19.0->dgl-cu113) (2.10)\n",
            "Installing collected packages: dgl-cu113\n",
            "Successfully installed dgl-cu113-0.7.2\n"
          ]
        }
      ],
      "source": [
        "!pip install dgl-cu113 -f https://data.dgl.ai/wheels/repo.html"
      ]
    },
    {
      "cell_type": "code",
      "execution_count": null,
      "metadata": {
        "colab": {
          "base_uri": "https://localhost:8080/",
          "height": 107
        },
        "id": "fJ5KsULK6_72",
        "outputId": "eabafd67-e5a1-42dc-b562-5b1b614603bc"
      },
      "outputs": [
        {
          "name": "stderr",
          "output_type": "stream",
          "text": [
            "DGL backend not selected or invalid.  Assuming PyTorch for now.\n"
          ]
        },
        {
          "name": "stdout",
          "output_type": "stream",
          "text": [
            "Setting the default backend to \"pytorch\". You can change it in the ~/.dgl/config.json file or export the DGLBACKEND environment variable.  Valid options are: pytorch, mxnet, tensorflow (all lowercase)\n"
          ]
        },
        {
          "name": "stderr",
          "output_type": "stream",
          "text": [
            "Using backend: pytorch\n"
          ]
        },
        {
          "data": {
            "application/vnd.google.colaboratory.intrinsic+json": {
              "type": "string"
            },
            "text/plain": [
              "'0.7.2'"
            ]
          },
          "execution_count": 2,
          "metadata": {},
          "output_type": "execute_result"
        }
      ],
      "source": [
        "import dgl\n",
        "dgl.__version__"
      ]
    },
    {
      "cell_type": "code",
      "execution_count": null,
      "metadata": {
        "id": "O78FlQzGuciB"
      },
      "outputs": [],
      "source": [
        "import argparse\n",
        "from os import path\n",
        "\n",
        "import numpy as np\n",
        "import matplotlib.pyplot as plt\n",
        "\n",
        "import torch\n",
        "import torch.nn.functional as F\n",
        "from dgl import batch\n",
        "from dgl.data.ppi import LegacyPPIDataset\n",
        "from dgl.nn.pytorch import GraphConv\n",
        "#from dgl.nn.pytorch import GATConv\n",
        "from dgl.nn import GATConv\n",
        "from sklearn.metrics import f1_score\n",
        "from torch import nn, optim\n",
        "from torch.utils.data import DataLoader\n",
        "import os"
      ]
    },
    {
      "cell_type": "code",
      "execution_count": null,
      "metadata": {
        "colab": {
          "base_uri": "https://localhost:8080/"
        },
        "id": "gDrqy8tuCduS",
        "outputId": "81f81c1c-882e-44ca-e84f-dab9ec34cf42"
      },
      "outputs": [
        {
          "data": {
            "text/plain": [
              "<torch._C.Generator at 0x7f1409cd7090>"
            ]
          },
          "execution_count": 4,
          "metadata": {},
          "output_type": "execute_result"
        }
      ],
      "source": [
        "seed = 0\n",
        "torch.manual_seed(seed)"
      ]
    },
    {
      "cell_type": "code",
      "execution_count": null,
      "metadata": {
        "id": "UCzbtR211bI5"
      },
      "outputs": [],
      "source": [
        "#MODEL_STATE_FILE = \"model_state.pth\"\n",
        "MODEL_STATE_FILE = 'experiment/model_200.pth'"
      ]
    },
    {
      "cell_type": "code",
      "execution_count": null,
      "metadata": {
        "id": "sviT2zCOAPQY"
      },
      "outputs": [],
      "source": [
        "#create experiments folder\n",
        "experiment = './experiment'\n",
        "\n",
        "# Create experiment folder\n",
        "if not os.path.isdir(experiment):\n",
        "    os.makedirs(experiment)"
      ]
    },
    {
      "cell_type": "code",
      "execution_count": null,
      "metadata": {
        "id": "1DN7ICcw8DKz"
      },
      "outputs": [],
      "source": [
        "class BasicGraphModel(nn.Module):\n",
        "\n",
        "    def __init__(self, g, n_layers, input_size, hidden_size, output_size, nonlinearity):\n",
        "        super().__init__()\n",
        "\n",
        "        self.g = g\n",
        "        self.layers = nn.ModuleList()\n",
        "        self.layers.append(GraphConv(input_size, hidden_size, activation=nonlinearity))\n",
        "        for i in range(n_layers - 1):\n",
        "            self.layers.append(GraphConv(hidden_size, hidden_size, activation=nonlinearity))\n",
        "        self.layers.append(GraphConv(hidden_size, output_size))\n",
        "\n",
        "    def forward(self, inputs):\n",
        "        outputs = inputs\n",
        "        for i, layer in enumerate(self.layers):\n",
        "            outputs = layer(self.g, outputs)\n",
        "\n",
        "        return outputs"
      ]
    },
    {
      "cell_type": "code",
      "execution_count": null,
      "metadata": {
        "id": "ZPdhyWr8HmXZ"
      },
      "outputs": [],
      "source": [
        "class GATNet(torch.nn.Module):\n",
        "    def __init__(self, g, input_size, hidden_size, output_size, nonlinearity):\n",
        "        super().__init__()\n",
        "        self.g = g\n",
        "        self.layers = nn.ModuleList()\n",
        "        self.layers.append(GATConv(input_size, hidden_size, num_heads= 4, activation=nonlinearity))\n",
        "        self.layers.append(GATConv(4 * hidden_size, hidden_size, num_heads= 4, residual=True,\n",
        "                                   activation=nonlinearity))\n",
        "        self.layers.append(GATConv(4 * hidden_size, output_size, num_heads= 6, residual=True))\n",
        "\n",
        "    def forward(self, x):\n",
        "        outputs = self.layers[0](self.g, x)\n",
        "        for i in range(1, len(self.layers)):\n",
        "            outputs = outputs.flatten(start_dim = 1)\n",
        "            outputs = self.layers[i](self.g, outputs)\n",
        "        return outputs.mean(axis=1)"
      ]
    },
    {
      "cell_type": "code",
      "execution_count": null,
      "metadata": {
        "id": "-O_Xktkgt0SU"
      },
      "outputs": [],
      "source": [
        "def main(args):\n",
        "\n",
        "    # load dataset and create dataloader\n",
        "    train_dataset, test_dataset = LegacyPPIDataset(mode=\"train\"), LegacyPPIDataset(mode=\"test\")\n",
        "    train_dataloader = DataLoader(train_dataset, batch_size=args.batch_size, collate_fn=collate_fn)\n",
        "    test_dataloader = DataLoader(test_dataset, batch_size=args.batch_size, collate_fn=collate_fn)\n",
        "    n_features, n_classes = train_dataset.features.shape[1], train_dataset.labels.shape[1]\n",
        "\n",
        "    # create the model, loss function and optimizer\n",
        "    device = torch.device(\"cpu\" if args.gpu < 0 else \"cuda:\" + str(args.gpu))\n",
        "    if device == \"cpu\":\n",
        "      print('using CPU')\n",
        "    else:\n",
        "      print('using GPU')\n",
        "\n",
        "    ########### Replace this model with your own GNN implemented class ################################\n",
        "    if args.model == 'basic':\n",
        "      model = BasicGraphModel(g=train_dataset.graph, n_layers=args.nlayers, input_size=n_features, hidden_size=256,\n",
        "                            output_size=n_classes, nonlinearity=F.elu).to(device)\n",
        "    elif args.model == 'GAT':\n",
        "      model = GATNet(g=train_dataset.graph, input_size=n_features, hidden_size=256,\n",
        "                        output_size=n_classes,  nonlinearity=F.elu).to(device)\n",
        "    \n",
        "    ###################################################################################################\n",
        "\n",
        "    loss_fcn = nn.BCEWithLogitsLoss()\n",
        "    #learning rate used in the paper of GAT\n",
        "    optimizer = torch.optim.Adam(model.parameters(), lr=0.005)\n",
        "\n",
        "    # train\n",
        "    if args.mode == \"train\":\n",
        "        train(model, loss_fcn, device, optimizer, train_dataloader, test_dataset)\n",
        "        #torch.save(model.state_dict(), MODEL_STATE_FILE)\n",
        "\n",
        "    # import model from file\n",
        "    if torch.cuda.is_available():\n",
        "        map_location=lambda storage, loc: storage.cuda()\n",
        "    else:\n",
        "        map_location='cpu'\n",
        "        \n",
        "    model.load_state_dict(torch.load(MODEL_STATE_FILE, map_location=map_location))\n",
        "\n",
        "    # test the model\n",
        "    print('test phase:')\n",
        "    test(model, loss_fcn, device, test_dataloader)\n",
        "\n",
        "    return model\n",
        "\n",
        "def train(model, loss_fcn, device, optimizer, train_dataloader, test_dataset):\n",
        "\n",
        "    f1_score_list = []\n",
        "    epoch_list = []\n",
        "    all_scores = dict()\n",
        "\n",
        "    for epoch in range(args.epochs):\n",
        "        model.train()\n",
        "        losses = []\n",
        "        for batch, data in enumerate(train_dataloader):\n",
        "            subgraph, features, labels = data\n",
        "            subgraph = subgraph.to(device)\n",
        "            features = features.to(device)\n",
        "            labels = labels.to(device)\n",
        "            model.g = subgraph\n",
        "            for layer in model.layers:\n",
        "                layer.g = subgraph\n",
        "            logits = model(features.float())\n",
        "            loss = loss_fcn(logits, labels.float())\n",
        "            optimizer.zero_grad()\n",
        "            loss.backward()\n",
        "            optimizer.step()\n",
        "            losses.append(loss.item())\n",
        "        loss_data = np.array(losses).mean()\n",
        "        print(\"Epoch {:05d} | Loss: {:.4f}\".format(epoch + 1, loss_data))\n",
        "\n",
        "        if epoch % 5 == 0:\n",
        "            scores = []\n",
        "            for batch, test_data in enumerate(test_dataset):\n",
        "                subgraph, features, labels = test_data\n",
        "                subgraph = subgraph.clone().to(device)\n",
        "                features = features.clone().detach().to(device)\n",
        "                labels = labels.clone().detach().to(device)\n",
        "                score, _ = evaluate(features.float(), model, subgraph, labels.float(), loss_fcn)\n",
        "                scores.append(score)\n",
        "                f1_score_list.append(score)\n",
        "                epoch_list.append(epoch)\n",
        "            all_scores[epoch] = np.array(scores).mean()\n",
        "            print(\"F1-Score: {:.4f} \".format(np.array(scores).mean()))\n",
        "        #save model after each epoch\n",
        "        model_file = 'experiment' + '/model_' + str(epoch) + '.pth'\n",
        "        torch.save(model.state_dict(), model_file)\n",
        "    ind = max(all_scores, key=all_scores.get)\n",
        "    print(f'the model with the best test F1 score {all_scores[ind]} is model_{ind}')\n",
        "    plot_f1_score(epoch_list, f1_score_list)\n",
        "\n",
        "def test(model, loss_fcn, device, test_dataloader):\n",
        "    test_scores = []\n",
        "    for batch, test_data in enumerate(test_dataloader):\n",
        "        subgraph, features, labels = test_data\n",
        "        subgraph = subgraph.to(device)\n",
        "        features = features.to(device)\n",
        "        labels = labels.to(device)\n",
        "        test_scores.append(evaluate(features, model, subgraph, labels.float(), loss_fcn)[0])\n",
        "    mean_scores = np.array(test_scores).mean()\n",
        "    print(\"F1-Score: {:.4f}\".format(np.array(test_scores).mean()))\n",
        "    return mean_scores\n",
        "\n",
        "def evaluate(features, model, subgraph, labels, loss_fcn):\n",
        "    with torch.no_grad():\n",
        "        model.eval()\n",
        "        model.g = subgraph\n",
        "        for layer in model.layers:\n",
        "            layer.g = subgraph\n",
        "        output = model(features.float())\n",
        "        loss_data = loss_fcn(output, labels.float())\n",
        "        predict = np.where(output.data.cpu().numpy() >= 0.5, 1, 0)\n",
        "        score = f1_score(labels.data.cpu().numpy(), predict, average=\"micro\")\n",
        "        return score, loss_data.item()\n",
        "\n",
        "def collate_fn(sample) :\n",
        "    # concatenate graph, features and labels w.r.t batch size\n",
        "    graphs, features, labels = map(list, zip(*sample))\n",
        "    graph = batch(graphs)\n",
        "    features = torch.from_numpy(np.concatenate(features))\n",
        "    labels = torch.from_numpy(np.concatenate(labels))\n",
        "    return graph, features, labels\n",
        "\n",
        "def plot_f1_score(epoch_list, f1_score_list) :\n",
        "\n",
        "    plt.plot(epoch_list, f1_score_list)\n",
        "    plt.title(\"Evolution of f1 score w.r.t epochs\")\n",
        "    plt.show()"
      ]
    },
    {
      "cell_type": "code",
      "execution_count": null,
      "metadata": {
        "id": "EgROdyTA1fZA"
      },
      "outputs": [],
      "source": [
        "class Args():\n",
        "  def __init__(self, mode = \"train\", mod = 'basic', nlayers = 5, epochs = 250):\n",
        "    self.mode = mode\n",
        "    self.model = mod\n",
        "    self.nlayers = nlayers\n",
        "    self.gpu = 0\n",
        "    self.epochs = epochs\n",
        "    self.batch_size = 2"
      ]
    },
    {
      "cell_type": "code",
      "execution_count": null,
      "metadata": {
        "id": "zoaK1bXf1TnA"
      },
      "outputs": [],
      "source": [
        "args = Args(nlayers=2)\n",
        "main(args) "
      ]
    },
    {
      "cell_type": "code",
      "execution_count": null,
      "metadata": {
        "id": "u5hLtn2P1XtM"
      },
      "outputs": [],
      "source": [
        "main(args) #5 layers"
      ]
    },
    {
      "cell_type": "markdown",
      "metadata": {
        "id": "kqKui2HH-WzB"
      },
      "source": [
        "### GATConv"
      ]
    },
    {
      "cell_type": "code",
      "execution_count": null,
      "metadata": {
        "colab": {
          "base_uri": "https://localhost:8080/",
          "height": 1000
        },
        "id": "Bw9r4RbnRMpk",
        "outputId": "87fb0022-38c4-4548-bf4f-4b0371e896cc"
      },
      "outputs": [
        {
          "name": "stdout",
          "output_type": "stream",
          "text": [
            "Downloading /root/.dgl/ppi.zip from https://data.dgl.ai/dataset/ppi.zip...\n",
            "Extracting file to /root/.dgl/ppi\n"
          ]
        },
        {
          "name": "stderr",
          "output_type": "stream",
          "text": [
            "/usr/local/lib/python3.7/dist-packages/dgl/data/utils.py:286: UserWarning: Property dataset.features will be deprecated, please use dataset.graphs[i].ndata['feat'] instead.\n",
            "  warnings.warn('Property {} will be deprecated, please use {} instead.'.format(old, new))\n",
            "/usr/local/lib/python3.7/dist-packages/dgl/data/utils.py:286: UserWarning: Property dataset.labels will be deprecated, please use dataset.graphs[i].ndata['label'] instead.\n",
            "  warnings.warn('Property {} will be deprecated, please use {} instead.'.format(old, new))\n"
          ]
        },
        {
          "name": "stdout",
          "output_type": "stream",
          "text": [
            "using GPU\n",
            "Epoch 00001 | Loss: 0.7684\n",
            "F1-Score: 0.3385 \n",
            "Epoch 00002 | Loss: 0.5444\n",
            "Epoch 00003 | Loss: 0.5194\n",
            "Epoch 00004 | Loss: 0.5106\n",
            "Epoch 00005 | Loss: 0.4961\n",
            "Epoch 00006 | Loss: 0.4870\n",
            "F1-Score: 0.4679 \n",
            "Epoch 00007 | Loss: 0.4799\n",
            "Epoch 00008 | Loss: 0.4699\n",
            "Epoch 00009 | Loss: 0.4566\n",
            "Epoch 00010 | Loss: 0.4466\n",
            "Epoch 00011 | Loss: 0.4357\n",
            "F1-Score: 0.5027 \n",
            "Epoch 00012 | Loss: 0.4260\n",
            "Epoch 00013 | Loss: 0.4176\n",
            "Epoch 00014 | Loss: 0.4064\n",
            "Epoch 00015 | Loss: 0.3882\n",
            "Epoch 00016 | Loss: 0.3766\n",
            "F1-Score: 0.6355 \n",
            "Epoch 00017 | Loss: 0.3665\n",
            "Epoch 00018 | Loss: 0.3653\n",
            "Epoch 00019 | Loss: 0.3526\n",
            "Epoch 00020 | Loss: 0.3442\n",
            "Epoch 00021 | Loss: 0.3367\n",
            "F1-Score: 0.7127 \n",
            "Epoch 00022 | Loss: 0.3210\n",
            "Epoch 00023 | Loss: 0.3034\n",
            "Epoch 00024 | Loss: 0.2915\n",
            "Epoch 00025 | Loss: 0.2801\n",
            "Epoch 00026 | Loss: 0.2702\n",
            "F1-Score: 0.7758 \n",
            "Epoch 00027 | Loss: 0.2625\n",
            "Epoch 00028 | Loss: 0.2856\n",
            "Epoch 00029 | Loss: 0.2662\n",
            "Epoch 00030 | Loss: 0.2489\n",
            "Epoch 00031 | Loss: 0.2333\n",
            "F1-Score: 0.8239 \n",
            "Epoch 00032 | Loss: 0.2208\n",
            "Epoch 00033 | Loss: 0.2121\n",
            "Epoch 00034 | Loss: 0.2060\n",
            "Epoch 00035 | Loss: 0.2038\n",
            "Epoch 00036 | Loss: 0.2027\n",
            "F1-Score: 0.8387 \n",
            "Epoch 00037 | Loss: 0.1979\n",
            "Epoch 00038 | Loss: 0.1861\n",
            "Epoch 00039 | Loss: 0.1791\n",
            "Epoch 00040 | Loss: 0.1731\n",
            "Epoch 00041 | Loss: 0.1740\n",
            "F1-Score: 0.8700 \n",
            "Epoch 00042 | Loss: 0.1643\n",
            "Epoch 00043 | Loss: 0.1583\n",
            "Epoch 00044 | Loss: 0.1498\n",
            "Epoch 00045 | Loss: 0.1446\n",
            "Epoch 00046 | Loss: 0.1389\n",
            "F1-Score: 0.9024 \n",
            "Epoch 00047 | Loss: 0.1344\n",
            "Epoch 00048 | Loss: 0.1351\n",
            "Epoch 00049 | Loss: 0.1299\n",
            "Epoch 00050 | Loss: 0.1321\n",
            "Epoch 00051 | Loss: 0.1264\n",
            "F1-Score: 0.9104 \n",
            "Epoch 00052 | Loss: 0.1238\n",
            "Epoch 00053 | Loss: 0.1198\n",
            "Epoch 00054 | Loss: 0.1153\n",
            "Epoch 00055 | Loss: 0.1120\n",
            "Epoch 00056 | Loss: 0.1082\n",
            "F1-Score: 0.9250 \n",
            "Epoch 00057 | Loss: 0.1075\n",
            "Epoch 00058 | Loss: 0.1063\n",
            "Epoch 00059 | Loss: 0.1056\n",
            "Epoch 00060 | Loss: 0.1069\n",
            "Epoch 00061 | Loss: 0.1040\n",
            "F1-Score: 0.9281 \n",
            "Epoch 00062 | Loss: 0.1044\n",
            "Epoch 00063 | Loss: 0.1030\n",
            "Epoch 00064 | Loss: 0.1018\n",
            "Epoch 00065 | Loss: 0.1022\n",
            "Epoch 00066 | Loss: 0.1040\n",
            "F1-Score: 0.9075 \n",
            "Epoch 00067 | Loss: 0.1004\n",
            "Epoch 00068 | Loss: 0.0967\n",
            "Epoch 00069 | Loss: 0.0917\n",
            "Epoch 00070 | Loss: 0.0911\n",
            "Epoch 00071 | Loss: 0.0878\n",
            "F1-Score: 0.9363 \n",
            "Epoch 00072 | Loss: 0.0853\n",
            "Epoch 00073 | Loss: 0.0848\n",
            "Epoch 00074 | Loss: 0.0791\n",
            "Epoch 00075 | Loss: 0.0763\n",
            "Epoch 00076 | Loss: 0.0718\n",
            "F1-Score: 0.9420 \n",
            "Epoch 00077 | Loss: 0.0694\n",
            "Epoch 00078 | Loss: 0.0677\n",
            "Epoch 00079 | Loss: 0.0669\n",
            "Epoch 00080 | Loss: 0.0659\n",
            "Epoch 00081 | Loss: 0.0665\n",
            "F1-Score: 0.9428 \n",
            "Epoch 00082 | Loss: 0.0683\n",
            "Epoch 00083 | Loss: 0.0696\n",
            "Epoch 00084 | Loss: 0.0748\n",
            "Epoch 00085 | Loss: 0.0747\n",
            "Epoch 00086 | Loss: 0.0719\n",
            "F1-Score: 0.9456 \n",
            "Epoch 00087 | Loss: 0.0648\n",
            "Epoch 00088 | Loss: 0.0598\n",
            "Epoch 00089 | Loss: 0.0549\n",
            "Epoch 00090 | Loss: 0.0530\n",
            "Epoch 00091 | Loss: 0.0519\n",
            "F1-Score: 0.9530 \n",
            "Epoch 00092 | Loss: 0.0522\n",
            "Epoch 00093 | Loss: 0.0534\n",
            "Epoch 00094 | Loss: 0.0557\n",
            "Epoch 00095 | Loss: 0.0581\n",
            "Epoch 00096 | Loss: 0.0632\n",
            "F1-Score: 0.9400 \n",
            "Epoch 00097 | Loss: 0.0680\n",
            "Epoch 00098 | Loss: 0.0662\n",
            "Epoch 00099 | Loss: 0.0606\n",
            "Epoch 00100 | Loss: 0.0561\n",
            "Epoch 00101 | Loss: 0.0570\n",
            "F1-Score: 0.9484 \n",
            "Epoch 00102 | Loss: 0.0543\n",
            "Epoch 00103 | Loss: 0.0516\n",
            "Epoch 00104 | Loss: 0.0490\n",
            "Epoch 00105 | Loss: 0.0472\n",
            "Epoch 00106 | Loss: 0.0447\n",
            "F1-Score: 0.9554 \n",
            "Epoch 00107 | Loss: 0.0442\n",
            "Epoch 00108 | Loss: 0.0432\n",
            "Epoch 00109 | Loss: 0.0413\n",
            "Epoch 00110 | Loss: 0.0403\n",
            "Epoch 00111 | Loss: 0.0395\n",
            "F1-Score: 0.9569 \n",
            "Epoch 00112 | Loss: 0.0401\n",
            "Epoch 00113 | Loss: 0.0423\n",
            "Epoch 00114 | Loss: 0.0413\n",
            "Epoch 00115 | Loss: 0.0398\n",
            "Epoch 00116 | Loss: 0.0394\n",
            "F1-Score: 0.9576 \n",
            "Epoch 00117 | Loss: 0.0396\n",
            "Epoch 00118 | Loss: 0.0376\n",
            "Epoch 00119 | Loss: 0.0395\n",
            "Epoch 00120 | Loss: 0.0390\n",
            "Epoch 00121 | Loss: 0.0356\n",
            "F1-Score: 0.9618 \n",
            "Epoch 00122 | Loss: 0.0353\n",
            "Epoch 00123 | Loss: 0.0347\n",
            "Epoch 00124 | Loss: 0.0334\n",
            "Epoch 00125 | Loss: 0.0325\n",
            "Epoch 00126 | Loss: 0.0310\n",
            "F1-Score: 0.9634 \n",
            "Epoch 00127 | Loss: 0.0299\n",
            "Epoch 00128 | Loss: 0.0285\n",
            "Epoch 00129 | Loss: 0.0294\n",
            "Epoch 00130 | Loss: 0.0300\n",
            "Epoch 00131 | Loss: 0.0298\n",
            "F1-Score: 0.9642 \n",
            "Epoch 00132 | Loss: 0.0300\n",
            "Epoch 00133 | Loss: 0.0312\n",
            "Epoch 00134 | Loss: 0.0302\n",
            "Epoch 00135 | Loss: 0.0305\n",
            "Epoch 00136 | Loss: 0.0295\n",
            "F1-Score: 0.9622 \n",
            "Epoch 00137 | Loss: 0.0289\n",
            "Epoch 00138 | Loss: 0.0297\n",
            "Epoch 00139 | Loss: 0.0296\n",
            "Epoch 00140 | Loss: 0.0284\n",
            "Epoch 00141 | Loss: 0.0267\n",
            "F1-Score: 0.9640 \n",
            "Epoch 00142 | Loss: 0.0278\n",
            "Epoch 00143 | Loss: 0.0284\n",
            "Epoch 00144 | Loss: 0.0269\n",
            "Epoch 00145 | Loss: 0.0271\n",
            "Epoch 00146 | Loss: 0.0302\n",
            "F1-Score: 0.9625 \n",
            "Epoch 00147 | Loss: 0.0325\n",
            "Epoch 00148 | Loss: 0.0326\n",
            "Epoch 00149 | Loss: 0.0337\n",
            "Epoch 00150 | Loss: 0.0340\n",
            "Epoch 00151 | Loss: 0.0323\n",
            "F1-Score: 0.9629 \n",
            "Epoch 00152 | Loss: 0.0305\n",
            "Epoch 00153 | Loss: 0.0299\n",
            "Epoch 00154 | Loss: 0.0285\n",
            "Epoch 00155 | Loss: 0.0273\n",
            "Epoch 00156 | Loss: 0.0268\n",
            "F1-Score: 0.9672 \n",
            "Epoch 00157 | Loss: 0.0253\n",
            "Epoch 00158 | Loss: 0.0248\n",
            "Epoch 00159 | Loss: 0.0242\n",
            "Epoch 00160 | Loss: 0.0250\n",
            "Epoch 00161 | Loss: 0.0259\n",
            "F1-Score: 0.9673 \n",
            "Epoch 00162 | Loss: 0.0252\n",
            "Epoch 00163 | Loss: 0.0243\n",
            "Epoch 00164 | Loss: 0.0241\n",
            "Epoch 00165 | Loss: 0.0232\n",
            "Epoch 00166 | Loss: 0.0234\n",
            "F1-Score: 0.9678 \n",
            "Epoch 00167 | Loss: 0.0230\n",
            "Epoch 00168 | Loss: 0.0209\n",
            "Epoch 00169 | Loss: 0.0209\n",
            "Epoch 00170 | Loss: 0.0211\n",
            "Epoch 00171 | Loss: 0.0199\n",
            "F1-Score: 0.9696 \n",
            "Epoch 00172 | Loss: 0.0203\n",
            "Epoch 00173 | Loss: 0.0201\n",
            "Epoch 00174 | Loss: 0.0213\n",
            "Epoch 00175 | Loss: 0.0209\n",
            "Epoch 00176 | Loss: 0.0218\n",
            "F1-Score: 0.9692 \n",
            "Epoch 00177 | Loss: 0.0216\n",
            "Epoch 00178 | Loss: 0.0217\n",
            "Epoch 00179 | Loss: 0.0212\n",
            "Epoch 00180 | Loss: 0.0197\n",
            "Epoch 00181 | Loss: 0.0214\n",
            "F1-Score: 0.9690 \n",
            "Epoch 00182 | Loss: 0.0215\n",
            "Epoch 00183 | Loss: 0.0198\n",
            "Epoch 00184 | Loss: 0.0207\n",
            "Epoch 00185 | Loss: 0.0206\n",
            "Epoch 00186 | Loss: 0.0218\n",
            "F1-Score: 0.9703 \n",
            "Epoch 00187 | Loss: 0.0209\n",
            "Epoch 00188 | Loss: 0.0205\n",
            "Epoch 00189 | Loss: 0.0210\n",
            "Epoch 00190 | Loss: 0.0218\n",
            "Epoch 00191 | Loss: 0.0227\n",
            "F1-Score: 0.9710 \n",
            "Epoch 00192 | Loss: 0.0237\n",
            "Epoch 00193 | Loss: 0.0228\n",
            "Epoch 00194 | Loss: 0.0232\n",
            "Epoch 00195 | Loss: 0.0218\n",
            "Epoch 00196 | Loss: 0.0209\n",
            "F1-Score: 0.9705 \n",
            "Epoch 00197 | Loss: 0.0211\n",
            "Epoch 00198 | Loss: 0.0208\n",
            "Epoch 00199 | Loss: 0.0198\n",
            "Epoch 00200 | Loss: 0.0204\n",
            "Epoch 00201 | Loss: 0.0196\n",
            "F1-Score: 0.9707 \n",
            "Epoch 00202 | Loss: 0.0192\n",
            "Epoch 00203 | Loss: 0.0195\n",
            "Epoch 00204 | Loss: 0.0208\n",
            "Epoch 00205 | Loss: 0.0202\n",
            "Epoch 00206 | Loss: 0.0196\n",
            "F1-Score: 0.9702 \n",
            "Epoch 00207 | Loss: 0.0194\n",
            "Epoch 00208 | Loss: 0.0182\n",
            "Epoch 00209 | Loss: 0.0196\n",
            "Epoch 00210 | Loss: 0.0197\n",
            "Epoch 00211 | Loss: 0.0192\n",
            "F1-Score: 0.9704 \n",
            "Epoch 00212 | Loss: 0.0183\n",
            "Epoch 00213 | Loss: 0.0183\n",
            "Epoch 00214 | Loss: 0.0175\n",
            "Epoch 00215 | Loss: 0.0167\n",
            "Epoch 00216 | Loss: 0.0173\n",
            "F1-Score: 0.9704 \n",
            "Epoch 00217 | Loss: 0.0174\n",
            "Epoch 00218 | Loss: 0.0162\n",
            "Epoch 00219 | Loss: 0.0171\n",
            "Epoch 00220 | Loss: 0.0168\n",
            "Epoch 00221 | Loss: 0.0161\n",
            "F1-Score: 0.9734 \n",
            "Epoch 00222 | Loss: 0.0157\n",
            "Epoch 00223 | Loss: 0.0172\n",
            "Epoch 00224 | Loss: 0.0187\n",
            "Epoch 00225 | Loss: 0.0184\n",
            "Epoch 00226 | Loss: 0.0173\n",
            "F1-Score: 0.9730 \n",
            "Epoch 00227 | Loss: 0.0166\n",
            "Epoch 00228 | Loss: 0.0171\n",
            "Epoch 00229 | Loss: 0.0175\n",
            "Epoch 00230 | Loss: 0.0169\n",
            "Epoch 00231 | Loss: 0.0179\n",
            "F1-Score: 0.9733 \n",
            "Epoch 00232 | Loss: 0.0164\n",
            "Epoch 00233 | Loss: 0.0160\n",
            "Epoch 00234 | Loss: 0.0157\n",
            "Epoch 00235 | Loss: 0.0175\n",
            "Epoch 00236 | Loss: 0.0192\n",
            "F1-Score: 0.9724 \n",
            "Epoch 00237 | Loss: 0.0183\n",
            "Epoch 00238 | Loss: 0.0188\n",
            "Epoch 00239 | Loss: 0.0199\n",
            "Epoch 00240 | Loss: 0.0213\n",
            "Epoch 00241 | Loss: 0.0218\n",
            "F1-Score: 0.9695 \n",
            "Epoch 00242 | Loss: 0.0220\n",
            "Epoch 00243 | Loss: 0.0225\n",
            "Epoch 00244 | Loss: 0.0222\n",
            "Epoch 00245 | Loss: 0.0207\n",
            "Epoch 00246 | Loss: 0.0184\n",
            "F1-Score: 0.9719 \n",
            "Epoch 00247 | Loss: 0.0181\n",
            "Epoch 00248 | Loss: 0.0172\n",
            "Epoch 00249 | Loss: 0.0170\n",
            "Epoch 00250 | Loss: 0.0166\n",
            "Epoch 00251 | Loss: 0.0159\n",
            "F1-Score: 0.9748 \n",
            "Epoch 00252 | Loss: 0.0146\n",
            "Epoch 00253 | Loss: 0.0142\n",
            "Epoch 00254 | Loss: 0.0145\n",
            "Epoch 00255 | Loss: 0.0136\n",
            "Epoch 00256 | Loss: 0.0150\n",
            "F1-Score: 0.9733 \n",
            "Epoch 00257 | Loss: 0.0161\n",
            "Epoch 00258 | Loss: 0.0136\n",
            "Epoch 00259 | Loss: 0.0141\n",
            "Epoch 00260 | Loss: 0.0137\n",
            "Epoch 00261 | Loss: 0.0136\n",
            "F1-Score: 0.9745 \n",
            "Epoch 00262 | Loss: 0.0136\n",
            "Epoch 00263 | Loss: 0.0140\n",
            "Epoch 00264 | Loss: 0.0146\n",
            "Epoch 00265 | Loss: 0.0145\n",
            "Epoch 00266 | Loss: 0.0136\n",
            "F1-Score: 0.9744 \n",
            "Epoch 00267 | Loss: 0.0138\n",
            "Epoch 00268 | Loss: 0.0133\n",
            "Epoch 00269 | Loss: 0.0129\n",
            "Epoch 00270 | Loss: 0.0143\n",
            "Epoch 00271 | Loss: 0.0146\n",
            "F1-Score: 0.9750 \n",
            "Epoch 00272 | Loss: 0.0133\n",
            "Epoch 00273 | Loss: 0.0142\n",
            "Epoch 00274 | Loss: 0.0142\n",
            "Epoch 00275 | Loss: 0.0129\n",
            "Epoch 00276 | Loss: 0.0130\n",
            "F1-Score: 0.9748 \n",
            "Epoch 00277 | Loss: 0.0127\n",
            "Epoch 00278 | Loss: 0.0123\n",
            "Epoch 00279 | Loss: 0.0121\n",
            "Epoch 00280 | Loss: 0.0133\n",
            "Epoch 00281 | Loss: 0.0146\n",
            "F1-Score: 0.9740 \n",
            "Epoch 00282 | Loss: 0.0147\n",
            "Epoch 00283 | Loss: 0.0158\n",
            "Epoch 00284 | Loss: 0.0157\n",
            "Epoch 00285 | Loss: 0.0166\n",
            "Epoch 00286 | Loss: 0.0171\n",
            "F1-Score: 0.9741 \n",
            "Epoch 00287 | Loss: 0.0150\n",
            "Epoch 00288 | Loss: 0.0147\n",
            "Epoch 00289 | Loss: 0.0144\n",
            "Epoch 00290 | Loss: 0.0140\n",
            "Epoch 00291 | Loss: 0.0145\n",
            "F1-Score: 0.9750 \n",
            "Epoch 00292 | Loss: 0.0143\n",
            "Epoch 00293 | Loss: 0.0143\n",
            "Epoch 00294 | Loss: 0.0142\n",
            "Epoch 00295 | Loss: 0.0135\n",
            "Epoch 00296 | Loss: 0.0146\n",
            "F1-Score: 0.9742 \n",
            "Epoch 00297 | Loss: 0.0161\n",
            "Epoch 00298 | Loss: 0.0161\n",
            "Epoch 00299 | Loss: 0.0164\n",
            "Epoch 00300 | Loss: 0.0173\n",
            "the model with the best test F1 score 0.9749778588229879 is model_270\n"
          ]
        },
        {
          "data": {
            "image/png": "[encoded data removed]",
            "text/plain": [
              "<Figure size 432x288 with 1 Axes>"
            ]
          },
          "metadata": {
            "needs_background": "light"
          },
          "output_type": "display_data"
        },
        {
          "name": "stdout",
          "output_type": "stream",
          "text": [
            "test phase:\n",
            "F1-Score: 0.9683\n"
          ]
        },
        {
          "data": {
            "text/plain": [
              "GATNet(\n",
              "  (layers): ModuleList(\n",
              "    (0): GATConv(\n",
              "      (fc): Linear(in_features=50, out_features=1024, bias=False)\n",
              "      (feat_drop): Dropout(p=0.0, inplace=False)\n",
              "      (attn_drop): Dropout(p=0.0, inplace=False)\n",
              "      (leaky_relu): LeakyReLU(negative_slope=0.2)\n",
              "    )\n",
              "    (1): GATConv(\n",
              "      (fc): Linear(in_features=1024, out_features=1024, bias=False)\n",
              "      (feat_drop): Dropout(p=0.0, inplace=False)\n",
              "      (attn_drop): Dropout(p=0.0, inplace=False)\n",
              "      (leaky_relu): LeakyReLU(negative_slope=0.2)\n",
              "      (res_fc): Identity()\n",
              "    )\n",
              "    (2): GATConv(\n",
              "      (fc): Linear(in_features=1024, out_features=726, bias=False)\n",
              "      (feat_drop): Dropout(p=0.0, inplace=False)\n",
              "      (attn_drop): Dropout(p=0.0, inplace=False)\n",
              "      (leaky_relu): LeakyReLU(negative_slope=0.2)\n",
              "      (res_fc): Linear(in_features=1024, out_features=726, bias=False)\n",
              "    )\n",
              "  )\n",
              ")"
            ]
          },
          "execution_count": 11,
          "metadata": {},
          "output_type": "execute_result"
        }
      ],
      "source": [
        "args = Args(mod = 'GAT', epochs=300)\n",
        "main(args) #F1score at epoch 286 is 0.9700"
      ]
    },
    {
      "cell_type": "code",
      "execution_count": null,
      "metadata": {
        "colab": {
          "base_uri": "https://localhost:8080/"
        },
        "id": "wpf4bLP9ytNC",
        "outputId": "57085b28-1848-4fe6-cca2-35e45b555eed"
      },
      "outputs": [
        {
          "name": "stderr",
          "output_type": "stream",
          "text": [
            "/usr/local/lib/python3.7/dist-packages/dgl/data/utils.py:286: UserWarning: Property dataset.features will be deprecated, please use dataset.graphs[i].ndata['feat'] instead.\n",
            "  warnings.warn('Property {} will be deprecated, please use {} instead.'.format(old, new))\n",
            "/usr/local/lib/python3.7/dist-packages/dgl/data/utils.py:286: UserWarning: Property dataset.labels will be deprecated, please use dataset.graphs[i].ndata['label'] instead.\n",
            "  warnings.warn('Property {} will be deprecated, please use {} instead.'.format(old, new))\n"
          ]
        }
      ],
      "source": [
        "train_dataset, test_dataset = LegacyPPIDataset(mode=\"train\"), LegacyPPIDataset(mode=\"test\")\n",
        "train_dataloader = DataLoader(train_dataset, batch_size=args.batch_size, collate_fn=collate_fn)\n",
        "test_dataloader = DataLoader(test_dataset, batch_size=args.batch_size, collate_fn=collate_fn)\n",
        "n_features, n_classes = train_dataset.features.shape[1], train_dataset.labels.shape[1]"
      ]
    },
    {
      "cell_type": "code",
      "execution_count": null,
      "metadata": {
        "id": "92EVBDqKy1Z1"
      },
      "outputs": [],
      "source": [
        "device = torch.device(\"cpu\" if args.gpu < 0 else \"cuda:\" + str(args.gpu))"
      ]
    },
    {
      "cell_type": "code",
      "execution_count": null,
      "metadata": {
        "colab": {
          "base_uri": "https://localhost:8080/"
        },
        "id": "8Leo7aoWy20b",
        "outputId": "ed81e671-62ca-417d-d6f6-328aafc932a8"
      },
      "outputs": [
        {
          "data": {
            "text/plain": [
              "device(type='cuda', index=0)"
            ]
          },
          "execution_count": 18,
          "metadata": {},
          "output_type": "execute_result"
        }
      ],
      "source": [
        "device"
      ]
    },
    {
      "cell_type": "code",
      "execution_count": null,
      "metadata": {
        "colab": {
          "base_uri": "https://localhost:8080/"
        },
        "id": "SfnKcPd1yhaO",
        "outputId": "5f57b823-3c18-4b11-a9ce-7f8e253f43fd"
      },
      "outputs": [
        {
          "data": {
            "text/plain": [
              "<All keys matched successfully>"
            ]
          },
          "execution_count": 21,
          "metadata": {},
          "output_type": "execute_result"
        }
      ],
      "source": [
        "model = GATNet(g=train_dataset.graph, input_size=n_features, hidden_size=256,\n",
        "                  output_size=n_classes,  nonlinearity=F.elu).to(device)\n",
        "if torch.cuda.is_available():\n",
        "  map_location=lambda storage, loc: storage.cuda()\n",
        "else:\n",
        "  map_location='cpu'\n",
        "  \n",
        "MODEL_STATE_FILE = './experiment/model_270.pth'\n",
        "model.load_state_dict(torch.load(MODEL_STATE_FILE, map_location='cpu'))"
      ]
    },
    {
      "cell_type": "code",
      "execution_count": null,
      "metadata": {
        "colab": {
          "base_uri": "https://localhost:8080/",
          "height": 1000
        },
        "id": "fSj5Xw03-bQT",
        "outputId": "cfedc143-9340-47a3-db16-252a63dd5148"
      },
      "outputs": [
        {
          "name": "stderr",
          "output_type": "stream",
          "text": [
            "/usr/local/lib/python3.7/dist-packages/dgl/data/utils.py:286: UserWarning: Property dataset.features will be deprecated, please use dataset.graphs[i].ndata['feat'] instead.\n",
            "  warnings.warn('Property {} will be deprecated, please use {} instead.'.format(old, new))\n",
            "/usr/local/lib/python3.7/dist-packages/dgl/data/utils.py:286: UserWarning: Property dataset.labels will be deprecated, please use dataset.graphs[i].ndata['label'] instead.\n",
            "  warnings.warn('Property {} will be deprecated, please use {} instead.'.format(old, new))\n"
          ]
        },
        {
          "name": "stdout",
          "output_type": "stream",
          "text": [
            "using GPU\n",
            "Epoch 00001 | Loss: 0.7878\n",
            "F1-Score: 0.2820 \n",
            "Epoch 00002 | Loss: 0.5492\n",
            "Epoch 00003 | Loss: 0.5232\n",
            "Epoch 00004 | Loss: 0.5104\n",
            "Epoch 00005 | Loss: 0.5034\n",
            "Epoch 00006 | Loss: 0.4889\n",
            "F1-Score: 0.4744 \n",
            "Epoch 00007 | Loss: 0.4819\n",
            "Epoch 00008 | Loss: 0.4697\n",
            "Epoch 00009 | Loss: 0.4588\n",
            "Epoch 00010 | Loss: 0.4528\n",
            "Epoch 00011 | Loss: 0.4455\n",
            "F1-Score: 0.5265 \n",
            "Epoch 00012 | Loss: 0.4290\n",
            "Epoch 00013 | Loss: 0.4155\n",
            "Epoch 00014 | Loss: 0.4055\n",
            "Epoch 00015 | Loss: 0.4034\n",
            "Epoch 00016 | Loss: 0.3993\n",
            "F1-Score: 0.6280 \n",
            "Epoch 00017 | Loss: 0.3879\n",
            "Epoch 00018 | Loss: 0.3732\n",
            "Epoch 00019 | Loss: 0.3608\n",
            "Epoch 00020 | Loss: 0.3510\n",
            "Epoch 00021 | Loss: 0.3414\n",
            "F1-Score: 0.6835 \n",
            "Epoch 00022 | Loss: 0.3344\n",
            "Epoch 00023 | Loss: 0.3288\n",
            "Epoch 00024 | Loss: 0.3241\n",
            "Epoch 00025 | Loss: 0.3187\n",
            "Epoch 00026 | Loss: 0.3015\n",
            "F1-Score: 0.7635 \n",
            "Epoch 00027 | Loss: 0.2890\n",
            "Epoch 00028 | Loss: 0.2776\n",
            "Epoch 00029 | Loss: 0.2697\n",
            "Epoch 00030 | Loss: 0.2629\n",
            "Epoch 00031 | Loss: 0.2569\n",
            "F1-Score: 0.7956 \n",
            "Epoch 00032 | Loss: 0.2510\n",
            "Epoch 00033 | Loss: 0.2413\n",
            "Epoch 00034 | Loss: 0.2334\n",
            "Epoch 00035 | Loss: 0.2281\n",
            "Epoch 00036 | Loss: 0.2285\n",
            "F1-Score: 0.8347 \n",
            "Epoch 00037 | Loss: 0.2242\n",
            "Epoch 00038 | Loss: 0.2207\n",
            "Epoch 00039 | Loss: 0.2116\n",
            "Epoch 00040 | Loss: 0.2012\n",
            "Epoch 00041 | Loss: 0.1982\n",
            "F1-Score: 0.8585 \n",
            "Epoch 00042 | Loss: 0.1929\n",
            "Epoch 00043 | Loss: 0.1885\n",
            "Epoch 00044 | Loss: 0.1850\n",
            "Epoch 00045 | Loss: 0.1811\n",
            "Epoch 00046 | Loss: 0.1765\n",
            "F1-Score: 0.8638 \n",
            "Epoch 00047 | Loss: 0.1734\n",
            "Epoch 00048 | Loss: 0.1651\n",
            "Epoch 00049 | Loss: 0.1596\n",
            "Epoch 00050 | Loss: 0.1522\n",
            "Epoch 00051 | Loss: 0.1476\n",
            "F1-Score: 0.8942 \n",
            "Epoch 00052 | Loss: 0.1451\n",
            "Epoch 00053 | Loss: 0.1407\n",
            "Epoch 00054 | Loss: 0.1339\n",
            "Epoch 00055 | Loss: 0.1308\n",
            "Epoch 00056 | Loss: 0.1274\n",
            "F1-Score: 0.9032 \n",
            "Epoch 00057 | Loss: 0.1293\n",
            "Epoch 00058 | Loss: 0.1264\n",
            "Epoch 00059 | Loss: 0.1236\n",
            "Epoch 00060 | Loss: 0.1190\n",
            "Epoch 00061 | Loss: 0.1192\n",
            "F1-Score: 0.9015 \n",
            "Epoch 00062 | Loss: 0.1189\n",
            "Epoch 00063 | Loss: 0.1201\n",
            "Epoch 00064 | Loss: 0.1160\n",
            "Epoch 00065 | Loss: 0.1134\n",
            "Epoch 00066 | Loss: 0.1109\n",
            "F1-Score: 0.9165 \n",
            "Epoch 00067 | Loss: 0.1130\n",
            "Epoch 00068 | Loss: 0.1080\n",
            "Epoch 00069 | Loss: 0.1078\n",
            "Epoch 00070 | Loss: 0.1039\n",
            "Epoch 00071 | Loss: 0.1032\n",
            "F1-Score: 0.9296 \n",
            "Epoch 00072 | Loss: 0.1002\n",
            "Epoch 00073 | Loss: 0.0993\n",
            "Epoch 00074 | Loss: 0.0970\n",
            "Epoch 00075 | Loss: 0.0960\n",
            "Epoch 00076 | Loss: 0.0952\n",
            "F1-Score: 0.9208 \n",
            "Epoch 00077 | Loss: 0.0942\n",
            "Epoch 00078 | Loss: 0.0914\n",
            "Epoch 00079 | Loss: 0.0900\n",
            "Epoch 00080 | Loss: 0.0911\n",
            "Epoch 00081 | Loss: 0.0911\n",
            "F1-Score: 0.9301 \n",
            "Epoch 00082 | Loss: 0.0907\n",
            "Epoch 00083 | Loss: 0.0861\n",
            "Epoch 00084 | Loss: 0.0826\n",
            "Epoch 00085 | Loss: 0.0783\n",
            "Epoch 00086 | Loss: 0.0788\n",
            "F1-Score: 0.9353 \n",
            "Epoch 00087 | Loss: 0.0748\n",
            "Epoch 00088 | Loss: 0.0710\n",
            "Epoch 00089 | Loss: 0.0691\n",
            "Epoch 00090 | Loss: 0.0680\n",
            "Epoch 00091 | Loss: 0.0690\n",
            "F1-Score: 0.9390 \n",
            "Epoch 00092 | Loss: 0.0700\n",
            "Epoch 00093 | Loss: 0.0688\n",
            "Epoch 00094 | Loss: 0.0655\n",
            "Epoch 00095 | Loss: 0.0642\n",
            "Epoch 00096 | Loss: 0.0630\n",
            "F1-Score: 0.9489 \n",
            "Epoch 00097 | Loss: 0.0597\n",
            "Epoch 00098 | Loss: 0.0566\n",
            "Epoch 00099 | Loss: 0.0564\n",
            "Epoch 00100 | Loss: 0.0560\n",
            "Epoch 00101 | Loss: 0.0563\n",
            "F1-Score: 0.9510 \n",
            "Epoch 00102 | Loss: 0.0565\n",
            "Epoch 00103 | Loss: 0.0568\n",
            "Epoch 00104 | Loss: 0.0561\n",
            "Epoch 00105 | Loss: 0.0560\n",
            "Epoch 00106 | Loss: 0.0561\n",
            "F1-Score: 0.9533 \n",
            "Epoch 00107 | Loss: 0.0558\n",
            "Epoch 00108 | Loss: 0.0560\n",
            "Epoch 00109 | Loss: 0.0574\n",
            "Epoch 00110 | Loss: 0.0540\n",
            "Epoch 00111 | Loss: 0.0508\n",
            "F1-Score: 0.9554 \n",
            "Epoch 00112 | Loss: 0.0472\n",
            "Epoch 00113 | Loss: 0.0438\n",
            "Epoch 00114 | Loss: 0.0433\n",
            "Epoch 00115 | Loss: 0.0430\n",
            "Epoch 00116 | Loss: 0.0437\n",
            "F1-Score: 0.9573 \n",
            "Epoch 00117 | Loss: 0.0441\n",
            "Epoch 00118 | Loss: 0.0439\n",
            "Epoch 00119 | Loss: 0.0446\n",
            "Epoch 00120 | Loss: 0.0478\n",
            "Epoch 00121 | Loss: 0.0460\n",
            "F1-Score: 0.9537 \n",
            "Epoch 00122 | Loss: 0.0453\n",
            "Epoch 00123 | Loss: 0.0443\n",
            "Epoch 00124 | Loss: 0.0420\n",
            "Epoch 00125 | Loss: 0.0398\n",
            "Epoch 00126 | Loss: 0.0395\n",
            "F1-Score: 0.9603 \n",
            "Epoch 00127 | Loss: 0.0388\n",
            "Epoch 00128 | Loss: 0.0379\n",
            "Epoch 00129 | Loss: 0.0365\n",
            "Epoch 00130 | Loss: 0.0358\n",
            "Epoch 00131 | Loss: 0.0364\n",
            "F1-Score: 0.9614 \n",
            "Epoch 00132 | Loss: 0.0370\n",
            "Epoch 00133 | Loss: 0.0357\n",
            "Epoch 00134 | Loss: 0.0359\n",
            "Epoch 00135 | Loss: 0.0353\n",
            "Epoch 00136 | Loss: 0.0348\n",
            "F1-Score: 0.9617 \n",
            "Epoch 00137 | Loss: 0.0349\n",
            "Epoch 00138 | Loss: 0.0342\n",
            "Epoch 00139 | Loss: 0.0335\n",
            "Epoch 00140 | Loss: 0.0320\n",
            "Epoch 00141 | Loss: 0.0309\n",
            "F1-Score: 0.9637 \n",
            "Epoch 00142 | Loss: 0.0317\n",
            "Epoch 00143 | Loss: 0.0322\n",
            "Epoch 00144 | Loss: 0.0317\n",
            "Epoch 00145 | Loss: 0.0326\n",
            "Epoch 00146 | Loss: 0.0331\n",
            "F1-Score: 0.9621 \n",
            "Epoch 00147 | Loss: 0.0357\n",
            "Epoch 00148 | Loss: 0.0380\n",
            "Epoch 00149 | Loss: 0.0389\n",
            "Epoch 00150 | Loss: 0.0377\n",
            "Epoch 00151 | Loss: 0.0362\n",
            "F1-Score: 0.9614 \n",
            "Epoch 00152 | Loss: 0.0340\n",
            "Epoch 00153 | Loss: 0.0328\n",
            "Epoch 00154 | Loss: 0.0300\n",
            "Epoch 00155 | Loss: 0.0284\n",
            "Epoch 00156 | Loss: 0.0278\n",
            "F1-Score: 0.9666 \n",
            "Epoch 00157 | Loss: 0.0275\n",
            "Epoch 00158 | Loss: 0.0272\n",
            "Epoch 00159 | Loss: 0.0291\n",
            "Epoch 00160 | Loss: 0.0278\n",
            "Epoch 00161 | Loss: 0.0283\n",
            "F1-Score: 0.9663 \n",
            "Epoch 00162 | Loss: 0.0283\n",
            "Epoch 00163 | Loss: 0.0293\n",
            "Epoch 00164 | Loss: 0.0291\n",
            "Epoch 00165 | Loss: 0.0295\n",
            "Epoch 00166 | Loss: 0.0338\n",
            "F1-Score: 0.9619 \n",
            "Epoch 00167 | Loss: 0.0342\n",
            "Epoch 00168 | Loss: 0.0298\n",
            "Epoch 00169 | Loss: 0.0277\n",
            "Epoch 00170 | Loss: 0.0249\n",
            "Epoch 00171 | Loss: 0.0237\n",
            "F1-Score: 0.9691 \n",
            "Epoch 00172 | Loss: 0.0235\n",
            "Epoch 00173 | Loss: 0.0238\n",
            "Epoch 00174 | Loss: 0.0230\n",
            "Epoch 00175 | Loss: 0.0231\n",
            "Epoch 00176 | Loss: 0.0231\n",
            "F1-Score: 0.9697 \n",
            "Epoch 00177 | Loss: 0.0234\n",
            "Epoch 00178 | Loss: 0.0238\n",
            "Epoch 00179 | Loss: 0.0228\n",
            "Epoch 00180 | Loss: 0.0231\n",
            "Epoch 00181 | Loss: 0.0226\n",
            "F1-Score: 0.9688 \n",
            "Epoch 00182 | Loss: 0.0213\n",
            "Epoch 00183 | Loss: 0.0210\n",
            "Epoch 00184 | Loss: 0.0213\n",
            "Epoch 00185 | Loss: 0.0211\n",
            "Epoch 00186 | Loss: 0.0212\n",
            "F1-Score: 0.9707 \n",
            "Epoch 00187 | Loss: 0.0209\n",
            "Epoch 00188 | Loss: 0.0205\n",
            "Epoch 00189 | Loss: 0.0219\n",
            "Epoch 00190 | Loss: 0.0221\n",
            "Epoch 00191 | Loss: 0.0198\n",
            "F1-Score: 0.9696 \n",
            "Epoch 00192 | Loss: 0.0203\n",
            "Epoch 00193 | Loss: 0.0227\n",
            "Epoch 00194 | Loss: 0.0222\n",
            "Epoch 00195 | Loss: 0.0216\n",
            "Epoch 00196 | Loss: 0.0225\n",
            "F1-Score: 0.9697 \n",
            "Epoch 00197 | Loss: 0.0241\n",
            "Epoch 00198 | Loss: 0.0224\n",
            "Epoch 00199 | Loss: 0.0238\n",
            "Epoch 00200 | Loss: 0.0240\n",
            "Epoch 00201 | Loss: 0.0243\n",
            "F1-Score: 0.9695 \n",
            "Epoch 00202 | Loss: 0.0242\n",
            "Epoch 00203 | Loss: 0.0233\n",
            "Epoch 00204 | Loss: 0.0221\n",
            "Epoch 00205 | Loss: 0.0219\n",
            "Epoch 00206 | Loss: 0.0203\n",
            "F1-Score: 0.9701 \n",
            "Epoch 00207 | Loss: 0.0195\n",
            "Epoch 00208 | Loss: 0.0195\n",
            "Epoch 00209 | Loss: 0.0205\n",
            "Epoch 00210 | Loss: 0.0191\n",
            "Epoch 00211 | Loss: 0.0191\n",
            "F1-Score: 0.9714 \n",
            "Epoch 00212 | Loss: 0.0189\n",
            "Epoch 00213 | Loss: 0.0185\n",
            "Epoch 00214 | Loss: 0.0191\n",
            "Epoch 00215 | Loss: 0.0185\n",
            "Epoch 00216 | Loss: 0.0178\n",
            "F1-Score: 0.9719 \n",
            "Epoch 00217 | Loss: 0.0181\n",
            "Epoch 00218 | Loss: 0.0192\n",
            "Epoch 00219 | Loss: 0.0183\n",
            "Epoch 00220 | Loss: 0.0177\n",
            "Epoch 00221 | Loss: 0.0171\n",
            "F1-Score: 0.9719 \n",
            "Epoch 00222 | Loss: 0.0166\n",
            "Epoch 00223 | Loss: 0.0172\n",
            "Epoch 00224 | Loss: 0.0182\n",
            "Epoch 00225 | Loss: 0.0185\n",
            "Epoch 00226 | Loss: 0.0189\n",
            "F1-Score: 0.9719 \n",
            "Epoch 00227 | Loss: 0.0181\n",
            "Epoch 00228 | Loss: 0.0177\n",
            "Epoch 00229 | Loss: 0.0180\n",
            "Epoch 00230 | Loss: 0.0338\n",
            "Epoch 00231 | Loss: 0.0330\n",
            "F1-Score: 0.9662 \n",
            "Epoch 00232 | Loss: 0.0340\n",
            "Epoch 00233 | Loss: 0.0376\n",
            "Epoch 00234 | Loss: 0.0388\n",
            "Epoch 00235 | Loss: 0.0419\n",
            "Epoch 00236 | Loss: 0.0455\n",
            "F1-Score: 0.9565 \n",
            "Epoch 00237 | Loss: 0.0454\n",
            "Epoch 00238 | Loss: 0.0451\n",
            "Epoch 00239 | Loss: 0.0474\n",
            "Epoch 00240 | Loss: 0.0405\n",
            "Epoch 00241 | Loss: 0.0364\n",
            "F1-Score: 0.9650 \n",
            "Epoch 00242 | Loss: 0.0323\n",
            "Epoch 00243 | Loss: 0.0288\n",
            "Epoch 00244 | Loss: 0.0247\n",
            "Epoch 00245 | Loss: 0.0209\n",
            "Epoch 00246 | Loss: 0.0185\n",
            "F1-Score: 0.9733 \n",
            "Epoch 00247 | Loss: 0.0177\n",
            "Epoch 00248 | Loss: 0.0158\n",
            "Epoch 00249 | Loss: 0.0151\n",
            "Epoch 00250 | Loss: 0.0154\n",
            "Epoch 00251 | Loss: 0.0161\n",
            "F1-Score: 0.9749 \n",
            "Epoch 00252 | Loss: 0.0152\n",
            "Epoch 00253 | Loss: 0.0154\n",
            "Epoch 00254 | Loss: 0.0154\n",
            "Epoch 00255 | Loss: 0.0157\n",
            "Epoch 00256 | Loss: 0.0158\n",
            "F1-Score: 0.9748 \n",
            "Epoch 00257 | Loss: 0.0144\n",
            "Epoch 00258 | Loss: 0.0140\n",
            "Epoch 00259 | Loss: 0.0133\n",
            "Epoch 00260 | Loss: 0.0132\n",
            "Epoch 00261 | Loss: 0.0138\n",
            "F1-Score: 0.9743 \n",
            "Epoch 00262 | Loss: 0.0146\n",
            "Epoch 00263 | Loss: 0.0132\n",
            "Epoch 00264 | Loss: 0.0130\n",
            "Epoch 00265 | Loss: 0.0123\n",
            "Epoch 00266 | Loss: 0.0131\n",
            "F1-Score: 0.9753 \n",
            "Epoch 00267 | Loss: 0.0119\n",
            "Epoch 00268 | Loss: 0.0113\n",
            "Epoch 00269 | Loss: 0.0112\n",
            "Epoch 00270 | Loss: 0.0107\n",
            "Epoch 00271 | Loss: 0.0110\n",
            "F1-Score: 0.9772 \n",
            "Epoch 00272 | Loss: 0.0113\n",
            "Epoch 00273 | Loss: 0.0108\n",
            "Epoch 00274 | Loss: 0.0116\n",
            "Epoch 00275 | Loss: 0.0115\n",
            "Epoch 00276 | Loss: 0.0117\n",
            "F1-Score: 0.9769 \n",
            "Epoch 00277 | Loss: 0.0110\n",
            "Epoch 00278 | Loss: 0.0102\n",
            "Epoch 00279 | Loss: 0.0102\n",
            "Epoch 00280 | Loss: 0.0105\n",
            "Epoch 00281 | Loss: 0.0102\n",
            "F1-Score: 0.9768 \n",
            "Epoch 00282 | Loss: 0.0094\n",
            "Epoch 00283 | Loss: 0.0094\n",
            "Epoch 00284 | Loss: 0.0096\n",
            "Epoch 00285 | Loss: 0.0096\n",
            "Epoch 00286 | Loss: 0.0098\n",
            "F1-Score: 0.9784 \n",
            "Epoch 00287 | Loss: 0.0087\n",
            "Epoch 00288 | Loss: 0.0090\n",
            "Epoch 00289 | Loss: 0.0087\n",
            "Epoch 00290 | Loss: 0.0088\n",
            "Epoch 00291 | Loss: 0.0088\n",
            "F1-Score: 0.9782 \n",
            "Epoch 00292 | Loss: 0.0090\n",
            "Epoch 00293 | Loss: 0.0090\n",
            "Epoch 00294 | Loss: 0.0089\n",
            "Epoch 00295 | Loss: 0.0090\n",
            "Epoch 00296 | Loss: 0.0092\n",
            "F1-Score: 0.9777 \n",
            "Epoch 00297 | Loss: 0.0096\n",
            "Epoch 00298 | Loss: 0.0101\n",
            "Epoch 00299 | Loss: 0.0104\n",
            "Epoch 00300 | Loss: 0.0105\n",
            "the model with the best test F1 score 0.9784372101162824 is model_285\n"
          ]
        },
        {
          "data": {
            "image/png": "[encoded data removed]",
            "text/plain": [
              "<Figure size 432x288 with 1 Axes>"
            ]
          },
          "metadata": {
            "needs_background": "light"
          },
          "output_type": "display_data"
        },
        {
          "name": "stdout",
          "output_type": "stream",
          "text": [
            "test phase:\n",
            "F1-Score: 0.9539\n"
          ]
        },
        {
          "data": {
            "text/plain": [
              "GATNet(\n",
              "  (layers): ModuleList(\n",
              "    (0): GATConv(\n",
              "      (fc): Linear(in_features=50, out_features=1024, bias=False)\n",
              "      (feat_drop): Dropout(p=0.0, inplace=False)\n",
              "      (attn_drop): Dropout(p=0.0, inplace=False)\n",
              "      (leaky_relu): LeakyReLU(negative_slope=0.2)\n",
              "    )\n",
              "    (1): GATConv(\n",
              "      (fc): Linear(in_features=1024, out_features=1024, bias=False)\n",
              "      (feat_drop): Dropout(p=0.0, inplace=False)\n",
              "      (attn_drop): Dropout(p=0.0, inplace=False)\n",
              "      (leaky_relu): LeakyReLU(negative_slope=0.2)\n",
              "      (res_fc): Identity()\n",
              "    )\n",
              "    (2): GATConv(\n",
              "      (fc): Linear(in_features=1024, out_features=726, bias=False)\n",
              "      (feat_drop): Dropout(p=0.0, inplace=False)\n",
              "      (attn_drop): Dropout(p=0.0, inplace=False)\n",
              "      (leaky_relu): LeakyReLU(negative_slope=0.2)\n",
              "      (res_fc): Linear(in_features=1024, out_features=726, bias=False)\n",
              "    )\n",
              "  )\n",
              ")"
            ]
          },
          "execution_count": 60,
          "metadata": {},
          "output_type": "execute_result"
        }
      ],
      "source": [
        "args = Args(mod = 'GAT', epochs=300)\n",
        "main(args) #F1score at epoch 286 is 0.9700"
      ]
    },
    {
      "cell_type": "markdown",
      "metadata": {
        "id": "0TNieaq8YBdq"
      },
      "source": [
        "### Test mode of the best model: F1 score 0.9764"
      ]
    },
    {
      "cell_type": "code",
      "execution_count": null,
      "metadata": {
        "id": "wE-xwMndPLQV"
      },
      "outputs": [],
      "source": [
        "#MODEL_STATE_FILE = \"model_state.pth\"\n",
        "MODEL_STATE_FILE = 'experiment/model_285.pth'"
      ]
    },
    {
      "cell_type": "code",
      "execution_count": null,
      "metadata": {
        "id": "fEx7CnGtPs3u"
      },
      "outputs": [],
      "source": [
        "args = Args(mode=\"test\", mod=\"GAT\")"
      ]
    },
    {
      "cell_type": "code",
      "execution_count": null,
      "metadata": {
        "colab": {
          "base_uri": "https://localhost:8080/"
        },
        "id": "CJPNYuBjP3Xp",
        "outputId": "9c04382e-8dc1-45f1-99e9-1d7529172c89"
      },
      "outputs": [
        {
          "name": "stderr",
          "output_type": "stream",
          "text": [
            "/usr/local/lib/python3.7/dist-packages/dgl/data/utils.py:286: UserWarning: Property dataset.features will be deprecated, please use dataset.graphs[i].ndata['feat'] instead.\n",
            "  warnings.warn('Property {} will be deprecated, please use {} instead.'.format(old, new))\n",
            "/usr/local/lib/python3.7/dist-packages/dgl/data/utils.py:286: UserWarning: Property dataset.labels will be deprecated, please use dataset.graphs[i].ndata['label'] instead.\n",
            "  warnings.warn('Property {} will be deprecated, please use {} instead.'.format(old, new))\n"
          ]
        },
        {
          "name": "stdout",
          "output_type": "stream",
          "text": [
            "using GPU\n",
            "test phase:\n",
            "F1-Score: 0.9764\n"
          ]
        },
        {
          "data": {
            "text/plain": [
              "GATNet(\n",
              "  (layers): ModuleList(\n",
              "    (0): GATConv(\n",
              "      (fc): Linear(in_features=50, out_features=1024, bias=False)\n",
              "      (feat_drop): Dropout(p=0.0, inplace=False)\n",
              "      (attn_drop): Dropout(p=0.0, inplace=False)\n",
              "      (leaky_relu): LeakyReLU(negative_slope=0.2)\n",
              "    )\n",
              "    (1): GATConv(\n",
              "      (fc): Linear(in_features=1024, out_features=1024, bias=False)\n",
              "      (feat_drop): Dropout(p=0.0, inplace=False)\n",
              "      (attn_drop): Dropout(p=0.0, inplace=False)\n",
              "      (leaky_relu): LeakyReLU(negative_slope=0.2)\n",
              "      (res_fc): Identity()\n",
              "    )\n",
              "    (2): GATConv(\n",
              "      (fc): Linear(in_features=1024, out_features=726, bias=False)\n",
              "      (feat_drop): Dropout(p=0.0, inplace=False)\n",
              "      (attn_drop): Dropout(p=0.0, inplace=False)\n",
              "      (leaky_relu): LeakyReLU(negative_slope=0.2)\n",
              "      (res_fc): Linear(in_features=1024, out_features=726, bias=False)\n",
              "    )\n",
              "  )\n",
              ")"
            ]
          },
          "execution_count": 63,
          "metadata": {},
          "output_type": "execute_result"
        }
      ],
      "source": [
        "main(args)"
      ]
    },
    {
      "cell_type": "markdown",
      "metadata": {
        "id": "sqrL5tLicCHN"
      },
      "source": [
        "import script and model weights as "
      ]
    },
    {
      "cell_type": "code",
      "execution_count": null,
      "metadata": {
        "colab": {
          "base_uri": "https://localhost:8080/"
        },
        "id": "ov9Yhg0BYraW",
        "outputId": "efe96a83-8f50-4e6d-eca5-d8899e9a4d2c"
      },
      "outputs": [
        {
          "name": "stdout",
          "output_type": "stream",
          "text": [
            "Using backend: pytorch\n",
            "/usr/local/lib/python3.7/dist-packages/dgl/data/utils.py:286: UserWarning: Property dataset.features will be deprecated, please use dataset.graphs[i].ndata['feat'] instead.\n",
            "  warnings.warn('Property {} will be deprecated, please use {} instead.'.format(old, new))\n",
            "/usr/local/lib/python3.7/dist-packages/dgl/data/utils.py:286: UserWarning: Property dataset.labels will be deprecated, please use dataset.graphs[i].ndata['label'] instead.\n",
            "  warnings.warn('Property {} will be deprecated, please use {} instead.'.format(old, new))\n",
            "Loading model from /content/model_state.pth in location map <function main.<locals>.<lambda> at 0x7fd85b33b710>\n",
            "F1-Score: 0.9764\n"
          ]
        }
      ],
      "source": [
        "#testing script\n",
        "!python3 train_ppi_baseline.py --mode test"
      ]
    }
  ],
  "metadata": {
    "accelerator": "GPU",
    "colab": {
      "collapsed_sections": [],
      "provenance": []
    },
    "kernelspec": {
      "display_name": "Python 3.9.7 ('base')",
      "language": "python",
      "name": "python3"
    },
    "language_info": {
      "name": "python",
      "version": "3.9.7"
    },
    "vscode": {
      "interpreter": {
        "hash": "f6fa3d0b62d3ec966001288e60bcc5c16d6c6509231b0418e939e2becf055f22"
      }
    }
  },
  "nbformat": 4,
  "nbformat_minor": 0
}
