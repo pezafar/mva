{
  "cells": [
    {
      "cell_type": "markdown",
      "metadata": {
        "id": "wtb5ZO5djGKi"
      },
      "source": [
        "# Small data and deep learning\n",
        "This pratical session proposes to study several techniques to improve training performance in the challenging context where few data and resources are available."
      ]
    },
    {
      "cell_type": "markdown",
      "metadata": {
        "id": "nkEk9hbxjGKk"
      },
      "source": [
        "# Introduction\n",
        "Assume we are in a context where few \"gold\" labeled data are available for training, say $\\mathcal{X}_{\\text{train}}\\triangleq\\{(x_n,y_n)\\}_{n\\leq N_{\\text{train}}}$, where $N_{\\text{train}}$ is small. A large test set $\\mathcal{X}_{\\text{test}}$ is available. A large amount of unlabeled data, $\\mathcal{X}_{\\text{nolabel}}$, is available. We also assume that we have a limited computational budget (e.g., no GPUs).\n",
        "\n",
        "For each question, write a commented *Code* or a complete answer as a *Markdown*. When the objective of a question is to report a CNN accuracy, please use the following format to report it, at the end of the question :\n",
        "\n",
        "\n",
        "| Model | Number of  epochs  | Train accuracy | Test accuracy |\n",
        "|------|------|------|------|\n",
        "|   XXX  | XXX | XXX | XXX |\n",
        "\n",
        "\n",
        "If applicable, please add the field corresponding to the  __Accuracy on Full Data__ as well as a link to the __Reference paper__ you used to report those numbers. (You do not need to train a CNN on the full CIFAR10 dataset.)\n",
        "\n",
        "In your final report, please keep the logs of each training procedure you used. We will only run this jupyter if we have some doubts on your implementation. \n",
        "\n",
        "__The total file sizes should be reasonable (feasible with 2MB only!). You will be asked to hand in the notebook, together with any necessary files required to run it if any.__\n",
        "\n",
        "\n",
        "To run your experiments, you can use the same local installation as for previous TPs, or otherwise https://colab.research.google.com/."
      ]
    },
    {
      "cell_type": "markdown",
      "metadata": {
        "id": "yyz4hH-GjGKk"
      },
      "source": [
        "## Training set creation\n",
        "__Question 1 (2 points) :__ Propose a dataloader that will only use the first 100 samples of the CIFAR-10 training set. \n",
        "\n",
        "*Hint* : You can modify the file located at https://github.com/pytorch/vision/blob/master/torchvision/datasets/cifar.py or use the information from https://pytorch.org/vision/stable/datasets.html"
      ]
    },
    {
      "cell_type": "markdown",
      "metadata": {
        "id": "Sx8Y526AjGKl"
      },
      "source": [
        "This is our dataset $\\mathcal{X}_{\\text{train}}$, it will be used until the end of this project. The remaining samples correspond to $\\mathcal{X}_{\\text{nolabel}}$. The testing set $\\mathcal{X}_{\\text{test}}$ corresponds to the whole testing set of CIFAR-10."
      ]
    },
    {
      "cell_type": "code",
      "execution_count": null,
      "metadata": {
        "id": "ssp_SQn_24Wy"
      },
      "outputs": [],
      "source": [
        "import torchvision\n",
        "from torch.utils.data import Dataset\n",
        "import torch\n",
        "import torchvision.transforms as transforms\n",
        "import torchvision.models as models\n",
        "import torch\n",
        "import torch.nn as nn\n",
        "import torch.optim as optim\n",
        "import torch.nn.functional as F\n",
        "from tqdm import tqdm\n",
        "from collections import Counter\n",
        "from matplotlib import pyplot as plt\n"
      ]
    },
    {
      "cell_type": "code",
      "execution_count": null,
      "metadata": {
        "colab": {
          "base_uri": "https://localhost:8080/"
        },
        "id": "y0tfvek78I7T",
        "outputId": "8ff61b2c-42f1-4fce-f14f-b5721fb77b9c"
      },
      "outputs": [
        {
          "data": {
            "text/plain": [
              "<torch._C.Generator at 0x7f258f29c170>"
            ]
          },
          "execution_count": 24,
          "metadata": {},
          "output_type": "execute_result"
        }
      ],
      "source": [
        "seed=0\n",
        "torch.manual_seed(seed)"
      ]
    },
    {
      "cell_type": "code",
      "execution_count": null,
      "metadata": {
        "id": "4zJaqrKWaGo6"
      },
      "outputs": [],
      "source": [
        "class Cifar_100_samples(Dataset):\n",
        "  \"\"\" Custom dataset selecting the first 100 samples\"\"\"\n",
        "  \n",
        "    def __init__(self, dataset, transform = None, n_first = 100):\n",
        "        self.data = dataset.data[:n_first]\n",
        "        self.targets = dataset.targets[:n_first]\n",
        "        self.transform = transform\n",
        "\n",
        "    def __len__(self):\n",
        "        return len(self.data)\n",
        "\n",
        "    def __getitem__(self, idx):\n",
        "        image = self.data[idx]\n",
        "        label = self.targets[idx]\n",
        "\n",
        "        if self.transform:\n",
        "            image = self.transform(image)\n",
        "\n",
        "        return image, label"
      ]
    },
    {
      "cell_type": "code",
      "execution_count": null,
      "metadata": {
        "id": "AdEfDfFfjfKR"
      },
      "outputs": [],
      "source": [
        "transform_cifar = transforms.Compose([\n",
        "    transforms.ToTensor(),\n",
        "    transforms.Normalize((0.4914, 0.4822, 0.4465), (0.2023, 0.1994, 0.2010)),\n",
        "])"
      ]
    },
    {
      "cell_type": "code",
      "execution_count": null,
      "metadata": {
        "colab": {
          "base_uri": "https://localhost:8080/",
          "height": 101,
          "referenced_widgets": [
            "7d54ad1229544f078f0174df0402cd9b",
            "61a490b883634e698ef1cb15712c1189",
            "bd7d746846fb4b7da623f043b4ccce31",
            "ad70fa464f5d462cbdedbcea35633b98",
            "ed63d7a026324da2848d68262da78d46",
            "91c38749345348e3b5b63398633fa0b8",
            "ee2d815748dd43b5a4daaed58edcb547",
            "36f18535c28b4839b248f3689521fe2d",
            "758932c0e92f4e568aadb4d2063221e3",
            "b025e3cdc46f45bea299e1caf74b9edd",
            "e66463a4c367408d9fd457548070709f"
          ]
        },
        "id": "4IjhZ3JVaUPa",
        "outputId": "107fe5a3-0b72-4322-9b66-bc2f9d584173"
      },
      "outputs": [
        {
          "name": "stdout",
          "output_type": "stream",
          "text": [
            "Downloading https://www.cs.toronto.edu/~kriz/cifar-10-python.tar.gz to ./data/cifar-10-python.tar.gz\n"
          ]
        },
        {
          "data": {
            "application/vnd.jupyter.widget-view+json": {
              "model_id": "7d54ad1229544f078f0174df0402cd9b",
              "version_major": 2,
              "version_minor": 0
            },
            "text/plain": [
              "  0%|          | 0/170498071 [00:00<?, ?it/s]"
            ]
          },
          "metadata": {},
          "output_type": "display_data"
        },
        {
          "name": "stdout",
          "output_type": "stream",
          "text": [
            "Extracting ./data/cifar-10-python.tar.gz to ./data\n",
            "Files already downloaded and verified\n"
          ]
        }
      ],
      "source": [
        "cifar_data = torchvision.datasets.CIFAR10(root='./data', train=True, download=True)\n",
        "test_data = torchvision.datasets.CIFAR10(root='./data', train=False, download=True, transform = transform_cifar)\n",
        "train_data = Cifar_100_samples(cifar_data, transform= transform_cifar)"
      ]
    },
    {
      "cell_type": "code",
      "execution_count": null,
      "metadata": {
        "id": "DLA16UHjaX6Z"
      },
      "outputs": [],
      "source": [
        "X_train = torch.utils.data.DataLoader(train_data, batch_size=10, shuffle=True)\n",
        "X_test = torch.utils.data.DataLoader(test_data, batch_size=10, shuffle=True)"
      ]
    },
    {
      "cell_type": "code",
      "execution_count": null,
      "metadata": {
        "colab": {
          "base_uri": "https://localhost:8080/",
          "height": 297
        },
        "id": "n26_kTpNjx-W",
        "outputId": "e9734ce9-4e92-4a8f-8b79-0f71de95db87"
      },
      "outputs": [
        {
          "data": {
            "text/plain": [
              "Text(0, 0.5, 'samples')"
            ]
          },
          "execution_count": 6,
          "metadata": {},
          "output_type": "execute_result"
        },
        {
          "data": {
            "image/png": "[encoded data removed]",
            "text/plain": [
              "<Figure size 432x288 with 1 Axes>"
            ]
          },
          "metadata": {
            "needs_background": "light"
          },
          "output_type": "display_data"
        }
      ],
      "source": [
        "dist = dict(Counter(train_data.targets))\n",
        "plt.bar(dist.keys(), dist.values())\n",
        "plt.xlabel('classes')\n",
        "plt.ylabel('samples')"
      ]
    },
    {
      "cell_type": "markdown",
      "metadata": {
        "id": "R0ctxTYPk18X"
      },
      "source": [
        "As we can see in this barplot the data is small and not balanced, class 8 for example has only 4 samples."
      ]
    },
    {
      "cell_type": "markdown",
      "metadata": {
        "id": "kcFD3xMejGKm"
      },
      "source": [
        "## Testing procedure\n",
        "__Question 2 (1.5 points) :__ Explain why the evaluation of the training procedure is difficult. Propose several solutions."
      ]
    },
    {
      "cell_type": "markdown",
      "metadata": {
        "id": "o7ZfGMuRjGKm"
      },
      "source": [
        "The training procedure is difficult in this case because the dataset is very small which makes the model very prone to overfitting. In fact the model becomes very specific to the few samples present in the training set and doesn't generalize well to unseen data. Some possible solutions are:\n",
        "\n",
        "* Data augmentation: to increase the number and variety of training samples.\n",
        "* Transfer Learning: we use a model that was pre-trained on very large datasets such as ImageNet and the fine-tune it on our small dataset, it will have better generalization capacities.\n",
        "* Use early stopping: to stop model before it overfits.\n",
        "* Ensembling: one can train several models and ensemble their results to get more accurate predictions.\n",
        "* One can add dropout layers in the network as a regularization technique (5Batch normalization can be used too)."
      ]
    },
    {
      "cell_type": "markdown",
      "metadata": {
        "id": "b8yeRD7CjGKm"
      },
      "source": [
        "# Raw approach: the baseline"
      ]
    },
    {
      "cell_type": "markdown",
      "metadata": {
        "id": "4dgKvuS0jGKm"
      },
      "source": [
        "In this section, the goal is to train a CNN on $\\mathcal{X}_{\\text{train}}$ and compare its performance with reported numbers from the litterature. You will have to re-use and/or design a standard classification pipeline. You should optimize your pipeline to obtain the best performances (image size, data augmentation by flip, ...).\n",
        "\n",
        "The key ingredients for training a CNN are the batch size, as well as the learning rate schedule, i.e. how to decrease the learning rate as a function of the number of epochs. A possible schedule is to start the learning rate at 0.1 and decreasing it every 30 epochs by 10. In case of divergence, reduce the learning rate. A potential batch size could be 10, yet this can be cross-validated.\n",
        "\n",
        "You can get some baselines accuracies in this paper : http://openaccess.thecvf.com/content_cvpr_2018/papers/Keshari_Learning_Structure_and_CVPR_2018_paper.pdf. Obviously, it is a different context for those researchers who had access to GPUs."
      ]
    },
    {
      "cell_type": "markdown",
      "metadata": {
        "id": "pJpkBpyWjGKn"
      },
      "source": [
        "## ResNet architectures"
      ]
    },
    {
      "cell_type": "markdown",
      "metadata": {
        "id": "z22FjUNYjGKn"
      },
      "source": [
        "__Question 3 (4 points) :__ Write a classification pipeline for $\\mathcal{X}_{\\text{train}}$, train from scratch and evaluate a *ResNet-18* architecture specific to CIFAR10 (details about the ResNet-18 model, originally designed for the ImageNet dataset, can be found here: https://arxiv.org/abs/1512.03385). Please report the accuracy obtained on the whole dataset as well as the reference paper/GitHub link.\n",
        "\n",
        "*Hint:* You can re-use the following code: https://github.com/kuangliu/pytorch-cifar. During a training of 10 epochs, a batch size of 10 and a learning rate of 0.01, one obtains 40% accuracy on $\\mathcal{X}_{\\text{train}}$ (\\~2 minutes) and 20% accuracy on $\\mathcal{X}_{\\text{test}}$ (\\~5 minutes).\n",
        "\n",
        "**This github repository claims a 93.02% accuracy for a ResNet18 trained on the full CIFAR-10 dataset.**"
      ]
    },
    {
      "cell_type": "code",
      "execution_count": null,
      "metadata": {
        "id": "wMvVMxZrk6kB"
      },
      "outputs": [],
      "source": [
        "# Adapted from: https://github.com/kuangliu/pytorch-cifar\n",
        "\n",
        "class BasicBlock(nn.Module):\n",
        "    expansion = 1\n",
        "\n",
        "    def __init__(self, in_planes, planes, stride=1):\n",
        "        super(BasicBlock, self).__init__()\n",
        "        self.conv1 = nn.Conv2d(\n",
        "            in_planes, planes, kernel_size=3, stride=stride, padding=1, bias=False)\n",
        "        self.bn1 = nn.BatchNorm2d(planes)\n",
        "        self.conv2 = nn.Conv2d(planes, planes, kernel_size=3,\n",
        "                               stride=1, padding=1, bias=False)\n",
        "        self.bn2 = nn.BatchNorm2d(planes)\n",
        "\n",
        "        self.shortcut = nn.Sequential()\n",
        "        if stride != 1 or in_planes != self.expansion*planes:\n",
        "            self.shortcut = nn.Sequential(\n",
        "                nn.Conv2d(in_planes, self.expansion*planes,\n",
        "                          kernel_size=1, stride=stride, bias=False),\n",
        "                nn.BatchNorm2d(self.expansion*planes)\n",
        "            )\n",
        "\n",
        "    def forward(self, x):\n",
        "        out = F.relu(self.bn1(self.conv1(x)))\n",
        "        out = self.bn2(self.conv2(out))\n",
        "        out += self.shortcut(x)\n",
        "        out = F.relu(out)\n",
        "        return out\n",
        "\n",
        "\n",
        "class Bottleneck(nn.Module):\n",
        "    expansion = 4\n",
        "\n",
        "    def __init__(self, in_planes, planes, stride=1):\n",
        "        super(Bottleneck, self).__init__()\n",
        "        self.conv1 = nn.Conv2d(in_planes, planes, kernel_size=1, bias=False)\n",
        "        self.bn1 = nn.BatchNorm2d(planes)\n",
        "        self.conv2 = nn.Conv2d(planes, planes, kernel_size=3,\n",
        "                               stride=stride, padding=1, bias=False)\n",
        "        self.bn2 = nn.BatchNorm2d(planes)\n",
        "        self.conv3 = nn.Conv2d(planes, self.expansion *\n",
        "                               planes, kernel_size=1, bias=False)\n",
        "        self.bn3 = nn.BatchNorm2d(self.expansion*planes)\n",
        "\n",
        "        self.shortcut = nn.Sequential()\n",
        "        if stride != 1 or in_planes != self.expansion*planes:\n",
        "            self.shortcut = nn.Sequential(\n",
        "                nn.Conv2d(in_planes, self.expansion*planes,\n",
        "                          kernel_size=1, stride=stride, bias=False),\n",
        "                nn.BatchNorm2d(self.expansion*planes)\n",
        "            )\n",
        "\n",
        "    def forward(self, x):\n",
        "        out = F.relu(self.bn1(self.conv1(x)))\n",
        "        out = F.relu(self.bn2(self.conv2(out)))\n",
        "        out = self.bn3(self.conv3(out))\n",
        "        out += self.shortcut(x)\n",
        "        out = F.relu(out)\n",
        "        return out\n",
        "\n",
        "class ResNet18(nn.Module):\n",
        "    def __init__(self, num_classes=10):\n",
        "        block = BasicBlock\n",
        "        num_blocks = [2,2,2,2]\n",
        "        super(ResNet18, self).__init__()\n",
        "        self.in_planes = 64\n",
        "\n",
        "        self.conv1 = nn.Conv2d(3, 64, kernel_size=3,\n",
        "                               stride=1, padding=1, bias=False)\n",
        "        self.bn1 = nn.BatchNorm2d(64)\n",
        "        self.layer1 = self._make_layer(block, 64, num_blocks[0], stride=1)\n",
        "        self.layer2 = self._make_layer(block, 128, num_blocks[1], stride=2)\n",
        "        self.layer3 = self._make_layer(block, 256, num_blocks[2], stride=2)\n",
        "        self.layer4 = self._make_layer(block, 512, num_blocks[3], stride=2)\n",
        "        self.linear = nn.Linear(512*block.expansion, num_classes)\n",
        "\n",
        "    def _make_layer(self, block, planes, num_blocks, stride):\n",
        "        strides = [stride] + [1]*(num_blocks-1)\n",
        "        layers = []\n",
        "        for stride in strides:\n",
        "            layers.append(block(self.in_planes, planes, stride))\n",
        "            self.in_planes = planes * block.expansion\n",
        "        return nn.Sequential(*layers)\n",
        "\n",
        "    def forward(self, x):\n",
        "        out = F.relu(self.bn1(self.conv1(x)))\n",
        "        out = self.layer1(out)\n",
        "        out = self.layer2(out)\n",
        "        out = self.layer3(out)\n",
        "        out = self.layer4(out)\n",
        "        out = F.avg_pool2d(out, 4)\n",
        "        out = out.view(out.size(0), -1)\n",
        "        out = self.linear(out)\n",
        "        return out"
      ]
    },
    {
      "cell_type": "code",
      "execution_count": null,
      "metadata": {
        "id": "XIGcFQ1P65vX"
      },
      "outputs": [],
      "source": [
        "# Code from: https://debuggercafe.com/using-learning-rate-scheduler-and-early-stopping-with-pytorch/\n",
        "\n",
        "class EarlyStopping():\n",
        "    \"\"\"\n",
        "    Early stopping to stop the training when the loss does not improve after\n",
        "    certain epochs.\n",
        "    \"\"\"\n",
        "    def __init__(self, patience=5, min_delta=0):\n",
        "        \"\"\"\n",
        "        :param patience: how many epochs to wait before stopping when loss is\n",
        "               not improving\n",
        "        :param min_delta: minimum difference between new loss and old loss for\n",
        "               new loss to be considered as an improvement\n",
        "        \"\"\"\n",
        "        self.patience = patience\n",
        "        self.min_delta = min_delta\n",
        "        self.counter = 0\n",
        "        self.best_loss = None\n",
        "        self.early_stop = False\n",
        "    def __call__(self, val_loss):\n",
        "        if self.best_loss == None:\n",
        "            self.best_loss = val_loss\n",
        "        elif self.best_loss - val_loss > self.min_delta:\n",
        "            self.best_loss = val_loss\n",
        "            self.counter = 0\n",
        "        elif self.best_loss - val_loss < self.min_delta:\n",
        "            self.counter += 1\n",
        "            print(f\"INFO: Early stopping counter {self.counter} of {self.patience}\")\n",
        "            if self.counter >= self.patience:\n",
        "                print('INFO: Early stopping')\n",
        "                self.early_stop = True"
      ]
    },
    {
      "cell_type": "code",
      "execution_count": null,
      "metadata": {
        "id": "LuYPc4XEdEb-"
      },
      "outputs": [],
      "source": [
        "device = 'cuda' if torch.cuda.is_available() else 'cpu'\n",
        "\n",
        "# Define network, optimizer, loss\n",
        "net = ResNet18()\n",
        "net.to(device)\n",
        "criterion = nn.CrossEntropyLoss()\n",
        "optimizer = optim.SGD(net.parameters(), lr= .01, momentum=0.9, weight_decay=5e-4)"
      ]
    },
    {
      "cell_type": "code",
      "execution_count": null,
      "metadata": {
        "id": "WSC3UOcydKWV"
      },
      "outputs": [],
      "source": [
        "def train(net, epoch, X_train=X_train):\n",
        "    print('\\nEpoch: %d' % epoch)\n",
        "    net.train()\n",
        "    train_loss = 0\n",
        "    correct = 0\n",
        "    total = 0\n",
        "    for batch_idx, (inputs, targets) in enumerate(tqdm(X_train)):\n",
        "        inputs, targets = inputs.to(device), targets.to(device)\n",
        "        optimizer.zero_grad()\n",
        "        outputs = net(inputs)\n",
        "        loss = criterion(outputs, targets)\n",
        "        loss.backward()\n",
        "        optimizer.step()\n",
        "\n",
        "        train_loss += loss.item()\n",
        "        _, predicted = outputs.max(1)\n",
        "        total += targets.size(0)\n",
        "        correct += predicted.eq(targets).sum().item()\n",
        "\n",
        "    print('Training, epoch', epoch, 'Loss: %.3f | Acc: %.3f%% (%d/%d)'% (train_loss/(len(X_train)), 100.*correct/total, correct, total))\n",
        "\n",
        "def test(net, epoch, X_test=X_test, return_accuracies = False):\n",
        "    \"test functionfor early stopping\"\n",
        "    net.eval()\n",
        "    test_loss = 0\n",
        "    correct = 0\n",
        "    total = 0\n",
        "    accuracies = []\n",
        "    with torch.no_grad():\n",
        "        for batch_idx, (inputs, targets) in enumerate(tqdm(X_test)):\n",
        "            inputs, targets = inputs.to(device), targets.to(device)\n",
        "            outputs = net(inputs)\n",
        "            loss = criterion(outputs, targets)\n",
        "\n",
        "            test_loss += loss.item()\n",
        "            _, predicted = outputs.max(1)\n",
        "            total += targets.size(0)\n",
        "            correct += predicted.eq(targets).sum().item()\n",
        "\n",
        "    print('Test, epoch', epoch, 'Loss: %.3f | Acc: %.3f%% (%d/%d)'% (test_loss/(len(X_test)), 100.*correct/total, correct, total))\n",
        "    accuracies.append(correct/total)\n",
        "    \n",
        "    if return_accuracies:\n",
        "      return test_loss/len(X_test), accuracies\n",
        "    else:\n",
        "      return test_loss/len(X_test)"
      ]
    },
    {
      "cell_type": "code",
      "execution_count": null,
      "metadata": {
        "colab": {
          "base_uri": "https://localhost:8080/"
        },
        "id": "lY49Fs__WSvB",
        "outputId": "bd3061e3-3aab-4b68-f772-25a7616d60f7"
      },
      "outputs": [
        {
          "name": "stdout",
          "output_type": "stream",
          "text": [
            "\n",
            "Epoch: 0\n"
          ]
        },
        {
          "name": "stderr",
          "output_type": "stream",
          "text": [
            "100%|██████████| 10/10 [00:00<00:00, 58.78it/s]\n"
          ]
        },
        {
          "name": "stdout",
          "output_type": "stream",
          "text": [
            "Training, epoch 0 Loss: 2.755 | Acc: 13.000% (13/100)\n"
          ]
        },
        {
          "name": "stderr",
          "output_type": "stream",
          "text": [
            "100%|██████████| 100/100 [00:04<00:00, 24.15it/s]\n"
          ]
        },
        {
          "name": "stdout",
          "output_type": "stream",
          "text": [
            "Test, epoch 0 Loss: 2.295 | Acc: 12.480% (1248/10000)\n",
            "\n",
            "Epoch: 1\n"
          ]
        },
        {
          "name": "stderr",
          "output_type": "stream",
          "text": [
            "100%|██████████| 10/10 [00:00<00:00, 63.36it/s]\n"
          ]
        },
        {
          "name": "stdout",
          "output_type": "stream",
          "text": [
            "Training, epoch 1 Loss: 2.774 | Acc: 20.000% (20/100)\n"
          ]
        },
        {
          "name": "stderr",
          "output_type": "stream",
          "text": [
            "100%|██████████| 100/100 [00:04<00:00, 24.77it/s]\n"
          ]
        },
        {
          "name": "stdout",
          "output_type": "stream",
          "text": [
            "Test, epoch 1 Loss: 8.742 | Acc: 13.370% (1337/10000)\n",
            "\n",
            "Epoch: 2\n"
          ]
        },
        {
          "name": "stderr",
          "output_type": "stream",
          "text": [
            "100%|██████████| 10/10 [00:00<00:00, 60.51it/s]\n"
          ]
        },
        {
          "name": "stdout",
          "output_type": "stream",
          "text": [
            "Training, epoch 2 Loss: 3.112 | Acc: 20.000% (20/100)\n"
          ]
        },
        {
          "name": "stderr",
          "output_type": "stream",
          "text": [
            "100%|██████████| 100/100 [00:04<00:00, 24.62it/s]\n"
          ]
        },
        {
          "name": "stdout",
          "output_type": "stream",
          "text": [
            "Test, epoch 2 Loss: 11.250 | Acc: 12.150% (1215/10000)\n",
            "\n",
            "Epoch: 3\n"
          ]
        },
        {
          "name": "stderr",
          "output_type": "stream",
          "text": [
            "100%|██████████| 10/10 [00:00<00:00, 61.52it/s]\n"
          ]
        },
        {
          "name": "stdout",
          "output_type": "stream",
          "text": [
            "Training, epoch 3 Loss: 2.583 | Acc: 27.000% (27/100)\n"
          ]
        },
        {
          "name": "stderr",
          "output_type": "stream",
          "text": [
            "100%|██████████| 100/100 [00:04<00:00, 24.63it/s]\n"
          ]
        },
        {
          "name": "stdout",
          "output_type": "stream",
          "text": [
            "Test, epoch 3 Loss: 5.216 | Acc: 16.070% (1607/10000)\n",
            "\n",
            "Epoch: 4\n"
          ]
        },
        {
          "name": "stderr",
          "output_type": "stream",
          "text": [
            "100%|██████████| 10/10 [00:00<00:00, 61.61it/s]\n"
          ]
        },
        {
          "name": "stdout",
          "output_type": "stream",
          "text": [
            "Training, epoch 4 Loss: 2.659 | Acc: 32.000% (32/100)\n"
          ]
        },
        {
          "name": "stderr",
          "output_type": "stream",
          "text": [
            "100%|██████████| 100/100 [00:04<00:00, 24.51it/s]\n"
          ]
        },
        {
          "name": "stdout",
          "output_type": "stream",
          "text": [
            "Test, epoch 4 Loss: 7.581 | Acc: 15.380% (1538/10000)\n",
            "\n",
            "Epoch: 5\n"
          ]
        },
        {
          "name": "stderr",
          "output_type": "stream",
          "text": [
            "100%|██████████| 10/10 [00:00<00:00, 61.44it/s]\n"
          ]
        },
        {
          "name": "stdout",
          "output_type": "stream",
          "text": [
            "Training, epoch 5 Loss: 2.206 | Acc: 34.000% (34/100)\n"
          ]
        },
        {
          "name": "stderr",
          "output_type": "stream",
          "text": [
            "100%|██████████| 100/100 [00:04<00:00, 24.96it/s]\n"
          ]
        },
        {
          "name": "stdout",
          "output_type": "stream",
          "text": [
            "Test, epoch 5 Loss: 4.863 | Acc: 13.530% (1353/10000)\n",
            "\n",
            "Epoch: 6\n"
          ]
        },
        {
          "name": "stderr",
          "output_type": "stream",
          "text": [
            "100%|██████████| 10/10 [00:00<00:00, 62.31it/s]\n"
          ]
        },
        {
          "name": "stdout",
          "output_type": "stream",
          "text": [
            "Training, epoch 6 Loss: 1.622 | Acc: 45.000% (45/100)\n"
          ]
        },
        {
          "name": "stderr",
          "output_type": "stream",
          "text": [
            "100%|██████████| 100/100 [00:04<00:00, 24.39it/s]\n"
          ]
        },
        {
          "name": "stdout",
          "output_type": "stream",
          "text": [
            "Test, epoch 6 Loss: 4.171 | Acc: 17.360% (1736/10000)\n",
            "\n",
            "Epoch: 7\n"
          ]
        },
        {
          "name": "stderr",
          "output_type": "stream",
          "text": [
            "100%|██████████| 10/10 [00:00<00:00, 60.87it/s]\n"
          ]
        },
        {
          "name": "stdout",
          "output_type": "stream",
          "text": [
            "Training, epoch 7 Loss: 1.415 | Acc: 52.000% (52/100)\n"
          ]
        },
        {
          "name": "stderr",
          "output_type": "stream",
          "text": [
            "100%|██████████| 100/100 [00:04<00:00, 24.27it/s]\n"
          ]
        },
        {
          "name": "stdout",
          "output_type": "stream",
          "text": [
            "Test, epoch 7 Loss: 3.309 | Acc: 20.260% (2026/10000)\n",
            "\n",
            "Epoch: 8\n"
          ]
        },
        {
          "name": "stderr",
          "output_type": "stream",
          "text": [
            "100%|██████████| 10/10 [00:00<00:00, 58.27it/s]\n"
          ]
        },
        {
          "name": "stdout",
          "output_type": "stream",
          "text": [
            "Training, epoch 8 Loss: 1.183 | Acc: 64.000% (64/100)\n"
          ]
        },
        {
          "name": "stderr",
          "output_type": "stream",
          "text": [
            "100%|██████████| 100/100 [00:04<00:00, 24.35it/s]\n"
          ]
        },
        {
          "name": "stdout",
          "output_type": "stream",
          "text": [
            "Test, epoch 8 Loss: 3.659 | Acc: 21.680% (2168/10000)\n",
            "\n",
            "Epoch: 9\n"
          ]
        },
        {
          "name": "stderr",
          "output_type": "stream",
          "text": [
            "100%|██████████| 10/10 [00:00<00:00, 59.57it/s]\n"
          ]
        },
        {
          "name": "stdout",
          "output_type": "stream",
          "text": [
            "Training, epoch 9 Loss: 1.055 | Acc: 65.000% (65/100)\n"
          ]
        },
        {
          "name": "stderr",
          "output_type": "stream",
          "text": [
            "100%|██████████| 100/100 [00:04<00:00, 24.35it/s]\n"
          ]
        },
        {
          "name": "stdout",
          "output_type": "stream",
          "text": [
            "Test, epoch 9 Loss: 4.047 | Acc: 20.140% (2014/10000)\n",
            "\n",
            "Epoch: 10\n"
          ]
        },
        {
          "name": "stderr",
          "output_type": "stream",
          "text": [
            "100%|██████████| 10/10 [00:00<00:00, 60.41it/s]\n"
          ]
        },
        {
          "name": "stdout",
          "output_type": "stream",
          "text": [
            "Training, epoch 10 Loss: 1.145 | Acc: 69.000% (69/100)\n"
          ]
        },
        {
          "name": "stderr",
          "output_type": "stream",
          "text": [
            "100%|██████████| 100/100 [00:04<00:00, 24.56it/s]\n"
          ]
        },
        {
          "name": "stdout",
          "output_type": "stream",
          "text": [
            "Test, epoch 10 Loss: 4.405 | Acc: 18.950% (1895/10000)\n",
            "\n",
            "Epoch: 11\n"
          ]
        },
        {
          "name": "stderr",
          "output_type": "stream",
          "text": [
            "100%|██████████| 10/10 [00:00<00:00, 60.36it/s]\n"
          ]
        },
        {
          "name": "stdout",
          "output_type": "stream",
          "text": [
            "Training, epoch 11 Loss: 0.942 | Acc: 71.000% (71/100)\n"
          ]
        },
        {
          "name": "stderr",
          "output_type": "stream",
          "text": [
            "100%|██████████| 100/100 [00:04<00:00, 24.25it/s]\n"
          ]
        },
        {
          "name": "stdout",
          "output_type": "stream",
          "text": [
            "Test, epoch 11 Loss: 4.676 | Acc: 20.380% (2038/10000)\n",
            "\n",
            "Epoch: 12\n"
          ]
        },
        {
          "name": "stderr",
          "output_type": "stream",
          "text": [
            "100%|██████████| 10/10 [00:00<00:00, 59.50it/s]\n"
          ]
        },
        {
          "name": "stdout",
          "output_type": "stream",
          "text": [
            "Training, epoch 12 Loss: 0.737 | Acc: 76.000% (76/100)\n"
          ]
        },
        {
          "name": "stderr",
          "output_type": "stream",
          "text": [
            "100%|██████████| 100/100 [00:04<00:00, 24.35it/s]\n"
          ]
        },
        {
          "name": "stdout",
          "output_type": "stream",
          "text": [
            "Test, epoch 12 Loss: 4.060 | Acc: 22.440% (2244/10000)\n",
            "\n",
            "Epoch: 13\n"
          ]
        },
        {
          "name": "stderr",
          "output_type": "stream",
          "text": [
            "100%|██████████| 10/10 [00:00<00:00, 57.40it/s]\n"
          ]
        },
        {
          "name": "stdout",
          "output_type": "stream",
          "text": [
            "Training, epoch 13 Loss: 0.420 | Acc: 87.000% (87/100)\n"
          ]
        },
        {
          "name": "stderr",
          "output_type": "stream",
          "text": [
            "100%|██████████| 100/100 [00:04<00:00, 24.51it/s]\n"
          ]
        },
        {
          "name": "stdout",
          "output_type": "stream",
          "text": [
            "Test, epoch 13 Loss: 4.219 | Acc: 23.760% (2376/10000)\n",
            "\n",
            "Epoch: 14\n"
          ]
        },
        {
          "name": "stderr",
          "output_type": "stream",
          "text": [
            "100%|██████████| 10/10 [00:00<00:00, 58.49it/s]\n"
          ]
        },
        {
          "name": "stdout",
          "output_type": "stream",
          "text": [
            "Training, epoch 14 Loss: 0.200 | Acc: 95.000% (95/100)\n"
          ]
        },
        {
          "name": "stderr",
          "output_type": "stream",
          "text": [
            "100%|██████████| 100/100 [00:04<00:00, 24.70it/s]\n"
          ]
        },
        {
          "name": "stdout",
          "output_type": "stream",
          "text": [
            "Test, epoch 14 Loss: 4.666 | Acc: 22.030% (2203/10000)\n",
            "\n",
            "Epoch: 15\n"
          ]
        },
        {
          "name": "stderr",
          "output_type": "stream",
          "text": [
            "100%|██████████| 10/10 [00:00<00:00, 61.45it/s]\n"
          ]
        },
        {
          "name": "stdout",
          "output_type": "stream",
          "text": [
            "Training, epoch 15 Loss: 0.316 | Acc: 90.000% (90/100)\n"
          ]
        },
        {
          "name": "stderr",
          "output_type": "stream",
          "text": [
            "100%|██████████| 100/100 [00:04<00:00, 24.82it/s]\n"
          ]
        },
        {
          "name": "stdout",
          "output_type": "stream",
          "text": [
            "Test, epoch 15 Loss: 4.800 | Acc: 21.280% (2128/10000)\n",
            "\n",
            "Epoch: 16\n"
          ]
        },
        {
          "name": "stderr",
          "output_type": "stream",
          "text": [
            "100%|██████████| 10/10 [00:00<00:00, 62.09it/s]\n"
          ]
        },
        {
          "name": "stdout",
          "output_type": "stream",
          "text": [
            "Training, epoch 16 Loss: 0.331 | Acc: 92.000% (92/100)\n"
          ]
        },
        {
          "name": "stderr",
          "output_type": "stream",
          "text": [
            "100%|██████████| 100/100 [00:04<00:00, 24.50it/s]\n"
          ]
        },
        {
          "name": "stdout",
          "output_type": "stream",
          "text": [
            "Test, epoch 16 Loss: 4.836 | Acc: 21.950% (2195/10000)\n",
            "\n",
            "Epoch: 17\n"
          ]
        },
        {
          "name": "stderr",
          "output_type": "stream",
          "text": [
            "100%|██████████| 10/10 [00:00<00:00, 63.40it/s]\n"
          ]
        },
        {
          "name": "stdout",
          "output_type": "stream",
          "text": [
            "Training, epoch 17 Loss: 0.234 | Acc: 92.000% (92/100)\n"
          ]
        },
        {
          "name": "stderr",
          "output_type": "stream",
          "text": [
            "100%|██████████| 100/100 [00:04<00:00, 24.61it/s]\n"
          ]
        },
        {
          "name": "stdout",
          "output_type": "stream",
          "text": [
            "Test, epoch 17 Loss: 4.631 | Acc: 23.100% (2310/10000)\n",
            "\n",
            "Epoch: 18\n"
          ]
        },
        {
          "name": "stderr",
          "output_type": "stream",
          "text": [
            "100%|██████████| 10/10 [00:00<00:00, 62.35it/s]\n"
          ]
        },
        {
          "name": "stdout",
          "output_type": "stream",
          "text": [
            "Training, epoch 18 Loss: 0.134 | Acc: 96.000% (96/100)\n"
          ]
        },
        {
          "name": "stderr",
          "output_type": "stream",
          "text": [
            "100%|██████████| 100/100 [00:04<00:00, 24.70it/s]\n"
          ]
        },
        {
          "name": "stdout",
          "output_type": "stream",
          "text": [
            "Test, epoch 18 Loss: 4.950 | Acc: 22.090% (2209/10000)\n",
            "\n",
            "Epoch: 19\n"
          ]
        },
        {
          "name": "stderr",
          "output_type": "stream",
          "text": [
            "100%|██████████| 10/10 [00:00<00:00, 58.84it/s]\n"
          ]
        },
        {
          "name": "stdout",
          "output_type": "stream",
          "text": [
            "Training, epoch 19 Loss: 0.193 | Acc: 94.000% (94/100)\n"
          ]
        },
        {
          "name": "stderr",
          "output_type": "stream",
          "text": [
            "100%|██████████| 100/100 [00:04<00:00, 24.70it/s]\n"
          ]
        },
        {
          "name": "stdout",
          "output_type": "stream",
          "text": [
            "Test, epoch 19 Loss: 4.957 | Acc: 21.480% (2148/10000)\n",
            "\n",
            "Epoch: 20\n"
          ]
        },
        {
          "name": "stderr",
          "output_type": "stream",
          "text": [
            "100%|██████████| 10/10 [00:00<00:00, 61.36it/s]\n"
          ]
        },
        {
          "name": "stdout",
          "output_type": "stream",
          "text": [
            "Training, epoch 20 Loss: 0.129 | Acc: 96.000% (96/100)\n"
          ]
        },
        {
          "name": "stderr",
          "output_type": "stream",
          "text": [
            "100%|██████████| 100/100 [00:04<00:00, 24.89it/s]\n"
          ]
        },
        {
          "name": "stdout",
          "output_type": "stream",
          "text": [
            "Test, epoch 20 Loss: 4.500 | Acc: 22.900% (2290/10000)\n",
            "\n",
            "Epoch: 21\n"
          ]
        },
        {
          "name": "stderr",
          "output_type": "stream",
          "text": [
            "100%|██████████| 10/10 [00:00<00:00, 62.30it/s]\n"
          ]
        },
        {
          "name": "stdout",
          "output_type": "stream",
          "text": [
            "Training, epoch 21 Loss: 0.156 | Acc: 93.000% (93/100)\n"
          ]
        },
        {
          "name": "stderr",
          "output_type": "stream",
          "text": [
            "100%|██████████| 100/100 [00:04<00:00, 24.06it/s]\n"
          ]
        },
        {
          "name": "stdout",
          "output_type": "stream",
          "text": [
            "Test, epoch 21 Loss: 4.734 | Acc: 23.120% (2312/10000)\n",
            "\n",
            "Epoch: 22\n"
          ]
        },
        {
          "name": "stderr",
          "output_type": "stream",
          "text": [
            "100%|██████████| 10/10 [00:00<00:00, 62.61it/s]\n"
          ]
        },
        {
          "name": "stdout",
          "output_type": "stream",
          "text": [
            "Training, epoch 22 Loss: 0.239 | Acc: 95.000% (95/100)\n"
          ]
        },
        {
          "name": "stderr",
          "output_type": "stream",
          "text": [
            "100%|██████████| 100/100 [00:04<00:00, 24.67it/s]\n"
          ]
        },
        {
          "name": "stdout",
          "output_type": "stream",
          "text": [
            "Test, epoch 22 Loss: 5.293 | Acc: 19.530% (1953/10000)\n",
            "\n",
            "Epoch: 23\n"
          ]
        },
        {
          "name": "stderr",
          "output_type": "stream",
          "text": [
            "100%|██████████| 10/10 [00:00<00:00, 61.49it/s]\n"
          ]
        },
        {
          "name": "stdout",
          "output_type": "stream",
          "text": [
            "Training, epoch 23 Loss: 0.097 | Acc: 97.000% (97/100)\n"
          ]
        },
        {
          "name": "stderr",
          "output_type": "stream",
          "text": [
            "100%|██████████| 100/100 [00:04<00:00, 24.75it/s]\n"
          ]
        },
        {
          "name": "stdout",
          "output_type": "stream",
          "text": [
            "Test, epoch 23 Loss: 5.653 | Acc: 20.560% (2056/10000)\n",
            "\n",
            "Epoch: 24\n"
          ]
        },
        {
          "name": "stderr",
          "output_type": "stream",
          "text": [
            "100%|██████████| 10/10 [00:00<00:00, 61.70it/s]\n"
          ]
        },
        {
          "name": "stdout",
          "output_type": "stream",
          "text": [
            "Training, epoch 24 Loss: 0.057 | Acc: 98.000% (98/100)\n"
          ]
        },
        {
          "name": "stderr",
          "output_type": "stream",
          "text": [
            "100%|██████████| 100/100 [00:04<00:00, 24.63it/s]"
          ]
        },
        {
          "name": "stdout",
          "output_type": "stream",
          "text": [
            "Test, epoch 24 Loss: 5.402 | Acc: 21.660% (2166/10000)\n"
          ]
        },
        {
          "name": "stderr",
          "output_type": "stream",
          "text": [
            "\n"
          ]
        }
      ],
      "source": [
        "for epoch in range(0, 25):\n",
        "    train(net, epoch)\n",
        "    test(net, epoch)"
      ]
    },
    {
      "cell_type": "code",
      "execution_count": null,
      "metadata": {
        "colab": {
          "base_uri": "https://localhost:8080/"
        },
        "id": "hhUkV9Y5rG-K",
        "outputId": "6e9a4f2b-2f96-44ef-d389-1e278e4781b2"
      },
      "outputs": [
        {
          "name": "stdout",
          "output_type": "stream",
          "text": [
            "\n",
            "Epoch: 0\n"
          ]
        },
        {
          "name": "stderr",
          "output_type": "stream",
          "text": [
            "100%|██████████| 10/10 [00:00<00:00, 60.23it/s]\n"
          ]
        },
        {
          "name": "stdout",
          "output_type": "stream",
          "text": [
            "Training, epoch 0 Loss: 2.887 | Acc: 21.000% (21/100)\n"
          ]
        },
        {
          "name": "stderr",
          "output_type": "stream",
          "text": [
            "100%|██████████| 1000/1000 [00:06<00:00, 157.66it/s]\n"
          ]
        },
        {
          "name": "stdout",
          "output_type": "stream",
          "text": [
            "Test, epoch 0 Loss: 2.249 | Acc: 14.200% (1420/10000)\n",
            "\n",
            "Epoch: 1\n"
          ]
        },
        {
          "name": "stderr",
          "output_type": "stream",
          "text": [
            "100%|██████████| 10/10 [00:00<00:00, 60.41it/s]\n"
          ]
        },
        {
          "name": "stdout",
          "output_type": "stream",
          "text": [
            "Training, epoch 1 Loss: 3.067 | Acc: 16.000% (16/100)\n"
          ]
        },
        {
          "name": "stderr",
          "output_type": "stream",
          "text": [
            "100%|██████████| 1000/1000 [00:06<00:00, 152.09it/s]\n"
          ]
        },
        {
          "name": "stdout",
          "output_type": "stream",
          "text": [
            "Test, epoch 1 Loss: 92.125 | Acc: 13.120% (1312/10000)\n",
            "\n",
            "Epoch: 2\n"
          ]
        },
        {
          "name": "stderr",
          "output_type": "stream",
          "text": [
            "100%|██████████| 10/10 [00:00<00:00, 65.14it/s]\n"
          ]
        },
        {
          "name": "stdout",
          "output_type": "stream",
          "text": [
            "Training, epoch 2 Loss: 2.977 | Acc: 16.000% (16/100)\n"
          ]
        },
        {
          "name": "stderr",
          "output_type": "stream",
          "text": [
            "100%|██████████| 1000/1000 [00:05<00:00, 172.96it/s]\n"
          ]
        },
        {
          "name": "stdout",
          "output_type": "stream",
          "text": [
            "Test, epoch 2 Loss: 14.831 | Acc: 15.240% (1524/10000)\n",
            "\n",
            "Epoch: 3\n"
          ]
        },
        {
          "name": "stderr",
          "output_type": "stream",
          "text": [
            "100%|██████████| 10/10 [00:00<00:00, 65.74it/s]\n"
          ]
        },
        {
          "name": "stdout",
          "output_type": "stream",
          "text": [
            "Training, epoch 3 Loss: 2.317 | Acc: 27.000% (27/100)\n"
          ]
        },
        {
          "name": "stderr",
          "output_type": "stream",
          "text": [
            "100%|██████████| 1000/1000 [00:05<00:00, 172.27it/s]\n"
          ]
        },
        {
          "name": "stdout",
          "output_type": "stream",
          "text": [
            "Test, epoch 3 Loss: 5.748 | Acc: 16.510% (1651/10000)\n",
            "\n",
            "Epoch: 4\n"
          ]
        },
        {
          "name": "stderr",
          "output_type": "stream",
          "text": [
            "100%|██████████| 10/10 [00:00<00:00, 63.14it/s]\n"
          ]
        },
        {
          "name": "stdout",
          "output_type": "stream",
          "text": [
            "Training, epoch 4 Loss: 2.009 | Acc: 38.000% (38/100)\n"
          ]
        },
        {
          "name": "stderr",
          "output_type": "stream",
          "text": [
            "100%|██████████| 1000/1000 [00:05<00:00, 172.25it/s]\n"
          ]
        },
        {
          "name": "stdout",
          "output_type": "stream",
          "text": [
            "Test, epoch 4 Loss: 3.787 | Acc: 17.080% (1708/10000)\n",
            "\n",
            "Epoch: 5\n"
          ]
        },
        {
          "name": "stderr",
          "output_type": "stream",
          "text": [
            "100%|██████████| 10/10 [00:00<00:00, 63.16it/s]\n"
          ]
        },
        {
          "name": "stdout",
          "output_type": "stream",
          "text": [
            "Training, epoch 5 Loss: 1.944 | Acc: 33.000% (33/100)\n"
          ]
        },
        {
          "name": "stderr",
          "output_type": "stream",
          "text": [
            "100%|██████████| 1000/1000 [00:05<00:00, 173.00it/s]\n"
          ]
        },
        {
          "name": "stdout",
          "output_type": "stream",
          "text": [
            "Test, epoch 5 Loss: 5.722 | Acc: 17.430% (1743/10000)\n",
            "\n",
            "Epoch: 6\n"
          ]
        },
        {
          "name": "stderr",
          "output_type": "stream",
          "text": [
            "100%|██████████| 10/10 [00:00<00:00, 63.30it/s]\n"
          ]
        },
        {
          "name": "stdout",
          "output_type": "stream",
          "text": [
            "Training, epoch 6 Loss: 1.715 | Acc: 36.000% (36/100)\n"
          ]
        },
        {
          "name": "stderr",
          "output_type": "stream",
          "text": [
            "100%|██████████| 1000/1000 [00:05<00:00, 172.70it/s]\n"
          ]
        },
        {
          "name": "stdout",
          "output_type": "stream",
          "text": [
            "Test, epoch 6 Loss: 2.687 | Acc: 16.290% (1629/10000)\n",
            "\n",
            "Epoch: 7\n"
          ]
        },
        {
          "name": "stderr",
          "output_type": "stream",
          "text": [
            "100%|██████████| 10/10 [00:00<00:00, 63.60it/s]\n"
          ]
        },
        {
          "name": "stdout",
          "output_type": "stream",
          "text": [
            "Training, epoch 7 Loss: 1.370 | Acc: 54.000% (54/100)\n"
          ]
        },
        {
          "name": "stderr",
          "output_type": "stream",
          "text": [
            "100%|██████████| 1000/1000 [00:05<00:00, 172.97it/s]\n"
          ]
        },
        {
          "name": "stdout",
          "output_type": "stream",
          "text": [
            "Test, epoch 7 Loss: 2.873 | Acc: 19.040% (1904/10000)\n",
            "\n",
            "Epoch: 8\n"
          ]
        },
        {
          "name": "stderr",
          "output_type": "stream",
          "text": [
            "100%|██████████| 10/10 [00:00<00:00, 63.84it/s]\n"
          ]
        },
        {
          "name": "stdout",
          "output_type": "stream",
          "text": [
            "Training, epoch 8 Loss: 1.430 | Acc: 50.000% (50/100)\n"
          ]
        },
        {
          "name": "stderr",
          "output_type": "stream",
          "text": [
            "100%|██████████| 1000/1000 [00:06<00:00, 151.84it/s]\n"
          ]
        },
        {
          "name": "stdout",
          "output_type": "stream",
          "text": [
            "Test, epoch 8 Loss: 3.050 | Acc: 17.760% (1776/10000)\n",
            "\n",
            "Epoch: 9\n"
          ]
        },
        {
          "name": "stderr",
          "output_type": "stream",
          "text": [
            "100%|██████████| 10/10 [00:00<00:00, 63.36it/s]\n"
          ]
        },
        {
          "name": "stdout",
          "output_type": "stream",
          "text": [
            "Training, epoch 9 Loss: 1.455 | Acc: 52.000% (52/100)\n"
          ]
        },
        {
          "name": "stderr",
          "output_type": "stream",
          "text": [
            "100%|██████████| 1000/1000 [00:05<00:00, 171.62it/s]\n"
          ]
        },
        {
          "name": "stdout",
          "output_type": "stream",
          "text": [
            "Test, epoch 9 Loss: 3.579 | Acc: 22.190% (2219/10000)\n",
            "\n",
            "Epoch: 10\n"
          ]
        },
        {
          "name": "stderr",
          "output_type": "stream",
          "text": [
            "100%|██████████| 10/10 [00:00<00:00, 63.85it/s]\n"
          ]
        },
        {
          "name": "stdout",
          "output_type": "stream",
          "text": [
            "Training, epoch 10 Loss: 1.433 | Acc: 56.000% (56/100)\n"
          ]
        },
        {
          "name": "stderr",
          "output_type": "stream",
          "text": [
            "100%|██████████| 1000/1000 [00:05<00:00, 173.13it/s]\n"
          ]
        },
        {
          "name": "stdout",
          "output_type": "stream",
          "text": [
            "Test, epoch 10 Loss: 3.559 | Acc: 19.350% (1935/10000)\n",
            "\n",
            "Epoch: 11\n"
          ]
        },
        {
          "name": "stderr",
          "output_type": "stream",
          "text": [
            "100%|██████████| 10/10 [00:00<00:00, 64.37it/s]\n"
          ]
        },
        {
          "name": "stdout",
          "output_type": "stream",
          "text": [
            "Training, epoch 11 Loss: 1.065 | Acc: 66.000% (66/100)\n"
          ]
        },
        {
          "name": "stderr",
          "output_type": "stream",
          "text": [
            "100%|██████████| 1000/1000 [00:05<00:00, 171.21it/s]\n"
          ]
        },
        {
          "name": "stdout",
          "output_type": "stream",
          "text": [
            "Test, epoch 11 Loss: 3.608 | Acc: 21.380% (2138/10000)\n",
            "\n",
            "Epoch: 12\n"
          ]
        },
        {
          "name": "stderr",
          "output_type": "stream",
          "text": [
            "100%|██████████| 10/10 [00:00<00:00, 63.55it/s]\n"
          ]
        },
        {
          "name": "stdout",
          "output_type": "stream",
          "text": [
            "Training, epoch 12 Loss: 1.105 | Acc: 67.000% (67/100)\n"
          ]
        },
        {
          "name": "stderr",
          "output_type": "stream",
          "text": [
            "100%|██████████| 1000/1000 [00:07<00:00, 141.99it/s]\n"
          ]
        },
        {
          "name": "stdout",
          "output_type": "stream",
          "text": [
            "Test, epoch 12 Loss: 3.503 | Acc: 19.720% (1972/10000)\n",
            "\n",
            "Epoch: 13\n"
          ]
        },
        {
          "name": "stderr",
          "output_type": "stream",
          "text": [
            "100%|██████████| 10/10 [00:00<00:00, 63.60it/s]\n"
          ]
        },
        {
          "name": "stdout",
          "output_type": "stream",
          "text": [
            "Training, epoch 13 Loss: 0.858 | Acc: 66.000% (66/100)\n"
          ]
        },
        {
          "name": "stderr",
          "output_type": "stream",
          "text": [
            "100%|██████████| 1000/1000 [00:05<00:00, 173.29it/s]\n"
          ]
        },
        {
          "name": "stdout",
          "output_type": "stream",
          "text": [
            "Test, epoch 13 Loss: 4.449 | Acc: 21.320% (2132/10000)\n",
            "\n",
            "Epoch: 14\n"
          ]
        },
        {
          "name": "stderr",
          "output_type": "stream",
          "text": [
            "100%|██████████| 10/10 [00:00<00:00, 65.04it/s]\n"
          ]
        },
        {
          "name": "stdout",
          "output_type": "stream",
          "text": [
            "Training, epoch 14 Loss: 0.633 | Acc: 74.000% (74/100)\n"
          ]
        },
        {
          "name": "stderr",
          "output_type": "stream",
          "text": [
            "100%|██████████| 1000/1000 [00:06<00:00, 158.73it/s]\n"
          ]
        },
        {
          "name": "stdout",
          "output_type": "stream",
          "text": [
            "Test, epoch 14 Loss: 4.015 | Acc: 20.010% (2001/10000)\n",
            "\n",
            "Epoch: 15\n"
          ]
        },
        {
          "name": "stderr",
          "output_type": "stream",
          "text": [
            "100%|██████████| 10/10 [00:00<00:00, 63.49it/s]\n"
          ]
        },
        {
          "name": "stdout",
          "output_type": "stream",
          "text": [
            "Training, epoch 15 Loss: 0.664 | Acc: 80.000% (80/100)\n"
          ]
        },
        {
          "name": "stderr",
          "output_type": "stream",
          "text": [
            "100%|██████████| 1000/1000 [00:06<00:00, 162.92it/s]\n"
          ]
        },
        {
          "name": "stdout",
          "output_type": "stream",
          "text": [
            "Test, epoch 15 Loss: 6.146 | Acc: 19.290% (1929/10000)\n",
            "\n",
            "Epoch: 16\n"
          ]
        },
        {
          "name": "stderr",
          "output_type": "stream",
          "text": [
            "100%|██████████| 10/10 [00:00<00:00, 62.69it/s]\n"
          ]
        },
        {
          "name": "stdout",
          "output_type": "stream",
          "text": [
            "Training, epoch 16 Loss: 0.717 | Acc: 76.000% (76/100)\n"
          ]
        },
        {
          "name": "stderr",
          "output_type": "stream",
          "text": [
            "100%|██████████| 1000/1000 [00:05<00:00, 171.22it/s]\n"
          ]
        },
        {
          "name": "stdout",
          "output_type": "stream",
          "text": [
            "Test, epoch 16 Loss: 4.266 | Acc: 20.070% (2007/10000)\n",
            "\n",
            "Epoch: 17\n"
          ]
        },
        {
          "name": "stderr",
          "output_type": "stream",
          "text": [
            "100%|██████████| 10/10 [00:00<00:00, 62.76it/s]\n"
          ]
        },
        {
          "name": "stdout",
          "output_type": "stream",
          "text": [
            "Training, epoch 17 Loss: 0.848 | Acc: 82.000% (82/100)\n"
          ]
        },
        {
          "name": "stderr",
          "output_type": "stream",
          "text": [
            "100%|██████████| 1000/1000 [00:05<00:00, 172.03it/s]\n"
          ]
        },
        {
          "name": "stdout",
          "output_type": "stream",
          "text": [
            "Test, epoch 17 Loss: 4.264 | Acc: 20.580% (2058/10000)\n",
            "\n",
            "Epoch: 18\n"
          ]
        },
        {
          "name": "stderr",
          "output_type": "stream",
          "text": [
            "100%|██████████| 10/10 [00:00<00:00, 64.90it/s]\n"
          ]
        },
        {
          "name": "stdout",
          "output_type": "stream",
          "text": [
            "Training, epoch 18 Loss: 0.482 | Acc: 85.000% (85/100)\n"
          ]
        },
        {
          "name": "stderr",
          "output_type": "stream",
          "text": [
            "100%|██████████| 1000/1000 [00:05<00:00, 172.18it/s]\n"
          ]
        },
        {
          "name": "stdout",
          "output_type": "stream",
          "text": [
            "Test, epoch 18 Loss: 4.211 | Acc: 19.920% (1992/10000)\n",
            "\n",
            "Epoch: 19\n"
          ]
        },
        {
          "name": "stderr",
          "output_type": "stream",
          "text": [
            "100%|██████████| 10/10 [00:00<00:00, 66.61it/s]\n"
          ]
        },
        {
          "name": "stdout",
          "output_type": "stream",
          "text": [
            "Training, epoch 19 Loss: 0.381 | Acc: 89.000% (89/100)\n"
          ]
        },
        {
          "name": "stderr",
          "output_type": "stream",
          "text": [
            "100%|██████████| 1000/1000 [00:05<00:00, 172.17it/s]"
          ]
        },
        {
          "name": "stdout",
          "output_type": "stream",
          "text": [
            "Test, epoch 19 Loss: 8.999 | Acc: 18.720% (1872/10000)\n"
          ]
        },
        {
          "name": "stderr",
          "output_type": "stream",
          "text": [
            "\n"
          ]
        }
      ],
      "source": [
        "for epoch in range(0, 20):\n",
        "    train(net, epoch)\n",
        "    test(net, epoch)"
      ]
    },
    {
      "cell_type": "markdown",
      "metadata": {
        "id": "_s7-ILBp6z26"
      },
      "source": [
        "### Results\n",
        "Here we report the results of the epoch with the best test accuracy\n",
        "\n",
        "| Model | Number of  epochs  | Train accuracy | Test accuracy | Full data accuracy|\n",
        "|------|------|------|------|------|\n",
        "|   Resnet18(from scratch)  | 20 | 52% | 22.19% |93.02%*|\n",
        "\n",
        "*with data augmentation, source: https://github.com/kuangliu/pytorch-cifar"
      ]
    },
    {
      "cell_type": "markdown",
      "metadata": {
        "id": "JLv78we5jGKo"
      },
      "source": [
        "# Transfer learning"
      ]
    },
    {
      "cell_type": "markdown",
      "metadata": {
        "id": "et0xds0xjGKo"
      },
      "source": [
        "We propose to use pre-trained models on a classification task, in order to improve the results of our setting."
      ]
    },
    {
      "cell_type": "markdown",
      "metadata": {
        "id": "ErqP4xNMjGKo"
      },
      "source": [
        "## ImageNet features"
      ]
    },
    {
      "cell_type": "markdown",
      "metadata": {
        "id": "CyHaYiMCjGKo"
      },
      "source": [
        "Now, we will use a model pre-trained on ImageNet and see how well it performs on CIFAR. A list of ImageNet pre-trained models is available on : https://pytorch.org/vision/stable/models.html\n",
        "\n",
        "__Question 4 (3 points) :__ Pick a model from the list above, adapt it for CIFAR and retrain its final layer (or a block of layers, depending on the resources to which you have access to). Report its accuracy."
      ]
    },
    {
      "cell_type": "code",
      "execution_count": null,
      "metadata": {
        "collapsed": true,
        "id": "DQu_qudYjGKo"
      },
      "outputs": [],
      "source": [
        "class Resnet_model(nn.Module):\n",
        "\n",
        "    def __init__(self, freeze=True, nclasses=10):\n",
        "        super(Resnet_model, self).__init__()\n",
        "\n",
        "        pretrained_resnet = models.resnet18(pretrained=True)\n",
        "        num_features = pretrained_resnet.fc.in_features\n",
        "\n",
        "        self.resnet_layer =  torch.nn.Sequential(*list(pretrained_resnet.children())[:-1])\n",
        "\n",
        "        # freeze resnet layers and only train the classification layer \n",
        "        if freeze:\n",
        "            for p in self.resnet_layer.parameters():\n",
        "                p.requires_grad = False\n",
        "\n",
        "        # classification layer\n",
        "        self.fc = nn.Linear(num_features, nclasses)\n",
        "\n",
        "    def forward(self, x):\n",
        "        out = self.resnet_layer(x)\n",
        "        out = out.view(x.shape[0],-1)\n",
        "        out = self.fc(out)\n",
        "        return out"
      ]
    },
    {
      "cell_type": "code",
      "execution_count": null,
      "metadata": {
        "colab": {
          "base_uri": "https://localhost:8080/",
          "height": 67,
          "referenced_widgets": [
            "e619279357f64f8096b3ca9eacca0e9c",
            "1f49cd110c89480cbd1fed701b7a0da2",
            "f929c887e938411384883ed0fd38b19d",
            "e29597a206c746a3b9dec0f0f7e147d1",
            "8810dfe1201646e0b77e9439de7cc648",
            "a624b6cf7e6f4b41a42fa9d9a4a8127e",
            "e12120852fdb4cb9af6d5a28ea4b1b24",
            "79756f1b1aaf476da4fcafd28ef02c0d",
            "ebf2d9a7a9e6492fb2058ad988f669e6",
            "212bb8528e7947009e89abb0dc149357",
            "4e707123b46b4221a660b38b3b6ac8c3"
          ]
        },
        "id": "GIOa6AmjC67U",
        "outputId": "e8836c86-dbef-4c08-db1f-82899b5a85ed"
      },
      "outputs": [
        {
          "name": "stderr",
          "output_type": "stream",
          "text": [
            "Downloading: \"https://download.pytorch.org/models/resnet18-f37072fd.pth\" to /root/.cache/torch/hub/checkpoints/resnet18-f37072fd.pth\n"
          ]
        },
        {
          "data": {
            "application/vnd.jupyter.widget-view+json": {
              "model_id": "e619279357f64f8096b3ca9eacca0e9c",
              "version_major": 2,
              "version_minor": 0
            },
            "text/plain": [
              "  0%|          | 0.00/44.7M [00:00<?, ?B/s]"
            ]
          },
          "metadata": {},
          "output_type": "display_data"
        }
      ],
      "source": [
        "pretrained_net = Resnet_model(freeze=False)\n",
        "pretrained_net = pretrained_net.to(device)\n",
        "\n",
        "criterion = nn.CrossEntropyLoss()\n",
        "optimizer = optim.SGD(pretrained_net .parameters(), lr= .01, momentum=0.7, weight_decay=2e-4)\n",
        "scheduler = torch.optim.lr_scheduler.CosineAnnealingLR(optimizer, T_max=200)\n",
        "early_stopping = EarlyStopping(patience=6, min_delta=0)"
      ]
    },
    {
      "cell_type": "markdown",
      "metadata": {
        "id": "2Gd4rtcS8wkX"
      },
      "source": [
        "This model was pretrained on ImageNet images, which had bigger size and used a different normalization parameters, therefore we will resize our images and change their normalization to make the best out of the pre-training."
      ]
    },
    {
      "cell_type": "code",
      "execution_count": null,
      "metadata": {
        "colab": {
          "base_uri": "https://localhost:8080/"
        },
        "id": "KnXAueiO41eK",
        "outputId": "1222f35c-eddd-497b-8662-0d364ed23777"
      },
      "outputs": [
        {
          "name": "stdout",
          "output_type": "stream",
          "text": [
            "Files already downloaded and verified\n"
          ]
        }
      ],
      "source": [
        "# Resize and normalize to fit ImageNet dataset\n",
        "transform_transfer = transforms.Compose([\n",
        "    transforms.ToTensor(),\n",
        "    transforms.Normalize(mean=[0.485, 0.456, 0.406],std=[0.229, 0.224, 0.225]),\n",
        "    transforms.Resize(224),\n",
        "    ])\n",
        "\n",
        "test_data2 = torchvision.datasets.CIFAR10(root='./data', train=False, download=True, transform = transform_transfer)\n",
        "train_data2 = Cifar_100_samples(cifar_data, transform = transform_transfer)\n",
        "\n",
        "X_train2 = torch.utils.data.DataLoader(train_data2, batch_size=10, shuffle=True)\n",
        "X_test2 = torch.utils.data.DataLoader(test_data2, batch_size=256, shuffle=True)"
      ]
    },
    {
      "cell_type": "code",
      "execution_count": null,
      "metadata": {
        "colab": {
          "base_uri": "https://localhost:8080/"
        },
        "id": "nn4cj8SZBqOR",
        "outputId": "8e053e9b-0c8a-46e9-83b0-b96904baf9a2"
      },
      "outputs": [
        {
          "data": {
            "text/plain": [
              "torch.Size([10, 3, 224, 224])"
            ]
          },
          "execution_count": 53,
          "metadata": {},
          "output_type": "execute_result"
        }
      ],
      "source": [
        "# Check shape of transformed dataset\n",
        "next(iter(X_train2))[0].shape"
      ]
    },
    {
      "cell_type": "markdown",
      "metadata": {
        "id": "TQSqQKLuA-nH"
      },
      "source": [
        "We will fine-tune only the last layer for classification"
      ]
    },
    {
      "cell_type": "code",
      "execution_count": null,
      "metadata": {
        "id": "uDMWnGi153aC"
      },
      "outputs": [],
      "source": [
        "criterion = nn.CrossEntropyLoss()\n",
        "pretrained_net = Resnet_model(freeze=True)\n",
        "pretrained_net = pretrained_net.to(device)\n",
        "\n",
        "optimizer = optim.SGD(pretrained_net.parameters(), lr= .01, momentum=0.7, weight_decay=2e-4)\n",
        "scheduler = torch.optim.lr_scheduler.StepLR(optimizer, step_size=5, gamma=0.2)\n",
        "early_stopping = EarlyStopping(patience=5, min_delta=0)"
      ]
    },
    {
      "cell_type": "code",
      "execution_count": null,
      "metadata": {
        "colab": {
          "base_uri": "https://localhost:8080/"
        },
        "id": "iYt2LfIz5rqK",
        "outputId": "93b3b0b6-e25d-412c-9a08-ac380785215d"
      },
      "outputs": [
        {
          "name": "stdout",
          "output_type": "stream",
          "text": [
            "\n",
            "Epoch: 0\n"
          ]
        },
        {
          "name": "stderr",
          "output_type": "stream",
          "text": [
            "100%|██████████| 10/10 [00:00<00:00, 43.01it/s]\n"
          ]
        },
        {
          "name": "stdout",
          "output_type": "stream",
          "text": [
            "Training, epoch 0 Loss: 2.497 | Acc: 15.000% (15/100)\n"
          ]
        },
        {
          "name": "stderr",
          "output_type": "stream",
          "text": [
            "100%|██████████| 40/40 [00:20<00:00,  1.92it/s]\n"
          ]
        },
        {
          "name": "stdout",
          "output_type": "stream",
          "text": [
            "Test, epoch 0 Loss: 2.209 | Acc: 27.770% (2777/10000)\n",
            "\n",
            "Epoch: 1\n"
          ]
        },
        {
          "name": "stderr",
          "output_type": "stream",
          "text": [
            "100%|██████████| 10/10 [00:00<00:00, 43.93it/s]\n"
          ]
        },
        {
          "name": "stdout",
          "output_type": "stream",
          "text": [
            "Training, epoch 1 Loss: 1.829 | Acc: 38.000% (38/100)\n"
          ]
        },
        {
          "name": "stderr",
          "output_type": "stream",
          "text": [
            "100%|██████████| 40/40 [00:20<00:00,  1.96it/s]\n"
          ]
        },
        {
          "name": "stdout",
          "output_type": "stream",
          "text": [
            "Test, epoch 1 Loss: 2.135 | Acc: 23.330% (2333/10000)\n",
            "\n",
            "Epoch: 2\n"
          ]
        },
        {
          "name": "stderr",
          "output_type": "stream",
          "text": [
            "100%|██████████| 10/10 [00:00<00:00, 45.77it/s]\n"
          ]
        },
        {
          "name": "stdout",
          "output_type": "stream",
          "text": [
            "Training, epoch 2 Loss: 1.584 | Acc: 41.000% (41/100)\n"
          ]
        },
        {
          "name": "stderr",
          "output_type": "stream",
          "text": [
            "100%|██████████| 40/40 [00:20<00:00,  1.97it/s]\n"
          ]
        },
        {
          "name": "stdout",
          "output_type": "stream",
          "text": [
            "Test, epoch 2 Loss: 1.896 | Acc: 33.740% (3374/10000)\n",
            "\n",
            "Epoch: 3\n"
          ]
        },
        {
          "name": "stderr",
          "output_type": "stream",
          "text": [
            "100%|██████████| 10/10 [00:00<00:00, 46.59it/s]\n"
          ]
        },
        {
          "name": "stdout",
          "output_type": "stream",
          "text": [
            "Training, epoch 3 Loss: 1.074 | Acc: 65.000% (65/100)\n"
          ]
        },
        {
          "name": "stderr",
          "output_type": "stream",
          "text": [
            "100%|██████████| 40/40 [00:20<00:00,  1.91it/s]\n"
          ]
        },
        {
          "name": "stdout",
          "output_type": "stream",
          "text": [
            "Test, epoch 3 Loss: 1.547 | Acc: 47.900% (4790/10000)\n",
            "\n",
            "Epoch: 4\n"
          ]
        },
        {
          "name": "stderr",
          "output_type": "stream",
          "text": [
            "100%|██████████| 10/10 [00:00<00:00, 45.77it/s]\n"
          ]
        },
        {
          "name": "stdout",
          "output_type": "stream",
          "text": [
            "Training, epoch 4 Loss: 0.896 | Acc: 79.000% (79/100)\n"
          ]
        },
        {
          "name": "stderr",
          "output_type": "stream",
          "text": [
            "100%|██████████| 40/40 [00:20<00:00,  1.98it/s]\n"
          ]
        },
        {
          "name": "stdout",
          "output_type": "stream",
          "text": [
            "Test, epoch 4 Loss: 1.496 | Acc: 48.100% (4810/10000)\n",
            "\n",
            "Epoch: 5\n"
          ]
        },
        {
          "name": "stderr",
          "output_type": "stream",
          "text": [
            "100%|██████████| 10/10 [00:00<00:00, 45.20it/s]\n"
          ]
        },
        {
          "name": "stdout",
          "output_type": "stream",
          "text": [
            "Training, epoch 5 Loss: 0.677 | Acc: 82.000% (82/100)\n"
          ]
        },
        {
          "name": "stderr",
          "output_type": "stream",
          "text": [
            "100%|██████████| 40/40 [00:20<00:00,  1.97it/s]\n"
          ]
        },
        {
          "name": "stdout",
          "output_type": "stream",
          "text": [
            "Test, epoch 5 Loss: 1.425 | Acc: 50.350% (5035/10000)\n",
            "\n",
            "Epoch: 6\n"
          ]
        },
        {
          "name": "stderr",
          "output_type": "stream",
          "text": [
            "100%|██████████| 10/10 [00:00<00:00, 45.94it/s]\n"
          ]
        },
        {
          "name": "stdout",
          "output_type": "stream",
          "text": [
            "Training, epoch 6 Loss: 0.631 | Acc: 83.000% (83/100)\n"
          ]
        },
        {
          "name": "stderr",
          "output_type": "stream",
          "text": [
            "100%|██████████| 40/40 [00:20<00:00,  1.98it/s]\n"
          ]
        },
        {
          "name": "stdout",
          "output_type": "stream",
          "text": [
            "Test, epoch 6 Loss: 1.320 | Acc: 54.510% (5451/10000)\n",
            "\n",
            "Epoch: 7\n"
          ]
        },
        {
          "name": "stderr",
          "output_type": "stream",
          "text": [
            "100%|██████████| 10/10 [00:00<00:00, 46.77it/s]\n"
          ]
        },
        {
          "name": "stdout",
          "output_type": "stream",
          "text": [
            "Training, epoch 7 Loss: 0.395 | Acc: 99.000% (99/100)\n"
          ]
        },
        {
          "name": "stderr",
          "output_type": "stream",
          "text": [
            "100%|██████████| 40/40 [00:20<00:00,  1.98it/s]\n"
          ]
        },
        {
          "name": "stdout",
          "output_type": "stream",
          "text": [
            "Test, epoch 7 Loss: 1.499 | Acc: 46.960% (4696/10000)\n",
            "\n",
            "Epoch: 8\n"
          ]
        },
        {
          "name": "stderr",
          "output_type": "stream",
          "text": [
            "100%|██████████| 10/10 [00:00<00:00, 47.30it/s]\n"
          ]
        },
        {
          "name": "stdout",
          "output_type": "stream",
          "text": [
            "Training, epoch 8 Loss: 0.429 | Acc: 90.000% (90/100)\n"
          ]
        },
        {
          "name": "stderr",
          "output_type": "stream",
          "text": [
            "100%|██████████| 40/40 [00:20<00:00,  1.99it/s]\n"
          ]
        },
        {
          "name": "stdout",
          "output_type": "stream",
          "text": [
            "Test, epoch 8 Loss: 1.434 | Acc: 49.660% (4966/10000)\n",
            "\n",
            "Epoch: 9\n"
          ]
        },
        {
          "name": "stderr",
          "output_type": "stream",
          "text": [
            "100%|██████████| 10/10 [00:00<00:00, 47.55it/s]\n"
          ]
        },
        {
          "name": "stdout",
          "output_type": "stream",
          "text": [
            "Training, epoch 9 Loss: 0.427 | Acc: 90.000% (90/100)\n"
          ]
        },
        {
          "name": "stderr",
          "output_type": "stream",
          "text": [
            "100%|██████████| 40/40 [00:20<00:00,  2.00it/s]\n"
          ]
        },
        {
          "name": "stdout",
          "output_type": "stream",
          "text": [
            "Test, epoch 9 Loss: 1.415 | Acc: 51.460% (5146/10000)\n",
            "\n",
            "Epoch: 10\n"
          ]
        },
        {
          "name": "stderr",
          "output_type": "stream",
          "text": [
            "100%|██████████| 10/10 [00:00<00:00, 45.09it/s]\n"
          ]
        },
        {
          "name": "stdout",
          "output_type": "stream",
          "text": [
            "Training, epoch 10 Loss: 0.340 | Acc: 95.000% (95/100)\n"
          ]
        },
        {
          "name": "stderr",
          "output_type": "stream",
          "text": [
            "100%|██████████| 40/40 [00:20<00:00,  2.00it/s]\n"
          ]
        },
        {
          "name": "stdout",
          "output_type": "stream",
          "text": [
            "Test, epoch 10 Loss: 1.474 | Acc: 49.350% (4935/10000)\n",
            "\n",
            "Epoch: 11\n"
          ]
        },
        {
          "name": "stderr",
          "output_type": "stream",
          "text": [
            "100%|██████████| 10/10 [00:00<00:00, 46.71it/s]\n"
          ]
        },
        {
          "name": "stdout",
          "output_type": "stream",
          "text": [
            "Training, epoch 11 Loss: 0.245 | Acc: 99.000% (99/100)\n"
          ]
        },
        {
          "name": "stderr",
          "output_type": "stream",
          "text": [
            "100%|██████████| 40/40 [00:19<00:00,  2.00it/s]\n"
          ]
        },
        {
          "name": "stdout",
          "output_type": "stream",
          "text": [
            "Test, epoch 11 Loss: 1.364 | Acc: 52.770% (5277/10000)\n",
            "\n",
            "Epoch: 12\n"
          ]
        },
        {
          "name": "stderr",
          "output_type": "stream",
          "text": [
            "100%|██████████| 10/10 [00:00<00:00, 46.47it/s]\n"
          ]
        },
        {
          "name": "stdout",
          "output_type": "stream",
          "text": [
            "Training, epoch 12 Loss: 0.211 | Acc: 98.000% (98/100)\n"
          ]
        },
        {
          "name": "stderr",
          "output_type": "stream",
          "text": [
            "100%|██████████| 40/40 [00:19<00:00,  2.01it/s]\n"
          ]
        },
        {
          "name": "stdout",
          "output_type": "stream",
          "text": [
            "Test, epoch 12 Loss: 1.302 | Acc: 55.300% (5530/10000)\n",
            "\n",
            "Epoch: 13\n"
          ]
        },
        {
          "name": "stderr",
          "output_type": "stream",
          "text": [
            "100%|██████████| 10/10 [00:00<00:00, 47.32it/s]\n"
          ]
        },
        {
          "name": "stdout",
          "output_type": "stream",
          "text": [
            "Training, epoch 13 Loss: 0.186 | Acc: 100.000% (100/100)\n"
          ]
        },
        {
          "name": "stderr",
          "output_type": "stream",
          "text": [
            "100%|██████████| 40/40 [00:19<00:00,  2.00it/s]\n"
          ]
        },
        {
          "name": "stdout",
          "output_type": "stream",
          "text": [
            "Test, epoch 13 Loss: 1.375 | Acc: 52.160% (5216/10000)\n",
            "\n",
            "Epoch: 14\n"
          ]
        },
        {
          "name": "stderr",
          "output_type": "stream",
          "text": [
            "100%|██████████| 10/10 [00:00<00:00, 45.96it/s]\n"
          ]
        },
        {
          "name": "stdout",
          "output_type": "stream",
          "text": [
            "Training, epoch 14 Loss: 0.221 | Acc: 99.000% (99/100)\n"
          ]
        },
        {
          "name": "stderr",
          "output_type": "stream",
          "text": [
            "100%|██████████| 40/40 [00:20<00:00,  1.98it/s]\n"
          ]
        },
        {
          "name": "stdout",
          "output_type": "stream",
          "text": [
            "Test, epoch 14 Loss: 1.353 | Acc: 52.740% (5274/10000)\n",
            "\n",
            "Epoch: 15\n"
          ]
        },
        {
          "name": "stderr",
          "output_type": "stream",
          "text": [
            "100%|██████████| 10/10 [00:00<00:00, 46.02it/s]\n"
          ]
        },
        {
          "name": "stdout",
          "output_type": "stream",
          "text": [
            "Training, epoch 15 Loss: 0.274 | Acc: 95.000% (95/100)\n"
          ]
        },
        {
          "name": "stderr",
          "output_type": "stream",
          "text": [
            "100%|██████████| 40/40 [00:20<00:00,  2.00it/s]\n"
          ]
        },
        {
          "name": "stdout",
          "output_type": "stream",
          "text": [
            "Test, epoch 15 Loss: 1.452 | Acc: 50.680% (5068/10000)\n",
            "\n",
            "Epoch: 16\n"
          ]
        },
        {
          "name": "stderr",
          "output_type": "stream",
          "text": [
            "100%|██████████| 10/10 [00:00<00:00, 45.02it/s]\n"
          ]
        },
        {
          "name": "stdout",
          "output_type": "stream",
          "text": [
            "Training, epoch 16 Loss: 0.143 | Acc: 100.000% (100/100)\n"
          ]
        },
        {
          "name": "stderr",
          "output_type": "stream",
          "text": [
            "100%|██████████| 40/40 [00:19<00:00,  2.01it/s]\n"
          ]
        },
        {
          "name": "stdout",
          "output_type": "stream",
          "text": [
            "Test, epoch 16 Loss: 1.399 | Acc: 51.610% (5161/10000)\n",
            "\n",
            "Epoch: 17\n"
          ]
        },
        {
          "name": "stderr",
          "output_type": "stream",
          "text": [
            "100%|██████████| 10/10 [00:00<00:00, 46.20it/s]\n"
          ]
        },
        {
          "name": "stdout",
          "output_type": "stream",
          "text": [
            "Training, epoch 17 Loss: 0.175 | Acc: 100.000% (100/100)\n"
          ]
        },
        {
          "name": "stderr",
          "output_type": "stream",
          "text": [
            "100%|██████████| 40/40 [00:19<00:00,  2.01it/s]\n"
          ]
        },
        {
          "name": "stdout",
          "output_type": "stream",
          "text": [
            "Test, epoch 17 Loss: 1.414 | Acc: 51.210% (5121/10000)\n",
            "\n",
            "Epoch: 18\n"
          ]
        },
        {
          "name": "stderr",
          "output_type": "stream",
          "text": [
            "100%|██████████| 10/10 [00:00<00:00, 46.12it/s]\n"
          ]
        },
        {
          "name": "stdout",
          "output_type": "stream",
          "text": [
            "Training, epoch 18 Loss: 0.174 | Acc: 99.000% (99/100)\n"
          ]
        },
        {
          "name": "stderr",
          "output_type": "stream",
          "text": [
            "100%|██████████| 40/40 [00:20<00:00,  2.00it/s]\n"
          ]
        },
        {
          "name": "stdout",
          "output_type": "stream",
          "text": [
            "Test, epoch 18 Loss: 1.341 | Acc: 53.960% (5396/10000)\n",
            "\n",
            "Epoch: 19\n"
          ]
        },
        {
          "name": "stderr",
          "output_type": "stream",
          "text": [
            "100%|██████████| 10/10 [00:00<00:00, 46.71it/s]\n"
          ]
        },
        {
          "name": "stdout",
          "output_type": "stream",
          "text": [
            "Training, epoch 19 Loss: 0.152 | Acc: 99.000% (99/100)\n"
          ]
        },
        {
          "name": "stderr",
          "output_type": "stream",
          "text": [
            "100%|██████████| 40/40 [00:20<00:00,  2.00it/s]\n"
          ]
        },
        {
          "name": "stdout",
          "output_type": "stream",
          "text": [
            "Test, epoch 19 Loss: 1.352 | Acc: 53.470% (5347/10000)\n",
            "\n",
            "Epoch: 20\n"
          ]
        },
        {
          "name": "stderr",
          "output_type": "stream",
          "text": [
            "100%|██████████| 10/10 [00:00<00:00, 45.97it/s]\n"
          ]
        },
        {
          "name": "stdout",
          "output_type": "stream",
          "text": [
            "Training, epoch 20 Loss: 0.129 | Acc: 100.000% (100/100)\n"
          ]
        },
        {
          "name": "stderr",
          "output_type": "stream",
          "text": [
            "100%|██████████| 40/40 [00:20<00:00,  1.99it/s]\n"
          ]
        },
        {
          "name": "stdout",
          "output_type": "stream",
          "text": [
            "Test, epoch 20 Loss: 1.300 | Acc: 55.260% (5526/10000)\n",
            "\n",
            "Epoch: 21\n"
          ]
        },
        {
          "name": "stderr",
          "output_type": "stream",
          "text": [
            "100%|██████████| 10/10 [00:00<00:00, 46.37it/s]\n"
          ]
        },
        {
          "name": "stdout",
          "output_type": "stream",
          "text": [
            "Training, epoch 21 Loss: 0.180 | Acc: 98.000% (98/100)\n"
          ]
        },
        {
          "name": "stderr",
          "output_type": "stream",
          "text": [
            "100%|██████████| 40/40 [00:20<00:00,  1.98it/s]\n"
          ]
        },
        {
          "name": "stdout",
          "output_type": "stream",
          "text": [
            "Test, epoch 21 Loss: 1.437 | Acc: 51.600% (5160/10000)\n",
            "\n",
            "Epoch: 22\n"
          ]
        },
        {
          "name": "stderr",
          "output_type": "stream",
          "text": [
            "100%|██████████| 10/10 [00:00<00:00, 47.13it/s]\n"
          ]
        },
        {
          "name": "stdout",
          "output_type": "stream",
          "text": [
            "Training, epoch 22 Loss: 0.140 | Acc: 98.000% (98/100)\n"
          ]
        },
        {
          "name": "stderr",
          "output_type": "stream",
          "text": [
            "100%|██████████| 40/40 [00:19<00:00,  2.00it/s]\n"
          ]
        },
        {
          "name": "stdout",
          "output_type": "stream",
          "text": [
            "Test, epoch 22 Loss: 1.328 | Acc: 53.970% (5397/10000)\n",
            "\n",
            "Epoch: 23\n"
          ]
        },
        {
          "name": "stderr",
          "output_type": "stream",
          "text": [
            "100%|██████████| 10/10 [00:00<00:00, 46.54it/s]\n"
          ]
        },
        {
          "name": "stdout",
          "output_type": "stream",
          "text": [
            "Training, epoch 23 Loss: 0.137 | Acc: 99.000% (99/100)\n"
          ]
        },
        {
          "name": "stderr",
          "output_type": "stream",
          "text": [
            "100%|██████████| 40/40 [00:20<00:00,  2.00it/s]\n"
          ]
        },
        {
          "name": "stdout",
          "output_type": "stream",
          "text": [
            "Test, epoch 23 Loss: 1.365 | Acc: 52.740% (5274/10000)\n",
            "\n",
            "Epoch: 24\n"
          ]
        },
        {
          "name": "stderr",
          "output_type": "stream",
          "text": [
            "100%|██████████| 10/10 [00:00<00:00, 47.18it/s]\n"
          ]
        },
        {
          "name": "stdout",
          "output_type": "stream",
          "text": [
            "Training, epoch 24 Loss: 0.165 | Acc: 99.000% (99/100)\n"
          ]
        },
        {
          "name": "stderr",
          "output_type": "stream",
          "text": [
            "100%|██████████| 40/40 [00:20<00:00,  1.99it/s]"
          ]
        },
        {
          "name": "stdout",
          "output_type": "stream",
          "text": [
            "Test, epoch 24 Loss: 1.348 | Acc: 54.300% (5430/10000)\n"
          ]
        },
        {
          "name": "stderr",
          "output_type": "stream",
          "text": [
            "\n"
          ]
        }
      ],
      "source": [
        "for epoch in range(0, 25):\n",
        "    train(pretrained_net, epoch, X_train2)\n",
        "    test(pretrained_net, epoch, X_test2)"
      ]
    },
    {
      "cell_type": "markdown",
      "metadata": {
        "id": "ppEAubuDA5Fc"
      },
      "source": [
        "Let's fine-tune all layers"
      ]
    },
    {
      "cell_type": "code",
      "execution_count": null,
      "metadata": {
        "id": "SukzPaDXA7PS"
      },
      "outputs": [],
      "source": [
        "pretrained_net = Resnet_model(freeze=False)\n",
        "pretrained_net = pretrained_net.to(device)\n",
        "\n",
        "optimizer = optim.SGD(pretrained_net.parameters(), lr= .01, momentum=0.7, weight_decay=2e-4)\n",
        "scheduler = torch.optim.lr_scheduler.StepLR(optimizer, step_size=5, gamma=0.2)"
      ]
    },
    {
      "cell_type": "code",
      "execution_count": null,
      "metadata": {
        "colab": {
          "base_uri": "https://localhost:8080/"
        },
        "id": "8Zq3po2vBMiA",
        "outputId": "111f5b60-8e6d-4842-cef0-f037ecf48f01"
      },
      "outputs": [
        {
          "name": "stdout",
          "output_type": "stream",
          "text": [
            "\n",
            "Epoch: 0\n"
          ]
        },
        {
          "name": "stderr",
          "output_type": "stream",
          "text": [
            "100%|██████████| 10/10 [00:00<00:00, 26.21it/s]\n"
          ]
        },
        {
          "name": "stdout",
          "output_type": "stream",
          "text": [
            "Training, epoch 0 Loss: 2.468 | Acc: 15.000% (15/100)\n"
          ]
        },
        {
          "name": "stderr",
          "output_type": "stream",
          "text": [
            "100%|██████████| 40/40 [00:21<00:00,  1.83it/s]\n"
          ]
        },
        {
          "name": "stdout",
          "output_type": "stream",
          "text": [
            "Test, epoch 0 Loss: 2.206 | Acc: 23.840% (2384/10000)\n",
            "\n",
            "Epoch: 1\n"
          ]
        },
        {
          "name": "stderr",
          "output_type": "stream",
          "text": [
            "100%|██████████| 10/10 [00:00<00:00, 27.20it/s]\n"
          ]
        },
        {
          "name": "stdout",
          "output_type": "stream",
          "text": [
            "Training, epoch 1 Loss: 1.260 | Acc: 62.000% (62/100)\n"
          ]
        },
        {
          "name": "stderr",
          "output_type": "stream",
          "text": [
            "100%|██████████| 40/40 [00:21<00:00,  1.84it/s]\n"
          ]
        },
        {
          "name": "stdout",
          "output_type": "stream",
          "text": [
            "Test, epoch 1 Loss: 2.471 | Acc: 19.030% (1903/10000)\n",
            "\n",
            "Epoch: 2\n"
          ]
        },
        {
          "name": "stderr",
          "output_type": "stream",
          "text": [
            "100%|██████████| 10/10 [00:00<00:00, 27.86it/s]\n"
          ]
        },
        {
          "name": "stdout",
          "output_type": "stream",
          "text": [
            "Training, epoch 2 Loss: 0.666 | Acc: 79.000% (79/100)\n"
          ]
        },
        {
          "name": "stderr",
          "output_type": "stream",
          "text": [
            "100%|██████████| 40/40 [00:21<00:00,  1.84it/s]\n"
          ]
        },
        {
          "name": "stdout",
          "output_type": "stream",
          "text": [
            "Test, epoch 2 Loss: 1.589 | Acc: 44.820% (4482/10000)\n",
            "\n",
            "Epoch: 3\n"
          ]
        },
        {
          "name": "stderr",
          "output_type": "stream",
          "text": [
            "100%|██████████| 10/10 [00:00<00:00, 27.33it/s]\n"
          ]
        },
        {
          "name": "stdout",
          "output_type": "stream",
          "text": [
            "Training, epoch 3 Loss: 0.183 | Acc: 99.000% (99/100)\n"
          ]
        },
        {
          "name": "stderr",
          "output_type": "stream",
          "text": [
            "100%|██████████| 40/40 [00:22<00:00,  1.77it/s]\n"
          ]
        },
        {
          "name": "stdout",
          "output_type": "stream",
          "text": [
            "Test, epoch 3 Loss: 1.530 | Acc: 46.070% (4607/10000)\n",
            "\n",
            "Epoch: 4\n"
          ]
        },
        {
          "name": "stderr",
          "output_type": "stream",
          "text": [
            "100%|██████████| 10/10 [00:00<00:00, 27.70it/s]\n"
          ]
        },
        {
          "name": "stdout",
          "output_type": "stream",
          "text": [
            "Training, epoch 4 Loss: 0.074 | Acc: 100.000% (100/100)\n"
          ]
        },
        {
          "name": "stderr",
          "output_type": "stream",
          "text": [
            "100%|██████████| 40/40 [00:21<00:00,  1.84it/s]\n"
          ]
        },
        {
          "name": "stdout",
          "output_type": "stream",
          "text": [
            "Test, epoch 4 Loss: 1.500 | Acc: 48.610% (4861/10000)\n",
            "\n",
            "Epoch: 5\n"
          ]
        },
        {
          "name": "stderr",
          "output_type": "stream",
          "text": [
            "100%|██████████| 10/10 [00:00<00:00, 27.36it/s]\n"
          ]
        },
        {
          "name": "stdout",
          "output_type": "stream",
          "text": [
            "Training, epoch 5 Loss: 0.034 | Acc: 100.000% (100/100)\n"
          ]
        },
        {
          "name": "stderr",
          "output_type": "stream",
          "text": [
            "100%|██████████| 40/40 [00:21<00:00,  1.84it/s]\n"
          ]
        },
        {
          "name": "stdout",
          "output_type": "stream",
          "text": [
            "Test, epoch 5 Loss: 1.503 | Acc: 49.700% (4970/10000)\n",
            "\n",
            "Epoch: 6\n"
          ]
        },
        {
          "name": "stderr",
          "output_type": "stream",
          "text": [
            "100%|██████████| 10/10 [00:00<00:00, 27.58it/s]\n"
          ]
        },
        {
          "name": "stdout",
          "output_type": "stream",
          "text": [
            "Training, epoch 6 Loss: 0.028 | Acc: 100.000% (100/100)\n"
          ]
        },
        {
          "name": "stderr",
          "output_type": "stream",
          "text": [
            "100%|██████████| 40/40 [00:21<00:00,  1.84it/s]\n"
          ]
        },
        {
          "name": "stdout",
          "output_type": "stream",
          "text": [
            "Test, epoch 6 Loss: 1.470 | Acc: 50.210% (5021/10000)\n",
            "\n",
            "Epoch: 7\n"
          ]
        },
        {
          "name": "stderr",
          "output_type": "stream",
          "text": [
            "100%|██████████| 10/10 [00:00<00:00, 26.72it/s]\n"
          ]
        },
        {
          "name": "stdout",
          "output_type": "stream",
          "text": [
            "Training, epoch 7 Loss: 0.031 | Acc: 100.000% (100/100)\n"
          ]
        },
        {
          "name": "stderr",
          "output_type": "stream",
          "text": [
            "100%|██████████| 40/40 [00:21<00:00,  1.84it/s]\n"
          ]
        },
        {
          "name": "stdout",
          "output_type": "stream",
          "text": [
            "Test, epoch 7 Loss: 1.473 | Acc: 49.970% (4997/10000)\n",
            "\n",
            "Epoch: 8\n"
          ]
        },
        {
          "name": "stderr",
          "output_type": "stream",
          "text": [
            "100%|██████████| 10/10 [00:00<00:00, 27.53it/s]\n"
          ]
        },
        {
          "name": "stdout",
          "output_type": "stream",
          "text": [
            "Training, epoch 8 Loss: 0.029 | Acc: 100.000% (100/100)\n"
          ]
        },
        {
          "name": "stderr",
          "output_type": "stream",
          "text": [
            "100%|██████████| 40/40 [00:21<00:00,  1.84it/s]\n"
          ]
        },
        {
          "name": "stdout",
          "output_type": "stream",
          "text": [
            "Test, epoch 8 Loss: 1.506 | Acc: 49.720% (4972/10000)\n",
            "\n",
            "Epoch: 9\n"
          ]
        },
        {
          "name": "stderr",
          "output_type": "stream",
          "text": [
            "100%|██████████| 10/10 [00:00<00:00, 27.71it/s]\n"
          ]
        },
        {
          "name": "stdout",
          "output_type": "stream",
          "text": [
            "Training, epoch 9 Loss: 0.025 | Acc: 100.000% (100/100)\n"
          ]
        },
        {
          "name": "stderr",
          "output_type": "stream",
          "text": [
            "100%|██████████| 40/40 [00:21<00:00,  1.85it/s]\n"
          ]
        },
        {
          "name": "stdout",
          "output_type": "stream",
          "text": [
            "Test, epoch 9 Loss: 1.484 | Acc: 50.220% (5022/10000)\n",
            "\n",
            "Epoch: 10\n"
          ]
        },
        {
          "name": "stderr",
          "output_type": "stream",
          "text": [
            "100%|██████████| 10/10 [00:00<00:00, 27.72it/s]\n"
          ]
        },
        {
          "name": "stdout",
          "output_type": "stream",
          "text": [
            "Training, epoch 10 Loss: 0.013 | Acc: 100.000% (100/100)\n"
          ]
        },
        {
          "name": "stderr",
          "output_type": "stream",
          "text": [
            "100%|██████████| 40/40 [00:21<00:00,  1.85it/s]\n"
          ]
        },
        {
          "name": "stdout",
          "output_type": "stream",
          "text": [
            "Test, epoch 10 Loss: 1.476 | Acc: 51.250% (5125/10000)\n",
            "\n",
            "Epoch: 11\n"
          ]
        },
        {
          "name": "stderr",
          "output_type": "stream",
          "text": [
            "100%|██████████| 10/10 [00:00<00:00, 27.62it/s]\n"
          ]
        },
        {
          "name": "stdout",
          "output_type": "stream",
          "text": [
            "Training, epoch 11 Loss: 0.016 | Acc: 100.000% (100/100)\n"
          ]
        },
        {
          "name": "stderr",
          "output_type": "stream",
          "text": [
            "100%|██████████| 40/40 [00:21<00:00,  1.85it/s]\n"
          ]
        },
        {
          "name": "stdout",
          "output_type": "stream",
          "text": [
            "Test, epoch 11 Loss: 1.430 | Acc: 51.890% (5189/10000)\n",
            "\n",
            "Epoch: 12\n"
          ]
        },
        {
          "name": "stderr",
          "output_type": "stream",
          "text": [
            "100%|██████████| 10/10 [00:00<00:00, 27.67it/s]\n"
          ]
        },
        {
          "name": "stdout",
          "output_type": "stream",
          "text": [
            "Training, epoch 12 Loss: 0.013 | Acc: 100.000% (100/100)\n"
          ]
        },
        {
          "name": "stderr",
          "output_type": "stream",
          "text": [
            "100%|██████████| 40/40 [00:21<00:00,  1.84it/s]\n"
          ]
        },
        {
          "name": "stdout",
          "output_type": "stream",
          "text": [
            "Test, epoch 12 Loss: 1.452 | Acc: 51.500% (5150/10000)\n",
            "\n",
            "Epoch: 13\n"
          ]
        },
        {
          "name": "stderr",
          "output_type": "stream",
          "text": [
            "100%|██████████| 10/10 [00:00<00:00, 27.41it/s]\n"
          ]
        },
        {
          "name": "stdout",
          "output_type": "stream",
          "text": [
            "Training, epoch 13 Loss: 0.022 | Acc: 100.000% (100/100)\n"
          ]
        },
        {
          "name": "stderr",
          "output_type": "stream",
          "text": [
            "100%|██████████| 40/40 [00:21<00:00,  1.85it/s]\n"
          ]
        },
        {
          "name": "stdout",
          "output_type": "stream",
          "text": [
            "Test, epoch 13 Loss: 1.525 | Acc: 49.680% (4968/10000)\n",
            "\n",
            "Epoch: 14\n"
          ]
        },
        {
          "name": "stderr",
          "output_type": "stream",
          "text": [
            "100%|██████████| 10/10 [00:00<00:00, 26.82it/s]\n"
          ]
        },
        {
          "name": "stdout",
          "output_type": "stream",
          "text": [
            "Training, epoch 14 Loss: 0.016 | Acc: 100.000% (100/100)\n"
          ]
        },
        {
          "name": "stderr",
          "output_type": "stream",
          "text": [
            "100%|██████████| 40/40 [00:21<00:00,  1.84it/s]\n"
          ]
        },
        {
          "name": "stdout",
          "output_type": "stream",
          "text": [
            "Test, epoch 14 Loss: 1.498 | Acc: 50.100% (5010/10000)\n",
            "\n",
            "Epoch: 15\n"
          ]
        },
        {
          "name": "stderr",
          "output_type": "stream",
          "text": [
            "100%|██████████| 10/10 [00:00<00:00, 27.44it/s]\n"
          ]
        },
        {
          "name": "stdout",
          "output_type": "stream",
          "text": [
            "Training, epoch 15 Loss: 0.012 | Acc: 100.000% (100/100)\n"
          ]
        },
        {
          "name": "stderr",
          "output_type": "stream",
          "text": [
            "100%|██████████| 40/40 [00:21<00:00,  1.85it/s]\n"
          ]
        },
        {
          "name": "stdout",
          "output_type": "stream",
          "text": [
            "Test, epoch 15 Loss: 1.494 | Acc: 50.710% (5071/10000)\n",
            "\n",
            "Epoch: 16\n"
          ]
        },
        {
          "name": "stderr",
          "output_type": "stream",
          "text": [
            "100%|██████████| 10/10 [00:00<00:00, 27.46it/s]\n"
          ]
        },
        {
          "name": "stdout",
          "output_type": "stream",
          "text": [
            "Training, epoch 16 Loss: 0.011 | Acc: 100.000% (100/100)\n"
          ]
        },
        {
          "name": "stderr",
          "output_type": "stream",
          "text": [
            "100%|██████████| 40/40 [00:21<00:00,  1.85it/s]\n"
          ]
        },
        {
          "name": "stdout",
          "output_type": "stream",
          "text": [
            "Test, epoch 16 Loss: 1.523 | Acc: 50.420% (5042/10000)\n",
            "\n",
            "Epoch: 17\n"
          ]
        },
        {
          "name": "stderr",
          "output_type": "stream",
          "text": [
            "100%|██████████| 10/10 [00:00<00:00, 27.49it/s]\n"
          ]
        },
        {
          "name": "stdout",
          "output_type": "stream",
          "text": [
            "Training, epoch 17 Loss: 0.007 | Acc: 100.000% (100/100)\n"
          ]
        },
        {
          "name": "stderr",
          "output_type": "stream",
          "text": [
            "100%|██████████| 40/40 [00:21<00:00,  1.84it/s]\n"
          ]
        },
        {
          "name": "stdout",
          "output_type": "stream",
          "text": [
            "Test, epoch 17 Loss: 1.540 | Acc: 50.550% (5055/10000)\n",
            "\n",
            "Epoch: 18\n"
          ]
        },
        {
          "name": "stderr",
          "output_type": "stream",
          "text": [
            "100%|██████████| 10/10 [00:00<00:00, 27.90it/s]\n"
          ]
        },
        {
          "name": "stdout",
          "output_type": "stream",
          "text": [
            "Training, epoch 18 Loss: 0.014 | Acc: 100.000% (100/100)\n"
          ]
        },
        {
          "name": "stderr",
          "output_type": "stream",
          "text": [
            "100%|██████████| 40/40 [00:21<00:00,  1.85it/s]\n"
          ]
        },
        {
          "name": "stdout",
          "output_type": "stream",
          "text": [
            "Test, epoch 18 Loss: 1.491 | Acc: 51.620% (5162/10000)\n",
            "\n",
            "Epoch: 19\n"
          ]
        },
        {
          "name": "stderr",
          "output_type": "stream",
          "text": [
            "100%|██████████| 10/10 [00:00<00:00, 27.51it/s]\n"
          ]
        },
        {
          "name": "stdout",
          "output_type": "stream",
          "text": [
            "Training, epoch 19 Loss: 0.010 | Acc: 100.000% (100/100)\n"
          ]
        },
        {
          "name": "stderr",
          "output_type": "stream",
          "text": [
            "100%|██████████| 40/40 [00:21<00:00,  1.85it/s]\n"
          ]
        },
        {
          "name": "stdout",
          "output_type": "stream",
          "text": [
            "Test, epoch 19 Loss: 1.490 | Acc: 51.420% (5142/10000)\n",
            "\n",
            "Epoch: 20\n"
          ]
        },
        {
          "name": "stderr",
          "output_type": "stream",
          "text": [
            "100%|██████████| 10/10 [00:00<00:00, 27.85it/s]\n"
          ]
        },
        {
          "name": "stdout",
          "output_type": "stream",
          "text": [
            "Training, epoch 20 Loss: 0.008 | Acc: 100.000% (100/100)\n"
          ]
        },
        {
          "name": "stderr",
          "output_type": "stream",
          "text": [
            "100%|██████████| 40/40 [00:21<00:00,  1.84it/s]\n"
          ]
        },
        {
          "name": "stdout",
          "output_type": "stream",
          "text": [
            "Test, epoch 20 Loss: 1.477 | Acc: 51.530% (5153/10000)\n",
            "\n",
            "Epoch: 21\n"
          ]
        },
        {
          "name": "stderr",
          "output_type": "stream",
          "text": [
            "100%|██████████| 10/10 [00:00<00:00, 27.28it/s]\n"
          ]
        },
        {
          "name": "stdout",
          "output_type": "stream",
          "text": [
            "Training, epoch 21 Loss: 0.006 | Acc: 100.000% (100/100)\n"
          ]
        },
        {
          "name": "stderr",
          "output_type": "stream",
          "text": [
            "100%|██████████| 40/40 [00:21<00:00,  1.84it/s]\n"
          ]
        },
        {
          "name": "stdout",
          "output_type": "stream",
          "text": [
            "Test, epoch 21 Loss: 1.473 | Acc: 51.940% (5194/10000)\n",
            "\n",
            "Epoch: 22\n"
          ]
        },
        {
          "name": "stderr",
          "output_type": "stream",
          "text": [
            "100%|██████████| 10/10 [00:00<00:00, 26.40it/s]\n"
          ]
        },
        {
          "name": "stdout",
          "output_type": "stream",
          "text": [
            "Training, epoch 22 Loss: 0.006 | Acc: 100.000% (100/100)\n"
          ]
        },
        {
          "name": "stderr",
          "output_type": "stream",
          "text": [
            "100%|██████████| 40/40 [00:21<00:00,  1.83it/s]\n"
          ]
        },
        {
          "name": "stdout",
          "output_type": "stream",
          "text": [
            "Test, epoch 22 Loss: 1.465 | Acc: 52.180% (5218/10000)\n",
            "\n",
            "Epoch: 23\n"
          ]
        },
        {
          "name": "stderr",
          "output_type": "stream",
          "text": [
            "100%|██████████| 10/10 [00:00<00:00, 26.96it/s]\n"
          ]
        },
        {
          "name": "stdout",
          "output_type": "stream",
          "text": [
            "Training, epoch 23 Loss: 0.019 | Acc: 100.000% (100/100)\n"
          ]
        },
        {
          "name": "stderr",
          "output_type": "stream",
          "text": [
            "100%|██████████| 40/40 [00:21<00:00,  1.84it/s]\n"
          ]
        },
        {
          "name": "stdout",
          "output_type": "stream",
          "text": [
            "Test, epoch 23 Loss: 1.544 | Acc: 50.230% (5023/10000)\n",
            "\n",
            "Epoch: 24\n"
          ]
        },
        {
          "name": "stderr",
          "output_type": "stream",
          "text": [
            "100%|██████████| 10/10 [00:00<00:00, 27.56it/s]\n"
          ]
        },
        {
          "name": "stdout",
          "output_type": "stream",
          "text": [
            "Training, epoch 24 Loss: 0.008 | Acc: 100.000% (100/100)\n"
          ]
        },
        {
          "name": "stderr",
          "output_type": "stream",
          "text": [
            "100%|██████████| 40/40 [00:21<00:00,  1.84it/s]"
          ]
        },
        {
          "name": "stdout",
          "output_type": "stream",
          "text": [
            "Test, epoch 24 Loss: 1.509 | Acc: 51.180% (5118/10000)\n"
          ]
        },
        {
          "name": "stderr",
          "output_type": "stream",
          "text": [
            "\n"
          ]
        }
      ],
      "source": [
        "for epoch in range(0, 25):\n",
        "    train(pretrained_net, epoch, X_train2)\n",
        "    test(pretrained_net, epoch, X_test2)"
      ]
    },
    {
      "cell_type": "markdown",
      "metadata": {
        "id": "WfWnUbZP7EA7"
      },
      "source": [
        "### Results\n",
        "\n",
        "| Model | Number of  epochs  | Train accuracy | Test accuracy |\n",
        "|------|------|------|------|\n",
        "|   Resnet18(fine-tuning last layer)  | 25 | 100% | 55.72% |\n",
        "|   Resnet18(fine-tuning all layers)  | 25 | 100% | 52.18% |"
      ]
    },
    {
      "cell_type": "markdown",
      "metadata": {
        "id": "-svmb56SjGKp"
      },
      "source": [
        "# Incorporating priors\n",
        "Geometrical priors are appealing for image classification tasks. \n",
        "A color image $x$ can be seen as a function: $\\mathbb{S}\\rightarrow\\mathbb{R}^3$, where $\\mathbb{S} \\subset \\mathbb{R}^2$ is the image support.\n",
        "Let us consider transformations $\\mathcal{T}$ of possible inputs $x$. For instance, if an image had infinite support, a translation $\\mathcal{T}_a$ of an image $x$ by a shift $a$ would lead to a new infinite-support image $\\mathcal{T}_a(x)$, described at each pixel $u$ by :\n",
        "\n",
        "$$\\forall u, \\mathcal{T}_a(x)(u)=x(u-a)\\,.$$\n",
        "\n",
        "__Question 5 (1.5 points) :__ Explain the issues when dealing with translations, rotations, scaling effects, color changes on $32\\times32$ images. Propose several ideas to tackle them."
      ]
    },
    {
      "cell_type": "markdown",
      "metadata": {
        "id": "9YJCU9PgjGKp"
      },
      "source": [
        "Dealing with such transformations on low-resolution images may be troublesome. Indeed, the geometric transformations (translations, rotations, scaling, perspectives) rely on (nearest neighbor or bilinear) interpolations. For instance, according to the PyTorch documentation, each point $x'$ of the rotated image is first mapped to its corresponding point $x$ in the original image, then the image value at $x$ is estimated by the color of the nearest neighbor. Finally this value is assigned to $x'$.\n",
        "Using these interpolations on coarse images can result to high approximation errors as the image intensity can change abruptly. \n",
        "\n",
        "One solution could be to increase the image resolution before applying these transformations. "
      ]
    },
    {
      "cell_type": "markdown",
      "metadata": {
        "id": "CxMnR6QNjGKp"
      },
      "source": [
        "## Data augmentations"
      ]
    },
    {
      "cell_type": "markdown",
      "metadata": {
        "id": "vvohBWdmjGKp"
      },
      "source": [
        "__Question 6 (3 points) :__ Propose a set of geometric transformations beyond translation, and incorporate them in your training pipeline. Train the model of the __Question 3__ with them and report the accuracies.\n",
        "You can use tools from https://pytorch.org/vision/stable/transforms.html "
      ]
    },
    {
      "cell_type": "code",
      "execution_count": null,
      "metadata": {
        "colab": {
          "base_uri": "https://localhost:8080/"
        },
        "collapsed": true,
        "id": "PXA1-KP2jGKp",
        "outputId": "702432a6-68dc-47a5-c94d-c4118dfbd67b"
      },
      "outputs": [
        {
          "name": "stdout",
          "output_type": "stream",
          "text": [
            "Files already downloaded and verified\n"
          ]
        }
      ],
      "source": [
        "# Data augmentation, we use the same as https://github.com/kuangliu/pytorch-cifar/\n",
        "\n",
        "transform_augment = transforms.Compose([\n",
        "    transforms.ToPILImage(),\n",
        "    transforms.RandomCrop(32, padding=4),\n",
        "    transforms.RandomHorizontalFlip(),\n",
        "    #transforms.RandomRotation(30),\n",
        "    #transforms.RandomPerspective(),\n",
        "    transforms.ToTensor(),\n",
        "    transforms.Normalize((0.4914, 0.4822, 0.4465), (0.2023, 0.1994, 0.2010)),\n",
        "])\n",
        "\n",
        "transform_test = transforms.Compose([\n",
        "    transforms.ToTensor(),\n",
        "    transforms.Normalize((0.4914, 0.4822, 0.4465), (0.2023, 0.1994, 0.2010)),\n",
        "])\n",
        "\n",
        "train_data_augment = Cifar_100_samples(cifar_data, transform = transform_augment)\n",
        "test_data = torchvision.datasets.CIFAR10(root='./data', train=False, download=True, transform = transform_test)\n",
        "\n",
        "X_train_augment = torch.utils.data.DataLoader(train_data_augment , batch_size=10, shuffle=True)\n",
        "X_test = torch.utils.data.DataLoader(test_data, batch_size=100, shuffle=True)"
      ]
    },
    {
      "cell_type": "code",
      "execution_count": null,
      "metadata": {
        "id": "I1fs7wCcEseu"
      },
      "outputs": [],
      "source": [
        "criterion = nn.CrossEntropyLoss()\n",
        "net = ResNet18()\n",
        "net = net.to(device)\n",
        "\n",
        "optimizer = optim.SGD(net.parameters(), lr= .01, momentum=0.7, weight_decay=2e-4)\n",
        "scheduler = torch.optim.lr_scheduler.StepLR(optimizer, step_size=5, gamma=0.2)"
      ]
    },
    {
      "cell_type": "code",
      "execution_count": null,
      "metadata": {
        "colab": {
          "base_uri": "https://localhost:8080/"
        },
        "id": "-R85E0u8QLzx",
        "outputId": "bf2f0933-6fa5-46ed-a154-8e585715fac2"
      },
      "outputs": [
        {
          "name": "stdout",
          "output_type": "stream",
          "text": [
            "\n",
            "Epoch: 0\n"
          ]
        },
        {
          "name": "stderr",
          "output_type": "stream",
          "text": [
            "100%|██████████| 10/10 [00:00<00:00, 54.87it/s]\n"
          ]
        },
        {
          "name": "stdout",
          "output_type": "stream",
          "text": [
            "Training, epoch 0 Loss: 2.472 | Acc: 14.000% (14/100)\n"
          ]
        },
        {
          "name": "stderr",
          "output_type": "stream",
          "text": [
            "100%|██████████| 100/100 [00:04<00:00, 21.19it/s]\n"
          ]
        },
        {
          "name": "stdout",
          "output_type": "stream",
          "text": [
            "Test, epoch 0 Loss: 2.360 | Acc: 10.000% (1000/10000)\n",
            "\n",
            "Epoch: 1\n"
          ]
        },
        {
          "name": "stderr",
          "output_type": "stream",
          "text": [
            "100%|██████████| 10/10 [00:00<00:00, 56.57it/s]\n"
          ]
        },
        {
          "name": "stdout",
          "output_type": "stream",
          "text": [
            "Training, epoch 1 Loss: 2.518 | Acc: 18.000% (18/100)\n"
          ]
        },
        {
          "name": "stderr",
          "output_type": "stream",
          "text": [
            "100%|██████████| 100/100 [00:03<00:00, 25.30it/s]\n"
          ]
        },
        {
          "name": "stdout",
          "output_type": "stream",
          "text": [
            "Test, epoch 1 Loss: 2.484 | Acc: 12.670% (1267/10000)\n",
            "\n",
            "Epoch: 2\n"
          ]
        },
        {
          "name": "stderr",
          "output_type": "stream",
          "text": [
            "100%|██████████| 10/10 [00:00<00:00, 54.62it/s]\n"
          ]
        },
        {
          "name": "stdout",
          "output_type": "stream",
          "text": [
            "Training, epoch 2 Loss: 2.340 | Acc: 23.000% (23/100)\n"
          ]
        },
        {
          "name": "stderr",
          "output_type": "stream",
          "text": [
            "100%|██████████| 100/100 [00:03<00:00, 25.20it/s]\n"
          ]
        },
        {
          "name": "stdout",
          "output_type": "stream",
          "text": [
            "Test, epoch 2 Loss: 3.050 | Acc: 13.190% (1319/10000)\n",
            "\n",
            "Epoch: 3\n"
          ]
        },
        {
          "name": "stderr",
          "output_type": "stream",
          "text": [
            "100%|██████████| 10/10 [00:00<00:00, 56.10it/s]\n"
          ]
        },
        {
          "name": "stdout",
          "output_type": "stream",
          "text": [
            "Training, epoch 3 Loss: 2.323 | Acc: 28.000% (28/100)\n"
          ]
        },
        {
          "name": "stderr",
          "output_type": "stream",
          "text": [
            "100%|██████████| 100/100 [00:03<00:00, 25.23it/s]\n"
          ]
        },
        {
          "name": "stdout",
          "output_type": "stream",
          "text": [
            "Test, epoch 3 Loss: 5.420 | Acc: 15.920% (1592/10000)\n",
            "\n",
            "Epoch: 4\n"
          ]
        },
        {
          "name": "stderr",
          "output_type": "stream",
          "text": [
            "100%|██████████| 10/10 [00:00<00:00, 56.66it/s]\n"
          ]
        },
        {
          "name": "stdout",
          "output_type": "stream",
          "text": [
            "Training, epoch 4 Loss: 2.285 | Acc: 25.000% (25/100)\n"
          ]
        },
        {
          "name": "stderr",
          "output_type": "stream",
          "text": [
            "100%|██████████| 100/100 [00:03<00:00, 25.29it/s]\n"
          ]
        },
        {
          "name": "stdout",
          "output_type": "stream",
          "text": [
            "Test, epoch 4 Loss: 4.022 | Acc: 16.760% (1676/10000)\n",
            "\n",
            "Epoch: 5\n"
          ]
        },
        {
          "name": "stderr",
          "output_type": "stream",
          "text": [
            "100%|██████████| 10/10 [00:00<00:00, 54.25it/s]\n"
          ]
        },
        {
          "name": "stdout",
          "output_type": "stream",
          "text": [
            "Training, epoch 5 Loss: 1.910 | Acc: 35.000% (35/100)\n"
          ]
        },
        {
          "name": "stderr",
          "output_type": "stream",
          "text": [
            "100%|██████████| 100/100 [00:03<00:00, 25.51it/s]\n"
          ]
        },
        {
          "name": "stdout",
          "output_type": "stream",
          "text": [
            "Test, epoch 5 Loss: 2.385 | Acc: 22.490% (2249/10000)\n",
            "\n",
            "Epoch: 6\n"
          ]
        },
        {
          "name": "stderr",
          "output_type": "stream",
          "text": [
            "100%|██████████| 10/10 [00:00<00:00, 54.29it/s]\n"
          ]
        },
        {
          "name": "stdout",
          "output_type": "stream",
          "text": [
            "Training, epoch 6 Loss: 1.413 | Acc: 53.000% (53/100)\n"
          ]
        },
        {
          "name": "stderr",
          "output_type": "stream",
          "text": [
            "100%|██████████| 100/100 [00:03<00:00, 25.09it/s]\n"
          ]
        },
        {
          "name": "stdout",
          "output_type": "stream",
          "text": [
            "Test, epoch 6 Loss: 2.466 | Acc: 22.640% (2264/10000)\n",
            "\n",
            "Epoch: 7\n"
          ]
        },
        {
          "name": "stderr",
          "output_type": "stream",
          "text": [
            "100%|██████████| 10/10 [00:00<00:00, 55.56it/s]\n"
          ]
        },
        {
          "name": "stdout",
          "output_type": "stream",
          "text": [
            "Training, epoch 7 Loss: 1.427 | Acc: 51.000% (51/100)\n"
          ]
        },
        {
          "name": "stderr",
          "output_type": "stream",
          "text": [
            "100%|██████████| 100/100 [00:03<00:00, 25.34it/s]\n"
          ]
        },
        {
          "name": "stdout",
          "output_type": "stream",
          "text": [
            "Test, epoch 7 Loss: 2.493 | Acc: 23.140% (2314/10000)\n",
            "\n",
            "Epoch: 8\n"
          ]
        },
        {
          "name": "stderr",
          "output_type": "stream",
          "text": [
            "100%|██████████| 10/10 [00:00<00:00, 57.38it/s]\n"
          ]
        },
        {
          "name": "stdout",
          "output_type": "stream",
          "text": [
            "Training, epoch 8 Loss: 1.383 | Acc: 47.000% (47/100)\n"
          ]
        },
        {
          "name": "stderr",
          "output_type": "stream",
          "text": [
            "100%|██████████| 100/100 [00:03<00:00, 25.44it/s]\n"
          ]
        },
        {
          "name": "stdout",
          "output_type": "stream",
          "text": [
            "Test, epoch 8 Loss: 2.579 | Acc: 23.830% (2383/10000)\n",
            "\n",
            "Epoch: 9\n"
          ]
        },
        {
          "name": "stderr",
          "output_type": "stream",
          "text": [
            "100%|██████████| 10/10 [00:00<00:00, 56.23it/s]\n"
          ]
        },
        {
          "name": "stdout",
          "output_type": "stream",
          "text": [
            "Training, epoch 9 Loss: 1.279 | Acc: 53.000% (53/100)\n"
          ]
        },
        {
          "name": "stderr",
          "output_type": "stream",
          "text": [
            "100%|██████████| 100/100 [00:03<00:00, 25.44it/s]\n"
          ]
        },
        {
          "name": "stdout",
          "output_type": "stream",
          "text": [
            "Test, epoch 9 Loss: 2.584 | Acc: 24.030% (2403/10000)\n",
            "\n",
            "Epoch: 10\n"
          ]
        },
        {
          "name": "stderr",
          "output_type": "stream",
          "text": [
            "100%|██████████| 10/10 [00:00<00:00, 54.81it/s]\n"
          ]
        },
        {
          "name": "stdout",
          "output_type": "stream",
          "text": [
            "Training, epoch 10 Loss: 1.167 | Acc: 58.000% (58/100)\n"
          ]
        },
        {
          "name": "stderr",
          "output_type": "stream",
          "text": [
            "100%|██████████| 100/100 [00:03<00:00, 25.31it/s]\n"
          ]
        },
        {
          "name": "stdout",
          "output_type": "stream",
          "text": [
            "Test, epoch 10 Loss: 2.557 | Acc: 25.160% (2516/10000)\n",
            "\n",
            "Epoch: 11\n"
          ]
        },
        {
          "name": "stderr",
          "output_type": "stream",
          "text": [
            "100%|██████████| 10/10 [00:00<00:00, 55.03it/s]\n"
          ]
        },
        {
          "name": "stdout",
          "output_type": "stream",
          "text": [
            "Training, epoch 11 Loss: 1.194 | Acc: 56.000% (56/100)\n"
          ]
        },
        {
          "name": "stderr",
          "output_type": "stream",
          "text": [
            "100%|██████████| 100/100 [00:03<00:00, 25.44it/s]\n"
          ]
        },
        {
          "name": "stdout",
          "output_type": "stream",
          "text": [
            "Test, epoch 11 Loss: 2.548 | Acc: 25.210% (2521/10000)\n",
            "\n",
            "Epoch: 12\n"
          ]
        },
        {
          "name": "stderr",
          "output_type": "stream",
          "text": [
            "100%|██████████| 10/10 [00:00<00:00, 56.69it/s]\n"
          ]
        },
        {
          "name": "stdout",
          "output_type": "stream",
          "text": [
            "Training, epoch 12 Loss: 1.155 | Acc: 61.000% (61/100)\n"
          ]
        },
        {
          "name": "stderr",
          "output_type": "stream",
          "text": [
            "100%|██████████| 100/100 [00:03<00:00, 25.27it/s]\n"
          ]
        },
        {
          "name": "stdout",
          "output_type": "stream",
          "text": [
            "Test, epoch 12 Loss: 2.523 | Acc: 25.130% (2513/10000)\n",
            "\n",
            "Epoch: 13\n"
          ]
        },
        {
          "name": "stderr",
          "output_type": "stream",
          "text": [
            "100%|██████████| 10/10 [00:00<00:00, 55.65it/s]\n"
          ]
        },
        {
          "name": "stdout",
          "output_type": "stream",
          "text": [
            "Training, epoch 13 Loss: 1.213 | Acc: 58.000% (58/100)\n"
          ]
        },
        {
          "name": "stderr",
          "output_type": "stream",
          "text": [
            "100%|██████████| 100/100 [00:03<00:00, 25.52it/s]\n"
          ]
        },
        {
          "name": "stdout",
          "output_type": "stream",
          "text": [
            "Test, epoch 13 Loss: 2.524 | Acc: 25.530% (2553/10000)\n",
            "\n",
            "Epoch: 14\n"
          ]
        },
        {
          "name": "stderr",
          "output_type": "stream",
          "text": [
            "100%|██████████| 10/10 [00:00<00:00, 56.16it/s]\n"
          ]
        },
        {
          "name": "stdout",
          "output_type": "stream",
          "text": [
            "Training, epoch 14 Loss: 1.227 | Acc: 53.000% (53/100)\n"
          ]
        },
        {
          "name": "stderr",
          "output_type": "stream",
          "text": [
            "100%|██████████| 100/100 [00:03<00:00, 25.44it/s]\n"
          ]
        },
        {
          "name": "stdout",
          "output_type": "stream",
          "text": [
            "Test, epoch 14 Loss: 2.527 | Acc: 25.100% (2510/10000)\n",
            "\n",
            "Epoch: 15\n"
          ]
        },
        {
          "name": "stderr",
          "output_type": "stream",
          "text": [
            "100%|██████████| 10/10 [00:00<00:00, 55.27it/s]\n"
          ]
        },
        {
          "name": "stdout",
          "output_type": "stream",
          "text": [
            "Training, epoch 15 Loss: 1.076 | Acc: 59.000% (59/100)\n"
          ]
        },
        {
          "name": "stderr",
          "output_type": "stream",
          "text": [
            "100%|██████████| 100/100 [00:03<00:00, 25.34it/s]\n"
          ]
        },
        {
          "name": "stdout",
          "output_type": "stream",
          "text": [
            "Test, epoch 15 Loss: 2.523 | Acc: 25.460% (2546/10000)\n",
            "\n",
            "Epoch: 16\n"
          ]
        },
        {
          "name": "stderr",
          "output_type": "stream",
          "text": [
            "100%|██████████| 10/10 [00:00<00:00, 55.48it/s]\n"
          ]
        },
        {
          "name": "stdout",
          "output_type": "stream",
          "text": [
            "Training, epoch 16 Loss: 1.089 | Acc: 63.000% (63/100)\n"
          ]
        },
        {
          "name": "stderr",
          "output_type": "stream",
          "text": [
            "100%|██████████| 100/100 [00:03<00:00, 25.42it/s]\n"
          ]
        },
        {
          "name": "stdout",
          "output_type": "stream",
          "text": [
            "Test, epoch 16 Loss: 2.523 | Acc: 25.630% (2563/10000)\n",
            "\n",
            "Epoch: 17\n"
          ]
        },
        {
          "name": "stderr",
          "output_type": "stream",
          "text": [
            "100%|██████████| 10/10 [00:00<00:00, 55.77it/s]\n"
          ]
        },
        {
          "name": "stdout",
          "output_type": "stream",
          "text": [
            "Training, epoch 17 Loss: 1.077 | Acc: 57.000% (57/100)\n"
          ]
        },
        {
          "name": "stderr",
          "output_type": "stream",
          "text": [
            "100%|██████████| 100/100 [00:03<00:00, 25.43it/s]\n"
          ]
        },
        {
          "name": "stdout",
          "output_type": "stream",
          "text": [
            "Test, epoch 17 Loss: 2.533 | Acc: 25.510% (2551/10000)\n",
            "\n",
            "Epoch: 18\n"
          ]
        },
        {
          "name": "stderr",
          "output_type": "stream",
          "text": [
            "100%|██████████| 10/10 [00:00<00:00, 54.63it/s]\n"
          ]
        },
        {
          "name": "stdout",
          "output_type": "stream",
          "text": [
            "Training, epoch 18 Loss: 1.155 | Acc: 55.000% (55/100)\n"
          ]
        },
        {
          "name": "stderr",
          "output_type": "stream",
          "text": [
            "100%|██████████| 100/100 [00:03<00:00, 25.25it/s]\n"
          ]
        },
        {
          "name": "stdout",
          "output_type": "stream",
          "text": [
            "Test, epoch 18 Loss: 2.527 | Acc: 25.660% (2566/10000)\n",
            "\n",
            "Epoch: 19\n"
          ]
        },
        {
          "name": "stderr",
          "output_type": "stream",
          "text": [
            "100%|██████████| 10/10 [00:00<00:00, 55.90it/s]\n"
          ]
        },
        {
          "name": "stdout",
          "output_type": "stream",
          "text": [
            "Training, epoch 19 Loss: 1.150 | Acc: 62.000% (62/100)\n"
          ]
        },
        {
          "name": "stderr",
          "output_type": "stream",
          "text": [
            "100%|██████████| 100/100 [00:03<00:00, 25.51it/s]\n"
          ]
        },
        {
          "name": "stdout",
          "output_type": "stream",
          "text": [
            "Test, epoch 19 Loss: 2.535 | Acc: 25.700% (2570/10000)\n",
            "\n",
            "Epoch: 20\n"
          ]
        },
        {
          "name": "stderr",
          "output_type": "stream",
          "text": [
            "100%|██████████| 10/10 [00:00<00:00, 54.84it/s]\n"
          ]
        },
        {
          "name": "stdout",
          "output_type": "stream",
          "text": [
            "Training, epoch 20 Loss: 1.187 | Acc: 62.000% (62/100)\n"
          ]
        },
        {
          "name": "stderr",
          "output_type": "stream",
          "text": [
            "100%|██████████| 100/100 [00:03<00:00, 25.15it/s]\n"
          ]
        },
        {
          "name": "stdout",
          "output_type": "stream",
          "text": [
            "Test, epoch 20 Loss: 2.537 | Acc: 25.950% (2595/10000)\n",
            "\n",
            "Epoch: 21\n"
          ]
        },
        {
          "name": "stderr",
          "output_type": "stream",
          "text": [
            "100%|██████████| 10/10 [00:00<00:00, 54.83it/s]\n"
          ]
        },
        {
          "name": "stdout",
          "output_type": "stream",
          "text": [
            "Training, epoch 21 Loss: 1.101 | Acc: 63.000% (63/100)\n"
          ]
        },
        {
          "name": "stderr",
          "output_type": "stream",
          "text": [
            "100%|██████████| 100/100 [00:03<00:00, 25.42it/s]\n"
          ]
        },
        {
          "name": "stdout",
          "output_type": "stream",
          "text": [
            "Test, epoch 21 Loss: 2.542 | Acc: 25.690% (2569/10000)\n",
            "\n",
            "Epoch: 22\n"
          ]
        },
        {
          "name": "stderr",
          "output_type": "stream",
          "text": [
            "100%|██████████| 10/10 [00:00<00:00, 55.19it/s]\n"
          ]
        },
        {
          "name": "stdout",
          "output_type": "stream",
          "text": [
            "Training, epoch 22 Loss: 1.095 | Acc: 65.000% (65/100)\n"
          ]
        },
        {
          "name": "stderr",
          "output_type": "stream",
          "text": [
            "100%|██████████| 100/100 [00:03<00:00, 25.60it/s]\n"
          ]
        },
        {
          "name": "stdout",
          "output_type": "stream",
          "text": [
            "Test, epoch 22 Loss: 2.535 | Acc: 25.770% (2577/10000)\n",
            "\n",
            "Epoch: 23\n"
          ]
        },
        {
          "name": "stderr",
          "output_type": "stream",
          "text": [
            "100%|██████████| 10/10 [00:00<00:00, 53.69it/s]\n"
          ]
        },
        {
          "name": "stdout",
          "output_type": "stream",
          "text": [
            "Training, epoch 23 Loss: 1.094 | Acc: 58.000% (58/100)\n"
          ]
        },
        {
          "name": "stderr",
          "output_type": "stream",
          "text": [
            "100%|██████████| 100/100 [00:03<00:00, 25.51it/s]\n"
          ]
        },
        {
          "name": "stdout",
          "output_type": "stream",
          "text": [
            "Test, epoch 23 Loss: 2.539 | Acc: 25.620% (2562/10000)\n",
            "\n",
            "Epoch: 24\n"
          ]
        },
        {
          "name": "stderr",
          "output_type": "stream",
          "text": [
            "100%|██████████| 10/10 [00:00<00:00, 55.76it/s]\n"
          ]
        },
        {
          "name": "stdout",
          "output_type": "stream",
          "text": [
            "Training, epoch 24 Loss: 1.081 | Acc: 66.000% (66/100)\n"
          ]
        },
        {
          "name": "stderr",
          "output_type": "stream",
          "text": [
            "100%|██████████| 100/100 [00:03<00:00, 25.51it/s]"
          ]
        },
        {
          "name": "stdout",
          "output_type": "stream",
          "text": [
            "Test, epoch 24 Loss: 2.542 | Acc: 25.700% (2570/10000)\n"
          ]
        },
        {
          "name": "stderr",
          "output_type": "stream",
          "text": [
            "\n"
          ]
        }
      ],
      "source": [
        "# Augmentation on baseline model\n",
        "for epoch in range(0, 25):\n",
        "    train(net, epoch, X_train_augment)\n",
        "    test_loss = test(net, epoch, X_test)\n",
        "    scheduler.step()"
      ]
    },
    {
      "cell_type": "markdown",
      "metadata": {
        "id": "L-Z7tcUr7F6G"
      },
      "source": [
        "### Results\n",
        "\n",
        "| Model | Number of  epochs  | Train accuracy | Test accuracy |Full data accuracy|\n",
        "|------|------|------|------|------|\n",
        "|   Resnet18 (from scratch with data augmentation)  | 25 | 62% | 25.95% |93.02%|\n",
        "\n"
      ]
    },
    {
      "cell_type": "markdown",
      "metadata": {
        "id": "1I81WSECjGKq"
      },
      "source": [
        "# Conclusions"
      ]
    },
    {
      "cell_type": "markdown",
      "metadata": {
        "id": "xjQRkH-kjGKq"
      },
      "source": [
        "__Question 7 (5 points) :__ Write a short report explaining the pros and the cons of each method you implemented. 25% of the grade of this project will correspond to this question, thus, it should be done carefully. In particular, please add a plot that will summarize all your numerical results."
      ]
    },
    {
      "cell_type": "markdown",
      "metadata": {
        "id": "82dUc-f5jGKq"
      },
      "source": [
        "The table below summarizes the results of the different approaches we tested. The semi-supervised Resnet is described in the following section.\n",
        "\n",
        "| Model | Number of  epochs  | Train accuracy | Test accuracy |Full data accuracy |\n",
        "|------|------|------|------|------|\n",
        "|   Resnet18(from scratch)  | 20 | 52% | 22.19% |----|\n",
        "|   Resnet18 (from scratch with data augmentation)  | 25 | 62% | 25.95% |93.02%|\n",
        "|   Resnet18(Pretrained, fine-tuning last layer)  | 25 | **100%** | **55.72%** |----|\n",
        "|   Resnet18(Pretrained, fine-tuning all layers)  | 25 | 100% | 52.18% |----|\n",
        "|   Resnet18(semi-supervised)  | 100 | 100% | 30.70% |----|\n",
        "\n",
        "* **Baseline Resnet18**:<br>\n",
        "Our baseline model consisted of a Resnet18 model, that we trained from scratch. It is a CNN that uses residual connections, this family of models proved to be powerful for computer vision tasks. This model is made of 18 layers, which gives a good trade-off between performance and computational cost. However, training this model from scratch on 100 samples leads to overfitting and bad generalization on the test set. In fact, after 10 epochs the training accuracy keeps increasing over 80% but the test accuracy reaches a maximum of 22%.\n",
        "\n",
        "* **Pretrained Resnet18**:<br>\n",
        "We tested transfer learning, where we used again a Resnet18 net that was pretrained on ImageNet data, to compare to the the baseline using the same model. This approach proved to be more powerful, giving a test accuracy of 55.72% which was an improvement of almost 30% compared to the trained-from-scratch model. Thanks to the pretraining on large data, the model has already learned a wide range of image features, which can not be done using only the 100 samples that we have in the training, so this model overfits less. We tried fine-tuning more than the last layer but the performance didn't improve. However the fine-tuning can be tricky: we had to resize the images, resp. normalize the data to the shape, resp the mean and standard deviation of the of ImageNet images, on which the pretrained model was trained. The choice of the optimization parameters as well as the scheduler where also important.\n",
        "\n",
        "* **Training Resnet18 from scratch with data augmentation**:<br>\n",
        "We used data augmentation techniques to increase the amount and variety of the training samples. \n",
        "We designed a chain of geometric transformations. The standard PyTorch Transforms tools were used and the transformation randomly applied with a 0.5 probability.  We considered random rotations and perspectives, horizontal and vertical flips. But we got the best results using similar augmentation as in the repository https://github.com/kuangliu/pytorch-cifar, which consist in a  random crop and horizontal flip, which imitates the diversity of camera plans and the symetries found in natural images. Finally, the images were normalized by substracting the channel-wise mean value and dividing by the corresponding standard deviation. \n",
        "\n",
        "* **Semi-supervised Resnet18 (bonus question)**:<br>\n",
        "We tested a semi-supervised approach that makes use of both labeled and unlabeled images. It jointly trains the model on a supervised task of finding classes of labeled images and finding the transformations applied to unlabeled images in a self-supervised setting. This technique performs better than the training from scratch with data augmentation but is still far from the transfer learning approach. However, the results can still be improved with more tuning of the hyperparameters. And since we use more data, the training takes more time in this case."
      ]
    },
    {
      "cell_type": "markdown",
      "metadata": {
        "id": "8MIfKUUojGKq"
      },
      "source": [
        "# Weak supervision"
      ]
    },
    {
      "cell_type": "markdown",
      "metadata": {
        "id": "RldQ1hdPjGKq"
      },
      "source": [
        "__Bonus \\[open\\] question (up to 4 points) :__ Pick a weakly supervised method that will potentially use $\\mathcal{X}_{\\text{nolabel}}\\cup\\mathcal{X}_{\\text{train}}$ to train a model (a subset of $\\mathcal{X}_{\\text{nolabel}}$ is also fine). Evaluate it and report the accuracies. You should be careful in the choice of your method, in order to avoid heavy computational effort."
      ]
    },
    {
      "cell_type": "markdown",
      "metadata": {
        "id": "xk1FF9bqjGKq"
      },
      "source": [
        "In this section, we will use a semi-supervised method for image classification that uses both labeled and unlabeled images during the training. We used the code from a notebook implemented in this blog https://towardsdatascience.com/semi-supervised-learning-demystified-with-pytorch-and-sesemi-9656c14af031 for using SESEMI method of this paper [Exploring Self-Supervised Regularization for Supervised and Semi-Supervised Learning](https://arxiv.org/pdf/1906.10343.pdf) in pytorch. \n",
        "\n",
        "The idea of this approach is to train a CNN with two heads giving two losses which are trained jointly, one related to the supervised task of predicting the class of labeled images, and one related to the unlabeled images, to which a transformation (rotation, flip..) is applied and the model has to predict it in a self-supervised setting. In the paper, the authors show that their approach outperforms the fine-tuning of some supervised CNNs on CIFAR-10, but they didn't test it on Resnet18.\n",
        "\n",
        "Here, we use a resnet18, with the pretraining weights of the supervised setting on ImageNet, and we retrain the whole new model on the semi-supervised task.\n",
        "\n"
      ]
    },
    {
      "cell_type": "code",
      "execution_count": null,
      "metadata": {
        "id": "HKc9MkQoMlSC"
      },
      "outputs": [],
      "source": [
        "import random\n",
        "from typing import Optional\n",
        "import numpy as np\n",
        "from torch.utils.data import Dataset, DataLoader"
      ]
    },
    {
      "cell_type": "code",
      "execution_count": null,
      "metadata": {
        "id": "9CaqBgqpMQ9l"
      },
      "outputs": [],
      "source": [
        "class SesemiTransform:\n",
        "    \"\"\"\n",
        "    Torchvision-style transform to apply SESEMI augmentation to image.\n",
        "    \"\"\"\n",
        "\n",
        "    classes = ('0', '90', '180', '270', 'hflip', 'vflip')\n",
        "\n",
        "    def __call__(self, x):\n",
        "        tf_type = random.randint(0, len(self.classes) - 1)\n",
        "        if tf_type == 0:\n",
        "            x = x\n",
        "        elif tf_type == 1:\n",
        "            x = transforms.functional.rotate(x, 90)\n",
        "        elif tf_type == 2:\n",
        "            x = transforms.functional.rotate(x, 180)\n",
        "        elif tf_type == 3:\n",
        "            x = transforms.functional.rotate(x, 270)\n",
        "        elif tf_type == 4:\n",
        "            x = transforms.functional.hflip(x)\n",
        "        elif tf_type == 5:\n",
        "            x = transforms.functional.rotate(x, 180)\n",
        "            x = transforms.functional.hflip(x)\n",
        "        return x, tf_type\n",
        "\n",
        "class LabeledDataset(Dataset):\n",
        "    \"\"\"\n",
        "    Labeled training Dataset class.\n",
        "    \"\"\"\n",
        "\n",
        "    def __init__(self, data: np.ndarray, labels: list,\n",
        "            transform: Optional[transforms.Compose] = None):\n",
        "        self.data = data\n",
        "        self.labels = labels\n",
        "        self.transform = transform\n",
        "\n",
        "    def __len__(self) -> int:\n",
        "        return len(self.labels)\n",
        "\n",
        "    def __getitem__(self, idx: int) -> tuple:\n",
        "        if idx >= len(self):\n",
        "            raise IndexError(f'{idx} is out-of-bounds for dataset (length: {len(self)})')\n",
        "        s_idx = idx % len(self.labels)\n",
        "        \n",
        "        data = self.data[s_idx]\n",
        "        labels = self.labels[s_idx]\n",
        "        if self.transform is not None:\n",
        "            data = self.transform(data)\n",
        "        return data, labels\n",
        "\n",
        "class UnlabeledDataset(Dataset):\n",
        "    \"\"\"\n",
        "    Unlabeled training Dataset class.\n",
        "    \"\"\"\n",
        "\n",
        "    def __init__(self, data: np.ndarray,\n",
        "            transform: Optional[transforms.Compose] = None):\n",
        "        self.data = data\n",
        "        self.transform = transform\n",
        "        self.sesemi_transform = SesemiTransform()\n",
        "\n",
        "    def __len__(self):\n",
        "        return len(self.data)\n",
        "\n",
        "    def __getitem__(self, idx: int) -> np.ndarray:\n",
        "        data = self.data[idx]\n",
        "        if self.transform is not None:\n",
        "            data = self.transform(data)\n",
        "        data, label = self.sesemi_transform(data)\n",
        "        return data, label"
      ]
    },
    {
      "cell_type": "code",
      "execution_count": null,
      "metadata": {
        "id": "A-t0PsZPMsNb"
      },
      "outputs": [],
      "source": [
        "batch_size = 12\n",
        "n_epochs = 25\n",
        "n_batches_print = 20"
      ]
    },
    {
      "cell_type": "markdown",
      "metadata": {
        "id": "WIZHFbXKNgam"
      },
      "source": [
        "### Creating labeled and unlabeled data loaders"
      ]
    },
    {
      "cell_type": "code",
      "execution_count": null,
      "metadata": {
        "colab": {
          "base_uri": "https://localhost:8080/"
        },
        "id": "PlFXCScDMsRH",
        "outputId": "20d1b84c-82d1-4ca9-ad65-c8ef1ec69889"
      },
      "outputs": [
        {
          "name": "stdout",
          "output_type": "stream",
          "text": [
            "Files already downloaded and verified\n",
            "Files already downloaded and verified\n",
            "Number labaled training samples:      100\n",
            "Number unlabeled training samples:  49900\n",
            "Number  testing samples:            10000\n"
          ]
        }
      ],
      "source": [
        "sup_classes = ('plane', 'car', 'bird', 'cat', 'deer', 'dog', 'frog', 'horse', 'ship', 'truck')\n",
        "\n",
        "transform = transforms.Compose(\n",
        "    [transforms.ToTensor(),\n",
        "     transforms.Normalize((0.4914, 0.4822, 0.4465), (0.2023, 0.1994, 0.2010))])\n",
        "trainset = torchvision.datasets.CIFAR10(root='./data', train=True,download=True, transform=transform)\n",
        "labeled_trainset = LabeledDataset(trainset.data[:100], trainset.targets[:100], transform=transform)\n",
        "unlabeled_trainset = UnlabeledDataset(trainset.data[100:], transform=transform)\n",
        "\n",
        "testset = torchvision.datasets.CIFAR10(root='./data', train=False,download=True, transform=transform)\n",
        "\n",
        "print(f'Number labaled training samples:   {len(labeled_trainset):6d}')\n",
        "print(f'Number unlabeled training samples: {len(unlabeled_trainset):6d}')\n",
        "print(f'Number  testing samples:           {len(testset):6d}')"
      ]
    },
    {
      "cell_type": "code",
      "execution_count": null,
      "metadata": {
        "id": "JN6R3X2zMwmd"
      },
      "outputs": [],
      "source": [
        "labeled_trainloader = DataLoader(labeled_trainset, batch_size=batch_size,\n",
        "    shuffle=True, num_workers=2)\n",
        "unlabeled_trainloader = DataLoader(unlabeled_trainset, batch_size=batch_size,\n",
        "    shuffle=True, num_workers=2)\n",
        "testloader = DataLoader(testset, batch_size=batch_size, shuffle=False,\n",
        "    num_workers=2)"
      ]
    },
    {
      "cell_type": "code",
      "execution_count": null,
      "metadata": {
        "id": "_8hoE3-ONe8c"
      },
      "outputs": [],
      "source": [
        "unsup_classes = unlabeled_trainset.sesemi_transform.classes"
      ]
    },
    {
      "cell_type": "markdown",
      "metadata": {
        "id": "5swc5afrNtTh"
      },
      "source": [
        "#### Model training"
      ]
    },
    {
      "cell_type": "code",
      "execution_count": null,
      "metadata": {
        "id": "kSSwjE1wM4SZ"
      },
      "outputs": [],
      "source": [
        "class SesemiNet(nn.Module):\n",
        "    \"\"\"\n",
        "    ResNet backbone with two heads for SESEMI training.\n",
        "    \"\"\"\n",
        "\n",
        "    def __init__(\n",
        "        self,\n",
        "        n_sup_classes: int,\n",
        "        n_unsup_classes: int,\n",
        "        pretrained: bool = True\n",
        "    ):\n",
        "        super().__init__()\n",
        "        self.resnet = torchvision.models.resnet18(pretrained=pretrained)\n",
        "        self.fc_out = 256\n",
        "        self.resnet.fc = nn.Linear(self.resnet.fc.in_features, self.fc_out)\n",
        "        self.sup_fc = nn.Linear(self.fc_out, n_sup_classes)\n",
        "        self.selfsup_fc = nn.Linear(self.fc_out, n_unsup_classes)\n",
        "\n",
        "    def forward(self, x: torch.Tensor, x_selfsup: Optional[torch.Tensor] = None):\n",
        "        x = self.resnet(x)\n",
        "        x = self.sup_fc(x)\n",
        "        if x_selfsup is not None:\n",
        "            x_selfsup = self.resnet(x_selfsup)\n",
        "            x_selfsup = self.selfsup_fc(x_selfsup)\n",
        "            return x, x_selfsup\n",
        "        else:\n",
        "            return x"
      ]
    },
    {
      "cell_type": "code",
      "execution_count": null,
      "metadata": {
        "id": "is32UUliM62I"
      },
      "outputs": [],
      "source": [
        "def train(\n",
        "    model: nn.Module,\n",
        "    labeled_trainloader: DataLoader,\n",
        "    unlabeled_trainloader: Optional[DataLoader] = None,\n",
        "    valloader: Optional[DataLoader] = None,\n",
        "    n_epochs: int = 2,\n",
        "    n_batches_print: int = 1000,\n",
        "    device: Optional[str] = None,\n",
        "    unsup_wt: float = 1.0\n",
        "):\n",
        "    \"\"\"\n",
        "    Execute SESEMI training loop.\n",
        "    \"\"\"\n",
        "\n",
        "    if device is None:\n",
        "        device = torch.device(\"cuda:0\" if torch.cuda.is_available() else \"cpu\")\n",
        "\n",
        "    train_losses = []\n",
        "    val_losses = []\n",
        "    val_accs = []\n",
        "    model.to(device)\n",
        "    for epoch in range(n_epochs):\n",
        "        model.train()\n",
        "        train_loss_sum = 0.0\n",
        "        running_loss_sup = 0.0\n",
        "        running_loss_unsup = 0.0\n",
        "        dataloaders = zip(labeled_trainloader, [None] * len(labeled_trainloader))\\\n",
        "            if unlabeled_trainloader is None else zip(labeled_trainloader, unlabeled_trainloader)\n",
        "        for i, (sup_data, unsup_data) in enumerate(dataloaders, start=0):\n",
        "            optimizer.zero_grad()\n",
        "            sup_inputs, sup_labels = sup_data\n",
        "            sup_inputs = sup_inputs.to(device)\n",
        "            sup_labels = sup_labels.to(device)\n",
        "\n",
        "            if unsup_data is None:\n",
        "                sup_outputs = model(sup_inputs)\n",
        "                loss_unsup = 0.0\n",
        "            else:\n",
        "                unsup_inputs, unsup_labels = unsup_data\n",
        "                unsup_inputs = unsup_inputs.to(device)\n",
        "                unsup_labels = unsup_labels.to(device)\n",
        "                # forward pass through model with both data subsets\n",
        "                sup_outputs, unsup_outputs = model(sup_inputs, x_selfsup=unsup_inputs)\n",
        "                loss_unsup = unsup_criterion(unsup_outputs, unsup_labels)\n",
        "                running_loss_unsup += loss_unsup.item()\n",
        "            loss_sup = sup_criterion(sup_outputs, sup_labels)\n",
        "            # evaluate loss function\n",
        "            loss = loss_sup + unsup_wt * loss_unsup\n",
        "            loss.backward()\n",
        "            optimizer.step()\n",
        "            iter_loss = loss_sup.item()\n",
        "            running_loss_sup += iter_loss\n",
        "            train_loss_sum += iter_loss\n",
        "\n",
        "            # print statistics\n",
        "            if i % n_batches_print == n_batches_print - 1:\n",
        "                if unsup_data is None:\n",
        "                    print(f'[{epoch + 1}, {i + 1:5d}] loss (sup): {running_loss_sup / n_batches_print:.4f}')\n",
        "                else:\n",
        "                    print(f'[{epoch + 1}, {i + 1:5d}] loss (sup): {running_loss_sup / n_batches_print:.4f} '\\\n",
        "                        f'Train loss (unsup): {running_loss_unsup / n_batches_print:.4f}')\n",
        "                running_loss_sup = 0.0\n",
        "                running_loss_unsup = 0.0\n",
        "        train_losses.append(train_loss_sum / len(labeled_trainloader))\n",
        "\n",
        "        # validation\n",
        "        if valloader is not None:\n",
        "            model.eval()\n",
        "            acc_values = []\n",
        "            acc_batchsize = []\n",
        "            running_loss = 0.0\n",
        "            correct = 0\n",
        "            total = 0\n",
        "            for i, val_data in enumerate(valloader, start=0):\n",
        "                # forward + backward + optimize\n",
        "                optimizer.zero_grad()\n",
        "                val_inputs, val_labels = val_data\n",
        "                val_inputs = val_inputs.to(device)\n",
        "                val_labels = val_labels.to(device)\n",
        "                # forward pass of labeled data only for validation\n",
        "                val_outputs = model(val_inputs)\n",
        "                loss = sup_criterion(val_outputs, val_labels)\n",
        "                running_loss += loss.item()\n",
        "\n",
        "                acc, bsize = accuracy(val_outputs.data, val_labels, topk=(1,))\n",
        "                acc_values.append(acc[0].numpy())\n",
        "                acc_batchsize.append(bsize)\n",
        "            total_loss = running_loss / len(valloader)\n",
        "            total_acc = np.sum(np.array(acc_values) * np.array(acc_batchsize)) / np.sum(acc_batchsize)\n",
        "            print(f'Epoch: {epoch + 1}, Val loss (sup): {running_loss / len(valloader):.4f}, acc: {total_acc:.2f}')\n",
        "            val_losses.append(total_loss)\n",
        "            val_accs.append(total_acc)\n",
        "    print('Training Finished')\n",
        "    if valloader is None:\n",
        "        return train_losses\n",
        "    else:\n",
        "        return train_losses, val_losses, val_accs\n",
        "\n",
        "def accuracy(output, target, topk=(1,)):\n",
        "    \"\"\"\n",
        "    Calculate top-k accuracy for the given batch and its targets.\n",
        "    \"\"\"\n",
        "\n",
        "    output = output.cpu()\n",
        "    target = target.cpu()\n",
        "    maxk = max(topk)\n",
        "    batch_size = target.size(0)\n",
        "\n",
        "    _, pred = output.topk(maxk, 1, True, True)\n",
        "    pred = pred.t()\n",
        "    correct = pred.eq(target.view(1, -1).expand_as(pred))\n",
        "\n",
        "    res = []\n",
        "    for k in topk:\n",
        "        correct_k = correct[:k].view(-1).float().sum(0)\n",
        "        res.append(correct_k.mul_(100.0 / batch_size))\n",
        "    return (res, batch_size)\n",
        "\n",
        "def plot_losses(trainloss: list, valloss: Optional[list] = None,\n",
        "        title: str = 'Losses'):\n",
        "    \"\"\"\n",
        "    Display plot of training loss against validation loss.\n",
        "    \"\"\"\n",
        "\n",
        "    x = list(range(1, len(trainloss) + 1))\n",
        "    plt.plot(x, trainloss, 'b')\n",
        "    if valloss is not None:\n",
        "        plt.plot(x, valloss, 'r')\n",
        "    plt.title(title)\n",
        "    plt.grid(True)\n",
        "    plt.show()"
      ]
    },
    {
      "cell_type": "code",
      "execution_count": null,
      "metadata": {
        "colab": {
          "base_uri": "https://localhost:8080/",
          "height": 1000
        },
        "id": "GMvGRzCtM_Ax",
        "outputId": "bb6bc4b5-0d50-4d1a-db0a-892e5734d91a"
      },
      "outputs": [
        {
          "name": "stdout",
          "output_type": "stream",
          "text": [
            "Epoch: 1, Val loss (sup): 2.5408, acc: 17.39\n",
            "Epoch: 2, Val loss (sup): 2.8252, acc: 21.93\n",
            "Epoch: 3, Val loss (sup): 3.1166, acc: 25.07\n",
            "Epoch: 4, Val loss (sup): 2.9238, acc: 23.37\n",
            "Epoch: 5, Val loss (sup): 3.1209, acc: 23.70\n",
            "Epoch: 6, Val loss (sup): 2.9809, acc: 24.50\n",
            "Epoch: 7, Val loss (sup): 3.1845, acc: 22.58\n",
            "Epoch: 8, Val loss (sup): 3.3495, acc: 22.20\n",
            "Epoch: 9, Val loss (sup): 3.0424, acc: 24.33\n",
            "Epoch: 10, Val loss (sup): 3.4045, acc: 27.53\n",
            "Epoch: 11, Val loss (sup): 3.3839, acc: 24.30\n",
            "Epoch: 12, Val loss (sup): 3.4384, acc: 22.15\n",
            "Epoch: 13, Val loss (sup): 3.2652, acc: 22.64\n",
            "Epoch: 14, Val loss (sup): 3.3696, acc: 25.28\n",
            "Epoch: 15, Val loss (sup): 3.3100, acc: 27.19\n",
            "Epoch: 16, Val loss (sup): 3.5553, acc: 24.92\n",
            "Epoch: 17, Val loss (sup): 3.2347, acc: 26.94\n",
            "Epoch: 18, Val loss (sup): 3.0718, acc: 25.75\n",
            "Epoch: 19, Val loss (sup): 3.2478, acc: 28.01\n",
            "Epoch: 20, Val loss (sup): 3.1772, acc: 27.66\n",
            "Epoch: 21, Val loss (sup): 3.3962, acc: 27.51\n",
            "Epoch: 22, Val loss (sup): 3.4942, acc: 26.86\n",
            "Epoch: 23, Val loss (sup): 3.1422, acc: 27.82\n",
            "Epoch: 24, Val loss (sup): 2.7418, acc: 28.44\n",
            "Epoch: 25, Val loss (sup): 3.0085, acc: 27.94\n",
            "Epoch: 26, Val loss (sup): 3.1648, acc: 27.53\n",
            "Epoch: 27, Val loss (sup): 3.0237, acc: 26.98\n",
            "Epoch: 28, Val loss (sup): 3.4224, acc: 25.24\n",
            "Epoch: 29, Val loss (sup): 3.3671, acc: 25.74\n",
            "Epoch: 30, Val loss (sup): 3.2873, acc: 26.06\n",
            "Epoch: 31, Val loss (sup): 3.4775, acc: 28.33\n",
            "Epoch: 32, Val loss (sup): 4.0341, acc: 29.20\n",
            "Epoch: 33, Val loss (sup): 3.5838, acc: 28.51\n",
            "Epoch: 34, Val loss (sup): 4.0225, acc: 27.76\n",
            "Epoch: 35, Val loss (sup): 3.7024, acc: 26.43\n",
            "Epoch: 36, Val loss (sup): 3.8455, acc: 25.02\n",
            "Epoch: 37, Val loss (sup): 4.2036, acc: 24.72\n",
            "Epoch: 38, Val loss (sup): 3.7761, acc: 25.38\n",
            "Epoch: 39, Val loss (sup): 3.3442, acc: 27.32\n",
            "Epoch: 40, Val loss (sup): 3.2762, acc: 28.78\n",
            "Epoch: 41, Val loss (sup): 3.1733, acc: 28.36\n",
            "Epoch: 42, Val loss (sup): 3.3605, acc: 27.56\n",
            "Epoch: 43, Val loss (sup): 3.8969, acc: 26.74\n",
            "Epoch: 44, Val loss (sup): 3.5270, acc: 26.97\n",
            "Epoch: 45, Val loss (sup): 3.3041, acc: 28.53\n",
            "Epoch: 46, Val loss (sup): 3.6156, acc: 28.77\n",
            "Epoch: 47, Val loss (sup): 3.8684, acc: 25.25\n",
            "Epoch: 48, Val loss (sup): 3.5554, acc: 26.65\n",
            "Epoch: 49, Val loss (sup): 3.0202, acc: 28.90\n",
            "Epoch: 50, Val loss (sup): 3.1609, acc: 28.74\n",
            "Epoch: 51, Val loss (sup): 3.6067, acc: 27.76\n",
            "Epoch: 52, Val loss (sup): 3.4885, acc: 28.59\n",
            "Epoch: 53, Val loss (sup): 3.5825, acc: 25.81\n",
            "Epoch: 54, Val loss (sup): 3.4028, acc: 28.11\n",
            "Epoch: 55, Val loss (sup): 3.4135, acc: 30.06\n",
            "Epoch: 56, Val loss (sup): 3.1462, acc: 30.31\n",
            "Epoch: 57, Val loss (sup): 3.8130, acc: 30.70\n",
            "Epoch: 58, Val loss (sup): 3.8935, acc: 30.53\n",
            "Epoch: 59, Val loss (sup): 3.5770, acc: 29.28\n",
            "Epoch: 60, Val loss (sup): 3.6455, acc: 30.24\n",
            "Epoch: 61, Val loss (sup): 3.7565, acc: 28.75\n",
            "Epoch: 62, Val loss (sup): 4.2618, acc: 24.69\n",
            "Epoch: 63, Val loss (sup): 3.5553, acc: 28.94\n",
            "Epoch: 64, Val loss (sup): 3.6709, acc: 29.76\n",
            "Epoch: 65, Val loss (sup): 3.6432, acc: 27.58\n",
            "Epoch: 66, Val loss (sup): 3.6039, acc: 29.49\n",
            "Epoch: 67, Val loss (sup): 3.7931, acc: 28.23\n",
            "Epoch: 68, Val loss (sup): 3.6041, acc: 28.63\n",
            "Epoch: 69, Val loss (sup): 3.2221, acc: 29.57\n",
            "Epoch: 70, Val loss (sup): 3.5283, acc: 28.55\n",
            "Epoch: 71, Val loss (sup): 3.6685, acc: 26.63\n",
            "Epoch: 72, Val loss (sup): 3.6372, acc: 28.30\n",
            "Epoch: 73, Val loss (sup): 3.5903, acc: 29.66\n",
            "Epoch: 74, Val loss (sup): 3.6529, acc: 27.44\n",
            "Epoch: 75, Val loss (sup): 3.7533, acc: 27.29\n",
            "Epoch: 76, Val loss (sup): 4.5314, acc: 26.12\n",
            "Epoch: 77, Val loss (sup): 3.9816, acc: 28.56\n",
            "Epoch: 78, Val loss (sup): 3.9830, acc: 27.21\n",
            "Epoch: 79, Val loss (sup): 3.4647, acc: 29.60\n",
            "Epoch: 80, Val loss (sup): 3.4289, acc: 28.27\n",
            "Epoch: 81, Val loss (sup): 3.5875, acc: 28.64\n",
            "Epoch: 82, Val loss (sup): 3.4604, acc: 28.24\n",
            "Epoch: 83, Val loss (sup): 3.6219, acc: 27.15\n",
            "Epoch: 84, Val loss (sup): 3.8189, acc: 26.72\n",
            "Epoch: 85, Val loss (sup): 3.5560, acc: 26.57\n",
            "Epoch: 86, Val loss (sup): 3.0519, acc: 28.63\n",
            "Epoch: 87, Val loss (sup): 2.8882, acc: 29.16\n",
            "Epoch: 88, Val loss (sup): 3.0960, acc: 28.95\n",
            "Epoch: 89, Val loss (sup): 3.4030, acc: 26.80\n",
            "Epoch: 90, Val loss (sup): 3.2146, acc: 29.01\n",
            "Epoch: 91, Val loss (sup): 3.4211, acc: 30.02\n",
            "Epoch: 92, Val loss (sup): 3.3554, acc: 29.47\n",
            "Epoch: 93, Val loss (sup): 3.3692, acc: 28.98\n",
            "Epoch: 94, Val loss (sup): 4.0796, acc: 27.95\n",
            "Epoch: 95, Val loss (sup): 5.4425, acc: 25.03\n",
            "Epoch: 96, Val loss (sup): 4.2272, acc: 25.92\n",
            "Epoch: 97, Val loss (sup): 3.8380, acc: 24.77\n",
            "Epoch: 98, Val loss (sup): 3.2747, acc: 26.62\n",
            "Epoch: 99, Val loss (sup): 3.4141, acc: 27.43\n",
            "Epoch: 100, Val loss (sup): 3.7654, acc: 28.64\n",
            "Training Finished\n"
          ]
        },
        {
          "data": {
            "image/png": "[encoded data removed]",
            "text/plain": [
              "<Figure size 432x288 with 1 Axes>"
            ]
          },
          "metadata": {
            "needs_background": "light"
          },
          "output_type": "display_data"
        },
        {
          "name": "stdout",
          "output_type": "stream",
          "text": [
            "Max accuracy: 30.70\n"
          ]
        }
      ],
      "source": [
        "model = SesemiNet(len(sup_classes), len(unsup_classes), pretrained=True)\n",
        "\n",
        "sup_criterion = nn.CrossEntropyLoss()\n",
        "unsup_criterion = nn.CrossEntropyLoss()\n",
        "\n",
        "optimizer = optim.Adam(model.parameters(), lr=0.001)\n",
        "\n",
        "unsup_train_losses, unsup_val_losses, unsup_val_accs = train(\n",
        "    model,\n",
        "    labeled_trainloader,\n",
        "    unlabeled_trainloader,\n",
        "    valloader=testloader,\n",
        "    n_epochs=n_epochs,\n",
        "    n_batches_print=n_batches_print)\n",
        "\n",
        "plot_losses(unsup_train_losses, unsup_val_losses, title='Loss with Self-supervision')\n",
        "print(f'Max accuracy: {np.max(unsup_val_accs):.2f}')"
      ]
    },
    {
      "cell_type": "markdown",
      "metadata": {
        "id": "v02uQ9h7JR3D"
      },
      "source": [
        "| Model | Number of  epochs  | Train accuracy | Test accuracy |Full data accuracy |\n",
        "|------|------|------|------|------|\n",
        "|   Resnet18(semi-supervised)  | 100 | 100% | 30.70% |----|\n"
      ]
    }
  ],
  "metadata": {
    "accelerator": "GPU",
    "colab": {
      "collapsed_sections": [],
      "name": "TP4_transfer_final.ipynb",
      "provenance": []
    },
    "kernelspec": {
      "display_name": "Python 3.9.7 ('base')",
      "language": "python",
      "name": "python3"
    },
    "language_info": {
      "codemirror_mode": {
        "name": "ipython",
        "version": 3
      },
      "file_extension": ".py",
      "mimetype": "text/x-python",
      "name": "python",
      "nbconvert_exporter": "python",
      "pygments_lexer": "ipython3",
      "version": "3.9.7"
    },
    "vscode": {
      "interpreter": {
        "hash": "f6fa3d0b62d3ec966001288e60bcc5c16d6c6509231b0418e939e2becf055f22"
      }
    },
    "widgets": {
      "application/vnd.jupyter.widget-state+json": {
        "1f49cd110c89480cbd1fed701b7a0da2": {
          "model_module": "@jupyter-widgets/base",
          "model_module_version": "1.2.0",
          "model_name": "LayoutModel",
          "state": {
            "_model_module": "@jupyter-widgets/base",
            "_model_module_version": "1.2.0",
            "_model_name": "LayoutModel",
            "_view_count": null,
            "_view_module": "@jupyter-widgets/base",
            "_view_module_version": "1.2.0",
            "_view_name": "LayoutView",
            "align_content": null,
            "align_items": null,
            "align_self": null,
            "border": null,
            "bottom": null,
            "display": null,
            "flex": null,
            "flex_flow": null,
            "grid_area": null,
            "grid_auto_columns": null,
            "grid_auto_flow": null,
            "grid_auto_rows": null,
            "grid_column": null,
            "grid_gap": null,
            "grid_row": null,
            "grid_template_areas": null,
            "grid_template_columns": null,
            "grid_template_rows": null,
            "height": null,
            "justify_content": null,
            "justify_items": null,
            "left": null,
            "margin": null,
            "max_height": null,
            "max_width": null,
            "min_height": null,
            "min_width": null,
            "object_fit": null,
            "object_position": null,
            "order": null,
            "overflow": null,
            "overflow_x": null,
            "overflow_y": null,
            "padding": null,
            "right": null,
            "top": null,
            "visibility": null,
            "width": null
          }
        },
        "212bb8528e7947009e89abb0dc149357": {
          "model_module": "@jupyter-widgets/controls",
          "model_module_version": "1.5.0",
          "model_name": "DescriptionStyleModel",
          "state": {
            "_model_module": "@jupyter-widgets/controls",
            "_model_module_version": "1.5.0",
            "_model_name": "DescriptionStyleModel",
            "_view_count": null,
            "_view_module": "@jupyter-widgets/base",
            "_view_module_version": "1.2.0",
            "_view_name": "StyleView",
            "description_width": ""
          }
        },
        "36f18535c28b4839b248f3689521fe2d": {
          "model_module": "@jupyter-widgets/controls",
          "model_module_version": "1.5.0",
          "model_name": "ProgressStyleModel",
          "state": {
            "_model_module": "@jupyter-widgets/controls",
            "_model_module_version": "1.5.0",
            "_model_name": "ProgressStyleModel",
            "_view_count": null,
            "_view_module": "@jupyter-widgets/base",
            "_view_module_version": "1.2.0",
            "_view_name": "StyleView",
            "bar_color": null,
            "description_width": ""
          }
        },
        "4e707123b46b4221a660b38b3b6ac8c3": {
          "model_module": "@jupyter-widgets/base",
          "model_module_version": "1.2.0",
          "model_name": "LayoutModel",
          "state": {
            "_model_module": "@jupyter-widgets/base",
            "_model_module_version": "1.2.0",
            "_model_name": "LayoutModel",
            "_view_count": null,
            "_view_module": "@jupyter-widgets/base",
            "_view_module_version": "1.2.0",
            "_view_name": "LayoutView",
            "align_content": null,
            "align_items": null,
            "align_self": null,
            "border": null,
            "bottom": null,
            "display": null,
            "flex": null,
            "flex_flow": null,
            "grid_area": null,
            "grid_auto_columns": null,
            "grid_auto_flow": null,
            "grid_auto_rows": null,
            "grid_column": null,
            "grid_gap": null,
            "grid_row": null,
            "grid_template_areas": null,
            "grid_template_columns": null,
            "grid_template_rows": null,
            "height": null,
            "justify_content": null,
            "justify_items": null,
            "left": null,
            "margin": null,
            "max_height": null,
            "max_width": null,
            "min_height": null,
            "min_width": null,
            "object_fit": null,
            "object_position": null,
            "order": null,
            "overflow": null,
            "overflow_x": null,
            "overflow_y": null,
            "padding": null,
            "right": null,
            "top": null,
            "visibility": null,
            "width": null
          }
        },
        "61a490b883634e698ef1cb15712c1189": {
          "model_module": "@jupyter-widgets/base",
          "model_module_version": "1.2.0",
          "model_name": "LayoutModel",
          "state": {
            "_model_module": "@jupyter-widgets/base",
            "_model_module_version": "1.2.0",
            "_model_name": "LayoutModel",
            "_view_count": null,
            "_view_module": "@jupyter-widgets/base",
            "_view_module_version": "1.2.0",
            "_view_name": "LayoutView",
            "align_content": null,
            "align_items": null,
            "align_self": null,
            "border": null,
            "bottom": null,
            "display": null,
            "flex": null,
            "flex_flow": null,
            "grid_area": null,
            "grid_auto_columns": null,
            "grid_auto_flow": null,
            "grid_auto_rows": null,
            "grid_column": null,
            "grid_gap": null,
            "grid_row": null,
            "grid_template_areas": null,
            "grid_template_columns": null,
            "grid_template_rows": null,
            "height": null,
            "justify_content": null,
            "justify_items": null,
            "left": null,
            "margin": null,
            "max_height": null,
            "max_width": null,
            "min_height": null,
            "min_width": null,
            "object_fit": null,
            "object_position": null,
            "order": null,
            "overflow": null,
            "overflow_x": null,
            "overflow_y": null,
            "padding": null,
            "right": null,
            "top": null,
            "visibility": null,
            "width": null
          }
        },
        "758932c0e92f4e568aadb4d2063221e3": {
          "model_module": "@jupyter-widgets/base",
          "model_module_version": "1.2.0",
          "model_name": "LayoutModel",
          "state": {
            "_model_module": "@jupyter-widgets/base",
            "_model_module_version": "1.2.0",
            "_model_name": "LayoutModel",
            "_view_count": null,
            "_view_module": "@jupyter-widgets/base",
            "_view_module_version": "1.2.0",
            "_view_name": "LayoutView",
            "align_content": null,
            "align_items": null,
            "align_self": null,
            "border": null,
            "bottom": null,
            "display": null,
            "flex": null,
            "flex_flow": null,
            "grid_area": null,
            "grid_auto_columns": null,
            "grid_auto_flow": null,
            "grid_auto_rows": null,
            "grid_column": null,
            "grid_gap": null,
            "grid_row": null,
            "grid_template_areas": null,
            "grid_template_columns": null,
            "grid_template_rows": null,
            "height": null,
            "justify_content": null,
            "justify_items": null,
            "left": null,
            "margin": null,
            "max_height": null,
            "max_width": null,
            "min_height": null,
            "min_width": null,
            "object_fit": null,
            "object_position": null,
            "order": null,
            "overflow": null,
            "overflow_x": null,
            "overflow_y": null,
            "padding": null,
            "right": null,
            "top": null,
            "visibility": null,
            "width": null
          }
        },
        "79756f1b1aaf476da4fcafd28ef02c0d": {
          "model_module": "@jupyter-widgets/controls",
          "model_module_version": "1.5.0",
          "model_name": "ProgressStyleModel",
          "state": {
            "_model_module": "@jupyter-widgets/controls",
            "_model_module_version": "1.5.0",
            "_model_name": "ProgressStyleModel",
            "_view_count": null,
            "_view_module": "@jupyter-widgets/base",
            "_view_module_version": "1.2.0",
            "_view_name": "StyleView",
            "bar_color": null,
            "description_width": ""
          }
        },
        "7d54ad1229544f078f0174df0402cd9b": {
          "model_module": "@jupyter-widgets/controls",
          "model_module_version": "1.5.0",
          "model_name": "HBoxModel",
          "state": {
            "_dom_classes": [],
            "_model_module": "@jupyter-widgets/controls",
            "_model_module_version": "1.5.0",
            "_model_name": "HBoxModel",
            "_view_count": null,
            "_view_module": "@jupyter-widgets/controls",
            "_view_module_version": "1.5.0",
            "_view_name": "HBoxView",
            "box_style": "",
            "children": [
              "IPY_MODEL_bd7d746846fb4b7da623f043b4ccce31",
              "IPY_MODEL_ad70fa464f5d462cbdedbcea35633b98",
              "IPY_MODEL_ed63d7a026324da2848d68262da78d46"
            ],
            "layout": "IPY_MODEL_61a490b883634e698ef1cb15712c1189"
          }
        },
        "8810dfe1201646e0b77e9439de7cc648": {
          "model_module": "@jupyter-widgets/controls",
          "model_module_version": "1.5.0",
          "model_name": "HTMLModel",
          "state": {
            "_dom_classes": [],
            "_model_module": "@jupyter-widgets/controls",
            "_model_module_version": "1.5.0",
            "_model_name": "HTMLModel",
            "_view_count": null,
            "_view_module": "@jupyter-widgets/controls",
            "_view_module_version": "1.5.0",
            "_view_name": "HTMLView",
            "description": "",
            "description_tooltip": null,
            "layout": "IPY_MODEL_4e707123b46b4221a660b38b3b6ac8c3",
            "placeholder": "​",
            "style": "IPY_MODEL_212bb8528e7947009e89abb0dc149357",
            "value": " 44.7M/44.7M [00:00&lt;00:00, 151MB/s]"
          }
        },
        "91c38749345348e3b5b63398633fa0b8": {
          "model_module": "@jupyter-widgets/controls",
          "model_module_version": "1.5.0",
          "model_name": "DescriptionStyleModel",
          "state": {
            "_model_module": "@jupyter-widgets/controls",
            "_model_module_version": "1.5.0",
            "_model_name": "DescriptionStyleModel",
            "_view_count": null,
            "_view_module": "@jupyter-widgets/base",
            "_view_module_version": "1.2.0",
            "_view_name": "StyleView",
            "description_width": ""
          }
        },
        "a624b6cf7e6f4b41a42fa9d9a4a8127e": {
          "model_module": "@jupyter-widgets/controls",
          "model_module_version": "1.5.0",
          "model_name": "DescriptionStyleModel",
          "state": {
            "_model_module": "@jupyter-widgets/controls",
            "_model_module_version": "1.5.0",
            "_model_name": "DescriptionStyleModel",
            "_view_count": null,
            "_view_module": "@jupyter-widgets/base",
            "_view_module_version": "1.2.0",
            "_view_name": "StyleView",
            "description_width": ""
          }
        },
        "ad70fa464f5d462cbdedbcea35633b98": {
          "model_module": "@jupyter-widgets/controls",
          "model_module_version": "1.5.0",
          "model_name": "FloatProgressModel",
          "state": {
            "_dom_classes": [],
            "_model_module": "@jupyter-widgets/controls",
            "_model_module_version": "1.5.0",
            "_model_name": "FloatProgressModel",
            "_view_count": null,
            "_view_module": "@jupyter-widgets/controls",
            "_view_module_version": "1.5.0",
            "_view_name": "ProgressView",
            "bar_style": "success",
            "description": "",
            "description_tooltip": null,
            "layout": "IPY_MODEL_758932c0e92f4e568aadb4d2063221e3",
            "max": 170498071,
            "min": 0,
            "orientation": "horizontal",
            "style": "IPY_MODEL_36f18535c28b4839b248f3689521fe2d",
            "value": 170498071
          }
        },
        "b025e3cdc46f45bea299e1caf74b9edd": {
          "model_module": "@jupyter-widgets/controls",
          "model_module_version": "1.5.0",
          "model_name": "DescriptionStyleModel",
          "state": {
            "_model_module": "@jupyter-widgets/controls",
            "_model_module_version": "1.5.0",
            "_model_name": "DescriptionStyleModel",
            "_view_count": null,
            "_view_module": "@jupyter-widgets/base",
            "_view_module_version": "1.2.0",
            "_view_name": "StyleView",
            "description_width": ""
          }
        },
        "bd7d746846fb4b7da623f043b4ccce31": {
          "model_module": "@jupyter-widgets/controls",
          "model_module_version": "1.5.0",
          "model_name": "HTMLModel",
          "state": {
            "_dom_classes": [],
            "_model_module": "@jupyter-widgets/controls",
            "_model_module_version": "1.5.0",
            "_model_name": "HTMLModel",
            "_view_count": null,
            "_view_module": "@jupyter-widgets/controls",
            "_view_module_version": "1.5.0",
            "_view_name": "HTMLView",
            "description": "",
            "description_tooltip": null,
            "layout": "IPY_MODEL_ee2d815748dd43b5a4daaed58edcb547",
            "placeholder": "​",
            "style": "IPY_MODEL_91c38749345348e3b5b63398633fa0b8",
            "value": ""
          }
        },
        "e12120852fdb4cb9af6d5a28ea4b1b24": {
          "model_module": "@jupyter-widgets/base",
          "model_module_version": "1.2.0",
          "model_name": "LayoutModel",
          "state": {
            "_model_module": "@jupyter-widgets/base",
            "_model_module_version": "1.2.0",
            "_model_name": "LayoutModel",
            "_view_count": null,
            "_view_module": "@jupyter-widgets/base",
            "_view_module_version": "1.2.0",
            "_view_name": "LayoutView",
            "align_content": null,
            "align_items": null,
            "align_self": null,
            "border": null,
            "bottom": null,
            "display": null,
            "flex": null,
            "flex_flow": null,
            "grid_area": null,
            "grid_auto_columns": null,
            "grid_auto_flow": null,
            "grid_auto_rows": null,
            "grid_column": null,
            "grid_gap": null,
            "grid_row": null,
            "grid_template_areas": null,
            "grid_template_columns": null,
            "grid_template_rows": null,
            "height": null,
            "justify_content": null,
            "justify_items": null,
            "left": null,
            "margin": null,
            "max_height": null,
            "max_width": null,
            "min_height": null,
            "min_width": null,
            "object_fit": null,
            "object_position": null,
            "order": null,
            "overflow": null,
            "overflow_x": null,
            "overflow_y": null,
            "padding": null,
            "right": null,
            "top": null,
            "visibility": null,
            "width": null
          }
        },
        "e29597a206c746a3b9dec0f0f7e147d1": {
          "model_module": "@jupyter-widgets/controls",
          "model_module_version": "1.5.0",
          "model_name": "FloatProgressModel",
          "state": {
            "_dom_classes": [],
            "_model_module": "@jupyter-widgets/controls",
            "_model_module_version": "1.5.0",
            "_model_name": "FloatProgressModel",
            "_view_count": null,
            "_view_module": "@jupyter-widgets/controls",
            "_view_module_version": "1.5.0",
            "_view_name": "ProgressView",
            "bar_style": "success",
            "description": "",
            "description_tooltip": null,
            "layout": "IPY_MODEL_ebf2d9a7a9e6492fb2058ad988f669e6",
            "max": 46830571,
            "min": 0,
            "orientation": "horizontal",
            "style": "IPY_MODEL_79756f1b1aaf476da4fcafd28ef02c0d",
            "value": 46830571
          }
        },
        "e619279357f64f8096b3ca9eacca0e9c": {
          "model_module": "@jupyter-widgets/controls",
          "model_module_version": "1.5.0",
          "model_name": "HBoxModel",
          "state": {
            "_dom_classes": [],
            "_model_module": "@jupyter-widgets/controls",
            "_model_module_version": "1.5.0",
            "_model_name": "HBoxModel",
            "_view_count": null,
            "_view_module": "@jupyter-widgets/controls",
            "_view_module_version": "1.5.0",
            "_view_name": "HBoxView",
            "box_style": "",
            "children": [
              "IPY_MODEL_f929c887e938411384883ed0fd38b19d",
              "IPY_MODEL_e29597a206c746a3b9dec0f0f7e147d1",
              "IPY_MODEL_8810dfe1201646e0b77e9439de7cc648"
            ],
            "layout": "IPY_MODEL_1f49cd110c89480cbd1fed701b7a0da2"
          }
        },
        "e66463a4c367408d9fd457548070709f": {
          "model_module": "@jupyter-widgets/base",
          "model_module_version": "1.2.0",
          "model_name": "LayoutModel",
          "state": {
            "_model_module": "@jupyter-widgets/base",
            "_model_module_version": "1.2.0",
            "_model_name": "LayoutModel",
            "_view_count": null,
            "_view_module": "@jupyter-widgets/base",
            "_view_module_version": "1.2.0",
            "_view_name": "LayoutView",
            "align_content": null,
            "align_items": null,
            "align_self": null,
            "border": null,
            "bottom": null,
            "display": null,
            "flex": null,
            "flex_flow": null,
            "grid_area": null,
            "grid_auto_columns": null,
            "grid_auto_flow": null,
            "grid_auto_rows": null,
            "grid_column": null,
            "grid_gap": null,
            "grid_row": null,
            "grid_template_areas": null,
            "grid_template_columns": null,
            "grid_template_rows": null,
            "height": null,
            "justify_content": null,
            "justify_items": null,
            "left": null,
            "margin": null,
            "max_height": null,
            "max_width": null,
            "min_height": null,
            "min_width": null,
            "object_fit": null,
            "object_position": null,
            "order": null,
            "overflow": null,
            "overflow_x": null,
            "overflow_y": null,
            "padding": null,
            "right": null,
            "top": null,
            "visibility": null,
            "width": null
          }
        },
        "ebf2d9a7a9e6492fb2058ad988f669e6": {
          "model_module": "@jupyter-widgets/base",
          "model_module_version": "1.2.0",
          "model_name": "LayoutModel",
          "state": {
            "_model_module": "@jupyter-widgets/base",
            "_model_module_version": "1.2.0",
            "_model_name": "LayoutModel",
            "_view_count": null,
            "_view_module": "@jupyter-widgets/base",
            "_view_module_version": "1.2.0",
            "_view_name": "LayoutView",
            "align_content": null,
            "align_items": null,
            "align_self": null,
            "border": null,
            "bottom": null,
            "display": null,
            "flex": null,
            "flex_flow": null,
            "grid_area": null,
            "grid_auto_columns": null,
            "grid_auto_flow": null,
            "grid_auto_rows": null,
            "grid_column": null,
            "grid_gap": null,
            "grid_row": null,
            "grid_template_areas": null,
            "grid_template_columns": null,
            "grid_template_rows": null,
            "height": null,
            "justify_content": null,
            "justify_items": null,
            "left": null,
            "margin": null,
            "max_height": null,
            "max_width": null,
            "min_height": null,
            "min_width": null,
            "object_fit": null,
            "object_position": null,
            "order": null,
            "overflow": null,
            "overflow_x": null,
            "overflow_y": null,
            "padding": null,
            "right": null,
            "top": null,
            "visibility": null,
            "width": null
          }
        },
        "ed63d7a026324da2848d68262da78d46": {
          "model_module": "@jupyter-widgets/controls",
          "model_module_version": "1.5.0",
          "model_name": "HTMLModel",
          "state": {
            "_dom_classes": [],
            "_model_module": "@jupyter-widgets/controls",
            "_model_module_version": "1.5.0",
            "_model_name": "HTMLModel",
            "_view_count": null,
            "_view_module": "@jupyter-widgets/controls",
            "_view_module_version": "1.5.0",
            "_view_name": "HTMLView",
            "description": "",
            "description_tooltip": null,
            "layout": "IPY_MODEL_e66463a4c367408d9fd457548070709f",
            "placeholder": "​",
            "style": "IPY_MODEL_b025e3cdc46f45bea299e1caf74b9edd",
            "value": " 170499072/? [00:06&lt;00:00, 29331355.49it/s]"
          }
        },
        "ee2d815748dd43b5a4daaed58edcb547": {
          "model_module": "@jupyter-widgets/base",
          "model_module_version": "1.2.0",
          "model_name": "LayoutModel",
          "state": {
            "_model_module": "@jupyter-widgets/base",
            "_model_module_version": "1.2.0",
            "_model_name": "LayoutModel",
            "_view_count": null,
            "_view_module": "@jupyter-widgets/base",
            "_view_module_version": "1.2.0",
            "_view_name": "LayoutView",
            "align_content": null,
            "align_items": null,
            "align_self": null,
            "border": null,
            "bottom": null,
            "display": null,
            "flex": null,
            "flex_flow": null,
            "grid_area": null,
            "grid_auto_columns": null,
            "grid_auto_flow": null,
            "grid_auto_rows": null,
            "grid_column": null,
            "grid_gap": null,
            "grid_row": null,
            "grid_template_areas": null,
            "grid_template_columns": null,
            "grid_template_rows": null,
            "height": null,
            "justify_content": null,
            "justify_items": null,
            "left": null,
            "margin": null,
            "max_height": null,
            "max_width": null,
            "min_height": null,
            "min_width": null,
            "object_fit": null,
            "object_position": null,
            "order": null,
            "overflow": null,
            "overflow_x": null,
            "overflow_y": null,
            "padding": null,
            "right": null,
            "top": null,
            "visibility": null,
            "width": null
          }
        },
        "f929c887e938411384883ed0fd38b19d": {
          "model_module": "@jupyter-widgets/controls",
          "model_module_version": "1.5.0",
          "model_name": "HTMLModel",
          "state": {
            "_dom_classes": [],
            "_model_module": "@jupyter-widgets/controls",
            "_model_module_version": "1.5.0",
            "_model_name": "HTMLModel",
            "_view_count": null,
            "_view_module": "@jupyter-widgets/controls",
            "_view_module_version": "1.5.0",
            "_view_name": "HTMLView",
            "description": "",
            "description_tooltip": null,
            "layout": "IPY_MODEL_e12120852fdb4cb9af6d5a28ea4b1b24",
            "placeholder": "​",
            "style": "IPY_MODEL_a624b6cf7e6f4b41a42fa9d9a4a8127e",
            "value": "100%"
          }
        }
      }
    }
  },
  "nbformat": 4,
  "nbformat_minor": 0
}
