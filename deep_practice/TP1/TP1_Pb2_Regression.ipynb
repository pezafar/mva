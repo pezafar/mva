{
  "cells": [
    {
      "cell_type": "markdown",
      "metadata": {
        "id": "z93dxGJB9Ijr"
      },
      "source": [
        "## Regression Problem: House Prices Prediction\n",
        "In this exercise, we will solve a regression problem with a neural network.\n",
        "\n",
        "**Objective:** The goal is to predict the house selling prices .\n",
        "\n",
        "**Dataset:**  A csv file with 1460 samples is provided (on the course webpage). Each example contains four input features. We will use 1000 examples as training set, 200 as validation set and the rest as test set.   \n",
        "   * **Feature names**: OverallQual, YearBuilt, TotalBsmtSF, GrLivArea\n",
        "   * **Target**: SalePrice\n",
        "\n",
        "**NB:** new required libraries: `pandas`, `seaborn`."
      ]
    },
    {
      "cell_type": "code",
      "execution_count": null,
      "metadata": {
        "id": "drYWDquz9Ijw"
      },
      "outputs": [],
      "source": [
        "import pandas as pd\n",
        "import numpy as np\n",
        "import matplotlib.pyplot as plt\n",
        "\n",
        "import torch\n",
        "import torch.nn as nn\n",
        "\n",
        "import torch.nn.functional as F\n",
        "from torch.utils.data import DataLoader, TensorDataset\n",
        "import seaborn as sns\n",
        "\n",
        "from sklearn.preprocessing import MinMaxScaler\n",
        "\n",
        "%matplotlib inline"
      ]
    },
    {
      "cell_type": "code",
      "source": [
        "from google.colab import drive\n",
        "drive.mount('/content/drive')"
      ],
      "metadata": {
        "colab": {
          "base_uri": "https://localhost:8080/"
        },
        "id": "1sfyx2fLEOZZ",
        "outputId": "2e5494d5-7318-49e1-df6a-8a4a0f2f739e"
      },
      "execution_count": null,
      "outputs": [
        {
          "output_type": "stream",
          "name": "stdout",
          "text": [
            "Mounted at /content/drive\n"
          ]
        }
      ]
    },
    {
      "cell_type": "code",
      "source": [
        "!cp -r /content/drive/MyDrive/house_prices.csv /content/"
      ],
      "metadata": {
        "id": "EAIpViDeEO-J"
      },
      "execution_count": null,
      "outputs": []
    },
    {
      "cell_type": "code",
      "execution_count": null,
      "metadata": {
        "id": "u71xDHQ59Ijy"
      },
      "outputs": [],
      "source": [
        "# Load data:\n",
        "df = pd.read_csv(\"house_prices.csv\")"
      ]
    },
    {
      "cell_type": "code",
      "execution_count": null,
      "metadata": {
        "id": "c35Tr75-9Ijz"
      },
      "outputs": [],
      "source": [
        "df.head(3)"
      ]
    },
    {
      "cell_type": "code",
      "execution_count": null,
      "metadata": {
        "id": "o6P3AM6q9Ijz"
      },
      "outputs": [],
      "source": [
        "df.info() # get more information"
      ]
    },
    {
      "cell_type": "markdown",
      "metadata": {
        "id": "Kr9spbk59Ij0"
      },
      "source": [
        "### Data Analysis\n",
        "Before training, we need first to analyze the dataset, to know its properties better."
      ]
    },
    {
      "cell_type": "code",
      "execution_count": null,
      "metadata": {
        "id": "I0hixQxm9Ij0"
      },
      "outputs": [],
      "source": [
        "sns.pairplot(df, x_vars=['OverallQual', 'YearBuilt', 'TotalBsmtSF', 'GrLivArea'], \n",
        "             y_vars=['SalePrice'])"
      ]
    },
    {
      "cell_type": "markdown",
      "metadata": {
        "id": "qAJyFOA29Ij1"
      },
      "source": [
        "### House prices prediction"
      ]
    },
    {
      "cell_type": "markdown",
      "metadata": {
        "id": "_ejfKUid9Ij2"
      },
      "source": [
        "Here is a skeleton of a neural network with a single layer (thus: a linear classifier). This is the model you'll start with and improve during this exercise.\n",
        "\n",
        "Look at the code and run it to see its structure, then follow the questions below to iteratively improve the model."
      ]
    },
    {
      "cell_type": "code",
      "execution_count": null,
      "metadata": {
        "id": "rMs8b23P9Ij3"
      },
      "outputs": [],
      "source": [
        "X = df[['OverallQual', 'YearBuilt', 'TotalBsmtSF', 'GrLivArea']] # get the four features from the dataframe\n",
        "y = df['SalePrice'] # get the target values"
      ]
    },
    {
      "cell_type": "code",
      "execution_count": null,
      "metadata": {
        "id": "banbJ0PS9Ij4"
      },
      "outputs": [],
      "source": [
        "X_train = X.iloc[:1000]\n",
        "y_train = y.iloc[:1000]\n",
        "\n",
        "X_val = X.iloc[1000:1200]\n",
        "y_val = y.iloc[1000:1200]\n",
        "\n",
        "X_test = X.iloc[1200:]\n",
        "y_test = y.iloc[1200:]"
      ]
    },
    {
      "cell_type": "markdown",
      "source": [
        "### Data normalization\n",
        "\n",
        "We will normalize the inputs using MinMaxScaler, we will also try normalizing the targets."
      ],
      "metadata": {
        "id": "6IzpaWbenpKt"
      }
    },
    {
      "cell_type": "code",
      "source": [
        "scaler = MinMaxScaler()\n",
        "\n",
        "X_train = scaler.fit_transform(X_train)\n",
        "X_val = scaler.fit_transform(X_val)\n",
        "X_test = scaler.fit_transform(X_test)"
      ],
      "metadata": {
        "id": "3m7keV_bbA8z"
      },
      "execution_count": null,
      "outputs": []
    },
    {
      "cell_type": "code",
      "source": [
        "y_train_norm = y_train.to_numpy().reshape(-1,1)\n",
        "y_val_norm = y_val.to_numpy().reshape(-1,1)\n",
        "y_test_norm = y_test.to_numpy().reshape(-1,1)"
      ],
      "metadata": {
        "id": "wNudRs6DlaTF"
      },
      "execution_count": null,
      "outputs": []
    },
    {
      "cell_type": "markdown",
      "source": [
        "#### Min-max normalization for target variables"
      ],
      "metadata": {
        "id": "E0ffjZG81ihg"
      }
    },
    {
      "cell_type": "code",
      "source": [
        "# create target scaler object\n",
        "target_scaler = MinMaxScaler()\n",
        "target_scaler.fit(y_train_norm)\n",
        "\n",
        "# transform target variables\n",
        "y_train_norm = target_scaler.transform(y_train_norm).reshape(-1)\n",
        "y_val_norm = target_scaler.transform(y_val_norm).reshape(-1)\n",
        "y_test_norm = target_scaler.transform(y_test_norm).reshape(-1)\n",
        "\n",
        "# to invert transform on predictions\n",
        "# yhat = target_scaler.inverse_transform(yhat.reshape(-1,1)))"
      ],
      "metadata": {
        "id": "dMwLM4Dfc56n"
      },
      "execution_count": null,
      "outputs": []
    },
    {
      "cell_type": "code",
      "source": [
        "target_scaler.inverse_transform(y_train_norm.reshape(-1,1))[:5]"
      ],
      "metadata": {
        "id": "RY8RMIvVl6z2"
      },
      "execution_count": null,
      "outputs": []
    },
    {
      "cell_type": "code",
      "source": [
        "y.iloc[:1000][:5]"
      ],
      "metadata": {
        "id": "Q0J9wN-LmGmr"
      },
      "execution_count": null,
      "outputs": []
    },
    {
      "cell_type": "markdown",
      "source": [
        "#### Log normalization of target values"
      ],
      "metadata": {
        "id": "yNILW02D1qzX"
      }
    },
    {
      "cell_type": "code",
      "source": [
        "y_train_log = np.log(y_train.to_numpy())\n",
        "y_val_log = np.log(y_train.to_numpy())\n",
        "y_test_log = np.log(y_train.to_numpy())"
      ],
      "metadata": {
        "id": "lCDGcCjdyE0Z"
      },
      "execution_count": null,
      "outputs": []
    },
    {
      "cell_type": "markdown",
      "source": [
        "### Models"
      ],
      "metadata": {
        "id": "z11pOXf-qj32"
      }
    },
    {
      "cell_type": "code",
      "source": [
        "# Construct a model with one layer\n",
        "class Model(nn.Module):\n",
        "    \n",
        "    def __init__(self):\n",
        "        super(Model, self).__init__()\n",
        "        self.l1 = nn.Sequential(nn.Linear(4, 60),\n",
        "                                nn.ReLU())\n",
        "        self.l2 = nn.Sequential(nn.Linear(60, 120),\n",
        "                                nn.ReLU())\n",
        "        self.l3 = nn.Sequential(nn.Linear(120, 120),\n",
        "                                nn.ReLU())\n",
        "        self.l4 = nn.Linear(120, 1)\n",
        "\n",
        "    def forward(self, inputs):\n",
        "        x = self.l1(inputs)\n",
        "        x = self.l2(x)\n",
        "        x = self.l3(x)\n",
        "        x = self.l4(x)\n",
        "        return x"
      ],
      "metadata": {
        "id": "y183vfH0ivGA"
      },
      "execution_count": null,
      "outputs": []
    },
    {
      "cell_type": "code",
      "execution_count": null,
      "metadata": {
        "id": "Le2lqrl19Ij5"
      },
      "outputs": [],
      "source": [
        "# Define hyper-parameters:\n",
        "model = Model()\n",
        "\n",
        "# Choose the hyperparameters for training: \n",
        "num_epochs = 30\n",
        "batch_size = 10\n",
        "\n",
        "# Training criterion. This one is a mean squared error (MSE) loss between the output\n",
        "# of the network and the target label\n",
        "criterion = nn.MSELoss()\n",
        "\n",
        "# Use SGD optimizer with a learning rate of 0.01\n",
        "# It is initialized on our model\n",
        "\n",
        "#optimizer = torch.optim.SGD(model.parameters(), lr=0.01)\n",
        "#optimizer = torch.optim.RMSprop(model.parameters(), lr=0.0001)\n",
        "optimizer = torch.optim.Adam(model.parameters(), lr=0.0001)"
      ]
    },
    {
      "cell_type": "markdown",
      "source": [
        "Comments on training ( with targets scaled using min-max):\n",
        "\n",
        "**Architecture**\n",
        "* Going from 1 layer to 3, and increasing nb neurons per layer (from 10 to 60 to 100) for some layers improves the performance, model converges to a smaller loss faster.\n",
        "* Increasing neurons of first hidden layer from 64 to 128, doesn't improve the results, we start to observe a small gap between train and validation\n",
        "* Adding 4th layer with 128 neurons doesn't improve the results, model converges to same loss but takes for time to train\n",
        "* With Tanh instead of ReLU, loss stops improving after 5 epochs with a generalization gap between train and validation sets\n",
        "* With Sigmoid, the model colverges to a higher loss (0.005)\n",
        "\n",
        "**Optimization**\n",
        "* Adam converges faster than SGD (regardless of the learning rate)\n",
        "* ADAM with lr=0.0001 is better than lr 0.001, the convergence is more stable and the losses are smoother (lr =1 or higher no learning)\n",
        "* RMSProp gives similar performances to ADAM \n",
        "* Batch size 64 converges slower than batch size 10, batch size 100 is even worse (however computation time is less) and 400 even more. Batch size 4 doesn't change much and takes more time"
      ],
      "metadata": {
        "id": "eNjuvgsE-niE"
      }
    },
    {
      "cell_type": "code",
      "execution_count": null,
      "metadata": {
        "id": "Z3Ek-rwB9Ij6"
      },
      "outputs": [],
      "source": [
        "train_set_norm = TensorDataset(torch.from_numpy(np.array(X_train)).float(), \n",
        "                          torch.from_numpy(np.array(y_train_norm)).float()) # creat the dataset."
      ]
    },
    {
      "cell_type": "code",
      "source": [
        "# train model while monitoring validation loss\n",
        "\n",
        "def train_eval(num_epochs, batch_size, criterion, optimizer, model, dataset, X_val=X_val, y_val=y_val_norm):\n",
        "    dataloader = DataLoader(dataset, batch_size, shuffle=True)\n",
        "    train_loss, eval_loss = [], []\n",
        "    model.train()\n",
        "    for epoch in range(num_epochs):\n",
        "        #train\n",
        "        epoch_average_loss = 0.0\n",
        "        for (X, y) in (dataloader):\n",
        "\n",
        "            y_pre = model(X).view(-1)\n",
        "            loss = criterion(y_pre, y)\n",
        "            optimizer.zero_grad()\n",
        "            loss.backward()\n",
        "            optimizer.step()\n",
        "            epoch_average_loss += loss.item() * batch_size / len(train_set)\n",
        "\n",
        "        #eval on validation set\n",
        "        model.eval()\n",
        "        with torch.no_grad():\n",
        "            y_pre_val = model(torch.from_numpy(np.array(X_val)).float()).view(-1)\n",
        "        val_loss = criterion(y_pre_val, torch.tensor(np.array(y_val)).float()).item()\n",
        "        train_loss.append(epoch_average_loss)\n",
        "        eval_loss.append(val_loss)\n",
        "\n",
        "        if ((epoch+1)%2 == 0):\n",
        "          result = f\"(Epoch {epoch}/{num_epochs}) | Train Loss: {round(epoch_average_loss,5)}| Validation Loss: {round(val_loss,5)}\"\n",
        "          print(result)\n",
        "    return train_loss, eval_loss"
      ],
      "metadata": {
        "id": "fZl3NqQYsaMx"
      },
      "execution_count": null,
      "outputs": []
    },
    {
      "cell_type": "code",
      "source": [
        "def plot_loss(train_loss, eval_loss, log=False):\n",
        "    if log:\n",
        "      train_loss = list(np.log(np.array(train_loss)))\n",
        "      eval_loss = list(np.log(np.array(train_loss)))\n",
        "      plt.plot(train_loss, label='train')\n",
        "      plt.plot(eval_loss, label='validation')\n",
        "      plt.title('Train - Validation Loss in log scale')\n",
        "      plt.xlabel('num_epochs')\n",
        "      plt.ylabel('log-loss')\n",
        "      plt.legend(loc='best')\n",
        "    else:\n",
        "      plt.plot(train_loss, label='train')\n",
        "      plt.plot(eval_loss, label='validation')\n",
        "      plt.title('Train - Validation Loss')\n",
        "      plt.xlabel('num_epochs')\n",
        "      plt.ylabel('loss')\n",
        "      plt.legend(loc='best')"
      ],
      "metadata": {
        "id": "hAk4HjK9wXBh"
      },
      "execution_count": null,
      "outputs": []
    },
    {
      "cell_type": "code",
      "execution_count": null,
      "metadata": {
        "id": "giBgF6Cu9Ij8"
      },
      "outputs": [],
      "source": [
        "train_loss, eval_loss = train_eval(num_epochs, batch_size, criterion, optimizer, model, train_set_norm)"
      ]
    },
    {
      "cell_type": "code",
      "source": [
        "plot_loss(train_loss, eval_loss)"
      ],
      "metadata": {
        "id": "uwg2hx_3vybA"
      },
      "execution_count": null,
      "outputs": []
    },
    {
      "cell_type": "markdown",
      "source": [
        "### Error on test set with normalization"
      ],
      "metadata": {
        "id": "usmXHTL0vcLQ"
      }
    },
    {
      "cell_type": "code",
      "source": [
        "# Calculate mean squared error on test set\n",
        "model.eval()\n",
        "with torch.no_grad():\n",
        "    y_pre_test = model(torch.from_numpy(np.array(X_test)).float()).view(-1)\n",
        "error = criterion(y_pre_test, torch.tensor(np.array(y_test_norm)).float()).item()\n",
        "print('The loss on validation set is:', error)"
      ],
      "metadata": {
        "id": "eTy8BwUarKMS"
      },
      "execution_count": null,
      "outputs": []
    },
    {
      "cell_type": "markdown",
      "source": [
        "### Error on test set without normalization"
      ],
      "metadata": {
        "id": "CDSlCNfBvkz7"
      }
    },
    {
      "cell_type": "code",
      "source": [
        "# Calculate mean squared error on test set\n",
        "model.eval()\n",
        "with torch.no_grad():\n",
        "    y_pre_test = model(torch.from_numpy(np.array(X_test)).float()).view(-1)\n",
        "    # remove normalization\n",
        "    y_pre_t = y_pre_test.detach().numpy()\n",
        "\n",
        "    #remove min-max normalization of target\n",
        "    y_pre_t = target_scaler.inverse_transform(y_pre_t.reshape(-1,1))\n",
        "\n",
        "    #if you used log normalization use exp instead:\n",
        "    #y_pre_t = np.exp(y_pre_t)\n",
        "\n",
        "    y_pre_t = torch.tensor(y_pre_t.reshape(-1))\n",
        "    \n",
        "error = criterion(y_pre_t, torch.tensor(np.array(y_test)).float()).item()\n",
        "print('The loss on validation set is:', error)"
      ],
      "metadata": {
        "id": "f5DytQ6UhPur"
      },
      "execution_count": null,
      "outputs": []
    },
    {
      "cell_type": "markdown",
      "source": [
        "Distribution of predictions"
      ],
      "metadata": {
        "id": "HPZHjYWFwBL_"
      }
    },
    {
      "cell_type": "code",
      "source": [
        "plt.hist(y_pre_t)\n",
        "plt.title('predictions')"
      ],
      "metadata": {
        "id": "k0zPVAWHwE0_"
      },
      "execution_count": null,
      "outputs": []
    },
    {
      "cell_type": "code",
      "source": [
        "plt.hist(y_test)\n",
        "plt.title('ground truth')"
      ],
      "metadata": {
        "id": "1o4e-8s4wWF_"
      },
      "execution_count": null,
      "outputs": []
    },
    {
      "cell_type": "markdown",
      "source": [
        "## Training without target normalization"
      ],
      "metadata": {
        "id": "RyZ5Y1s3NNtX"
      }
    },
    {
      "cell_type": "code",
      "source": [
        "train_set = TensorDataset(torch.from_numpy(np.array(X_train)).float(), \n",
        "                          torch.from_numpy(np.array(y_train)).float()) # creat the dataset."
      ],
      "metadata": {
        "id": "kofPVw3nNdbk"
      },
      "execution_count": null,
      "outputs": []
    },
    {
      "cell_type": "code",
      "source": [
        "model = Model()\n",
        "num_epochs = 60\n",
        "batch_size = 10\n",
        "criterion = nn.MSELoss()\n",
        "\n",
        "optimizer = torch.optim.Adam(model.parameters(), lr=0.0001)"
      ],
      "metadata": {
        "id": "ktRoS93iNRCy"
      },
      "execution_count": null,
      "outputs": []
    },
    {
      "cell_type": "code",
      "source": [
        "train_loss, eval_loss = train_eval(num_epochs, batch_size, criterion, optimizer, model, train_set, X_val, y_val)\n",
        "plot_loss(train_loss, eval_loss)"
      ],
      "metadata": {
        "id": "WWOrY2XaNTRs"
      },
      "execution_count": null,
      "outputs": []
    },
    {
      "cell_type": "markdown",
      "metadata": {
        "id": "d32Hhlww9Ij-"
      },
      "source": [
        "### Exercise 1: Impact of the architecture of the model\n",
        "\n",
        "The class `Model` is the definition of your model. You can now modify it to try out different architectures and\n",
        "see the impact of the following factors:\n",
        "\n",
        "* Try to add more layers (1, 2, 3, more ?)\n",
        "* Try different activation functions ([sigmoid](https://pytorch.org/docs/stable/nn.functional.html#torch.nn.functional.sigmoid), [tanh](https://pytorch.org/docs/stable/nn.functional.html#torch.nn.functional.tanh), [relu](https://pytorch.org/docs/stable/nn.functional.html#torch.nn.functional.relu), etc.)\n",
        "* Try to change the number of neurons in each layer (5, 10, 20, more ?)"
      ]
    },
    {
      "cell_type": "markdown",
      "metadata": {
        "id": "p47lPsmB9Ij_"
      },
      "source": [
        "### Exercise 2: Impact of the optimizer\n",
        "\n",
        "Retrain the model with different parameters of the optimizer; you can change then in the cell initializing the optimizer, after the definition of your model.\n",
        "\n",
        "* Use different batch sizes, from 10 to 400 e.g.\n",
        "* Try different values of the learning rate (between 0.001 and 10), and see how they impact the training process. Do all network architectures react the same way to different learning rates?\n",
        "* Change the duration of the training by increasing the number of epochs\n",
        "* Try other optimizers, such as [Adam](https://pytorch.org/docs/stable/optim.html?highlight=adam#torch.optim.Adam) or [RMSprop](https://pytorch.org/docs/stable/optim.html?highlight=rmsprop#torch.optim.RMSprop)\n",
        "\n",
        "**Note:** These changes may interact with your previous choices of architectures, and you may need to change them as well!"
      ]
    },
    {
      "cell_type": "markdown",
      "metadata": {
        "id": "-ChM5ZlE9IkA"
      },
      "source": [
        "### Exercise 3: Impact of the loss function\n",
        "As mensioned before in the first problem (binary classification), one can minimize the negative of log-likelihood of the probability for all samples $x$: $$ \\sum_{(x,y) \\,\\in\\, \\text{Dataset}} - \\log p(y | x) $$ If we define $p(y_i | x_i) = \\frac{1}{\\sqrt{2\\pi}}e^{-\\frac{(y_i - f(x_i))^2}{2}}$, then the loss function becomes the mean squared error. \n",
        "\n",
        "There is another loss function worth to try: the Gaussian likelihood loss function. \n",
        "Rather than predicting a single value $y$ given $x$, we predict a probability distribution over possible answers, which helps dealing with ambiguous cases and expressing uncertainty. To do this, for each possible input $x$, the network will output the parameters of the distribution modeling $p(y|x)$. For instance in our case, we choose to model output distributions with Gaussian distributions $\\mathcal{N}(\\mu, \\sigma)$, which are parameterized by their mean $\\mu$ and their standard deviation $\\sigma$. Therefore for each input $x$ we have to output two quantities: $\\mu(x)$ and $\\sigma(x)$. The probability becomes: $$p(y_i | x_i) = \\frac{1}{\\sqrt{2\\pi \\sigma(x_i)^2}}e^{-\\frac{(y_i - \\mu(x_i))^2}{2\\sigma(x_i)^2}}$$ Then the loss function becomes: $$L =\\sum\\limits_{i=1}^{N}  \\frac{1}{2} \\log ( 2\\pi\\sigma_i^{2} ) + \\frac{1}{2\\sigma_i^{2}}  (y_{i} - \\mu_i)^{2}$$ If we set $\\sigma=1$, we obtain MSE the loss function. \n",
        "\n",
        "* Try to replace the loss function with this one, and compare the differences between the two losses.\n",
        " \n",
        "* **Hints**: \n",
        "    * You need two outputs of your network, one represents the $\\mu(x_i)$, another for $\\log( \\sigma(x_i)^2 )$ (better for optimization) \n",
        "    * Try deeper models, or you will not predict the variance $\\sigma$ well. \n"
      ]
    },
    {
      "cell_type": "markdown",
      "source": [
        "## Tests\n",
        "We tested this loss with normalized targets, in this case the normalization is not suitable, and the model works well without it. You can skip this section."
      ],
      "metadata": {
        "id": "ev8nJIrDKteT"
      }
    },
    {
      "cell_type": "code",
      "source": [
        "# Construct a model with one layer\n",
        "class Model_NLL(nn.Module):\n",
        "    \n",
        "    def __init__(self):\n",
        "        super(Model_NLL, self).__init__()\n",
        "        self.layers = nn.Sequential(nn.Linear(4, 64),\n",
        "                                nn.ReLU(),\n",
        "                                nn.Linear(64, 120),\n",
        "                                nn.ReLU(),\n",
        "                                nn.Linear(120, 120),\n",
        "                                nn.ReLU(),\n",
        "                                nn.Linear(120, 120),\n",
        "                                nn.ReLU())\n",
        "        self.fc = nn.Linear(120, 2)\n",
        "\n",
        "    def forward(self, inputs):\n",
        "        x = self.layers(inputs)\n",
        "        x = self.fc(x)\n",
        "        return x"
      ],
      "metadata": {
        "id": "-fms_PQTLj6r"
      },
      "execution_count": null,
      "outputs": []
    },
    {
      "cell_type": "code",
      "source": [
        "model = Model_NLL()\n",
        "\n",
        "# Choose the hyperparameters for training: \n",
        "num_epochs = 50\n",
        "batch_size = 10\n",
        "\n",
        "def loss_nll(output, target):\n",
        "    # output is mean mu and variance log(sigma2)\n",
        "    sigma_2 = torch.exp(output[:,1])\n",
        "    #res = torch.log(torch.tensor(2*torch.pi)\n",
        "    loss = torch.mean(torch.add(output[:,1], torch.div(torch.sub(output[:,0],target).pow(2),sigma_2)))\n",
        "    return loss\n",
        "criterion = nn.GaussianNLLLoss(full=True)\n",
        "#optimizer = torch.optim.SGD(model.parameters(), lr=0.01)\n",
        "#optimizer = torch.optim.RMSprop(model.parameters(), lr=0.0001)\n",
        "optimizer = torch.optim.Adam(model.parameters(), lr=0.0001)"
      ],
      "metadata": {
        "id": "fEk54imaMHrh"
      },
      "execution_count": null,
      "outputs": []
    },
    {
      "cell_type": "code",
      "source": [
        "def train_eval_NLL(num_epochs, batch_size, criterion, optimizer, model, dataset, X_val=X_val, y_val=y_val_norm):\n",
        "    dataloader = DataLoader(dataset, batch_size, shuffle=True)\n",
        "    train_loss, eval_loss = [], []\n",
        "    model.train()\n",
        "    for epoch in range(num_epochs):\n",
        "        #train\n",
        "        epoch_average_loss = 0.0\n",
        "        for (X, y) in (dataloader):\n",
        "            y_pre = model(X) \n",
        "            #loss = loss_nll(y_pre, y)\n",
        "            mu, var = y_pre[:, 0], torch.exp(y_pre[:, 1])\n",
        "            loss = criterion(mu, y, var)\n",
        "            optimizer.zero_grad()\n",
        "            loss.backward()\n",
        "            optimizer.step()\n",
        "            epoch_average_loss += loss.item() * batch_size / len(train_set)\n",
        "\n",
        "        #eval on validation set\n",
        "        model.eval()\n",
        "        with torch.no_grad():\n",
        "            y_pre_val = model(torch.from_numpy(np.array(X_val)).float())\n",
        "            mu, var = y_pre_val[:, 0], torch.exp(y_pre_val[:, 1])\n",
        "        val_loss = criterion(mu, torch.tensor(np.array(y_val)).float(), var).item()\n",
        "        #val_loss = loss_nll(y_pre_val, torch.tensor(np.array(y_val)).float()).item()\n",
        "        train_loss.append(epoch_average_loss)\n",
        "        eval_loss.append(val_loss)\n",
        "\n",
        "        if ((epoch+1)%2 == 0):\n",
        "          result = f\"(Epoch {epoch}/{num_epochs}) | Train Loss: {round(epoch_average_loss,5)}| Validation Loss: {round(val_loss,5)}\"\n",
        "          print(result)\n",
        "    return train_loss, eval_loss"
      ],
      "metadata": {
        "id": "WUb4WWenLj-I"
      },
      "execution_count": null,
      "outputs": []
    },
    {
      "cell_type": "markdown",
      "source": [
        "#### Train with normalized targets"
      ],
      "metadata": {
        "id": "tj1Uzc5z3LVH"
      }
    },
    {
      "cell_type": "code",
      "source": [
        "train_loss, eval_loss = train_eval_NLL(num_epochs, batch_size, criterion, optimizer, model, train_set_norm)"
      ],
      "metadata": {
        "id": "Sn8eSDegO7g_"
      },
      "execution_count": null,
      "outputs": []
    },
    {
      "cell_type": "code",
      "source": [
        "plot_loss(train_loss, eval_loss)"
      ],
      "metadata": {
        "id": "h86st-8LmG1s"
      },
      "execution_count": null,
      "outputs": []
    },
    {
      "cell_type": "markdown",
      "source": [
        "## Training without normalizing targets"
      ],
      "metadata": {
        "id": "p45RhGkd3Opj"
      }
    },
    {
      "cell_type": "code",
      "source": [
        "# Construct a model with one layer\n",
        "class Model_NLL(nn.Module):\n",
        "    \n",
        "    def __init__(self):\n",
        "        super(Model_NLL, self).__init__()\n",
        "        self.layers = nn.Sequential(nn.Linear(4, 50),\n",
        "                                nn.Tanh(),\n",
        "                                nn.Linear(50, 50),\n",
        "                                nn.Tanh())\n",
        "        self.fc = nn.Linear(50, 2)\n",
        "\n",
        "    def forward(self, inputs):\n",
        "        x = self.layers(inputs)\n",
        "        x = self.fc(x)\n",
        "        return x"
      ],
      "metadata": {
        "id": "zHfdW2Fw_R3W"
      },
      "execution_count": null,
      "outputs": []
    },
    {
      "cell_type": "code",
      "source": [
        "model = Model_NLL()\n",
        "\n",
        "# Choose the hyperparameters for training: \n",
        "num_epochs = 30\n",
        "batch_size = 6\n",
        "\n",
        "criterion = nn.GaussianNLLLoss(full=True)\n",
        "#optimizer = torch.optim.SGD(model.parameters(), lr=0.01)\n",
        "optimizer = torch.optim.RMSprop(model.parameters(), lr=0.001)\n",
        "#optimizer = torch.optim.Adam(model.parameters(), lr=0.001)"
      ],
      "metadata": {
        "id": "eRFUGMOc5bwN"
      },
      "execution_count": null,
      "outputs": []
    },
    {
      "cell_type": "markdown",
      "source": [
        "**Comments**\n",
        "\n",
        "Architecture:\n",
        "\n",
        "* We got the best result (val loss=13.44) with an architecture of 2 hidden layers with 50 neurons on eachs, less neurons and layers gives a slightly higher loss. More layers and neurons give slightly higher losses too.\n",
        "* With 30 epochs final validation loss for Tanh is 13.5, for Sigmoid it is 13.6, for ReLU it is 13.69=> we choose Tanh\n",
        "\n",
        "Optimizer:\n",
        "\n",
        "* Adam converges faster for a smaller loss with lr 0.001, lr 0.0001 slower convergence, lr 0.00001 loss is very high, lr >= 0.01 no convergence (nan values)\n",
        "* SGD not adapted, returns nan values\n",
        "* RMSProp with lr=0.0001 converges like ADAM to a slightly better validation loss, lr=0.001 makes convergence faster to the same loss -30- (in 17 epochs instead of 30)\n",
        "\n",
        "* Decreasing batch size makes convergence slightly faster to the same value. Increasing batch size to 20 delays convergence a little, to 100 the loss is high\n"
      ],
      "metadata": {
        "id": "Yrdmzdim8JNq"
      }
    },
    {
      "cell_type": "code",
      "source": [
        "train_loss, eval_loss = train_eval_NLL(num_epochs, batch_size, criterion, optimizer, model, train_set, X_val, y_val)"
      ],
      "metadata": {
        "id": "L1iLsheQ3Sx5",
        "colab": {
          "base_uri": "https://localhost:8080/"
        },
        "outputId": "93914558-a010-414b-a3d5-4e382ed6c9a6"
      },
      "execution_count": null,
      "outputs": [
        {
          "output_type": "stream",
          "name": "stdout",
          "text": [
            "(Epoch 1/30) | Train Loss: 32101616.436| Validation Loss: 15687862.0\n",
            "(Epoch 3/30) | Train Loss: 4294470.01125| Validation Loss: 2523385.0\n",
            "(Epoch 5/30) | Train Loss: 786987.89616| Validation Loss: 472137.84375\n",
            "(Epoch 7/30) | Train Loss: 150366.79992| Validation Loss: 91003.15625\n",
            "(Epoch 9/30) | Train Loss: 28943.69392| Validation Loss: 17655.64844\n",
            "(Epoch 11/30) | Train Loss: 5551.36312| Validation Loss: 3376.45776\n",
            "(Epoch 13/30) | Train Loss: 1061.02945| Validation Loss: 650.60822\n",
            "(Epoch 15/30) | Train Loss: 212.47208| Validation Loss: 134.26656\n",
            "(Epoch 17/30) | Train Loss: 49.69459| Validation Loss: 35.05067\n",
            "(Epoch 19/30) | Train Loss: 19.36283| Validation Loss: 16.66965\n",
            "(Epoch 21/30) | Train Loss: 14.18787| Validation Loss: 13.79036\n",
            "(Epoch 23/30) | Train Loss: 13.62468| Validation Loss: 13.56988\n",
            "(Epoch 25/30) | Train Loss: 13.60591| Validation Loss: 13.54697\n",
            "(Epoch 27/30) | Train Loss: 13.53522| Validation Loss: 13.49399\n",
            "(Epoch 29/30) | Train Loss: 13.51346| Validation Loss: 13.46641\n"
          ]
        }
      ]
    },
    {
      "cell_type": "code",
      "source": [
        "plot_loss(train_loss, eval_loss)"
      ],
      "metadata": {
        "id": "fsllfANM3S5V",
        "colab": {
          "base_uri": "https://localhost:8080/",
          "height": 296
        },
        "outputId": "ffd71b53-576d-4a31-a96e-8e9acf5968f2"
      },
      "execution_count": null,
      "outputs": [
        {
          "output_type": "display_data",
          "data": {
            "image/png": "[encoded data removed]",
            "text/plain": [
              "<Figure size 432x288 with 1 Axes>"
            ]
          },
          "metadata": {
            "needs_background": "light"
          }
        }
      ]
    },
    {
      "cell_type": "code",
      "source": [
        "#on logarithmic scale\n",
        "plot_loss(train_loss, eval_loss, log=True)"
      ],
      "metadata": {
        "id": "SJyWYZfV3rQr",
        "colab": {
          "base_uri": "https://localhost:8080/",
          "height": 296
        },
        "outputId": "9271fd45-d41c-414c-dff3-6c19a21582ff"
      },
      "execution_count": null,
      "outputs": [
        {
          "output_type": "display_data",
          "data": {
            "image/png": "[encoded data removed]",
            "text/plain": [
              "<Figure size 432x288 with 1 Axes>"
            ]
          },
          "metadata": {
            "needs_background": "light"
          }
        }
      ]
    },
    {
      "cell_type": "code",
      "source": [
        "# Calculate mean squared error on test set\n",
        "model.eval()\n",
        "with torch.no_grad():\n",
        "    y_pre_test = model(torch.from_numpy(np.array(X_test)).float())\n",
        "    mu, var = y_pre_test[:, 0], torch.exp(y_pre_test[:, 1])\n",
        "error = criterion(mu, torch.tensor(np.array(y_test)).float(), var).item()\n",
        "print('The loss on test set is:', error)"
      ],
      "metadata": {
        "id": "2DHmSREt3lzm",
        "colab": {
          "base_uri": "https://localhost:8080/"
        },
        "outputId": "401e676e-c180-489d-aeab-20eb8dcf6adc"
      },
      "execution_count": null,
      "outputs": [
        {
          "output_type": "stream",
          "name": "stdout",
          "text": [
            "The loss on test set is: 13.758419036865234\n"
          ]
        }
      ]
    },
    {
      "cell_type": "markdown",
      "metadata": {
        "id": "Z__BkRcf9IkB"
      },
      "source": [
        "### Exercice 4: Prediction on test set\n",
        "\n",
        "* Once you have a model that seems satisfying on the validation dataset, you SHOULD evaluate it on a test dataset that has never been used before, to obtain a final loss value:  **we find 13.5**\n",
        "* When using the Gaussian likelihood function, the confidence of the network in its prediction is reflected in the variance it outputs. It can be interesting to check how this uncertainty varies with the data. For example, the uncertainty will decrease when the feature `OverallQual` increases. Plot the variance $\\sigma(x)$ w.r.t one of the three features, on test set, and describe what you observe."
      ]
    },
    {
      "cell_type": "code",
      "execution_count": null,
      "metadata": {
        "id": "kC39MG6U9IkB"
      },
      "outputs": [],
      "source": [
        "# Calculate mean squared error on test set\n",
        "model.eval()\n",
        "with torch.no_grad():\n",
        "    y_pre_test = model(torch.from_numpy(np.array(X_test)).float())\n",
        "    mu, var = y_pre_test[:, 0], torch.exp(y_pre_test[:, 1])\n"
      ]
    },
    {
      "cell_type": "code",
      "source": [
        "var.shape"
      ],
      "metadata": {
        "id": "542yJPluGWQ3",
        "colab": {
          "base_uri": "https://localhost:8080/"
        },
        "outputId": "b1eeafac-728a-44b9-d941-af06421e0b7d"
      },
      "execution_count": null,
      "outputs": [
        {
          "output_type": "execute_result",
          "data": {
            "text/plain": [
              "torch.Size([260])"
            ]
          },
          "metadata": {},
          "execution_count": 134
        }
      ]
    },
    {
      "cell_type": "markdown",
      "source": [
        "OverAllQual is the first feature in X_test"
      ],
      "metadata": {
        "id": "WeMT3iCnFr7M"
      }
    },
    {
      "cell_type": "code",
      "source": [
        "sigma = np.array(torch.sqrt(var))\n",
        "qual = X.iloc[1200:]['OverallQual'].values\n",
        "# Plot\n",
        "plt.scatter(qual, sigma , alpha=0.5)\n",
        "plt.title('Sigma w.r.t OverallQual')\n",
        "plt.xlabel('OverallQual')\n",
        "plt.ylabel('Sigma')\n",
        "plt.show()"
      ],
      "metadata": {
        "id": "ksY6FegMGNl6",
        "colab": {
          "base_uri": "https://localhost:8080/",
          "height": 295
        },
        "outputId": "e844c737-23d5-46dd-9e29-cdc212bbde11"
      },
      "execution_count": null,
      "outputs": [
        {
          "output_type": "display_data",
          "data": {
            "image/png": "[encoded data removed]",
            "text/plain": [
              "<Figure size 432x288 with 1 Axes>"
            ]
          },
          "metadata": {
            "needs_background": "light"
          }
        }
      ]
    },
    {
      "cell_type": "code",
      "source": [
        "sigma"
      ],
      "metadata": {
        "colab": {
          "base_uri": "https://localhost:8080/"
        },
        "id": "UPFzK4YOFhxw",
        "outputId": "5515d4cc-cdcf-47a9-ec8f-c5a2624238dc"
      },
      "execution_count": null,
      "outputs": [
        {
          "output_type": "execute_result",
          "data": {
            "text/plain": [
              "array([ 54578.19 , 164244.5  ,  75342.9  , 169138.81 ,  83539.234,\n",
              "       204942.55 ,  62519.445, 152958.6  ,  87102.32 , 193744.66 ,\n",
              "       147660.06 , 175141.58 ,  38484.656,  54537.605,  74412.67 ,\n",
              "        70904.65 , 128782.914, 169972.05 ,  41871.22 , 102830.016,\n",
              "        71220.59 ,  86143.64 , 131928.73 , 142262.19 , 149327.83 ,\n",
              "        93143.22 , 153938.33 ,  71544.49 , 216827.95 ,  98796.766,\n",
              "       165793.67 ,  85058.234,  56583.727,  84923.92 ,  98194.19 ,\n",
              "        88454.58 , 155851.4  , 174561.62 , 116392.5  , 181243.95 ,\n",
              "       165379.14 , 175215.77 , 127046.555, 259022.25 , 142739.47 ,\n",
              "       138736.14 , 152415.45 , 100283.61 , 123582.086,  69298.21 ,\n",
              "       192279.1  , 154303.58 ,  70364.13 , 182814.83 , 157140.6  ,\n",
              "        97451.79 , 213124.4  ,  54321.668, 133620.39 ,  99417.64 ,\n",
              "       137489.08 ,  76039.266,  91235.98 , 113015.22 , 128217.484,\n",
              "       144302.53 , 135133.86 , 237953.   , 245450.02 ,  96145.19 ,\n",
              "       152012.47 , 127382.37 ,  72781.3  , 110342.7  ,  62544.254,\n",
              "       112291.54 , 112692.125, 142353.53 , 203842.02 ,  46878.7  ,\n",
              "       165730.6  , 145298.31 ,  82455.81 , 137292.53 , 146032.9  ,\n",
              "       101620.664, 114799.66 , 111410.45 , 189507.98 , 200947.36 ,\n",
              "        84589.13 ,  87459.08 , 109156.43 , 150478.36 ,  65748.28 ,\n",
              "        80226.81 ,  82764.56 , 104525.98 , 408670.22 ,  88318.95 ,\n",
              "       177250.38 , 106821.21 , 227851.12 , 169577.8  , 163990.16 ,\n",
              "       212859.33 , 152304.44 ,  84710.06 ,  74844.89 , 122006.445,\n",
              "       174212.2  , 145801.06 , 245565.69 , 255165.1  ,  53753.457,\n",
              "       152357.75 , 192047.45 , 151477.03 , 200725.75 ,  52957.348,\n",
              "       122419.97 ,  26100.635, 168158.05 ,  37313.168, 203156.16 ,\n",
              "        37768.883,  26706.602,  71653.41 , 176543.86 , 157551.45 ,\n",
              "       188694.1  ,  76813.74 ,  43267.355,  80066.68 ,  91459.77 ,\n",
              "       120493.52 , 118860.766,  39281.066, 170574.5  ,  71196.62 ,\n",
              "        55089.305, 114085.11 , 213668.2  , 123894.92 , 147114.69 ,\n",
              "        43596.35 , 186273.56 , 201146.95 , 158855.61 , 154821.84 ,\n",
              "       161926.97 , 127483.84 ,  88282.66 , 275511.16 , 171498.38 ,\n",
              "       156869.88 ,  70480.99 ,  82690.32 , 131196.75 , 234700.84 ,\n",
              "       129641.31 , 163577.02 ,  69995.89 , 122555.71 , 131394.72 ,\n",
              "       158373.38 , 165235.38 ,  98821.55 ,  97406.06 , 193317.94 ,\n",
              "        57016.75 , 123969.5  , 185191.84 , 291477.16 , 178375.   ,\n",
              "       187768.36 ,  69049.25 ,  94858.1  ,  89870.5  ,  98401.36 ,\n",
              "        26692.902, 157112.12 , 128126.3  ,  74575.64 ,  91086.62 ,\n",
              "        49340.965, 219711.11 , 147158.05 , 219346.83 ,  92398.984,\n",
              "       161798.53 , 112069.76 ,  71135.06 , 106216.78 , 159513.55 ,\n",
              "       227205.36 ,  98341.33 ,  81238.17 , 116390.5  , 108055.13 ,\n",
              "        86282.68 , 134652.73 , 147341.45 , 180567.84 ,  34691.246,\n",
              "       191399.64 ,  66178.06 ,  73432.76 ,  50792.14 , 176023.36 ,\n",
              "       169648.81 , 120237.31 ,  46492.773, 206288.52 , 117207.87 ,\n",
              "       163980.61 ,  78389.44 , 227049.84 ,  83781.87 , 152032.92 ,\n",
              "       112101.94 , 103118.53 ,  97406.06 , 151687.8  ,  89687.02 ,\n",
              "       108328.664, 187561.11 ,  93325.055,  57557.01 , 128701.15 ,\n",
              "       124479.75 ,  95871.234,  43480.008, 145356.11 ,  87407.55 ,\n",
              "       125147.516,  54857.266, 213109.58 , 102013.53 , 149873.98 ,\n",
              "       149514.8  ,  97684.03 , 239632.73 ,  72534.27 , 155771.77 ,\n",
              "        88430.875,  85983.836, 206580.27 ,  49600.31 ,  58717.246,\n",
              "       115171.73 , 188447.9  ,  85807.23 ,  96802.09 , 141866.17 ,\n",
              "       137802.03 , 162954.05 , 178463.47 ,  75465.51 ,  91044.06 ],\n",
              "      dtype=float32)"
            ]
          },
          "metadata": {},
          "execution_count": 144
        }
      ]
    },
    {
      "cell_type": "markdown",
      "source": [
        "If we see the data distribution on SalePrice w.r.t. OverallQual, the uncertainty of SalePrice will increases when OverallQual increases.In this is confirmed by the figure above, 𝜎(𝑥) is larger for samples with larger OverallQual."
      ],
      "metadata": {
        "id": "hDeG8XKFIeFJ"
      }
    },
    {
      "cell_type": "code",
      "source": [
        "#sns.pairplot(df, x_vars=['OverallQual'], y_vars=['SalePrice'])\n",
        "plt.scatter(df['OverallQual'][1200:], df['SalePrice'][1200:] , alpha=0.5)\n",
        "plt.title('Sales price w.r.t OverallQual')\n",
        "plt.xlabel('OverallQual')\n",
        "plt.ylabel('Sales Price')\n",
        "plt.show()"
      ],
      "metadata": {
        "id": "x7cS1W_xFwtL",
        "colab": {
          "base_uri": "https://localhost:8080/",
          "height": 295
        },
        "outputId": "3fae01e1-676b-4341-80cb-60fb180bbee4"
      },
      "execution_count": null,
      "outputs": [
        {
          "output_type": "display_data",
          "data": {
            "image/png": "[encoded data removed]",
            "text/plain": [
              "<Figure size 432x288 with 1 Axes>"
            ]
          },
          "metadata": {
            "needs_background": "light"
          }
        }
      ]
    },
    {
      "cell_type": "code",
      "source": [],
      "metadata": {
        "id": "VjVku_F4B2UM"
      },
      "execution_count": null,
      "outputs": []
    }
  ],
  "metadata": {
    "kernelspec": {
      "display_name": "Python 3",
      "language": "python",
      "name": "python3"
    },
    "language_info": {
      "codemirror_mode": {
        "name": "ipython",
        "version": 3
      },
      "file_extension": ".py",
      "mimetype": "text/x-python",
      "name": "python",
      "nbconvert_exporter": "python",
      "pygments_lexer": "ipython3",
      "version": "3.7.1"
    },
    "colab": {
      "provenance": [],
      "collapsed_sections": []
    }
  },
  "nbformat": 4,
  "nbformat_minor": 0
}