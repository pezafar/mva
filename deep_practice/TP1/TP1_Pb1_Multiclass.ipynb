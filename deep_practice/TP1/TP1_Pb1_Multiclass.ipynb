{
  "cells": [
    {
      "cell_type": "markdown",
      "metadata": {
        "id": "2P3-jpLWk5AG"
      },
      "source": [
        "## Multi-classification problem\n",
        "\n",
        "__Note:__ you might need to do\n",
        "`conda install torchvision \"pillow<7\"`\n",
        "if torchvision is not already installed on your computer, and/or for compatibility issues (the version of torchvision version supporting the last version of Pillow is not released yet)."
      ]
    },
    {
      "cell_type": "code",
      "execution_count": null,
      "metadata": {
        "id": "cOQzt1Ngk5AM"
      },
      "outputs": [],
      "source": [
        "import torch\n",
        "import torch.nn as nn\n",
        "import torch.nn.functional as F\n",
        "import torchvision\n",
        "import torchvision.transforms as transforms\n",
        "from torch.utils.data import DataLoader, random_split\n",
        "import requests\n",
        "import os\n",
        "\n",
        "\n",
        "import matplotlib.pyplot as plt\n",
        "\n",
        "%matplotlib inline"
      ]
    },
    {
      "cell_type": "markdown",
      "metadata": {
        "id": "TdLMhESwk5AO"
      },
      "source": [
        "## Load Data\n",
        "\n",
        "PyTorch provides two powerful data primitives: `torch.utils.data.DataLoader` and `torch.utils.data.Dataset` that allow you to use pre-loaded datasets as well as prepare your own data. `Dataset` stores the samples and their corresponding labels, and `DataLoader` wraps an iterable around the Dataset to enable easy access to the samples.\n",
        "\n",
        "### USPS Dataset\n",
        "* Handwritten digits with 10 classes\n",
        "* 16x16 pixels for each image \n",
        "* 6 000 data examples in training set, 1 291 examples in validation set, 2 007 in test set"
      ]
    },
    {
      "cell_type": "code",
      "execution_count": null,
      "metadata": {
        "id": "2AclkfFyk5AP",
        "outputId": "d0515a1d-1493-47fb-b25a-327de9b446c5"
      },
      "outputs": [
        {
          "data": {
            "text/plain": [
              "6579383"
            ]
          },
          "execution_count": 2,
          "metadata": {},
          "output_type": "execute_result"
        }
      ],
      "source": [
        "url = 'https://www.csie.ntu.edu.tw/~cjlin/libsvmtools/datasets/multiclass/usps.bz2'\n",
        "r = requests.get(url, allow_redirects=True)\n",
        "if not os.path.isdir('USPS/'):\n",
        "    os.mkdir('USPS/')\n",
        "open('USPS/usps.bz2', 'wb').write(r.content)"
      ]
    },
    {
      "cell_type": "code",
      "execution_count": null,
      "metadata": {
        "id": "eFCkEcn2k5AR"
      },
      "outputs": [],
      "source": [
        "# Loading USPS dataset from torchvision.dataset\n",
        "dataset = torchvision.datasets.USPS(root='USPS/',\n",
        "                                    train=True,\n",
        "                                    transform= transforms.Compose(\n",
        "                                        [transforms.ToTensor(),\n",
        "\t\t\t\t\t\t\t\t\t\t#  transforms.RandomAffine(degrees=10, translate=(.1, .1), fill=0.)\n",
        "\t\t\t\t\t\t\t\t\t\t transforms.ColorJitter(contrast=.5)\n",
        "\t\t\t\t\t\t\t\t\t\t]),\n",
        "                                    download=False)\n"
      ]
    },
    {
      "cell_type": "code",
      "execution_count": null,
      "metadata": {
        "id": "ctIHdGkBk5AS",
        "outputId": "13931849-1b14-413d-9fce-1915334e2c36"
      },
      "outputs": [
        {
          "data": {
            "text/plain": [
              "Dataset USPS\n",
              "    Number of datapoints: 7291\n",
              "    Root location: USPS/\n",
              "    StandardTransform\n",
              "Transform: Compose(\n",
              "               ToTensor()\n",
              "               ColorJitter(brightness=None, contrast=[0.5, 1.5], saturation=None, hue=None)\n",
              "           )"
            ]
          },
          "execution_count": 408,
          "metadata": {},
          "output_type": "execute_result"
        }
      ],
      "source": [
        "# Get info from dataset\n",
        "dataset"
      ]
    },
    {
      "cell_type": "code",
      "execution_count": null,
      "metadata": {
        "id": "9ANtGxMXk5AU"
      },
      "outputs": [],
      "source": [
        "# Obtain the inputs and targets:\n",
        "inputs = dataset.data\n",
        "targets = dataset.targets"
      ]
    },
    {
      "cell_type": "code",
      "execution_count": null,
      "metadata": {
        "id": "engG2V9ek5AV"
      },
      "outputs": [],
      "source": [
        "# split the dataset to training and validation sets\n",
        "train_set, val_set = random_split(dataset, [6000, 1291])"
      ]
    },
    {
      "cell_type": "code",
      "execution_count": null,
      "metadata": {
        "id": "XnbEAYZHk5AW",
        "outputId": "ef6ed5b9-6824-4970-aa4d-f92be40a05c5"
      },
      "outputs": [
        {
          "data": {
            "text/plain": [
              "torch.Size([1, 16, 16])"
            ]
          },
          "execution_count": 411,
          "metadata": {},
          "output_type": "execute_result"
        }
      ],
      "source": [
        "train_set[0][0].shape"
      ]
    },
    {
      "cell_type": "code",
      "execution_count": null,
      "metadata": {
        "id": "uSOks4RUk5AX",
        "outputId": "ee28b572-3352-4221-e032-291a3d97ea15"
      },
      "outputs": [
        {
          "data": {
            "text/plain": [
              "Text(0.5, 1.0, 'image label: 6')"
            ]
          },
          "execution_count": 412,
          "metadata": {},
          "output_type": "execute_result"
        },
        {
          "data": {
            "image/png": "[encoded data removed]",
            "text/plain": [
              "<Figure size 432x288 with 1 Axes>"
            ]
          },
          "metadata": {
            "needs_background": "light"
          },
          "output_type": "display_data"
        }
      ],
      "source": [
        "sample_index = 89\n",
        "plt.imshow(dataset.data[sample_index], cmap=plt.cm.gray_r, interpolation='nearest')\n",
        "plt.title(\"image label: %d\" % dataset.targets[sample_index])"
      ]
    },
    {
      "cell_type": "code",
      "execution_count": null,
      "metadata": {
        "id": "XLG1ZPQak5AX"
      },
      "outputs": [],
      "source": []
    },
    {
      "cell_type": "markdown",
      "metadata": {
        "id": "POiwC-Nyk5AY"
      },
      "source": [
        "## Build your Neural Network\n",
        "The `torch.nn` namespace provides all the building blocks you need to create your own neural network such as fully connected layers or convolutional layers etc. We define our neural network by subclassing `nn.Module`, and the neural network layers are initialized in **\\__init\\__**. Every `nn.Module` subclass implements the operations on input data in the **forward** method."
      ]
    },
    {
      "cell_type": "code",
      "execution_count": null,
      "metadata": {
        "id": "Fnr23ZHfk5AY"
      },
      "outputs": [],
      "source": [
        "class Model(nn.Module):\n",
        "    \"\"\" Old \"\"\"\n",
        "    \n",
        "    def __init__(self):\n",
        "        super(Model, self).__init__()\n",
        "        \n",
        "        self.IS_CNN = False\n",
        "        self.l1 = nn.Linear(16*16, 100)\n",
        "        self.l2 = nn.Linear(100, 10)\n",
        "        # Input size is 16*16, output size should be the same with the number of classes\n",
        "        \n",
        "    def forward(self, inputs):\n",
        "        h = F.relu(self.l1(inputs))\n",
        "        outputs = F.softmax(self.l2(h), dim=1)# Use softmax as the activation function for the last layer\n",
        "        return outputs"
      ]
    },
    {
      "cell_type": "code",
      "execution_count": null,
      "metadata": {
        "id": "JkyXS1iTk5Aa"
      },
      "outputs": [],
      "source": [
        "class Model(nn.Module): \n",
        "    \"\"\" Old \"\"\"\n",
        "    \n",
        "    def __init__(self):\n",
        "        super(Model, self).__init__()\n",
        "        self.IS_CNN = True\n",
        "        \n",
        "        self.conv1 = nn.Conv2d(1, 8, 3)\n",
        "        self.pool = nn.MaxPool2d(2, 2)\n",
        "        self.conv2= nn.Conv2d(8, 16, 3)\n",
        "        n_fc = 256\n",
        "        self.linear = nn.Linear(16*2*2, n_fc)\n",
        "        self.linear2 = nn.Linear(n_fc, 10)\n",
        "        # Input size is 16*16, output size should be the same with the number of classes\n",
        "        \n",
        "    def forward(self, inputs):\n",
        "        # print(inputs.shape)\n",
        "        h = self.pool(self.conv1(inputs))\n",
        "        h = self.pool(self.conv2(h))\n",
        "\n",
        "        h = torch.flatten(h, 1)\n",
        "        h = torch.tanh(self.linear(h))\n",
        "        outputs = F.softmax(self.linear2(h), dim=1)# Use softmax as the activation function for the last layer\n",
        "        return outputs"
      ]
    },
    {
      "cell_type": "code",
      "execution_count": null,
      "metadata": {
        "id": "kQuaLtHqk5Ac"
      },
      "outputs": [],
      "source": [
        "class Model(nn.Module):\n",
        "    \"\"\" The main network is this one\"\"\"\n",
        "    \n",
        "    def __init__(self):\n",
        "        super(Model, self).__init__()\n",
        "        self.IS_CNN = True\n",
        "        \n",
        "        self.conv1 = nn.Conv2d(1, 8, 5)\n",
        "        self.conv2 = nn.Conv2d(8, 16, 5)\n",
        "        self.pool = nn.MaxPool2d(2, 2)\n",
        "        self.conv3= nn.Conv2d(16, 32, 3)\n",
        "\n",
        "        n_fc = 256\n",
        "        self.linear = nn.Linear(32, n_fc)\n",
        "        self.linear2 = nn.Linear(n_fc, 64)\n",
        "        self.linear3 = nn.Linear(64, 10)\n",
        "        # Input size is 16*16, output size should be the same with the number of classes\n",
        "        \n",
        "    def forward(self, inputs):\n",
        "        h = self.conv1(inputs)\n",
        "        h = self.pool(self.conv2(h))\n",
        "        h = self.pool(self.conv3(h))\n",
        "\n",
        "        # h = torch.flatten(h, 1)\n",
        "        # h = torch.tanh(self.linear(h))\n",
        "        # h = torch.tanh(self.linear2(h))\n",
        "        h = torch.flatten(h, 1)\n",
        "        h = torch.relu(self.linear(h))\n",
        "        h = torch.relu(self.linear2(h))\n",
        "        # outputs = F.softmax(self.linear3(h), dim=1)# Use softmax as the activation function for the last layer\n",
        "        outputs = self.linear3(h) # Use softmax as the activation function for the last layer\n",
        "        return outputs"
      ]
    },
    {
      "cell_type": "markdown",
      "metadata": {
        "id": "hrSj1hAMk5Ad"
      },
      "source": [
        "## Train your Model"
      ]
    },
    {
      "cell_type": "code",
      "execution_count": null,
      "metadata": {
        "id": "34Wdk6nrk5Ae"
      },
      "outputs": [],
      "source": [
        "# Create the model: \n",
        "model = Model()\n",
        "\n",
        "# Choose the hyperparameters for training: \n",
        "num_epochs = 30\n",
        "batch_size = 35\n",
        "\n",
        "# Use mean squared loss function \n",
        "# criterion = nn.MSELoss()\n",
        "criterion = nn.CrossEntropyLoss()\n",
        "\n",
        "# Use SGD optimizer with a learning rate of 0.01\n",
        "# It is initialized on our model\n",
        "optimizer = torch.optim.SGD(model.parameters(), lr= .1, momentum=.05)\n",
        "# optimizer = torch.optim.Adam(model.parameters(), lr=.001)\n",
        "# optimizer = torch.optim.RMSprop(model.parameters(), lr = 0.0005)\n"
      ]
    },
    {
      "cell_type": "code",
      "execution_count": null,
      "metadata": {
        "id": "M2D9H0GOk5Af"
      },
      "outputs": [],
      "source": [
        "# define a function for training\n",
        "def train(num_epochs, batch_size, criterion, optimizer, model, dataset):\n",
        "    train_error = []\n",
        "    val_error = []\n",
        "    train_loader = DataLoader(dataset, batch_size, shuffle=True)\n",
        "    val_loader = DataLoader(val_set, batch_size=val_set.__len__())\n",
        "\n",
        "    model.train()\n",
        "    for epoch in range(num_epochs):\n",
        "        epoch_average_loss = 0.0\n",
        "        for (images, labels) in train_loader:\n",
        "            if model.IS_CNN:\n",
        "                y_pre = model(images) \n",
        "            else:\n",
        "                y_pre = model(images.view(batch_size, -1)) \n",
        "\n",
        "            #reshape the inputs from [N, img_shape, img_shape] to [N, img_shape*img_shape] \n",
        "            \n",
        "\n",
        "            # # One-hot encoding or labels so as to calculate MSE error:\n",
        "            # labels_one_hot = torch.FloatTensor(batch_size, 10)\n",
        "            # labels_one_hot.zero_()\n",
        "            # labels_one_hot.scatter_(1, labels.view(-1, 1), 1)\n",
        "            # # print(y_pre.shape, labels_one_hot.shape)\n",
        "            # loss = criterion(y_pre, labels_one_hot)\n",
        "\n",
        "            # For Cross entropy loss\n",
        "            # print(y_pre.shape, labels_one_hot.shape)\n",
        "            loss = criterion(y_pre, labels)\n",
        "\n",
        "\n",
        "            optimizer.zero_grad()\n",
        "            loss.backward()\n",
        "            optimizer.step()\n",
        "            epoch_average_loss += loss.item() * batch_size / len(dataset)\n",
        "\n",
        "        # VAlidation loss\n",
        "        with torch.no_grad():\n",
        "            print(\"Computing val loss\")\n",
        "            val_loss = 0.\n",
        "            for images, labels in val_loader:\n",
        "                if not model.IS_CNN:\n",
        "                    images = images.view(-1, 16*16)\n",
        "\n",
        "                outputs = model(images)\n",
        "                val_loss += criterion(outputs, labels)\n",
        "\n",
        "        val_error.append(val_loss.item())\n",
        "        train_error.append(epoch_average_loss)\n",
        "\n",
        "        \n",
        "        print('Epoch [{}/{}], Train Loss: {:.4f}, Val loss: {:.4f}'\n",
        "                      .format(epoch+1, num_epochs, epoch_average_loss, val_error[-1]))\n",
        "    return train_error, val_error"
      ]
    },
    {
      "cell_type": "code",
      "execution_count": null,
      "metadata": {
        "id": "V45o5Le2k5Ag",
        "outputId": "60ed5a4d-e752-40b5-8c6b-ebd8b9b88a8e"
      },
      "outputs": [
        {
          "name": "stdout",
          "output_type": "stream",
          "text": [
            "Computing val loss\n",
            "Epoch [1/30], Train Loss: 1.9136, Val loss: 0.8426\n",
            "Computing val loss\n",
            "Epoch [2/30], Train Loss: 0.5347, Val loss: 0.4345\n",
            "Computing val loss\n",
            "Epoch [3/30], Train Loss: 0.2581, Val loss: 0.2026\n",
            "Computing val loss\n",
            "Epoch [4/30], Train Loss: 0.1674, Val loss: 0.2938\n",
            "Computing val loss\n",
            "Epoch [5/30], Train Loss: 0.1380, Val loss: 0.1740\n",
            "Computing val loss\n",
            "Epoch [6/30], Train Loss: 0.1200, Val loss: 0.1765\n",
            "Computing val loss\n",
            "Epoch [7/30], Train Loss: 0.0899, Val loss: 0.1443\n",
            "Computing val loss\n",
            "Epoch [8/30], Train Loss: 0.0815, Val loss: 0.2373\n",
            "Computing val loss\n",
            "Epoch [9/30], Train Loss: 0.0681, Val loss: 0.1267\n",
            "Computing val loss\n",
            "Epoch [10/30], Train Loss: 0.0611, Val loss: 0.1370\n",
            "Computing val loss\n",
            "Epoch [11/30], Train Loss: 0.0672, Val loss: 0.1290\n",
            "Computing val loss\n",
            "Epoch [12/30], Train Loss: 0.0431, Val loss: 0.1455\n",
            "Computing val loss\n",
            "Epoch [13/30], Train Loss: 0.0424, Val loss: 0.1634\n",
            "Computing val loss\n",
            "Epoch [14/30], Train Loss: 0.0261, Val loss: 0.2029\n",
            "Computing val loss\n",
            "Epoch [15/30], Train Loss: 0.0338, Val loss: 0.3386\n",
            "Computing val loss\n",
            "Epoch [16/30], Train Loss: 0.0396, Val loss: 0.1419\n",
            "Computing val loss\n",
            "Epoch [17/30], Train Loss: 0.0444, Val loss: 0.1545\n",
            "Computing val loss\n",
            "Epoch [18/30], Train Loss: 0.0367, Val loss: 0.1782\n",
            "Computing val loss\n",
            "Epoch [19/30], Train Loss: 0.0245, Val loss: 0.1404\n",
            "Computing val loss\n",
            "Epoch [20/30], Train Loss: 0.0301, Val loss: 0.1693\n",
            "Computing val loss\n",
            "Epoch [21/30], Train Loss: 0.0120, Val loss: 0.1725\n",
            "Computing val loss\n",
            "Epoch [22/30], Train Loss: 0.0076, Val loss: 0.1349\n",
            "Computing val loss\n",
            "Epoch [23/30], Train Loss: 0.0046, Val loss: 0.1406\n",
            "Computing val loss\n",
            "Epoch [24/30], Train Loss: 0.0039, Val loss: 0.1497\n",
            "Computing val loss\n",
            "Epoch [25/30], Train Loss: 0.0027, Val loss: 0.1383\n",
            "Computing val loss\n",
            "Epoch [26/30], Train Loss: 0.0035, Val loss: 0.1602\n",
            "Computing val loss\n",
            "Epoch [27/30], Train Loss: 0.0034, Val loss: 0.1402\n",
            "Computing val loss\n",
            "Epoch [28/30], Train Loss: 0.0022, Val loss: 0.1481\n",
            "Computing val loss\n",
            "Epoch [29/30], Train Loss: 0.0024, Val loss: 0.1440\n",
            "Computing val loss\n",
            "Epoch [30/30], Train Loss: 0.0029, Val loss: 0.1623\n"
          ]
        }
      ],
      "source": [
        "train_error, val_error = train(num_epochs, batch_size, criterion, optimizer, model, train_set)"
      ]
    },
    {
      "cell_type": "code",
      "execution_count": null,
      "metadata": {
        "id": "hkgFFev7k5Ah",
        "outputId": "d0563c15-9157-4d04-c579-175632305409"
      },
      "outputs": [
        {
          "data": {
            "text/plain": [
              "Text(0.5, 1.0, 'Visualization of convergence')"
            ]
          },
          "execution_count": 420,
          "metadata": {},
          "output_type": "execute_result"
        },
        {
          "data": {
            "image/png": "[encoded data removed]",
            "text/plain": [
              "<Figure size 432x288 with 1 Axes>"
            ]
          },
          "metadata": {
            "needs_background": "light"
          },
          "output_type": "display_data"
        }
      ],
      "source": [
        "# plot the training error wrt. the number of epochs: \n",
        "plt.plot(range(1, num_epochs+1), train_error)\n",
        "plt.plot(range(1, num_epochs+1), val_error)\n",
        "plt.xlabel(\"num_epochs\")\n",
        "plt.ylabel(\"Train error\")\n",
        "plt.title(\"Visualization of convergence\")"
      ]
    },
    {
      "cell_type": "markdown",
      "metadata": {
        "id": "-NTqRg1Uk5Ai"
      },
      "source": [
        "### Evaluate the Model on validation set"
      ]
    },
    {
      "cell_type": "code",
      "execution_count": null,
      "metadata": {
        "id": "10AIpqLVk5Ai"
      },
      "outputs": [],
      "source": [
        "# Calculate the accuracy to evaluate the model\n",
        "def accuracy(dataset, model):\n",
        "\n",
        "    with torch.no_grad():\n",
        "        correct = 0\n",
        "        total = 0\n",
        "        dataloader = DataLoader(dataset, batch_size=dataset.__len__())\n",
        "        for images, labels in dataloader:\n",
        "            if not model.IS_CNN:\n",
        "                images = images.view(-1, 16*16)\n",
        "\n",
        "            outputs = model(images)\n",
        "            _, predicted = torch.max(outputs.data, 1) \n",
        "            correct += (predicted == labels).sum()\n",
        "            \n",
        "            # for i,correct in enumerate(predicted == labels):\n",
        "            #     if(not correct):\n",
        "            #         print(\"Pred:\", predicted[i], \"True:\", labels[i])\n",
        "            #         plt.imshow(images[i][0], cmap=plt.cm.gray_r, interpolation='nearest')\n",
        "            #         plt.show()\n",
        "\n",
        "    print('Accuracy of the model : {:.2f} %'.format(100*correct.item()/ len(dataset)))"
      ]
    },
    {
      "cell_type": "code",
      "execution_count": null,
      "metadata": {
        "id": "tVHg-Tink5Aj",
        "outputId": "e74297d8-68bd-41f7-d2a8-f145a9cebb5c"
      },
      "outputs": [
        {
          "name": "stdout",
          "output_type": "stream",
          "text": [
            "Accuracy of the model : 97.06 %\n"
          ]
        }
      ],
      "source": [
        "accuracy(val_set, model)"
      ]
    },
    {
      "cell_type": "code",
      "execution_count": null,
      "metadata": {
        "id": "fPENt2-Hk5Aj",
        "outputId": "62e0cc4d-9fd4-4198-98bb-c76ac9c90d04"
      },
      "outputs": [
        {
          "data": {
            "text/plain": [
              "Text(0.5, 1.0, 'Prediction label: 3')"
            ]
          },
          "execution_count": 405,
          "metadata": {},
          "output_type": "execute_result"
        },
        {
          "data": {
            "image/png": "[encoded data removed]",
            "text/plain": [
              "<Figure size 432x288 with 1 Axes>"
            ]
          },
          "metadata": {
            "needs_background": "light"
          },
          "output_type": "display_data"
        }
      ],
      "source": [
        "val_index = 66\n",
        "\n",
        "(image, label) = val_set[val_index]\n",
        "if model.IS_CNN:\n",
        "\toutput = model(image.view(-1,1, 16, 16))\n",
        "else:\n",
        "\toutput = model(image.view(-1, 16*16))\n",
        "\n",
        "_, prediction = torch.max(output.data, 1)\n",
        "\n",
        "plt.imshow(image.view(16, 16), cmap=plt.cm.gray_r, interpolation='nearest')\n",
        "plt.title(\"Prediction label: %d\" % prediction)"
      ]
    },
    {
      "cell_type": "markdown",
      "metadata": {
        "id": "houcactnk5Al"
      },
      "source": [
        "### Exercise 1: Impact of the architecture of the model\n",
        "Define your own class `Model` to improve the predictions:\n",
        "\n",
        "* The convolutional layer can be a good choice to deal with images. Replace nn.Linear with [nn.Conv2d](https://pytorch.org/docs/stable/nn.html#conv2d).\n",
        "* Try to add more layers (1, 2, 3, more ?)\n",
        "* Change the number of neurons in hidden layers (5, 10, 20, more ?)\n",
        "* Try different activation functions such as [sigmoid](https://pytorch.org/docs/stable/nn.functional.html#torch.nn.functional.sigmoid), [tanh](https://pytorch.org/docs/stable/nn.functional.html#torch.nn.functional.tanh), [relu](https://pytorch.org/docs/stable/nn.functional.html#torch.nn.functional.relu), etc."
      ]
    },
    {
      "cell_type": "markdown",
      "metadata": {
        "id": "dnbGDASmk5Am"
      },
      "source": [
        "### Exercise 2: Impact of the optimizer\n",
        "Retrain the model by using different parameters of the optimizer; you can change its parameters in the cell initializing it, after the definition of your model.\n",
        "\n",
        "* Use different batch sizes, from 10 to 1 000 for instance\n",
        "* Try different values of the learning rate (between 0.001 and 10), and see how these impact the training process. Do all network architectures react the same way to different learning rates?\n",
        "* Change the duration of the training by increasing the number of epochs\n",
        "* Try other optimizers, such as [Adam](https://pytorch.org/docs/stable/optim.html?highlight=adam#torch.optim.Adam) or [RMSprop](https://pytorch.org/docs/stable/optim.html?highlight=rmsprop#torch.optim.RMSprop)"
      ]
    },
    {
      "cell_type": "markdown",
      "metadata": {
        "id": "XCwrOjMek5An"
      },
      "source": [
        "### Exercise 3: Impact of the loss function\n",
        "The MSE error is rarely used in this case. The cross entropy loss can be a better choice for multi-classification problems. In pytorch, the cross entropy loss is defined by [nn.CrossEntropyLoss](https://pytorch.org/docs/stable/nn.html#crossentropyloss). Replace the MSE loss by this one to observe its impact.\n",
        "\n",
        "**Note:** In order to use nn.CrossEntropyLoss correctly, don't add an activation function to the last layer of your network. And one-hot encoding is no longer needed to calculate the loss, delete the encoding procedures in function `train`.   "
      ]
    },
    {
      "cell_type": "markdown",
      "metadata": {
        "id": "1KoODju3k5Ap"
      },
      "source": [
        "### Exercise 4: Prediction on test set\n",
        "\n",
        "Once you have a model that seems satisfying on the validation dataset, you SHOULD evaluate it on a test dataset that has never been used before, to obtain a final accuracy value."
      ]
    },
    {
      "cell_type": "code",
      "execution_count": null,
      "metadata": {
        "id": "ZhaKGjsSk5Ap",
        "outputId": "a46722c7-c9bb-473d-c860-bcda4e32a9e2"
      },
      "outputs": [
        {
          "data": {
            "text/plain": [
              "1831726"
            ]
          },
          "execution_count": 257,
          "metadata": {},
          "output_type": "execute_result"
        }
      ],
      "source": [
        "url = 'http://www.csie.ntu.edu.tw/~cjlin/libsvmtools/datasets/multiclass/usps.t.bz2'\n",
        "r = requests.get(url, allow_redirects=True)\n",
        "open('USPS/usps.t.bz2', 'wb').write(r.content)"
      ]
    },
    {
      "cell_type": "code",
      "execution_count": null,
      "metadata": {
        "id": "kBx7-DT_k5Aq"
      },
      "outputs": [],
      "source": [
        "# Loading MNIST test set from torchvision.dataset\n",
        "test_set = torchvision.datasets.USPS(root='USPS/',\n",
        "                                         train=False,\n",
        "                                         transform=transforms.ToTensor(),\n",
        "                                         download=False)"
      ]
    },
    {
      "cell_type": "code",
      "execution_count": null,
      "metadata": {
        "id": "9vr2U_cqk5Aq",
        "outputId": "b4ecd82d-a441-471e-ef20-8f7afc7079e4"
      },
      "outputs": [
        {
          "name": "stdout",
          "output_type": "stream",
          "text": [
            "Accuracy of the model : 94.87 %\n"
          ]
        }
      ],
      "source": [
        "accuracy(test_set, model)"
      ]
    },
    {
      "cell_type": "code",
      "execution_count": null,
      "metadata": {
        "id": "70eqw7L5k5Ar"
      },
      "outputs": [],
      "source": []
    }
  ],
  "metadata": {
    "kernelspec": {
      "display_name": "Python 3",
      "language": "python",
      "name": "python3"
    },
    "language_info": {
      "codemirror_mode": {
        "name": "ipython",
        "version": 3
      },
      "file_extension": ".py",
      "mimetype": "text/x-python",
      "name": "python",
      "nbconvert_exporter": "python",
      "pygments_lexer": "ipython3",
      "version": "3.9.7"
    },
    "colab": {
      "provenance": [],
      "collapsed_sections": []
    }
  },
  "nbformat": 4,
  "nbformat_minor": 0
}